{
  "nbformat": 4,
  "nbformat_minor": 0,
  "metadata": {
    "colab": {
      "provenance": [],
      "authorship_tag": "ABX9TyMnYaHYMkvVjv1uRp47q+Bw"
    },
    "kernelspec": {
      "name": "python3",
      "display_name": "Python 3"
    },
    "language_info": {
      "name": "python"
    }
  },
  "cells": [
    {
      "cell_type": "markdown",
      "source": [
        "# 03. 파이썬과 코딩의 기초"
      ],
      "metadata": {
        "id": "8rOii7MVK1Z8"
      }
    },
    {
      "cell_type": "code",
      "execution_count": null,
      "metadata": {
        "id": "i3LCu8hmwZxh",
        "colab": {
          "base_uri": "https://localhost:8080/"
        },
        "outputId": "9ab92f1e-5bde-4bf1-9243-be4d919e2e3c"
      },
      "outputs": [
        {
          "output_type": "stream",
          "name": "stdout",
          "text": [
            "[1, 3, 'Hi', 8.5]\n",
            "vs[1] = 3\n",
            "[1, 3.14, 'Hi', 8.5, 2.14]\n"
          ]
        }
      ],
      "source": [
        "# 3.7 고급 데이터 타입\n",
        "# 리스트\n",
        "vs = [1, 3, 'Hi', 8.5]\n",
        "print(vs)\n",
        "print('vs[1] =',vs[1])\n",
        "vs[1] = 3.14\n",
        "vs.append(2.14)\n",
        "print(vs)"
      ]
    },
    {
      "cell_type": "code",
      "source": [
        "# 리스트 객체와 리스트 변수\n",
        "vt = vs # 리스트 객체에 붙어있는 태그\n",
        "vt[3] = -5\n",
        "print(vs)\n",
        "# 두 변수가 가리키는 객체가 동일하기 때문에\n",
        "# vt 에서 변경하면 vs 에서도 적용"
      ],
      "metadata": {
        "colab": {
          "base_uri": "https://localhost:8080/"
        },
        "id": "DcNs-iUjLdxh",
        "outputId": "89f1a3bb-d0a2-48ac-f3f5-4b4b7c6021cb"
      },
      "execution_count": null,
      "outputs": [
        {
          "output_type": "stream",
          "name": "stdout",
          "text": [
            "[1, 3.14, 'Hi', -5, 2.14]\n"
          ]
        }
      ]
    },
    {
      "cell_type": "code",
      "source": [
        "# 튜플\n",
        "tup1 = 3,4,5   # 대괄호 없이 생성가능\n",
        "print(tup1[0])\n",
        "tup2 = (3,4,5)\n",
        "print(tup2[0])\n",
        "my_list = [3,4,5]\n",
        "tup3 = tuple(my_list)\n",
        "print(tup3)\n",
        "\n",
        "tup2[0] = 4   # 수정 불가"
      ],
      "metadata": {
        "colab": {
          "base_uri": "https://localhost:8080/",
          "height": 269
        },
        "id": "tsDDXLu6K0wk",
        "outputId": "4976f3d9-91db-4248-bcfd-85a164c534e2"
      },
      "execution_count": null,
      "outputs": [
        {
          "output_type": "stream",
          "name": "stdout",
          "text": [
            "3\n",
            "3\n",
            "(3, 4, 5)\n"
          ]
        },
        {
          "output_type": "error",
          "ename": "TypeError",
          "evalue": "ignored",
          "traceback": [
            "\u001b[0;31m---------------------------------------------------------------------------\u001b[0m",
            "\u001b[0;31mTypeError\u001b[0m                                 Traceback (most recent call last)",
            "\u001b[0;32m<ipython-input-9-34f9362033bc>\u001b[0m in \u001b[0;36m<cell line: 10>\u001b[0;34m()\u001b[0m\n\u001b[1;32m      8\u001b[0m \u001b[0mprint\u001b[0m\u001b[0;34m(\u001b[0m\u001b[0mtup3\u001b[0m\u001b[0;34m)\u001b[0m\u001b[0;34m\u001b[0m\u001b[0;34m\u001b[0m\u001b[0m\n\u001b[1;32m      9\u001b[0m \u001b[0;34m\u001b[0m\u001b[0m\n\u001b[0;32m---> 10\u001b[0;31m \u001b[0mtup2\u001b[0m\u001b[0;34m[\u001b[0m\u001b[0;36m0\u001b[0m\u001b[0;34m]\u001b[0m \u001b[0;34m=\u001b[0m \u001b[0;36m4\u001b[0m   \u001b[0;31m# 수정 불가\u001b[0m\u001b[0;34m\u001b[0m\u001b[0;34m\u001b[0m\u001b[0m\n\u001b[0m",
            "\u001b[0;31mTypeError\u001b[0m: 'tuple' object does not support item assignment"
          ]
        }
      ]
    },
    {
      "cell_type": "code",
      "source": [
        "# 딕셔너리\n",
        "# 항목에 순서는 없음\n",
        "dict1 = {'Title' : 'Perfume',\n",
        "         'Year' : 2020,\n",
        "         'Genre' : 'Fantasy',\\\n",
        "         'Group' : 'DoJaeJung'}\n",
        "\n",
        "print(dict1['Title'])\n",
        "\n",
        "dict1['Year'] = 2023\n",
        "dict1['Group'] = 'DJJ'\n",
        "dict1.pop('Genre')"
      ],
      "metadata": {
        "colab": {
          "base_uri": "https://localhost:8080/",
          "height": 54
        },
        "id": "VFID4x6gLHSV",
        "outputId": "ec2c999c-54e2-453e-b626-101a2aec6e65"
      },
      "execution_count": null,
      "outputs": [
        {
          "output_type": "stream",
          "name": "stdout",
          "text": [
            "Perfume\n"
          ]
        },
        {
          "output_type": "execute_result",
          "data": {
            "text/plain": [
              "'Fantasy'"
            ],
            "application/vnd.google.colaboratory.intrinsic+json": {
              "type": "string"
            }
          },
          "metadata": {},
          "execution_count": 10
        }
      ]
    },
    {
      "cell_type": "code",
      "source": [
        "# 집합\n",
        "# 항목에 순서, 이름이 없음\n",
        "s = {3,6,2}\n",
        "print(s)\n",
        "s.add(8)\n",
        "print(s)"
      ],
      "metadata": {
        "colab": {
          "base_uri": "https://localhost:8080/"
        },
        "id": "iIrv5JOBLH-d",
        "outputId": "e1ba0e19-5e5c-476b-9709-fdf75c8d9402"
      },
      "execution_count": null,
      "outputs": [
        {
          "output_type": "stream",
          "name": "stdout",
          "text": [
            "{2, 3, 6}\n",
            "{8, 2, 3, 6}\n"
          ]
        }
      ]
    },
    {
      "cell_type": "code",
      "source": [
        "# Numpy 배열\n",
        "import numpy as np"
      ],
      "metadata": {
        "id": "lY1K1clpehDs"
      },
      "execution_count": null,
      "outputs": []
    },
    {
      "cell_type": "code",
      "source": [
        "n1 = np.array([3,1,2,6])\n",
        "n2 = np.array([ [3,1,2,6],[8,2,4,9] ])\n",
        "print(n1)\n",
        "print(n2)"
      ],
      "metadata": {
        "colab": {
          "base_uri": "https://localhost:8080/"
        },
        "id": "vzoqzhO0e93k",
        "outputId": "97822a08-9e1f-4c21-917d-82f869b8fd21"
      },
      "execution_count": null,
      "outputs": [
        {
          "output_type": "stream",
          "name": "stdout",
          "text": [
            "[3 1 2 6]\n",
            "[[3 1 2 6]\n",
            " [8 2 4 9]]\n"
          ]
        }
      ]
    },
    {
      "cell_type": "code",
      "source": [
        "n = np.zeros( (3,5))\n",
        "print(n)"
      ],
      "metadata": {
        "colab": {
          "base_uri": "https://localhost:8080/"
        },
        "id": "ZXWmZFNGfD7_",
        "outputId": "fb619c65-c00b-4ce7-f719-352e5d0141f3"
      },
      "execution_count": null,
      "outputs": [
        {
          "output_type": "stream",
          "name": "stdout",
          "text": [
            "[[0. 0. 0. 0. 0.]\n",
            " [0. 0. 0. 0. 0.]\n",
            " [0. 0. 0. 0. 0.]]\n"
          ]
        }
      ]
    },
    {
      "cell_type": "code",
      "source": [
        "n = np.ones( (3,2,4) )\n",
        "print(n)"
      ],
      "metadata": {
        "colab": {
          "base_uri": "https://localhost:8080/"
        },
        "id": "rIDIVs6YfK8e",
        "outputId": "d3b86419-707f-4fd0-8d39-0e7a5032001d"
      },
      "execution_count": null,
      "outputs": [
        {
          "output_type": "stream",
          "name": "stdout",
          "text": [
            "[[[1. 1. 1. 1.]\n",
            "  [1. 1. 1. 1.]]\n",
            "\n",
            " [[1. 1. 1. 1.]\n",
            "  [1. 1. 1. 1.]]\n",
            "\n",
            " [[1. 1. 1. 1.]\n",
            "  [1. 1. 1. 1.]]]\n"
          ]
        }
      ]
    },
    {
      "cell_type": "code",
      "source": [
        "n = np.random.rand(3,5)\n",
        "print(n)"
      ],
      "metadata": {
        "colab": {
          "base_uri": "https://localhost:8080/"
        },
        "id": "tQsL-_d2fYxc",
        "outputId": "eef64986-8b42-4227-93db-b2ab9d69c667"
      },
      "execution_count": null,
      "outputs": [
        {
          "output_type": "stream",
          "name": "stdout",
          "text": [
            "[[0.75553218 0.31529043 0.87327641 0.99913065 0.35229778]\n",
            " [0.99451327 0.71519744 0.59824632 0.57952397 0.13900476]\n",
            " [0.7273775  0.11331702 0.79568498 0.85681822 0.02270849]]\n"
          ]
        }
      ]
    },
    {
      "cell_type": "code",
      "source": [
        "n = np.array([ [3,4,1,2],[8,2,4,9], [2,1,8,7] ] )\n",
        "b = np.array([ [True,False,True,False],[True,False,True,False],[True,False,True,False] ] )\n",
        "n[b] = 0\n",
        "print(n)"
      ],
      "metadata": {
        "colab": {
          "base_uri": "https://localhost:8080/"
        },
        "id": "rHHIANrffxDz",
        "outputId": "541c5208-94e9-4787-8c1c-93adb0caeecf"
      },
      "execution_count": null,
      "outputs": [
        {
          "output_type": "stream",
          "name": "stdout",
          "text": [
            "[[0 4 0 2]\n",
            " [0 2 0 9]\n",
            " [0 1 0 7]]\n"
          ]
        }
      ]
    },
    {
      "cell_type": "code",
      "source": [
        "n = np.array([[3,4,1,2], [8,2,4,9], [2,1,8,7]])\n",
        "n[n<5] = 0  # 조건문의 결과가 Boolean 배열로 나옴\n",
        "print(n)"
      ],
      "metadata": {
        "colab": {
          "base_uri": "https://localhost:8080/"
        },
        "id": "gl66XiZnf5qN",
        "outputId": "d947deab-0d9d-4a91-d5bc-012b9b8a68ef"
      },
      "execution_count": null,
      "outputs": [
        {
          "output_type": "stream",
          "name": "stdout",
          "text": [
            "[[0 0 0 0]\n",
            " [8 0 0 9]\n",
            " [0 0 8 7]]\n"
          ]
        }
      ]
    },
    {
      "cell_type": "code",
      "source": [
        "n = np.array([ [3,4,1,2],[8,2,4,9] ] )\n",
        "# print(n.shape)  # (2, 4)\n",
        "\n",
        "# 1차원 추가\n",
        "n = np.expand_dims(n, 1)\n",
        "print(n)\n",
        "print(n.shape)\n",
        "print('----------------')\n",
        "# 마지막 차원을 추가\n",
        "n = np.expand_dims(n,-1)\n",
        "print(n)\n",
        "print(n.shape)\n"
      ],
      "metadata": {
        "colab": {
          "base_uri": "https://localhost:8080/"
        },
        "id": "MS024J0gf-gr",
        "outputId": "0bbb5f54-b705-4e26-f7b5-6ac299af1d5e"
      },
      "execution_count": null,
      "outputs": [
        {
          "output_type": "stream",
          "name": "stdout",
          "text": [
            "[[[3 4 1 2]]\n",
            "\n",
            " [[8 2 4 9]]]\n",
            "(2, 1, 4)\n",
            "----------------\n",
            "[[[[3]\n",
            "   [4]\n",
            "   [1]\n",
            "   [2]]]\n",
            "\n",
            "\n",
            " [[[8]\n",
            "   [2]\n",
            "   [4]\n",
            "   [9]]]]\n",
            "(2, 1, 4, 1)\n"
          ]
        }
      ]
    },
    {
      "cell_type": "code",
      "source": [
        "# 배열의 전체 크기는 변경 전/후로 동일해야 함\n",
        "# (e.g. 3x6 → 9x2 가능. 3x6 → 4x5 불가능\n",
        "m = np.reshape(n,(2,4)) # 변경할 모양의 크기는 튜플 형태로 지정\n",
        "print(n)\n",
        "print(m)"
      ],
      "metadata": {
        "colab": {
          "base_uri": "https://localhost:8080/"
        },
        "id": "Si6LdZpogWxD",
        "outputId": "3317e5fd-69f0-4dbb-fc03-5208c207c753"
      },
      "execution_count": null,
      "outputs": [
        {
          "output_type": "stream",
          "name": "stdout",
          "text": [
            "[[[[3]\n",
            "   [4]\n",
            "   [1]\n",
            "   [2]]]\n",
            "\n",
            "\n",
            " [[[8]\n",
            "   [2]\n",
            "   [4]\n",
            "   [9]]]]\n",
            "[[3 4 1 2]\n",
            " [8 2 4 9]]\n"
          ]
        }
      ]
    },
    {
      "cell_type": "code",
      "source": [
        "n = np.array([3,4,1,2,8,2,4,9])"
      ],
      "metadata": {
        "id": "dtTdj5mDgs7j"
      },
      "execution_count": null,
      "outputs": []
    },
    {
      "cell_type": "code",
      "source": [
        "n[0:3]"
      ],
      "metadata": {
        "colab": {
          "base_uri": "https://localhost:8080/"
        },
        "id": "6MxSdvF0g8ub",
        "outputId": "6a1cc155-977f-4146-fd17-30aa55309634"
      },
      "execution_count": null,
      "outputs": [
        {
          "output_type": "execute_result",
          "data": {
            "text/plain": [
              "array([3, 4, 1])"
            ]
          },
          "metadata": {},
          "execution_count": 39
        }
      ]
    },
    {
      "cell_type": "code",
      "source": [
        "# 1,3,5 위치의 값 변경\n",
        "n[1:6:2] = 0"
      ],
      "metadata": {
        "id": "96x2-2nqhLzs"
      },
      "execution_count": null,
      "outputs": []
    },
    {
      "cell_type": "code",
      "source": [
        "n[:6]"
      ],
      "metadata": {
        "colab": {
          "base_uri": "https://localhost:8080/"
        },
        "id": "_g8D_HohhVH4",
        "outputId": "c84da284-f9c8-44d8-ef8d-11a42d63c9fe"
      },
      "execution_count": null,
      "outputs": [
        {
          "output_type": "execute_result",
          "data": {
            "text/plain": [
              "array([3, 0, 1, 0, 8, 0])"
            ]
          },
          "metadata": {},
          "execution_count": 41
        }
      ]
    },
    {
      "cell_type": "code",
      "source": [
        "n[::2] = [-1, -3, -4, -8]"
      ],
      "metadata": {
        "id": "oN-7w7jHhXUp"
      },
      "execution_count": null,
      "outputs": []
    },
    {
      "cell_type": "code",
      "source": [
        "n"
      ],
      "metadata": {
        "colab": {
          "base_uri": "https://localhost:8080/"
        },
        "id": "DCr7bY6uhebX",
        "outputId": "43b05425-88d8-4037-a51e-b4dc5d304645"
      },
      "execution_count": null,
      "outputs": [
        {
          "output_type": "execute_result",
          "data": {
            "text/plain": [
              "array([-1,  0, -3,  0, -4,  0, -8,  9])"
            ]
          },
          "metadata": {},
          "execution_count": 44
        }
      ]
    },
    {
      "cell_type": "code",
      "source": [
        "n = np.array([[3,4,1,2], [8,2,4,9], [2,1,8,7]])\n",
        "n"
      ],
      "metadata": {
        "colab": {
          "base_uri": "https://localhost:8080/"
        },
        "id": "9dYLeAmFhjqR",
        "outputId": "84ebd4ba-41a1-4e9e-dfc1-f364355631d1"
      },
      "execution_count": null,
      "outputs": [
        {
          "output_type": "execute_result",
          "data": {
            "text/plain": [
              "array([[3, 4, 1, 2],\n",
              "       [8, 2, 4, 9],\n",
              "       [2, 1, 8, 7]])"
            ]
          },
          "metadata": {},
          "execution_count": 47
        }
      ]
    },
    {
      "cell_type": "code",
      "source": [
        "m = n[1:,:2]\n",
        "m"
      ],
      "metadata": {
        "colab": {
          "base_uri": "https://localhost:8080/"
        },
        "id": "0ytSaovfhoJU",
        "outputId": "3849a270-d6a1-451e-eda1-c9b17b3b47b4"
      },
      "execution_count": null,
      "outputs": [
        {
          "output_type": "execute_result",
          "data": {
            "text/plain": [
              "array([[8, 2],\n",
              "       [2, 1]])"
            ]
          },
          "metadata": {},
          "execution_count": 49
        }
      ]
    },
    {
      "cell_type": "code",
      "source": [
        "m[0,:]"
      ],
      "metadata": {
        "colab": {
          "base_uri": "https://localhost:8080/"
        },
        "id": "cWeSoVj8h7m4",
        "outputId": "b26231de-ed3d-4c47-e3f9-7ad0d636ab2c"
      },
      "execution_count": null,
      "outputs": [
        {
          "output_type": "execute_result",
          "data": {
            "text/plain": [
              "array([8, 2])"
            ]
          },
          "metadata": {},
          "execution_count": 50
        }
      ]
    },
    {
      "cell_type": "code",
      "source": [
        "m[0,:] = 0\n",
        "n"
      ],
      "metadata": {
        "colab": {
          "base_uri": "https://localhost:8080/"
        },
        "id": "ZmHqMy1ZiEfP",
        "outputId": "30995276-c4b7-4a89-f2f1-6895886c9fd2"
      },
      "execution_count": null,
      "outputs": [
        {
          "output_type": "execute_result",
          "data": {
            "text/plain": [
              "array([[3, 4, 1, 2],\n",
              "       [0, 0, 4, 9],\n",
              "       [2, 1, 8, 7]])"
            ]
          },
          "metadata": {},
          "execution_count": 51
        }
      ]
    },
    {
      "cell_type": "code",
      "source": [
        "data = np.array([6,3,8,1])"
      ],
      "metadata": {
        "id": "my4MZV6PiMYB"
      },
      "execution_count": null,
      "outputs": []
    },
    {
      "cell_type": "code",
      "source": [
        "print(f'np.max(data) : {np.max(data)}\\n',\n",
        "      f'data(min) : {data.min()}\\n',\n",
        "      f'np.mean(data) - 평균 : {np.mean(data)}\\n',\n",
        "      f'np.std(data) - 표준편차 : {np.std(data)}\\n',\n",
        "      f'data.sum() : {data.sum()}\\n')"
      ],
      "metadata": {
        "colab": {
          "base_uri": "https://localhost:8080/"
        },
        "id": "qAWQdBehiZBt",
        "outputId": "daf8021e-2938-42e7-b9c5-72186773d827"
      },
      "execution_count": null,
      "outputs": [
        {
          "output_type": "stream",
          "name": "stdout",
          "text": [
            "np.max(data) : 8\n",
            " data(min) : 1\n",
            " np.mean(data) - 평균 : 4.5\n",
            " np.std(data) - 표준편차 : 2.692582403567252\n",
            " data.sum() : 18\n",
            "\n"
          ]
        }
      ]
    },
    {
      "cell_type": "code",
      "source": [
        "n = np.array([ 3,4,1,2, 8,2,4,9])\n",
        "\n",
        "# 통계를 각 축(차원)에 대해 계산 가능\n",
        "max_v = np.max(data, axis=0)\n",
        "min_v = np.min(data, axis=0)\n",
        "mean_v = np.mean(data, axis=0)\n",
        "std_v = np.std(data, axis=0)\n",
        "sum_v = np.sum(data, axis=0)\n",
        "\n",
        "print(f'최댓값: {max_v}')\n",
        "print(f'최솟값: {min_v}')\n",
        "print(f'평균: {mean_v}')\n",
        "print(f'표준편차: {std_v}')\n",
        "print(f'합계: {sum_v}')"
      ],
      "metadata": {
        "colab": {
          "base_uri": "https://localhost:8080/"
        },
        "id": "OPb97XUyid_5",
        "outputId": "94ef40a7-e457-4b67-8b48-5054ce355c94"
      },
      "execution_count": null,
      "outputs": [
        {
          "output_type": "stream",
          "name": "stdout",
          "text": [
            "최댓값: 8\n",
            "최솟값: 1\n",
            "평균: 4.5\n",
            "표준편차: 2.692582403567252\n",
            "합계: 18\n"
          ]
        }
      ]
    },
    {
      "cell_type": "code",
      "source": [
        "# data.shape = 3 x 5\n",
        "data = np.array([[8.5, 200, 60.2, 450.3, 50],\n",
        "                [12.3, 230.5, 56.3, 390.2, 35],\n",
        "                [9.2, 190, 30, 500.4, 60]])\n",
        "# 0번 축 - 행    ------- 1번 축 - 열 -------\n",
        "\n",
        "mean_v = np.mean(data, axis=0)\n",
        "std_v = np.std(data, axis=0)\n",
        "print(f'50m달리기: {mean_v[0]:.2f}±{std_v[0]:.2f}')\n",
        "print(f'멀리뛰기: {mean_v[1]:.2f}±{std_v[1]:.2f}')\n",
        "print(f'오래 매달리기: {mean_v[2]:.2f}±{std_v[2]:.2f}')\n",
        "print(f'오래달리기: {mean_v[3]:.2f}±{std_v[3]:.2f}')\n",
        "print(f'윗몸일으키기: {mean_v[4]:.2f}±{std_v[4]:.2f}')"
      ],
      "metadata": {
        "colab": {
          "base_uri": "https://localhost:8080/"
        },
        "id": "857fgLoyifUV",
        "outputId": "9a133c90-f241-42a4-91ec-f29090ff9211"
      },
      "execution_count": null,
      "outputs": [
        {
          "output_type": "stream",
          "name": "stdout",
          "text": [
            "50m달리기: 10.00±1.65\n",
            "멀리뛰기: 206.83±17.23\n",
            "오래 매달리기: 48.83±13.41\n",
            "오래달리기: 446.97±45.05\n",
            "윗몸일으키기: 48.33±10.27\n"
          ]
        }
      ]
    },
    {
      "cell_type": "code",
      "source": [
        "data1 = np.array([1,2,5,0,1])\n",
        "idx_max = np.argmax(data1) # 최대값의 index\n",
        "idx_min = np.argmin(data1) # 최소값의 index\n",
        "print(f'최솟값은 {data1[idx_min]} 입니다.')\n",
        "print(f'최댓값은 {data1[idx_max]} 입니다.')"
      ],
      "metadata": {
        "colab": {
          "base_uri": "https://localhost:8080/"
        },
        "id": "ygzZ4SUZjr3u",
        "outputId": "57dc9782-d1b7-4d81-c150-c4b24455eec7"
      },
      "execution_count": null,
      "outputs": [
        {
          "output_type": "stream",
          "name": "stdout",
          "text": [
            "최솟값은 0 입니다.\n",
            "최댓값은 5 입니다.\n"
          ]
        }
      ]
    },
    {
      "cell_type": "code",
      "source": [
        "idx_min = np.argmin(data, axis=0)\n",
        "best_50m_idx = idx_min[0]\n",
        "long_jump_of_best_50m_person = data[best_50m_idx, 1]\n",
        "print(f'50m에서 가장 빠른 기록을 가지고 있는 학생은 {best_50m_idx}번 입니다.')\n",
        "print(f'해당 학생의 멀리뛰기 기록은 {long_jump_of_best_50m_person}입니다')"
      ],
      "metadata": {
        "colab": {
          "base_uri": "https://localhost:8080/"
        },
        "id": "hCDGSE6FkP39",
        "outputId": "fd331e5a-1698-482c-efa8-315fbf6d5544"
      },
      "execution_count": null,
      "outputs": [
        {
          "output_type": "stream",
          "name": "stdout",
          "text": [
            "50m에서 가장 빠른 기록을 가지고 있는 학생은 0번 입니다.\n",
            "해당 학생의 멀리뛰기 기록은 200.0입니다\n"
          ]
        }
      ]
    },
    {
      "cell_type": "code",
      "source": [
        "data[data[:,1]>190, 4] # 멀리뛰기 기록이 190 초과인 학생들의 윗몸일으키기 기록 선택"
      ],
      "metadata": {
        "colab": {
          "base_uri": "https://localhost:8080/"
        },
        "id": "Q1tp4-zJka9l",
        "outputId": "3369e215-5f5c-42e2-e71b-ad5203559bfc"
      },
      "execution_count": null,
      "outputs": [
        {
          "output_type": "execute_result",
          "data": {
            "text/plain": [
              "array([50., 35.])"
            ]
          },
          "metadata": {},
          "execution_count": 79
        }
      ]
    },
    {
      "cell_type": "markdown",
      "source": [
        "# 04. 데이터 분석의 기초"
      ],
      "metadata": {
        "id": "iyHlRTqCkfNA"
      }
    },
    {
      "cell_type": "code",
      "source": [
        "# 폴더에 API 토큰 업로드\n",
        "from google.colab import files\n",
        "files.upload()"
      ],
      "metadata": {
        "colab": {
          "base_uri": "https://localhost:8080/",
          "height": 95
        },
        "id": "Qz436FtyxcRs",
        "outputId": "631b07d9-4dac-4555-bb28-61b159782e7a"
      },
      "execution_count": null,
      "outputs": [
        {
          "output_type": "display_data",
          "data": {
            "text/plain": [
              "<IPython.core.display.HTML object>"
            ],
            "text/html": [
              "\n",
              "     <input type=\"file\" id=\"files-8c715320-b1c2-4264-bb4c-15e3de7e3a30\" name=\"files[]\" multiple disabled\n",
              "        style=\"border:none\" />\n",
              "     <output id=\"result-8c715320-b1c2-4264-bb4c-15e3de7e3a30\">\n",
              "      Upload widget is only available when the cell has been executed in the\n",
              "      current browser session. Please rerun this cell to enable.\n",
              "      </output>\n",
              "      <script>// Copyright 2017 Google LLC\n",
              "//\n",
              "// Licensed under the Apache License, Version 2.0 (the \"License\");\n",
              "// you may not use this file except in compliance with the License.\n",
              "// You may obtain a copy of the License at\n",
              "//\n",
              "//      http://www.apache.org/licenses/LICENSE-2.0\n",
              "//\n",
              "// Unless required by applicable law or agreed to in writing, software\n",
              "// distributed under the License is distributed on an \"AS IS\" BASIS,\n",
              "// WITHOUT WARRANTIES OR CONDITIONS OF ANY KIND, either express or implied.\n",
              "// See the License for the specific language governing permissions and\n",
              "// limitations under the License.\n",
              "\n",
              "/**\n",
              " * @fileoverview Helpers for google.colab Python module.\n",
              " */\n",
              "(function(scope) {\n",
              "function span(text, styleAttributes = {}) {\n",
              "  const element = document.createElement('span');\n",
              "  element.textContent = text;\n",
              "  for (const key of Object.keys(styleAttributes)) {\n",
              "    element.style[key] = styleAttributes[key];\n",
              "  }\n",
              "  return element;\n",
              "}\n",
              "\n",
              "// Max number of bytes which will be uploaded at a time.\n",
              "const MAX_PAYLOAD_SIZE = 100 * 1024;\n",
              "\n",
              "function _uploadFiles(inputId, outputId) {\n",
              "  const steps = uploadFilesStep(inputId, outputId);\n",
              "  const outputElement = document.getElementById(outputId);\n",
              "  // Cache steps on the outputElement to make it available for the next call\n",
              "  // to uploadFilesContinue from Python.\n",
              "  outputElement.steps = steps;\n",
              "\n",
              "  return _uploadFilesContinue(outputId);\n",
              "}\n",
              "\n",
              "// This is roughly an async generator (not supported in the browser yet),\n",
              "// where there are multiple asynchronous steps and the Python side is going\n",
              "// to poll for completion of each step.\n",
              "// This uses a Promise to block the python side on completion of each step,\n",
              "// then passes the result of the previous step as the input to the next step.\n",
              "function _uploadFilesContinue(outputId) {\n",
              "  const outputElement = document.getElementById(outputId);\n",
              "  const steps = outputElement.steps;\n",
              "\n",
              "  const next = steps.next(outputElement.lastPromiseValue);\n",
              "  return Promise.resolve(next.value.promise).then((value) => {\n",
              "    // Cache the last promise value to make it available to the next\n",
              "    // step of the generator.\n",
              "    outputElement.lastPromiseValue = value;\n",
              "    return next.value.response;\n",
              "  });\n",
              "}\n",
              "\n",
              "/**\n",
              " * Generator function which is called between each async step of the upload\n",
              " * process.\n",
              " * @param {string} inputId Element ID of the input file picker element.\n",
              " * @param {string} outputId Element ID of the output display.\n",
              " * @return {!Iterable<!Object>} Iterable of next steps.\n",
              " */\n",
              "function* uploadFilesStep(inputId, outputId) {\n",
              "  const inputElement = document.getElementById(inputId);\n",
              "  inputElement.disabled = false;\n",
              "\n",
              "  const outputElement = document.getElementById(outputId);\n",
              "  outputElement.innerHTML = '';\n",
              "\n",
              "  const pickedPromise = new Promise((resolve) => {\n",
              "    inputElement.addEventListener('change', (e) => {\n",
              "      resolve(e.target.files);\n",
              "    });\n",
              "  });\n",
              "\n",
              "  const cancel = document.createElement('button');\n",
              "  inputElement.parentElement.appendChild(cancel);\n",
              "  cancel.textContent = 'Cancel upload';\n",
              "  const cancelPromise = new Promise((resolve) => {\n",
              "    cancel.onclick = () => {\n",
              "      resolve(null);\n",
              "    };\n",
              "  });\n",
              "\n",
              "  // Wait for the user to pick the files.\n",
              "  const files = yield {\n",
              "    promise: Promise.race([pickedPromise, cancelPromise]),\n",
              "    response: {\n",
              "      action: 'starting',\n",
              "    }\n",
              "  };\n",
              "\n",
              "  cancel.remove();\n",
              "\n",
              "  // Disable the input element since further picks are not allowed.\n",
              "  inputElement.disabled = true;\n",
              "\n",
              "  if (!files) {\n",
              "    return {\n",
              "      response: {\n",
              "        action: 'complete',\n",
              "      }\n",
              "    };\n",
              "  }\n",
              "\n",
              "  for (const file of files) {\n",
              "    const li = document.createElement('li');\n",
              "    li.append(span(file.name, {fontWeight: 'bold'}));\n",
              "    li.append(span(\n",
              "        `(${file.type || 'n/a'}) - ${file.size} bytes, ` +\n",
              "        `last modified: ${\n",
              "            file.lastModifiedDate ? file.lastModifiedDate.toLocaleDateString() :\n",
              "                                    'n/a'} - `));\n",
              "    const percent = span('0% done');\n",
              "    li.appendChild(percent);\n",
              "\n",
              "    outputElement.appendChild(li);\n",
              "\n",
              "    const fileDataPromise = new Promise((resolve) => {\n",
              "      const reader = new FileReader();\n",
              "      reader.onload = (e) => {\n",
              "        resolve(e.target.result);\n",
              "      };\n",
              "      reader.readAsArrayBuffer(file);\n",
              "    });\n",
              "    // Wait for the data to be ready.\n",
              "    let fileData = yield {\n",
              "      promise: fileDataPromise,\n",
              "      response: {\n",
              "        action: 'continue',\n",
              "      }\n",
              "    };\n",
              "\n",
              "    // Use a chunked sending to avoid message size limits. See b/62115660.\n",
              "    let position = 0;\n",
              "    do {\n",
              "      const length = Math.min(fileData.byteLength - position, MAX_PAYLOAD_SIZE);\n",
              "      const chunk = new Uint8Array(fileData, position, length);\n",
              "      position += length;\n",
              "\n",
              "      const base64 = btoa(String.fromCharCode.apply(null, chunk));\n",
              "      yield {\n",
              "        response: {\n",
              "          action: 'append',\n",
              "          file: file.name,\n",
              "          data: base64,\n",
              "        },\n",
              "      };\n",
              "\n",
              "      let percentDone = fileData.byteLength === 0 ?\n",
              "          100 :\n",
              "          Math.round((position / fileData.byteLength) * 100);\n",
              "      percent.textContent = `${percentDone}% done`;\n",
              "\n",
              "    } while (position < fileData.byteLength);\n",
              "  }\n",
              "\n",
              "  // All done.\n",
              "  yield {\n",
              "    response: {\n",
              "      action: 'complete',\n",
              "    }\n",
              "  };\n",
              "}\n",
              "\n",
              "scope.google = scope.google || {};\n",
              "scope.google.colab = scope.google.colab || {};\n",
              "scope.google.colab._files = {\n",
              "  _uploadFiles,\n",
              "  _uploadFilesContinue,\n",
              "};\n",
              "})(self);\n",
              "</script> "
            ]
          },
          "metadata": {}
        },
        {
          "output_type": "stream",
          "name": "stdout",
          "text": [
            "Saving kaggle.json to kaggle.json\n"
          ]
        },
        {
          "output_type": "execute_result",
          "data": {
            "text/plain": [
              "{'kaggle.json': b'{\"username\":\"yujeongyang\",\"key\":\"79d486c94ed039cf803293adca468b3c\"}'}"
            ]
          },
          "metadata": {},
          "execution_count": 1
        }
      ]
    },
    {
      "cell_type": "code",
      "source": [
        "!cd '/content/gdrive/MyDrive/Colab Notebooks'\n",
        "# 폴더 위치가 / 로 시작하면 절대경로를 의미\n",
        "# cd 명령에서 절대경로 지정하면 현재 폴더 관계없이 해당 폴더로 이동"
      ],
      "metadata": {
        "id": "--6gzstMzY6M",
        "colab": {
          "base_uri": "https://localhost:8080/"
        },
        "outputId": "10049cf6-2a76-4754-869c-7b104e2a037b"
      },
      "execution_count": null,
      "outputs": [
        {
          "output_type": "stream",
          "name": "stdout",
          "text": [
            "/bin/bash: line 0: cd: /content/gdrive/MyDrive/Colab Notebooks: No such file or directory\n"
          ]
        }
      ]
    },
    {
      "cell_type": "code",
      "source": [
        "# 업로드된 토큰을 ~/.kaggle 폴더로 이동\n",
        "!mkdir ~/.kaggle          # ~ -> 사용자의 기본 폴더, 코랩에서는 /root 폴더\n",
        "!mv kaggle.json ~/.kaggle # 파일명 생략 가능!\n",
        "!cd ~/.kaggle              # /root/.kaggle\n",
        "!chmod 600 ~/.kaggle/*    # 토큰의 권한 변경 -> 6 rw- --- ---\n",
        "\n",
        "# 폴더에 업로드된 토큰을 통해 kaggle 계정에 직접 접근 가능해짐\n",
        "!kaggle competitions list"
      ],
      "metadata": {
        "colab": {
          "base_uri": "https://localhost:8080/"
        },
        "id": "62LvPRR8x80H",
        "outputId": "e795d464-8137-412f-822d-656b6b3298d0"
      },
      "execution_count": null,
      "outputs": [
        {
          "output_type": "stream",
          "name": "stdout",
          "text": [
            "ref                                                                                deadline             category             reward  teamCount  userHasEntered  \n",
            "---------------------------------------------------------------------------------  -------------------  ---------------  ----------  ---------  --------------  \n",
            "https://www.kaggle.com/competitions/vesuvius-challenge-ink-detection               2023-06-14 23:59:00  Featured         $1,000,000        537           False  \n",
            "https://www.kaggle.com/competitions/asl-signs                                      2023-05-01 23:59:00  Research           $100,000       1035           False  \n",
            "https://www.kaggle.com/competitions/tlvmc-parkinsons-freezing-gait-prediction      2023-06-08 23:59:00  Research           $100,000        624           False  \n",
            "https://www.kaggle.com/competitions/amp-parkinsons-disease-progression-prediction  2023-05-18 23:59:00  Featured            $60,000       1280           False  \n",
            "https://www.kaggle.com/competitions/lux-ai-season-2                                2023-04-24 23:59:00  Featured            $55,000        622           False  \n",
            "https://www.kaggle.com/competitions/predict-student-performance-from-game-play     2023-06-14 23:59:00  Featured            $55,000       1396           False  \n",
            "https://www.kaggle.com/competitions/stable-diffusion-image-to-prompts              2023-05-15 23:59:00  Featured            $50,000        985           False  \n",
            "https://www.kaggle.com/competitions/birdclef-2023                                  2023-05-24 23:59:00  Research            $50,000        789           False  \n",
            "https://www.kaggle.com/competitions/benetech-making-graphs-accessible              2023-06-12 23:59:00  Featured            $50,000        155           False  \n",
            "https://www.kaggle.com/competitions/image-matching-challenge-2023                  2023-06-12 23:59:00  Research            $50,000         56           False  \n",
            "https://www.kaggle.com/competitions/cafa-5-protein-function-prediction             2023-08-21 23:59:00  Research            $50,000         23           False  \n",
            "https://www.kaggle.com/competitions/playground-series-s3e13                        2023-05-01 23:59:00  Playground             Swag        228           False  \n",
            "https://www.kaggle.com/competitions/fathomnet-out-of-sample-detection              2023-05-23 23:59:00  Research          Knowledge         22           False  \n",
            "https://www.kaggle.com/competitions/titanic                                        2030-01-01 00:00:00  Getting Started   Knowledge      16359            True  \n",
            "https://www.kaggle.com/competitions/house-prices-advanced-regression-techniques    2030-01-01 00:00:00  Getting Started   Knowledge       4576            True  \n",
            "https://www.kaggle.com/competitions/spaceship-titanic                              2030-01-01 00:00:00  Getting Started   Knowledge       2528            True  \n",
            "https://www.kaggle.com/competitions/digit-recognizer                               2030-01-01 00:00:00  Getting Started   Knowledge       1597           False  \n",
            "https://www.kaggle.com/competitions/nlp-getting-started                            2030-01-01 00:00:00  Getting Started   Knowledge       1212            True  \n",
            "https://www.kaggle.com/competitions/connectx                                       2030-01-01 00:00:00  Getting Started   Knowledge        234           False  \n",
            "https://www.kaggle.com/competitions/tpu-getting-started                            2030-06-03 23:59:00  Getting Started   Knowledge        189           False  \n"
          ]
        }
      ]
    },
    {
      "cell_type": "code",
      "source": [
        "# 코랩에서 구글 드라이브 연결\n",
        "# !mkdir gdrive\n",
        "\n",
        "from google.colab import drive\n",
        "drive.mount('/content/gdrive')\n",
        "# mount : 외부 디렉터리를 작업 중인 컴퓨터에 연결하여 사용하는 작업"
      ],
      "metadata": {
        "colab": {
          "base_uri": "https://localhost:8080/"
        },
        "id": "xmvUEZwIyhBi",
        "outputId": "d6fd4c1d-f877-450d-dd32-63bf7d9340ae"
      },
      "execution_count": null,
      "outputs": [
        {
          "output_type": "stream",
          "name": "stdout",
          "text": [
            "Mounted at /content/gdrive\n"
          ]
        }
      ]
    },
    {
      "cell_type": "code",
      "source": [
        "cd /content/gdrive/MyDrive/Colab Notebooks/titanic_data"
      ],
      "metadata": {
        "colab": {
          "base_uri": "https://localhost:8080/"
        },
        "id": "HuOPfpnA1f6U",
        "outputId": "14fb96fd-ba12-45ca-fce2-683b99580105"
      },
      "execution_count": null,
      "outputs": [
        {
          "output_type": "stream",
          "name": "stdout",
          "text": [
            "/content/gdrive/MyDrive/Colab Notebooks/titanic_data\n"
          ]
        }
      ]
    },
    {
      "cell_type": "code",
      "source": [
        "!unzip -qq \"/content/gdrive/MyDrive/Colab Notebooks/titanic/titanic.zip\""
      ],
      "metadata": {
        "id": "sFWg4l8gBvAT"
      },
      "execution_count": null,
      "outputs": []
    },
    {
      "cell_type": "code",
      "source": [
        "import pandas as pd       # 데이터를 읽고 분석하는 함수 제공하는 라이브러리\n",
        "# data_train = pd.read_csv('./titanic_data/train.csv')\n",
        "data_train = pd.read_csv('train.csv')\n",
        "# csv 함수는 (,) 로 데이터가 나뉘어져 있음\n",
        "# read_csv()는 파일을 pandas의 DataFrame 형태로 반환\n",
        "# DataFrame은 numpy와 유사, 2차원 Table 형태에 최적화"
      ],
      "metadata": {
        "id": "j5nwz0cwzmAV"
      },
      "execution_count": null,
      "outputs": []
    },
    {
      "cell_type": "code",
      "source": [
        "# 좌석 등급별 인원 비교\n",
        "import matplotlib.pyplot as plt  # 그래프 관련 함수 제공하는 라이브러리\n",
        "plt.hist(data_train['Pclass'])\n",
        "# 그래프 그릴 때 pyplot 모듈이 많이 사용\n",
        "# hist()는 데이터분포를 히스토그램으로 보여줌\n",
        "# DataFrame['열 이름']은 특정 열만 선택(추출)할 때 사용"
      ],
      "metadata": {
        "colab": {
          "base_uri": "https://localhost:8080/",
          "height": 485
        },
        "id": "5lbHKZ5rz6VC",
        "outputId": "e322c387-65dc-48d3-f070-fa590decf63f"
      },
      "execution_count": null,
      "outputs": [
        {
          "output_type": "execute_result",
          "data": {
            "text/plain": [
              "(array([216.,   0.,   0.,   0.,   0., 184.,   0.,   0.,   0., 491.]),\n",
              " array([1. , 1.2, 1.4, 1.6, 1.8, 2. , 2.2, 2.4, 2.6, 2.8, 3. ]),\n",
              " <BarContainer object of 10 artists>)"
            ]
          },
          "metadata": {},
          "execution_count": 7
        },
        {
          "output_type": "display_data",
          "data": {
            "text/plain": [
              "<Figure size 640x480 with 1 Axes>"
            ],
            "image/png": "[encoded data removed]"
          },
          "metadata": {}
        }
      ]
    },
    {
      "cell_type": "code",
      "source": [
        "# 좌석 등급별 생존 비교\n",
        "data_survived = data_train[data_train.Survived == 1]\n",
        "# 전체 데이터 중 생존자 데이터만 저장\n",
        "# 해당 값이 1인 데이터의 경우 True, 0이면 False를 가지는 Boolean형 serises(Pandas에서 사용하는 1차원 배열)\n",
        "plt.hist([data_train['Pclass'], data_survived['Pclass']]) # 두 개의 파라미터 넘겨주어, 각각에 대해 히스토그램\n",
        "plt.legend(['Total', 'Survived']) # 범례를 표시\n",
        "plt.xlabel('Pclass')              # x축 제목\n",
        "plt.ylabel('Number of People')    # y축 제목\n",
        "\n",
        "'''\n",
        "(Survived) 생존자 수는 1등석이 조금 높고, 그 다음이 3등석, 2등석 차례로 줄어듦\n",
        "(Total) 탑승객 수 대비 생존자의 경우 1등석이 압도적으로 높음\n",
        "'''"
      ],
      "metadata": {
        "colab": {
          "base_uri": "https://localhost:8080/",
          "height": 467
        },
        "id": "B606B8CfzGFM",
        "outputId": "ae7d4f03-2953-4267-f4b5-b7b2d41f9869"
      },
      "execution_count": null,
      "outputs": [
        {
          "output_type": "execute_result",
          "data": {
            "text/plain": [
              "Text(0, 0.5, 'Number of People')"
            ]
          },
          "metadata": {},
          "execution_count": 38
        },
        {
          "output_type": "display_data",
          "data": {
            "text/plain": [
              "<Figure size 640x480 with 1 Axes>"
            ],
            "image/png": "[encoded data removed]"
          },
          "metadata": {}
        }
      ]
    },
    {
      "cell_type": "code",
      "source": [
        "data_train[(data_train.Survived == 1) & (data_train['Sex']=='male')]"
      ],
      "metadata": {
        "colab": {
          "base_uri": "https://localhost:8080/",
          "height": 423
        },
        "id": "Aeud5LTG30vj",
        "outputId": "931b4f0c-2634-4fad-cf25-ba87fa4296f8"
      },
      "execution_count": null,
      "outputs": [
        {
          "output_type": "execute_result",
          "data": {
            "text/plain": [
              "     PassengerId  Survived  Pclass                             Name   Sex  \\\n",
              "17            18         1       2     Williams, Mr. Charles Eugene  male   \n",
              "21            22         1       2            Beesley, Mr. Lawrence  male   \n",
              "23            24         1       1     Sloper, Mr. William Thompson  male   \n",
              "36            37         1       3                 Mamee, Mr. Hanna  male   \n",
              "55            56         1       1                Woolner, Mr. Hugh  male   \n",
              "..           ...       ...     ...                              ...   ...   \n",
              "838          839         1       3                  Chip, Mr. Chang  male   \n",
              "839          840         1       1             Marechal, Mr. Pierre  male   \n",
              "857          858         1       1           Daly, Mr. Peter Denis   male   \n",
              "869          870         1       3  Johnson, Master. Harold Theodor  male   \n",
              "889          890         1       1            Behr, Mr. Karl Howell  male   \n",
              "\n",
              "      Age  SibSp  Parch  Ticket     Fare Cabin Embarked  \n",
              "17    NaN      0      0  244373  13.0000   NaN        S  \n",
              "21   34.0      0      0  248698  13.0000   D56        S  \n",
              "23   28.0      0      0  113788  35.5000    A6        S  \n",
              "36    NaN      0      0    2677   7.2292   NaN        C  \n",
              "55    NaN      0      0   19947  35.5000   C52        S  \n",
              "..    ...    ...    ...     ...      ...   ...      ...  \n",
              "838  32.0      0      0    1601  56.4958   NaN        S  \n",
              "839   NaN      0      0   11774  29.7000   C47        C  \n",
              "857  51.0      0      0  113055  26.5500   E17        S  \n",
              "869   4.0      1      1  347742  11.1333   NaN        S  \n",
              "889  26.0      0      0  111369  30.0000  C148        C  \n",
              "\n",
              "[109 rows x 12 columns]"
            ],
            "text/html": [
              "\n",
              "  <div id=\"df-aa90cc76-97cd-420d-9cb2-fc95364c9eaf\">\n",
              "    <div class=\"colab-df-container\">\n",
              "      <div>\n",
              "<style scoped>\n",
              "    .dataframe tbody tr th:only-of-type {\n",
              "        vertical-align: middle;\n",
              "    }\n",
              "\n",
              "    .dataframe tbody tr th {\n",
              "        vertical-align: top;\n",
              "    }\n",
              "\n",
              "    .dataframe thead th {\n",
              "        text-align: right;\n",
              "    }\n",
              "</style>\n",
              "<table border=\"1\" class=\"dataframe\">\n",
              "  <thead>\n",
              "    <tr style=\"text-align: right;\">\n",
              "      <th></th>\n",
              "      <th>PassengerId</th>\n",
              "      <th>Survived</th>\n",
              "      <th>Pclass</th>\n",
              "      <th>Name</th>\n",
              "      <th>Sex</th>\n",
              "      <th>Age</th>\n",
              "      <th>SibSp</th>\n",
              "      <th>Parch</th>\n",
              "      <th>Ticket</th>\n",
              "      <th>Fare</th>\n",
              "      <th>Cabin</th>\n",
              "      <th>Embarked</th>\n",
              "    </tr>\n",
              "  </thead>\n",
              "  <tbody>\n",
              "    <tr>\n",
              "      <th>17</th>\n",
              "      <td>18</td>\n",
              "      <td>1</td>\n",
              "      <td>2</td>\n",
              "      <td>Williams, Mr. Charles Eugene</td>\n",
              "      <td>male</td>\n",
              "      <td>NaN</td>\n",
              "      <td>0</td>\n",
              "      <td>0</td>\n",
              "      <td>244373</td>\n",
              "      <td>13.0000</td>\n",
              "      <td>NaN</td>\n",
              "      <td>S</td>\n",
              "    </tr>\n",
              "    <tr>\n",
              "      <th>21</th>\n",
              "      <td>22</td>\n",
              "      <td>1</td>\n",
              "      <td>2</td>\n",
              "      <td>Beesley, Mr. Lawrence</td>\n",
              "      <td>male</td>\n",
              "      <td>34.0</td>\n",
              "      <td>0</td>\n",
              "      <td>0</td>\n",
              "      <td>248698</td>\n",
              "      <td>13.0000</td>\n",
              "      <td>D56</td>\n",
              "      <td>S</td>\n",
              "    </tr>\n",
              "    <tr>\n",
              "      <th>23</th>\n",
              "      <td>24</td>\n",
              "      <td>1</td>\n",
              "      <td>1</td>\n",
              "      <td>Sloper, Mr. William Thompson</td>\n",
              "      <td>male</td>\n",
              "      <td>28.0</td>\n",
              "      <td>0</td>\n",
              "      <td>0</td>\n",
              "      <td>113788</td>\n",
              "      <td>35.5000</td>\n",
              "      <td>A6</td>\n",
              "      <td>S</td>\n",
              "    </tr>\n",
              "    <tr>\n",
              "      <th>36</th>\n",
              "      <td>37</td>\n",
              "      <td>1</td>\n",
              "      <td>3</td>\n",
              "      <td>Mamee, Mr. Hanna</td>\n",
              "      <td>male</td>\n",
              "      <td>NaN</td>\n",
              "      <td>0</td>\n",
              "      <td>0</td>\n",
              "      <td>2677</td>\n",
              "      <td>7.2292</td>\n",
              "      <td>NaN</td>\n",
              "      <td>C</td>\n",
              "    </tr>\n",
              "    <tr>\n",
              "      <th>55</th>\n",
              "      <td>56</td>\n",
              "      <td>1</td>\n",
              "      <td>1</td>\n",
              "      <td>Woolner, Mr. Hugh</td>\n",
              "      <td>male</td>\n",
              "      <td>NaN</td>\n",
              "      <td>0</td>\n",
              "      <td>0</td>\n",
              "      <td>19947</td>\n",
              "      <td>35.5000</td>\n",
              "      <td>C52</td>\n",
              "      <td>S</td>\n",
              "    </tr>\n",
              "    <tr>\n",
              "      <th>...</th>\n",
              "      <td>...</td>\n",
              "      <td>...</td>\n",
              "      <td>...</td>\n",
              "      <td>...</td>\n",
              "      <td>...</td>\n",
              "      <td>...</td>\n",
              "      <td>...</td>\n",
              "      <td>...</td>\n",
              "      <td>...</td>\n",
              "      <td>...</td>\n",
              "      <td>...</td>\n",
              "      <td>...</td>\n",
              "    </tr>\n",
              "    <tr>\n",
              "      <th>838</th>\n",
              "      <td>839</td>\n",
              "      <td>1</td>\n",
              "      <td>3</td>\n",
              "      <td>Chip, Mr. Chang</td>\n",
              "      <td>male</td>\n",
              "      <td>32.0</td>\n",
              "      <td>0</td>\n",
              "      <td>0</td>\n",
              "      <td>1601</td>\n",
              "      <td>56.4958</td>\n",
              "      <td>NaN</td>\n",
              "      <td>S</td>\n",
              "    </tr>\n",
              "    <tr>\n",
              "      <th>839</th>\n",
              "      <td>840</td>\n",
              "      <td>1</td>\n",
              "      <td>1</td>\n",
              "      <td>Marechal, Mr. Pierre</td>\n",
              "      <td>male</td>\n",
              "      <td>NaN</td>\n",
              "      <td>0</td>\n",
              "      <td>0</td>\n",
              "      <td>11774</td>\n",
              "      <td>29.7000</td>\n",
              "      <td>C47</td>\n",
              "      <td>C</td>\n",
              "    </tr>\n",
              "    <tr>\n",
              "      <th>857</th>\n",
              "      <td>858</td>\n",
              "      <td>1</td>\n",
              "      <td>1</td>\n",
              "      <td>Daly, Mr. Peter Denis</td>\n",
              "      <td>male</td>\n",
              "      <td>51.0</td>\n",
              "      <td>0</td>\n",
              "      <td>0</td>\n",
              "      <td>113055</td>\n",
              "      <td>26.5500</td>\n",
              "      <td>E17</td>\n",
              "      <td>S</td>\n",
              "    </tr>\n",
              "    <tr>\n",
              "      <th>869</th>\n",
              "      <td>870</td>\n",
              "      <td>1</td>\n",
              "      <td>3</td>\n",
              "      <td>Johnson, Master. Harold Theodor</td>\n",
              "      <td>male</td>\n",
              "      <td>4.0</td>\n",
              "      <td>1</td>\n",
              "      <td>1</td>\n",
              "      <td>347742</td>\n",
              "      <td>11.1333</td>\n",
              "      <td>NaN</td>\n",
              "      <td>S</td>\n",
              "    </tr>\n",
              "    <tr>\n",
              "      <th>889</th>\n",
              "      <td>890</td>\n",
              "      <td>1</td>\n",
              "      <td>1</td>\n",
              "      <td>Behr, Mr. Karl Howell</td>\n",
              "      <td>male</td>\n",
              "      <td>26.0</td>\n",
              "      <td>0</td>\n",
              "      <td>0</td>\n",
              "      <td>111369</td>\n",
              "      <td>30.0000</td>\n",
              "      <td>C148</td>\n",
              "      <td>C</td>\n",
              "    </tr>\n",
              "  </tbody>\n",
              "</table>\n",
              "<p>109 rows × 12 columns</p>\n",
              "</div>\n",
              "      <button class=\"colab-df-convert\" onclick=\"convertToInteractive('df-aa90cc76-97cd-420d-9cb2-fc95364c9eaf')\"\n",
              "              title=\"Convert this dataframe to an interactive table.\"\n",
              "              style=\"display:none;\">\n",
              "        \n",
              "  <svg xmlns=\"http://www.w3.org/2000/svg\" height=\"24px\"viewBox=\"0 0 24 24\"\n",
              "       width=\"24px\">\n",
              "    <path d=\"M0 0h24v24H0V0z\" fill=\"none\"/>\n",
              "    <path d=\"M18.56 5.44l.94 2.06.94-2.06 2.06-.94-2.06-.94-.94-2.06-.94 2.06-2.06.94zm-11 1L8.5 8.5l.94-2.06 2.06-.94-2.06-.94L8.5 2.5l-.94 2.06-2.06.94zm10 10l.94 2.06.94-2.06 2.06-.94-2.06-.94-.94-2.06-.94 2.06-2.06.94z\"/><path d=\"M17.41 7.96l-1.37-1.37c-.4-.4-.92-.59-1.43-.59-.52 0-1.04.2-1.43.59L10.3 9.45l-7.72 7.72c-.78.78-.78 2.05 0 2.83L4 21.41c.39.39.9.59 1.41.59.51 0 1.02-.2 1.41-.59l7.78-7.78 2.81-2.81c.8-.78.8-2.07 0-2.86zM5.41 20L4 18.59l7.72-7.72 1.47 1.35L5.41 20z\"/>\n",
              "  </svg>\n",
              "      </button>\n",
              "      \n",
              "  <style>\n",
              "    .colab-df-container {\n",
              "      display:flex;\n",
              "      flex-wrap:wrap;\n",
              "      gap: 12px;\n",
              "    }\n",
              "\n",
              "    .colab-df-convert {\n",
              "      background-color: #E8F0FE;\n",
              "      border: none;\n",
              "      border-radius: 50%;\n",
              "      cursor: pointer;\n",
              "      display: none;\n",
              "      fill: #1967D2;\n",
              "      height: 32px;\n",
              "      padding: 0 0 0 0;\n",
              "      width: 32px;\n",
              "    }\n",
              "\n",
              "    .colab-df-convert:hover {\n",
              "      background-color: #E2EBFA;\n",
              "      box-shadow: 0px 1px 2px rgba(60, 64, 67, 0.3), 0px 1px 3px 1px rgba(60, 64, 67, 0.15);\n",
              "      fill: #174EA6;\n",
              "    }\n",
              "\n",
              "    [theme=dark] .colab-df-convert {\n",
              "      background-color: #3B4455;\n",
              "      fill: #D2E3FC;\n",
              "    }\n",
              "\n",
              "    [theme=dark] .colab-df-convert:hover {\n",
              "      background-color: #434B5C;\n",
              "      box-shadow: 0px 1px 3px 1px rgba(0, 0, 0, 0.15);\n",
              "      filter: drop-shadow(0px 1px 2px rgba(0, 0, 0, 0.3));\n",
              "      fill: #FFFFFF;\n",
              "    }\n",
              "  </style>\n",
              "\n",
              "      <script>\n",
              "        const buttonEl =\n",
              "          document.querySelector('#df-aa90cc76-97cd-420d-9cb2-fc95364c9eaf button.colab-df-convert');\n",
              "        buttonEl.style.display =\n",
              "          google.colab.kernel.accessAllowed ? 'block' : 'none';\n",
              "\n",
              "        async function convertToInteractive(key) {\n",
              "          const element = document.querySelector('#df-aa90cc76-97cd-420d-9cb2-fc95364c9eaf');\n",
              "          const dataTable =\n",
              "            await google.colab.kernel.invokeFunction('convertToInteractive',\n",
              "                                                     [key], {});\n",
              "          if (!dataTable) return;\n",
              "\n",
              "          const docLinkHtml = 'Like what you see? Visit the ' +\n",
              "            '<a target=\"_blank\" href=https://colab.research.google.com/notebooks/data_table.ipynb>data table notebook</a>'\n",
              "            + ' to learn more about interactive tables.';\n",
              "          element.innerHTML = '';\n",
              "          dataTable['output_type'] = 'display_data';\n",
              "          await google.colab.output.renderOutput(dataTable, element);\n",
              "          const docLink = document.createElement('div');\n",
              "          docLink.innerHTML = docLinkHtml;\n",
              "          element.appendChild(docLink);\n",
              "        }\n",
              "      </script>\n",
              "    </div>\n",
              "  </div>\n",
              "  "
            ]
          },
          "metadata": {},
          "execution_count": 46
        }
      ]
    },
    {
      "cell_type": "code",
      "source": [
        "# 남성/여성이면서 생존했는지 판단하는 boolean 변수\n",
        "survived_m = data_train[(data_train.Survived == 1) & (data_train['Sex']=='male')]\n",
        "survived_f = data_train[(data_train.Survived == 1) & (data_train.Sex=='female')]\n",
        "\n",
        "plt.hist([data_train['Pclass'], survived_m['Pclass'], survived_f['Pclass']], bins=3) # bin => 구간 개수\n",
        "plt.legend(['Total', 'Survived_m', 'Survived_f'])\n",
        "plt.xlabel('Pclass')\n",
        "plt.ylabel('Number of People')\n",
        "plt.xticks([1,2,3]) # x축의 눈금을 지정 -> 1,2,3등석"
      ],
      "metadata": {
        "colab": {
          "base_uri": "https://localhost:8080/",
          "height": 523
        },
        "id": "gDyCsbNC1pq6",
        "outputId": "66699343-e554-49b9-c65e-5ce573c5a70a"
      },
      "execution_count": null,
      "outputs": [
        {
          "output_type": "execute_result",
          "data": {
            "text/plain": [
              "([<matplotlib.axis.XTick at 0x7f9918c967f0>,\n",
              "  <matplotlib.axis.XTick at 0x7f9918c967c0>,\n",
              "  <matplotlib.axis.XTick at 0x7f9918caa2b0>],\n",
              " [Text(1, 0, '1'), Text(2, 0, '2'), Text(3, 0, '3')])"
            ]
          },
          "metadata": {},
          "execution_count": 49
        },
        {
          "output_type": "display_data",
          "data": {
            "text/plain": [
              "<Figure size 640x480 with 1 Axes>"
            ],
            "image/png": "[encoded data removed]"
          },
          "metadata": {}
        }
      ]
    },
    {
      "cell_type": "code",
      "source": [
        "data_train[(data_train.Sex == 'female') | (data_train.Pclass == 1)]"
      ],
      "metadata": {
        "colab": {
          "base_uri": "https://localhost:8080/",
          "height": 554
        },
        "id": "Ne7ifQJf7Kon",
        "outputId": "7421ba74-a763-479d-b815-7e0d0fd41553"
      },
      "execution_count": null,
      "outputs": [
        {
          "output_type": "execute_result",
          "data": {
            "text/plain": [
              "     PassengerId  Survived  Pclass  \\\n",
              "1              2         1       1   \n",
              "2              3         1       3   \n",
              "3              4         1       1   \n",
              "6              7         0       1   \n",
              "8              9         1       3   \n",
              "..           ...       ...     ...   \n",
              "882          883         0       3   \n",
              "885          886         0       3   \n",
              "887          888         1       1   \n",
              "888          889         0       3   \n",
              "889          890         1       1   \n",
              "\n",
              "                                                  Name     Sex   Age  SibSp  \\\n",
              "1    Cumings, Mrs. John Bradley (Florence Briggs Th...  female  38.0      1   \n",
              "2                               Heikkinen, Miss. Laina  female  26.0      0   \n",
              "3         Futrelle, Mrs. Jacques Heath (Lily May Peel)  female  35.0      1   \n",
              "6                              McCarthy, Mr. Timothy J    male  54.0      0   \n",
              "8    Johnson, Mrs. Oscar W (Elisabeth Vilhelmina Berg)  female  27.0      0   \n",
              "..                                                 ...     ...   ...    ...   \n",
              "882                       Dahlberg, Miss. Gerda Ulrika  female  22.0      0   \n",
              "885               Rice, Mrs. William (Margaret Norton)  female  39.0      0   \n",
              "887                       Graham, Miss. Margaret Edith  female  19.0      0   \n",
              "888           Johnston, Miss. Catherine Helen \"Carrie\"  female   NaN      1   \n",
              "889                              Behr, Mr. Karl Howell    male  26.0      0   \n",
              "\n",
              "     Parch            Ticket     Fare Cabin Embarked  \n",
              "1        0          PC 17599  71.2833   C85        C  \n",
              "2        0  STON/O2. 3101282   7.9250   NaN        S  \n",
              "3        0            113803  53.1000  C123        S  \n",
              "6        0             17463  51.8625   E46        S  \n",
              "8        2            347742  11.1333   NaN        S  \n",
              "..     ...               ...      ...   ...      ...  \n",
              "882      0              7552  10.5167   NaN        S  \n",
              "885      5            382652  29.1250   NaN        Q  \n",
              "887      0            112053  30.0000   B42        S  \n",
              "888      2        W./C. 6607  23.4500   NaN        S  \n",
              "889      0            111369  30.0000  C148        C  \n",
              "\n",
              "[436 rows x 12 columns]"
            ],
            "text/html": [
              "\n",
              "  <div id=\"df-0cf1e4dc-48ff-4d18-bbb3-1456911efa21\">\n",
              "    <div class=\"colab-df-container\">\n",
              "      <div>\n",
              "<style scoped>\n",
              "    .dataframe tbody tr th:only-of-type {\n",
              "        vertical-align: middle;\n",
              "    }\n",
              "\n",
              "    .dataframe tbody tr th {\n",
              "        vertical-align: top;\n",
              "    }\n",
              "\n",
              "    .dataframe thead th {\n",
              "        text-align: right;\n",
              "    }\n",
              "</style>\n",
              "<table border=\"1\" class=\"dataframe\">\n",
              "  <thead>\n",
              "    <tr style=\"text-align: right;\">\n",
              "      <th></th>\n",
              "      <th>PassengerId</th>\n",
              "      <th>Survived</th>\n",
              "      <th>Pclass</th>\n",
              "      <th>Name</th>\n",
              "      <th>Sex</th>\n",
              "      <th>Age</th>\n",
              "      <th>SibSp</th>\n",
              "      <th>Parch</th>\n",
              "      <th>Ticket</th>\n",
              "      <th>Fare</th>\n",
              "      <th>Cabin</th>\n",
              "      <th>Embarked</th>\n",
              "    </tr>\n",
              "  </thead>\n",
              "  <tbody>\n",
              "    <tr>\n",
              "      <th>1</th>\n",
              "      <td>2</td>\n",
              "      <td>1</td>\n",
              "      <td>1</td>\n",
              "      <td>Cumings, Mrs. John Bradley (Florence Briggs Th...</td>\n",
              "      <td>female</td>\n",
              "      <td>38.0</td>\n",
              "      <td>1</td>\n",
              "      <td>0</td>\n",
              "      <td>PC 17599</td>\n",
              "      <td>71.2833</td>\n",
              "      <td>C85</td>\n",
              "      <td>C</td>\n",
              "    </tr>\n",
              "    <tr>\n",
              "      <th>2</th>\n",
              "      <td>3</td>\n",
              "      <td>1</td>\n",
              "      <td>3</td>\n",
              "      <td>Heikkinen, Miss. Laina</td>\n",
              "      <td>female</td>\n",
              "      <td>26.0</td>\n",
              "      <td>0</td>\n",
              "      <td>0</td>\n",
              "      <td>STON/O2. 3101282</td>\n",
              "      <td>7.9250</td>\n",
              "      <td>NaN</td>\n",
              "      <td>S</td>\n",
              "    </tr>\n",
              "    <tr>\n",
              "      <th>3</th>\n",
              "      <td>4</td>\n",
              "      <td>1</td>\n",
              "      <td>1</td>\n",
              "      <td>Futrelle, Mrs. Jacques Heath (Lily May Peel)</td>\n",
              "      <td>female</td>\n",
              "      <td>35.0</td>\n",
              "      <td>1</td>\n",
              "      <td>0</td>\n",
              "      <td>113803</td>\n",
              "      <td>53.1000</td>\n",
              "      <td>C123</td>\n",
              "      <td>S</td>\n",
              "    </tr>\n",
              "    <tr>\n",
              "      <th>6</th>\n",
              "      <td>7</td>\n",
              "      <td>0</td>\n",
              "      <td>1</td>\n",
              "      <td>McCarthy, Mr. Timothy J</td>\n",
              "      <td>male</td>\n",
              "      <td>54.0</td>\n",
              "      <td>0</td>\n",
              "      <td>0</td>\n",
              "      <td>17463</td>\n",
              "      <td>51.8625</td>\n",
              "      <td>E46</td>\n",
              "      <td>S</td>\n",
              "    </tr>\n",
              "    <tr>\n",
              "      <th>8</th>\n",
              "      <td>9</td>\n",
              "      <td>1</td>\n",
              "      <td>3</td>\n",
              "      <td>Johnson, Mrs. Oscar W (Elisabeth Vilhelmina Berg)</td>\n",
              "      <td>female</td>\n",
              "      <td>27.0</td>\n",
              "      <td>0</td>\n",
              "      <td>2</td>\n",
              "      <td>347742</td>\n",
              "      <td>11.1333</td>\n",
              "      <td>NaN</td>\n",
              "      <td>S</td>\n",
              "    </tr>\n",
              "    <tr>\n",
              "      <th>...</th>\n",
              "      <td>...</td>\n",
              "      <td>...</td>\n",
              "      <td>...</td>\n",
              "      <td>...</td>\n",
              "      <td>...</td>\n",
              "      <td>...</td>\n",
              "      <td>...</td>\n",
              "      <td>...</td>\n",
              "      <td>...</td>\n",
              "      <td>...</td>\n",
              "      <td>...</td>\n",
              "      <td>...</td>\n",
              "    </tr>\n",
              "    <tr>\n",
              "      <th>882</th>\n",
              "      <td>883</td>\n",
              "      <td>0</td>\n",
              "      <td>3</td>\n",
              "      <td>Dahlberg, Miss. Gerda Ulrika</td>\n",
              "      <td>female</td>\n",
              "      <td>22.0</td>\n",
              "      <td>0</td>\n",
              "      <td>0</td>\n",
              "      <td>7552</td>\n",
              "      <td>10.5167</td>\n",
              "      <td>NaN</td>\n",
              "      <td>S</td>\n",
              "    </tr>\n",
              "    <tr>\n",
              "      <th>885</th>\n",
              "      <td>886</td>\n",
              "      <td>0</td>\n",
              "      <td>3</td>\n",
              "      <td>Rice, Mrs. William (Margaret Norton)</td>\n",
              "      <td>female</td>\n",
              "      <td>39.0</td>\n",
              "      <td>0</td>\n",
              "      <td>5</td>\n",
              "      <td>382652</td>\n",
              "      <td>29.1250</td>\n",
              "      <td>NaN</td>\n",
              "      <td>Q</td>\n",
              "    </tr>\n",
              "    <tr>\n",
              "      <th>887</th>\n",
              "      <td>888</td>\n",
              "      <td>1</td>\n",
              "      <td>1</td>\n",
              "      <td>Graham, Miss. Margaret Edith</td>\n",
              "      <td>female</td>\n",
              "      <td>19.0</td>\n",
              "      <td>0</td>\n",
              "      <td>0</td>\n",
              "      <td>112053</td>\n",
              "      <td>30.0000</td>\n",
              "      <td>B42</td>\n",
              "      <td>S</td>\n",
              "    </tr>\n",
              "    <tr>\n",
              "      <th>888</th>\n",
              "      <td>889</td>\n",
              "      <td>0</td>\n",
              "      <td>3</td>\n",
              "      <td>Johnston, Miss. Catherine Helen \"Carrie\"</td>\n",
              "      <td>female</td>\n",
              "      <td>NaN</td>\n",
              "      <td>1</td>\n",
              "      <td>2</td>\n",
              "      <td>W./C. 6607</td>\n",
              "      <td>23.4500</td>\n",
              "      <td>NaN</td>\n",
              "      <td>S</td>\n",
              "    </tr>\n",
              "    <tr>\n",
              "      <th>889</th>\n",
              "      <td>890</td>\n",
              "      <td>1</td>\n",
              "      <td>1</td>\n",
              "      <td>Behr, Mr. Karl Howell</td>\n",
              "      <td>male</td>\n",
              "      <td>26.0</td>\n",
              "      <td>0</td>\n",
              "      <td>0</td>\n",
              "      <td>111369</td>\n",
              "      <td>30.0000</td>\n",
              "      <td>C148</td>\n",
              "      <td>C</td>\n",
              "    </tr>\n",
              "  </tbody>\n",
              "</table>\n",
              "<p>436 rows × 12 columns</p>\n",
              "</div>\n",
              "      <button class=\"colab-df-convert\" onclick=\"convertToInteractive('df-0cf1e4dc-48ff-4d18-bbb3-1456911efa21')\"\n",
              "              title=\"Convert this dataframe to an interactive table.\"\n",
              "              style=\"display:none;\">\n",
              "        \n",
              "  <svg xmlns=\"http://www.w3.org/2000/svg\" height=\"24px\"viewBox=\"0 0 24 24\"\n",
              "       width=\"24px\">\n",
              "    <path d=\"M0 0h24v24H0V0z\" fill=\"none\"/>\n",
              "    <path d=\"M18.56 5.44l.94 2.06.94-2.06 2.06-.94-2.06-.94-.94-2.06-.94 2.06-2.06.94zm-11 1L8.5 8.5l.94-2.06 2.06-.94-2.06-.94L8.5 2.5l-.94 2.06-2.06.94zm10 10l.94 2.06.94-2.06 2.06-.94-2.06-.94-.94-2.06-.94 2.06-2.06.94z\"/><path d=\"M17.41 7.96l-1.37-1.37c-.4-.4-.92-.59-1.43-.59-.52 0-1.04.2-1.43.59L10.3 9.45l-7.72 7.72c-.78.78-.78 2.05 0 2.83L4 21.41c.39.39.9.59 1.41.59.51 0 1.02-.2 1.41-.59l7.78-7.78 2.81-2.81c.8-.78.8-2.07 0-2.86zM5.41 20L4 18.59l7.72-7.72 1.47 1.35L5.41 20z\"/>\n",
              "  </svg>\n",
              "      </button>\n",
              "      \n",
              "  <style>\n",
              "    .colab-df-container {\n",
              "      display:flex;\n",
              "      flex-wrap:wrap;\n",
              "      gap: 12px;\n",
              "    }\n",
              "\n",
              "    .colab-df-convert {\n",
              "      background-color: #E8F0FE;\n",
              "      border: none;\n",
              "      border-radius: 50%;\n",
              "      cursor: pointer;\n",
              "      display: none;\n",
              "      fill: #1967D2;\n",
              "      height: 32px;\n",
              "      padding: 0 0 0 0;\n",
              "      width: 32px;\n",
              "    }\n",
              "\n",
              "    .colab-df-convert:hover {\n",
              "      background-color: #E2EBFA;\n",
              "      box-shadow: 0px 1px 2px rgba(60, 64, 67, 0.3), 0px 1px 3px 1px rgba(60, 64, 67, 0.15);\n",
              "      fill: #174EA6;\n",
              "    }\n",
              "\n",
              "    [theme=dark] .colab-df-convert {\n",
              "      background-color: #3B4455;\n",
              "      fill: #D2E3FC;\n",
              "    }\n",
              "\n",
              "    [theme=dark] .colab-df-convert:hover {\n",
              "      background-color: #434B5C;\n",
              "      box-shadow: 0px 1px 3px 1px rgba(0, 0, 0, 0.15);\n",
              "      filter: drop-shadow(0px 1px 2px rgba(0, 0, 0, 0.3));\n",
              "      fill: #FFFFFF;\n",
              "    }\n",
              "  </style>\n",
              "\n",
              "      <script>\n",
              "        const buttonEl =\n",
              "          document.querySelector('#df-0cf1e4dc-48ff-4d18-bbb3-1456911efa21 button.colab-df-convert');\n",
              "        buttonEl.style.display =\n",
              "          google.colab.kernel.accessAllowed ? 'block' : 'none';\n",
              "\n",
              "        async function convertToInteractive(key) {\n",
              "          const element = document.querySelector('#df-0cf1e4dc-48ff-4d18-bbb3-1456911efa21');\n",
              "          const dataTable =\n",
              "            await google.colab.kernel.invokeFunction('convertToInteractive',\n",
              "                                                     [key], {});\n",
              "          if (!dataTable) return;\n",
              "\n",
              "          const docLinkHtml = 'Like what you see? Visit the ' +\n",
              "            '<a target=\"_blank\" href=https://colab.research.google.com/notebooks/data_table.ipynb>data table notebook</a>'\n",
              "            + ' to learn more about interactive tables.';\n",
              "          element.innerHTML = '';\n",
              "          dataTable['output_type'] = 'display_data';\n",
              "          await google.colab.output.renderOutput(dataTable, element);\n",
              "          const docLink = document.createElement('div');\n",
              "          docLink.innerHTML = docLinkHtml;\n",
              "          element.appendChild(docLink);\n",
              "        }\n",
              "      </script>\n",
              "    </div>\n",
              "  </div>\n",
              "  "
            ]
          },
          "metadata": {},
          "execution_count": 58
        }
      ]
    },
    {
      "cell_type": "markdown",
      "source": [
        "# 분석 결과를 바탕으로 하는 정답 예측 & 제출\n"
      ],
      "metadata": {
        "id": "UTBl4jGV9BRt"
      }
    },
    {
      "cell_type": "code",
      "source": [
        "# 테스트 데이터 읽기\n",
        "data_test = pd.read_csv('test.csv')"
      ],
      "metadata": {
        "id": "yeW0s3Tl_EDp"
      },
      "execution_count": null,
      "outputs": []
    },
    {
      "cell_type": "code",
      "source": [
        "# test 데이터의 길이 X 2 크기의 numpy 배열 생성\n",
        "import numpy as np\n",
        "answer = np.zeros( (len(data_test), 2) )  # 행 = 418, 열 = 2 (PassengerId, Survived)\n",
        "# 0으로 초기화된 2차원 배열 생성\\\n",
        "# -> answer는 이미 0으로 모두 초기화하였으므로,\n",
        "#    1(생존)으로 바꾸는 경우만 지정하면 됨!\n",
        "answer[:,0] = data_test['PassengerId']    # 첫 번째 열 지정"
      ],
      "metadata": {
        "id": "HmTrZTmv_Jnj"
      },
      "execution_count": null,
      "outputs": []
    },
    {
      "cell_type": "code",
      "source": [
        "# 정답 예측\n",
        "# 1등석 승객의 답은 생존(1)로 설정\n",
        "answer[(data_test['Pclass']==1),1] = 1\n",
        "\n",
        "# 2등석 승객이면서 여성인 경우 생존(1)\n",
        "answer[(data_test.Pclass==2) & (data_test.Sex=='female'), 1] = 1\n",
        "# answer[(data_test.Pclass==2) and (data_test.Sex=='female'), 1] = 1\n",
        "# ValueError: The truth value of a Series is ambiguous. Use a.empty, a.bool(), a.item(), a.any() or a.all()."
      ],
      "metadata": {
        "id": "fTlDIUPv_rGu"
      },
      "execution_count": null,
      "outputs": []
    },
    {
      "cell_type": "code",
      "source": [
        "type(answer)\n",
        "# numpy 배열에서 csv 파일로 바로 저장할 수 X"
      ],
      "metadata": {
        "id": "-umefeCqCMqY"
      },
      "execution_count": null,
      "outputs": []
    },
    {
      "cell_type": "code",
      "source": [
        "# 제출\n",
        "df_answer = pd.DataFrame(answer)  # csv로의 저장을 위해 pandas 라이브러리의 DataFrame 형식으로 변환하여 저장\n",
        "df_answer.columns = ['PassengerId', 'Survived'] # 각 열의 제목 지정\n",
        "df_answer = df_answer.astype('int32') # 4Byte\n",
        "df_answer.to_csv('./test_predict0419.csv', index=False)"
      ],
      "metadata": {
        "id": "ka0Ivd5xAvaH"
      },
      "execution_count": null,
      "outputs": []
    },
    {
      "cell_type": "code",
      "source": [
        "!pwd"
      ],
      "metadata": {
        "colab": {
          "base_uri": "https://localhost:8080/"
        },
        "id": "gvMahRKXBYFY",
        "outputId": "4519f26f-64c1-4600-e93c-9bb06da10c0e"
      },
      "execution_count": null,
      "outputs": [
        {
          "output_type": "stream",
          "name": "stdout",
          "text": [
            "/content/gdrive/MyDrive/Colab Notebooks/titanic_data\n"
          ]
        }
      ]
    },
    {
      "cell_type": "code",
      "source": [
        "!kaggle competitions submit -c titanic -f './titanic_data/test_pridict0419.csv' -m \"mid_term\""
      ],
      "metadata": {
        "id": "TKeWsGOWBdaG"
      },
      "execution_count": null,
      "outputs": []
    },
    {
      "cell_type": "markdown",
      "source": [
        "# 04_1 연습문제 (p.23)"
      ],
      "metadata": {
        "id": "v5bo5rSC88gZ"
      }
    },
    {
      "cell_type": "code",
      "source": [
        "# 연습문제\n",
        "# 1. or 사용해서 여성, 1등석 중 하나 이상의 조건을 만족하는 승객의 데이터를 모아서 히스토그램을 그려라.\n",
        "data_all = data_train[(data_train.Sex == 'female') | (data_train.Pclass == 1)]"
      ],
      "metadata": {
        "id": "52A4vAlx5QtA"
      },
      "execution_count": null,
      "outputs": []
    },
    {
      "cell_type": "code",
      "source": [
        "# 2. 함께 탑승한 가족의 수, 나이와 생존여부의 관계를 분석해 보라"
      ],
      "metadata": {
        "id": "3PXrq-0k851q"
      },
      "execution_count": null,
      "outputs": []
    },
    {
      "cell_type": "markdown",
      "source": [
        "# 05. 딥러닝의 개념"
      ],
      "metadata": {
        "id": "E6f4ZsHrCbGo"
      }
    },
    {
      "cell_type": "code",
      "source": [
        "# 범주형(Category) 데이터의 수치화 -> 숫자로 변환\n",
        "sex = ['male', 'male', 'female', 'male', 'female', 'female']\n",
        "\n",
        "import numpy as np\n",
        "sex_conv = np.zeros(6)\n",
        "cnt = 0\n",
        "for s in sex:\n",
        "  if (s == 'female'):\n",
        "    sex_conv[cnt] = 1\n",
        "  cnt += 1"
      ],
      "metadata": {
        "id": "HfVOKbQTChga"
      },
      "execution_count": null,
      "outputs": []
    },
    {
      "cell_type": "code",
      "source": [
        "sex_conv"
      ],
      "metadata": {
        "colab": {
          "base_uri": "https://localhost:8080/"
        },
        "id": "0wVZcOnXeCY2",
        "outputId": "6b1011cc-5880-4be1-a784-ab9e2e6ec503"
      },
      "execution_count": null,
      "outputs": [
        {
          "output_type": "execute_result",
          "data": {
            "text/plain": [
              "array([0., 0., 1., 0., 1., 1.])"
            ]
          },
          "metadata": {},
          "execution_count": 9
        }
      ]
    },
    {
      "cell_type": "code",
      "source": [
        "# 범주가 3개 이상인 경우 -> 원-핫 인코딩\n",
        "from tensorflow.keras.utils import to_categorical\n",
        "sex_cate = to_categorical(sex_conv)"
      ],
      "metadata": {
        "id": "rN6fH1DGeFAn"
      },
      "execution_count": null,
      "outputs": []
    },
    {
      "cell_type": "code",
      "source": [
        "sex_cate"
      ],
      "metadata": {
        "colab": {
          "base_uri": "https://localhost:8080/"
        },
        "id": "8VSTtwesebKz",
        "outputId": "3720f716-93d7-4921-fc6c-eb10dbafdce0"
      },
      "execution_count": null,
      "outputs": [
        {
          "output_type": "execute_result",
          "data": {
            "text/plain": [
              "array([[1., 0.],\n",
              "       [1., 0.],\n",
              "       [0., 1.],\n",
              "       [1., 0.],\n",
              "       [0., 1.],\n",
              "       [0., 1.]], dtype=float32)"
            ]
          },
          "metadata": {},
          "execution_count": 6
        }
      ]
    },
    {
      "cell_type": "code",
      "source": [
        "# 수치로 된 범주형 데이터의 원-핫 인코딩\n",
        "# to_categorical() 사용 시, 수치 값은 0부터 시작해야 함!\n",
        "pclass_orig = np.array([3,1,2,1,2,3])\n",
        "pclass_cate = to_categorical(pclass_orig -1)"
      ],
      "metadata": {
        "id": "rBp7vfoWey5s"
      },
      "execution_count": null,
      "outputs": []
    },
    {
      "cell_type": "code",
      "source": [
        "pclass_cate"
      ],
      "metadata": {
        "colab": {
          "base_uri": "https://localhost:8080/"
        },
        "id": "d7oMNm8KfGea",
        "outputId": "25643485-a3d1-4d4e-c56d-d14c2d31b230"
      },
      "execution_count": null,
      "outputs": [
        {
          "output_type": "execute_result",
          "data": {
            "text/plain": [
              "array([[0., 0., 1.],\n",
              "       [1., 0., 0.],\n",
              "       [0., 1., 0.],\n",
              "       [1., 0., 0.],\n",
              "       [0., 1., 0.],\n",
              "       [0., 0., 1.]], dtype=float32)"
            ]
          },
          "metadata": {},
          "execution_count": 8
        }
      ]
    },
    {
      "cell_type": "code",
      "source": [
        "# 수치형 데이터의 정규화 -> 원 데이터의 최솟/최댓값 사용\n",
        "# (원데이터 - 최솟값)/(최댓값 - 최솟값)\n",
        "age_orig = np.array([3,28,21,67,80,53])\n",
        "age_conv = (age_orig - age_orig.min()) / (age_orig.max() - age_orig.min())"
      ],
      "metadata": {
        "id": "7Lo7LBj_fHRQ"
      },
      "execution_count": null,
      "outputs": []
    }
  ]
}