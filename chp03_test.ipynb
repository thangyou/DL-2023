{
  "nbformat": 4,
  "nbformat_minor": 0,
  "metadata": {
    "colab": {
      "provenance": [],
      "collapsed_sections": [
        "i111e_Jeurmy",
        "OUx0rVqH0dlB"
      ],
      "authorship_tag": "ABX9TyNno9bJDsb5C3EgcmNiE2UN"
    },
    "kernelspec": {
      "name": "python3",
      "display_name": "Python 3"
    },
    "language_info": {
      "name": "python"
    }
  },
  "cells": [
    {
      "cell_type": "markdown",
      "source": [
        "# 3.2 (p.100)"
      ],
      "metadata": {
        "id": "i111e_Jeurmy"
      }
    },
    {
      "cell_type": "code",
      "source": [
        "# 연습문제 3\n",
        "pi = 3.141592\n",
        "r = 6371\n",
        "2 * pi * r"
      ],
      "metadata": {
        "colab": {
          "base_uri": "https://localhost:8080/"
        },
        "id": "tXrhh0gBHh0_",
        "outputId": "fceed4df-6d2d-47db-eb4d-7b3a9d34b544"
      },
      "execution_count": null,
      "outputs": [
        {
          "output_type": "execute_result",
          "data": {
            "text/plain": [
              "40030.165264"
            ]
          },
          "metadata": {},
          "execution_count": 3
        }
      ]
    },
    {
      "cell_type": "code",
      "source": [
        "# 연습문제 4\n",
        "km = 390.5\n",
        "h = 4.5\n",
        "km / h"
      ],
      "metadata": {
        "colab": {
          "base_uri": "https://localhost:8080/"
        },
        "id": "lXqRgb7XurVi",
        "outputId": "ec8943c0-00c8-471f-93b1-e463f9fcb224"
      },
      "execution_count": null,
      "outputs": [
        {
          "output_type": "execute_result",
          "data": {
            "text/plain": [
              "86.77777777777777"
            ]
          },
          "metadata": {},
          "execution_count": 20
        }
      ]
    },
    {
      "cell_type": "markdown",
      "source": [
        "# 3.3 계산식, 라이브러리와 함수 (p.107)"
      ],
      "metadata": {
        "id": "lht7GYFeyUpH"
      }
    },
    {
      "cell_type": "code",
      "source": [
        "# 연습문제 1\n",
        "import numpy as np"
      ],
      "metadata": {
        "id": "gdZ-19wYt958"
      },
      "execution_count": null,
      "outputs": []
    },
    {
      "cell_type": "code",
      "source": [
        "np.sin(np.pi/4)"
      ],
      "metadata": {
        "colab": {
          "base_uri": "https://localhost:8080/"
        },
        "id": "k5fmATZ6yvIf",
        "outputId": "9db2d97a-96dd-4566-ce29-289efba928f5"
      },
      "execution_count": null,
      "outputs": [
        {
          "output_type": "execute_result",
          "data": {
            "text/plain": [
              "0.7071067811865475"
            ]
          },
          "metadata": {},
          "execution_count": 23
        }
      ]
    },
    {
      "cell_type": "code",
      "source": [
        "np.arcsin(0.5)"
      ],
      "metadata": {
        "colab": {
          "base_uri": "https://localhost:8080/"
        },
        "id": "el-VqPDSyqGp",
        "outputId": "c817326e-cd50-44ef-bd91-339249fa338f"
      },
      "execution_count": null,
      "outputs": [
        {
          "output_type": "execute_result",
          "data": {
            "text/plain": [
              "0.5235987755982989"
            ]
          },
          "metadata": {},
          "execution_count": 24
        }
      ]
    },
    {
      "cell_type": "code",
      "source": [
        "np.tan(np.pi/4)"
      ],
      "metadata": {
        "colab": {
          "base_uri": "https://localhost:8080/"
        },
        "id": "DFoPOkvDyrwi",
        "outputId": "6b9338e3-9068-4b95-cde0-e0477d2845d8"
      },
      "execution_count": null,
      "outputs": [
        {
          "output_type": "execute_result",
          "data": {
            "text/plain": [
              "0.9999999999999999"
            ]
          },
          "metadata": {},
          "execution_count": 25
        }
      ]
    },
    {
      "cell_type": "code",
      "source": [
        "np.arctan(0.7)"
      ],
      "metadata": {
        "colab": {
          "base_uri": "https://localhost:8080/"
        },
        "id": "adwzSfOwysg-",
        "outputId": "cd90cc12-c52e-4e3a-d272-829f4e958cc8"
      },
      "execution_count": null,
      "outputs": [
        {
          "output_type": "execute_result",
          "data": {
            "text/plain": [
              "0.6107259643892086"
            ]
          },
          "metadata": {},
          "execution_count": 26
        }
      ]
    },
    {
      "cell_type": "code",
      "source": [
        "# 연습문제 2\n",
        "np.sin(np.pi)"
      ],
      "metadata": {
        "id": "vWkYC1mTMTgV",
        "colab": {
          "base_uri": "https://localhost:8080/"
        },
        "outputId": "7db4c9b7-ab33-4105-9f10-4eb75774e77b"
      },
      "execution_count": null,
      "outputs": [
        {
          "output_type": "execute_result",
          "data": {
            "text/plain": [
              "1.2246467991473532e-16"
            ]
          },
          "metadata": {},
          "execution_count": 16
        }
      ]
    },
    {
      "cell_type": "code",
      "source": [
        "np.arcsin(0.5)"
      ],
      "metadata": {
        "colab": {
          "base_uri": "https://localhost:8080/"
        },
        "id": "-X9OM-6PUAtB",
        "outputId": "ab8972a9-128d-4fc2-8b28-c3ceb482e376"
      },
      "execution_count": null,
      "outputs": [
        {
          "output_type": "execute_result",
          "data": {
            "text/plain": [
              "0.5235987755982989"
            ]
          },
          "metadata": {},
          "execution_count": 17
        }
      ]
    },
    {
      "cell_type": "code",
      "source": [
        "np.exp(4)"
      ],
      "metadata": {
        "colab": {
          "base_uri": "https://localhost:8080/"
        },
        "id": "MfLvOLhjUA_P",
        "outputId": "e4e8faac-74e1-4b20-bb44-1833a6351d2f"
      },
      "execution_count": null,
      "outputs": [
        {
          "output_type": "execute_result",
          "data": {
            "text/plain": [
              "54.598150033144236"
            ]
          },
          "metadata": {},
          "execution_count": 18
        }
      ]
    },
    {
      "cell_type": "code",
      "source": [
        "np.power(3,2)"
      ],
      "metadata": {
        "colab": {
          "base_uri": "https://localhost:8080/"
        },
        "id": "SDX7uphrT1Ws",
        "outputId": "abecafe3-2852-4f5e-9a4c-16e060333e82"
      },
      "execution_count": null,
      "outputs": [
        {
          "output_type": "execute_result",
          "data": {
            "text/plain": [
              "9"
            ]
          },
          "metadata": {},
          "execution_count": 13
        }
      ]
    },
    {
      "cell_type": "code",
      "source": [
        "np.exp(4)"
      ],
      "metadata": {
        "colab": {
          "base_uri": "https://localhost:8080/"
        },
        "id": "jJ8uLdjmyaMK",
        "outputId": "b52b51f5-edab-4306-9ea9-ecf3dd6b74cf"
      },
      "execution_count": null,
      "outputs": [
        {
          "output_type": "execute_result",
          "data": {
            "text/plain": [
              "54.598150033144236"
            ]
          },
          "metadata": {},
          "execution_count": 28
        }
      ]
    },
    {
      "cell_type": "code",
      "source": [
        "np.log(2.7)"
      ],
      "metadata": {
        "colab": {
          "base_uri": "https://localhost:8080/"
        },
        "id": "r8JN8aKry0LF",
        "outputId": "80a05e96-b0f4-4684-d961-10f42896016a"
      },
      "execution_count": null,
      "outputs": [
        {
          "output_type": "execute_result",
          "data": {
            "text/plain": [
              "0.9932517730102834"
            ]
          },
          "metadata": {},
          "execution_count": 29
        }
      ]
    },
    {
      "cell_type": "code",
      "source": [
        "np.log10(10)"
      ],
      "metadata": {
        "colab": {
          "base_uri": "https://localhost:8080/"
        },
        "id": "soBZ3DKeUIhc",
        "outputId": "8cb473c2-813c-4200-cfc9-11a0cb00dd0d"
      },
      "execution_count": null,
      "outputs": [
        {
          "output_type": "execute_result",
          "data": {
            "text/plain": [
              "1.0"
            ]
          },
          "metadata": {},
          "execution_count": 19
        }
      ]
    },
    {
      "cell_type": "code",
      "source": [
        "np.sqrt(20)"
      ],
      "metadata": {
        "colab": {
          "base_uri": "https://localhost:8080/"
        },
        "id": "7rICKK6GUKrJ",
        "outputId": "b343ec1d-cd5a-44d1-afc0-d8f86e9b0580"
      },
      "execution_count": null,
      "outputs": [
        {
          "output_type": "execute_result",
          "data": {
            "text/plain": [
              "4.47213595499958"
            ]
          },
          "metadata": {},
          "execution_count": 20
        }
      ]
    },
    {
      "cell_type": "code",
      "source": [
        "np.abs(-3.458)"
      ],
      "metadata": {
        "colab": {
          "base_uri": "https://localhost:8080/"
        },
        "id": "-bq1if_PUMaO",
        "outputId": "7c83de1e-2e16-4145-80f7-16c04e0f909e"
      },
      "execution_count": null,
      "outputs": [
        {
          "output_type": "execute_result",
          "data": {
            "text/plain": [
              "3.458"
            ]
          },
          "metadata": {},
          "execution_count": 21
        }
      ]
    },
    {
      "cell_type": "code",
      "source": [
        "# 연습문제 3\n",
        "print(256 / 38)\n",
        "print(486 % 35)\n",
        "print(129 * 356)\n",
        "print((386 + 28) * 25)\n",
        "print(2867 % 2)"
      ],
      "metadata": {
        "colab": {
          "base_uri": "https://localhost:8080/"
        },
        "id": "iEDbi6Kly6Ry",
        "outputId": "884e593d-c9f2-4054-af2b-75fd611fa963"
      },
      "execution_count": null,
      "outputs": [
        {
          "output_type": "stream",
          "name": "stdout",
          "text": [
            "6.7368421052631575\n",
            "31\n",
            "45924\n",
            "10350\n",
            "1\n"
          ]
        }
      ]
    },
    {
      "cell_type": "code",
      "source": [
        "# 연습문제 4\n",
        "np.sin(np.pi/3)+np.cos(np.pi/3)"
      ],
      "metadata": {
        "colab": {
          "base_uri": "https://localhost:8080/"
        },
        "id": "wjtnYJKbzGe2",
        "outputId": "f7521e23-2aec-4919-a132-cdb815ec6dec"
      },
      "execution_count": null,
      "outputs": [
        {
          "output_type": "execute_result",
          "data": {
            "text/plain": [
              "1.3660254037844388"
            ]
          },
          "metadata": {},
          "execution_count": 31
        }
      ]
    },
    {
      "cell_type": "code",
      "source": [
        "np.arcsin(-0.3) + np.arccos(1)"
      ],
      "metadata": {
        "colab": {
          "base_uri": "https://localhost:8080/"
        },
        "id": "bONjiH3lzPD6",
        "outputId": "f9a53c0b-f00f-40a9-a79b-fac6a4fb70b3"
      },
      "execution_count": null,
      "outputs": [
        {
          "output_type": "execute_result",
          "data": {
            "text/plain": [
              "-0.3046926540153975"
            ]
          },
          "metadata": {},
          "execution_count": 33
        }
      ]
    },
    {
      "cell_type": "code",
      "source": [
        "np.log(7)/np.log(3)"
      ],
      "metadata": {
        "colab": {
          "base_uri": "https://localhost:8080/"
        },
        "id": "fZFH5T2qz48s",
        "outputId": "e5244de5-b03a-41fb-969f-a4efadedde3f"
      },
      "execution_count": null,
      "outputs": [
        {
          "output_type": "execute_result",
          "data": {
            "text/plain": [
              "1.7712437491614221"
            ]
          },
          "metadata": {},
          "execution_count": 34
        }
      ]
    },
    {
      "cell_type": "code",
      "source": [
        "np.sqrt(np.sqrt(15)+np.sqrt(26))"
      ],
      "metadata": {
        "colab": {
          "base_uri": "https://localhost:8080/"
        },
        "id": "qpBB9m_R0SaT",
        "outputId": "785e8f3f-2593-4c66-9df5-ad514de49ff9"
      },
      "execution_count": null,
      "outputs": [
        {
          "output_type": "execute_result",
          "data": {
            "text/plain": [
              "2.995330175423104"
            ]
          },
          "metadata": {},
          "execution_count": 35
        }
      ]
    },
    {
      "cell_type": "markdown",
      "source": [
        "# 3.4 변수 (p.119)"
      ],
      "metadata": {
        "id": "OUx0rVqH0dlB"
      }
    },
    {
      "cell_type": "code",
      "source": [
        "# 연습문제 1\n",
        "total = 0\n",
        "price = 1200 * 36\n",
        "total += price\n",
        "print(total)"
      ],
      "metadata": {
        "colab": {
          "base_uri": "https://localhost:8080/"
        },
        "id": "_fNuMwMh0aiP",
        "outputId": "c205a10f-ba01-414e-da5f-4ec7d593d648"
      },
      "execution_count": null,
      "outputs": [
        {
          "output_type": "stream",
          "name": "stdout",
          "text": [
            "43200\n"
          ]
        }
      ]
    },
    {
      "cell_type": "code",
      "source": [
        "# 연습문제 2\n",
        "size_area = 0\n",
        "r = 4.5312\n",
        "size_area = np.pi * (r * r)\n",
        "print(size_area)"
      ],
      "metadata": {
        "colab": {
          "base_uri": "https://localhost:8080/"
        },
        "id": "8RB-eWpT04oo",
        "outputId": "9051edf7-49b8-411f-8c9e-04055c128356"
      },
      "execution_count": null,
      "outputs": [
        {
          "output_type": "stream",
          "name": "stdout",
          "text": [
            "64.50246860427404\n"
          ]
        }
      ]
    },
    {
      "cell_type": "code",
      "source": [
        "# 연습문제 3\n",
        "radius = 4.53\n",
        "width = np.pi * (radius**2) * 30 / 360\n",
        "print(width)"
      ],
      "metadata": {
        "colab": {
          "base_uri": "https://localhost:8080/"
        },
        "id": "qXnR3X0u1Vmh",
        "outputId": "73113b59-5c23-4cfc-b53e-d8b1d1fe345b"
      },
      "execution_count": null,
      "outputs": [
        {
          "output_type": "stream",
          "name": "stdout",
          "text": [
            "5.372359057087565\n"
          ]
        }
      ]
    },
    {
      "cell_type": "code",
      "source": [
        "# 연습문제 4\n",
        "cur_year = 2023\n",
        "birth_year = 1997\n",
        "age = cur_year - birth_year + 1\n",
        "print(age)"
      ],
      "metadata": {
        "colab": {
          "base_uri": "https://localhost:8080/"
        },
        "id": "hQtaRiUw2EDj",
        "outputId": "669a3a4a-c600-4316-cd14-526c36ee9c39"
      },
      "execution_count": null,
      "outputs": [
        {
          "output_type": "stream",
          "name": "stdout",
          "text": [
            "27\n"
          ]
        }
      ]
    },
    {
      "cell_type": "code",
      "source": [
        "# 연습문제 5\n",
        "mine = 'iPhone12'\n",
        "capacity = 128\n",
        "weight = 162\n",
        "display = 15.4"
      ],
      "metadata": {
        "id": "1XBTcb702NAx"
      },
      "execution_count": null,
      "outputs": []
    },
    {
      "cell_type": "code",
      "source": [
        "# 연습문제 6\n",
        "100 * (1+0.019) ** 2"
      ],
      "metadata": {
        "colab": {
          "base_uri": "https://localhost:8080/"
        },
        "id": "8PJvbXf53K3w",
        "outputId": "a77c25d8-5263-402c-bbbf-d4f043eee6e4"
      },
      "execution_count": null,
      "outputs": [
        {
          "output_type": "execute_result",
          "data": {
            "text/plain": [
              "103.83609999999999"
            ]
          },
          "metadata": {},
          "execution_count": 8
        }
      ]
    },
    {
      "cell_type": "code",
      "source": [
        "100 * (1 + 0.019) * (1 + 0.019)"
      ],
      "metadata": {
        "colab": {
          "base_uri": "https://localhost:8080/"
        },
        "id": "Zn5ZzVmL3qEN",
        "outputId": "58c72204-d5bd-4c13-d83e-4e197452f81b"
      },
      "execution_count": null,
      "outputs": [
        {
          "output_type": "execute_result",
          "data": {
            "text/plain": [
              "103.83609999999999"
            ]
          },
          "metadata": {},
          "execution_count": 6
        }
      ]
    },
    {
      "cell_type": "code",
      "source": [
        "# 연습문제 7\n",
        "t = 26.5\n",
        "f = t * 1.8 + 32\n",
        "print(f)"
      ],
      "metadata": {
        "colab": {
          "base_uri": "https://localhost:8080/"
        },
        "id": "rXDhqeAf3wtN",
        "outputId": "53e27fd8-809a-444c-dd47-a9b7af59cabb"
      },
      "execution_count": null,
      "outputs": [
        {
          "output_type": "stream",
          "name": "stdout",
          "text": [
            "79.7\n"
          ]
        }
      ]
    },
    {
      "cell_type": "markdown",
      "source": [
        "# 3.5 함수 (p.129)"
      ],
      "metadata": {
        "id": "seEPDEuv4HB2"
      }
    },
    {
      "cell_type": "code",
      "source": [
        "# 연습문제 2\n",
        "v = 0.25"
      ],
      "metadata": {
        "id": "5sik1JoG4zqH"
      },
      "execution_count": null,
      "outputs": []
    },
    {
      "cell_type": "code",
      "source": [
        "import numpy as np"
      ],
      "metadata": {
        "id": "L90PoDrdK45i"
      },
      "execution_count": null,
      "outputs": []
    },
    {
      "cell_type": "code",
      "source": [
        "np.round(np.sin(v*2) + np.cos(v),3)"
      ],
      "metadata": {
        "colab": {
          "base_uri": "https://localhost:8080/"
        },
        "id": "l4LhkxYwK8rs",
        "outputId": "8dafa8f3-4c7c-40f3-910e-961db1717300"
      },
      "execution_count": null,
      "outputs": [
        {
          "output_type": "execute_result",
          "data": {
            "text/plain": [
              "1.448"
            ]
          },
          "metadata": {},
          "execution_count": 43
        }
      ]
    },
    {
      "cell_type": "code",
      "source": [
        "np.round(np.sqrt(np.cos(v/2)-np.sin(v/2)),3)"
      ],
      "metadata": {
        "colab": {
          "base_uri": "https://localhost:8080/"
        },
        "id": "N4TIvnt5LAOR",
        "outputId": "7f1e6419-c8a1-42c9-dd68-0202ceee9f14"
      },
      "execution_count": null,
      "outputs": [
        {
          "output_type": "execute_result",
          "data": {
            "text/plain": [
              "0.931"
            ]
          },
          "metadata": {},
          "execution_count": 44
        }
      ]
    },
    {
      "cell_type": "code",
      "source": [
        "np.round(np.power(np.sin(v*3),4),3)"
      ],
      "metadata": {
        "colab": {
          "base_uri": "https://localhost:8080/"
        },
        "id": "S_HGWAH9LHNW",
        "outputId": "45467995-ac99-45ef-ec3c-8684ed399f49"
      },
      "execution_count": null,
      "outputs": [
        {
          "output_type": "execute_result",
          "data": {
            "text/plain": [
              "0.216"
            ]
          },
          "metadata": {},
          "execution_count": 47
        }
      ]
    },
    {
      "cell_type": "code",
      "source": [
        "np.round(abs(np.sin(v*3)-np.cos(v*6)),3)"
      ],
      "metadata": {
        "colab": {
          "base_uri": "https://localhost:8080/"
        },
        "id": "3JbfKqDaLKRD",
        "outputId": "742b0cfe-2562-4b18-c1cc-997d12c9686e"
      },
      "execution_count": null,
      "outputs": [
        {
          "output_type": "execute_result",
          "data": {
            "text/plain": [
              "0.611"
            ]
          },
          "metadata": {},
          "execution_count": 51
        }
      ]
    },
    {
      "cell_type": "code",
      "source": [
        "# 연습문제 3\n",
        "a,b,c = 2,3,28\n",
        "a * b * np.sin(c) / 2"
      ],
      "metadata": {
        "colab": {
          "base_uri": "https://localhost:8080/"
        },
        "id": "x0kplBzPLdKP",
        "outputId": "f8d8d403-5afd-49c4-ec20-aadd5e0eb4dd"
      },
      "execution_count": null,
      "outputs": [
        {
          "output_type": "execute_result",
          "data": {
            "text/plain": [
              "0.8127173649236071"
            ]
          },
          "metadata": {},
          "execution_count": 15
        }
      ]
    },
    {
      "cell_type": "code",
      "source": [
        "# 연습문제 4\n",
        "'''\n",
        "원뿔의 옆넓이 면적...?\n",
        "원넓이 + 부채꼴의 넓이\n",
        "= (pi * r * r) + (1/2 * h * r)\n",
        "'''"
      ],
      "metadata": {
        "id": "YZYEQVGVLleq"
      },
      "execution_count": null,
      "outputs": []
    },
    {
      "cell_type": "code",
      "source": [
        "# 연습문제 5\n",
        "birth_year = '2002'\n",
        "birth_month = '9'\n",
        "birth_day = '3'\n",
        "\n",
        "cur_year = '2022'\n",
        "cur_month = '4'\n",
        "cur_day = '3'"
      ],
      "metadata": {
        "id": "lKcb-SlXM2QA"
      },
      "execution_count": null,
      "outputs": []
    },
    {
      "cell_type": "code",
      "source": [
        "age = int(cur_year) - int(birth_year) + 1"
      ],
      "metadata": {
        "id": "cs9Q3XH1NQ6L"
      },
      "execution_count": null,
      "outputs": []
    },
    {
      "cell_type": "code",
      "source": [
        "print(age)"
      ],
      "metadata": {
        "colab": {
          "base_uri": "https://localhost:8080/"
        },
        "id": "wlZg-TAnNqP4",
        "outputId": "c6a461ad-9c8c-495f-d943-f695db117a3f"
      },
      "execution_count": null,
      "outputs": [
        {
          "output_type": "stream",
          "name": "stdout",
          "text": [
            "21\n"
          ]
        }
      ]
    },
    {
      "cell_type": "code",
      "source": [
        "# 연습문제 6\n",
        "title = '지구 밖의 온실'\n",
        "author = '김초엽'\n",
        "published_year = 2021\n",
        "price = 17000\n",
        "total_page = 350\n",
        "star_rating = 4.8"
      ],
      "metadata": {
        "id": "zL9IcljqX2rh"
      },
      "execution_count": null,
      "outputs": []
    },
    {
      "cell_type": "code",
      "source": [
        "print(f'책 제목 : {title}, 저자 : {author}, 출판연도 : {published_year}, 가격 : {price}. 페이지 수 : {total_page}, 평점 : {star_rating}')"
      ],
      "metadata": {
        "colab": {
          "base_uri": "https://localhost:8080/"
        },
        "id": "uvhA9M4UYVPE",
        "outputId": "4179095f-bf75-4389-b015-4b471af9974f"
      },
      "execution_count": null,
      "outputs": [
        {
          "output_type": "stream",
          "name": "stdout",
          "text": [
            "책 제목 : 지구 밖의 온실, 저자 : 김초엽, 출판연도 : 2021, 가격 : 17000. 페이지 수 : 350, 평점 : 4.8\n"
          ]
        }
      ]
    },
    {
      "cell_type": "markdown",
      "source": [
        "# 3.6 조건문"
      ],
      "metadata": {
        "id": "Q2zWqPP7YuQJ"
      }
    },
    {
      "cell_type": "code",
      "source": [
        "# 연습문제 1\n",
        "h = 178.3\n",
        "w = 65.5\n",
        "\n",
        "if h >= 150 or w >= 60:\n",
        "  print('possible')\n",
        "else:\n",
        "  print('impossible')"
      ],
      "metadata": {
        "colab": {
          "base_uri": "https://localhost:8080/"
        },
        "id": "sfEuHzCzYv8-",
        "outputId": "2ec458b3-4706-4eff-9a02-2f894c0d7758"
      },
      "execution_count": null,
      "outputs": [
        {
          "output_type": "stream",
          "name": "stdout",
          "text": [
            "possible\n"
          ]
        }
      ]
    },
    {
      "cell_type": "code",
      "source": [
        "# 연습문제 2\n",
        "x = 5\n",
        "\n",
        "if x > 0:\n",
        "  print(np.sqrt(x))\n",
        "else:\n",
        "  print('허수')"
      ],
      "metadata": {
        "colab": {
          "base_uri": "https://localhost:8080/"
        },
        "id": "YOQl3GGfdNks",
        "outputId": "4c118d87-0d8d-47d8-e9b5-ab295a327dd8"
      },
      "execution_count": null,
      "outputs": [
        {
          "output_type": "stream",
          "name": "stdout",
          "text": [
            "2.23606797749979\n"
          ]
        }
      ]
    },
    {
      "cell_type": "code",
      "source": [
        "# 연습문제 3\n",
        "a, b, c = 3, 4, 5\n",
        "\n",
        "if a+b > c or a+c > b or b+c > a:\n",
        "  print('존재쓰~')\n",
        "else:\n",
        "  print('노~')"
      ],
      "metadata": {
        "colab": {
          "base_uri": "https://localhost:8080/"
        },
        "id": "jHj8I7kSdY4N",
        "outputId": "3b5bee31-3f35-4aa0-b08b-49c35892d669"
      },
      "execution_count": null,
      "outputs": [
        {
          "output_type": "stream",
          "name": "stdout",
          "text": [
            "존재쓰~\n"
          ]
        }
      ]
    },
    {
      "cell_type": "code",
      "source": [
        "# 연습문제 4\n",
        "number_of_purchases = 10\n",
        "total_amount_of_purchases = 150000\n",
        "price_item = 5000\n",
        "\n",
        "if number_of_purchases >= 10 and total_amount_of_purchases >= 100000:\n",
        "  grade = 'VIP'\n",
        "  price_item -= (price_item * 0.1)\n",
        "elif number_of_purchases >= 1:\n",
        "  grade = 'Family'\n",
        "  price_item -= (price_item * 0.05)\n",
        "else:\n",
        "  grade = 'Non-member'\n",
        "\n",
        "print(f'{grade}, {price_item}')"
      ],
      "metadata": {
        "colab": {
          "base_uri": "https://localhost:8080/"
        },
        "id": "7Mj3ds11d04N",
        "outputId": "179f2dd9-7ef7-4fad-a992-fb50827f9b8b"
      },
      "execution_count": null,
      "outputs": [
        {
          "output_type": "stream",
          "name": "stdout",
          "text": [
            "VIP, 4500.0\n"
          ]
        }
      ]
    },
    {
      "cell_type": "code",
      "source": [
        "# 연습문제 5\n",
        "name = 'Jay'\n",
        "sex = 'M'\n",
        "age = 27\n",
        "height = 180.3\n",
        "weight = 65.5\n",
        "\n",
        "if age >= 18:\n",
        "  status = '성인'\n",
        "  if sex == 'M':\n",
        "    sex = '남성'\n",
        "  else:\n",
        "    sex = '여성'\n",
        "else:\n",
        "  status = '어린이'\n",
        "  if sex == 'M':\n",
        "    sex = '남성'\n",
        "  else:\n",
        "    sex = '여성'\n",
        "\n",
        "h = height * 0.01\n",
        "bmi = np.round(weight / (h * h),2)\n",
        "if bmi >= 25:\n",
        "  result_bmi = '비만'\n",
        "elif bmi > 18.5:\n",
        "  result_bmi = '저체중'\n",
        "else:\n",
        "  result_bmi = '정상체중'"
      ],
      "metadata": {
        "id": "SUXWEmidexX-"
      },
      "execution_count": null,
      "outputs": []
    },
    {
      "cell_type": "code",
      "source": [
        "print(f'환자의 이름은 {name}입니다. {age}세의 ({status + sex})이며, 키는 ({height}), 몸무게는 ({weight})로, BMI 지수는 ({bmi}))이며 ({result_bmi})입니다.')"
      ],
      "metadata": {
        "colab": {
          "base_uri": "https://localhost:8080/"
        },
        "id": "XN9TDazef5Ed",
        "outputId": "03d7f1a6-ecb8-42b8-b77f-c850e770bbbb"
      },
      "execution_count": null,
      "outputs": [
        {
          "output_type": "stream",
          "name": "stdout",
          "text": [
            "환자의 이름은 Jay입니다. 27세의 (성인남성)이며, 키는 (180.3), 몸무게는 (65.5)로, BMI 지수는 (20.15))이며 (저체중)입니다.\n"
          ]
        }
      ]
    },
    {
      "cell_type": "code",
      "source": [
        "# 연습문제 6\n",
        "a,b,c,d = 93, 54, 65, 68\n",
        "\n",
        "avg = a+b+c+d//4\n",
        "\n",
        "if avg >= 70:\n",
        "  if a < 60 or b < 60 or c < 60 or d < 60:\n",
        "    result = '불합'\n",
        "  else:\n",
        "    result = '합'\n",
        "else:\n",
        "    result = '불합'\n",
        "\n",
        "print(result)"
      ],
      "metadata": {
        "colab": {
          "base_uri": "https://localhost:8080/"
        },
        "id": "cF1L_ouqhWab",
        "outputId": "19e52256-e08d-4d74-f236-921aade2de56"
      },
      "execution_count": null,
      "outputs": [
        {
          "output_type": "stream",
          "name": "stdout",
          "text": [
            "불합\n"
          ]
        }
      ]
    },
    {
      "cell_type": "markdown",
      "source": [
        "# 3.7 고급 데이터 타입"
      ],
      "metadata": {
        "id": "-KP2Sy_yicO4"
      }
    },
    {
      "cell_type": "code",
      "source": [
        "# 연습문제 1\n",
        "names = ['nct', 'nct127', 'nctdream', 'wayv']\n",
        "s = names\n",
        "print(len(s))\n",
        "\n",
        "if s == names:\n",
        "  print('All of objects refer to same list.')\n",
        "else:\n",
        "  print('error')"
      ],
      "metadata": {
        "colab": {
          "base_uri": "https://localhost:8080/"
        },
        "id": "-a6Vo7lAonu-",
        "outputId": "64899c8a-47d6-4069-e2a1-9b1518e2c255"
      },
      "execution_count": null,
      "outputs": [
        {
          "output_type": "stream",
          "name": "stdout",
          "text": [
            "4\n",
            "All of objects refer to same list.\n"
          ]
        }
      ]
    },
    {
      "cell_type": "code",
      "source": [
        "# 연습문제 2\n",
        "weight = [49.5, 52, 47]\n",
        "max = weight[0]\n",
        "for i in range(3):\n",
        "  if max < weight[i]:\n",
        "    max = weight[i]\n",
        "\n",
        "print(max)"
      ],
      "metadata": {
        "colab": {
          "base_uri": "https://localhost:8080/"
        },
        "id": "pvlU8pCcrr16",
        "outputId": "f10ba360-3f95-4816-e5ee-287c2c86dd50"
      },
      "execution_count": null,
      "outputs": [
        {
          "output_type": "stream",
          "name": "stdout",
          "text": [
            "52\n"
          ]
        }
      ]
    },
    {
      "cell_type": "code",
      "source": [
        "# 연습문제 3\n",
        "customer = [{'Name' : 'Yujeong','Tel' : 9787, 'Price':18},\n",
        "            {'Name' : 'Jaehyun','Tel' : 1997, 'Price':214},\n",
        "            {'Name' : 'Taeil','Tel' : 1994, 'Price':614},\n",
        "            {'Name' : 'Haechan','Tel' : 2000, 'Price':66}]"
      ],
      "metadata": {
        "id": "tQmunIyRtKNH"
      },
      "execution_count": null,
      "outputs": []
    },
    {
      "cell_type": "code",
      "source": [
        "for i in range(4):\n",
        "  if customer[i]['Price'] >= 50:\n",
        "    print(customer[i])"
      ],
      "metadata": {
        "colab": {
          "base_uri": "https://localhost:8080/"
        },
        "id": "zBi3_shl-a-5",
        "outputId": "bfda6892-ae91-4531-97e7-b6bdb83b821b"
      },
      "execution_count": null,
      "outputs": [
        {
          "output_type": "stream",
          "name": "stdout",
          "text": [
            "{'Name': 'Jaehyun', 'Tel': 1997, 'Price': 214}\n",
            "{'Name': 'Taeil', 'Tel': 1994, 'Price': 614}\n",
            "{'Name': 'Haechan', 'Tel': 2000, 'Price': 66}\n"
          ]
        }
      ]
    },
    {
      "cell_type": "code",
      "source": [
        "# 연습문제 4\n",
        "dict_list = [] # 빈 리스트 생성\n",
        "\n",
        "dict1 = {'KO' : '사랑', 'EN' : 'Love', 'JP' : '愛'}\n",
        "dict2 = {'KO' : '집', 'EN' : 'House', 'JP' : '家'}\n",
        "dict3 = {'KO' : '바다', 'EN' : 'Sea', 'JP' : '海'}\n",
        "dict4 = {'KO' : '행복', 'EN' : 'Happiness', 'JP' : '幸せ'}\n",
        "\n",
        "dict_list = [dict1, dict2, dict3, dict4]"
      ],
      "metadata": {
        "id": "eLw5rCTl-6QK"
      },
      "execution_count": null,
      "outputs": []
    },
    {
      "cell_type": "code",
      "source": [
        "dict_list[-1]['EN']"
      ],
      "metadata": {
        "colab": {
          "base_uri": "https://localhost:8080/",
          "height": 35
        },
        "id": "EvgDEjkn_tGV",
        "outputId": "c3ecabd3-2b8a-4bb1-e223-39c18b1a3495"
      },
      "execution_count": null,
      "outputs": [
        {
          "output_type": "execute_result",
          "data": {
            "text/plain": [
              "'Happiness'"
            ],
            "application/vnd.google.colaboratory.intrinsic+json": {
              "type": "string"
            }
          },
          "metadata": {},
          "execution_count": 18
        }
      ]
    },
    {
      "cell_type": "code",
      "source": [
        "# 연습문제 5\n",
        "import numpy as np\n",
        "\n",
        "lot_answer = list(0 for i in range(6))\n",
        "lot_me = list(0 for i in range(6))\n",
        "cnt = 0\n",
        "\n",
        "for i in range(6):\n",
        "  lot_answer[i] = np.random.randint(1,46)\n",
        "  lot_me[i] = np.random.randint(1,46)\n",
        "  if lot_answer[i] == lot_me[i]:\n",
        "    cnt += 1\n",
        "\n",
        "print(lot_answer)\n",
        "print(lot_me)\n",
        "print(cnt)"
      ],
      "metadata": {
        "colab": {
          "base_uri": "https://localhost:8080/"
        },
        "id": "e57XusYRAel4",
        "outputId": "c7eba577-5c5c-4996-9ee1-32bbe0879a16"
      },
      "execution_count": null,
      "outputs": [
        {
          "output_type": "stream",
          "name": "stdout",
          "text": [
            "[38, 29, 30, 35, 39, 35]\n",
            "[23, 17, 6, 44, 39, 40]\n",
            "1\n"
          ]
        }
      ]
    },
    {
      "cell_type": "markdown",
      "source": [
        "# 3.8 반복문\n"
      ],
      "metadata": {
        "id": "nkwr5rXbCgii"
      }
    },
    {
      "cell_type": "code",
      "source": [
        "# 연습문제 1\n",
        "n = int(input())\n",
        "cnt = 0\n",
        "\n",
        "while n != 1:\n",
        "  if n%2 == 0:\n",
        "    n /= 2\n",
        "  else:\n",
        "    n = n * 3 + 1\n",
        "  print(n)\n",
        "  cnt += 1\n",
        "\n",
        "print(f'콜라츠 추측이 {cnt}번 만에 성립함이 확인되었다요')"
      ],
      "metadata": {
        "colab": {
          "base_uri": "https://localhost:8080/"
        },
        "id": "MlkzixPjCiAQ",
        "outputId": "03a4c700-ea13-4de6-b7a0-eb029e6d8ebf"
      },
      "execution_count": null,
      "outputs": [
        {
          "output_type": "stream",
          "name": "stdout",
          "text": [
            "5\n",
            "16\n",
            "8.0\n",
            "4.0\n",
            "2.0\n",
            "1.0\n",
            "콜라츠 추측이 5번 만에 성립함이 확인되었다요\n"
          ]
        }
      ]
    },
    {
      "cell_type": "code",
      "source": [
        "# 연습문제 2\n",
        "my_list = ['Yujeong', 'Heejin', 'Sunbun', 'Hyunung','Minjeong','Haeyoung']\n",
        "cnt = 0\n",
        "for i in my_list:\n",
        "  cnt += 1\n",
        "print(f'my_list에는 {cnt}명이 저장되어 있음')"
      ],
      "metadata": {
        "colab": {
          "base_uri": "https://localhost:8080/"
        },
        "id": "4Zlh3W1GK1dF",
        "outputId": "4243d550-7539-44b2-d1b7-52ce5a73c58e"
      },
      "execution_count": null,
      "outputs": [
        {
          "output_type": "stream",
          "name": "stdout",
          "text": [
            "my_list에는 6명이 저장되어 있음\n"
          ]
        }
      ]
    },
    {
      "cell_type": "code",
      "source": [
        "# 연습문제 3\n",
        "cnt = 0\n",
        "while cnt != 5:\n",
        "  print(f'{cnt+1}) Hi, Everybody!')\n",
        "  cnt += 1\n",
        "\n",
        "for i in range(6, 11):\n",
        "  print(f'{i}) Hi, Everybody!')\n"
      ],
      "metadata": {
        "colab": {
          "base_uri": "https://localhost:8080/"
        },
        "id": "vWZKCfPULYqy",
        "outputId": "9897b1f9-316b-4568-c967-21286013e31d"
      },
      "execution_count": null,
      "outputs": [
        {
          "output_type": "stream",
          "name": "stdout",
          "text": [
            "1) Hi, Everybody!\n",
            "2) Hi, Everybody!\n",
            "3) Hi, Everybody!\n",
            "4) Hi, Everybody!\n",
            "5) Hi, Everybody!\n",
            "6) Hi, Everybody!\n",
            "7) Hi, Everybody!\n",
            "8) Hi, Everybody!\n",
            "9) Hi, Everybody!\n",
            "10) Hi, Everybody!\n"
          ]
        }
      ]
    },
    {
      "cell_type": "code",
      "source": [
        "# 연습문제 4\n",
        "x = 0\n",
        "max = 1\n",
        "\n",
        "while (5*(x**3)+2*(x**2)-19*x+20) <= 20000:\n",
        "  if max < x:\n",
        "    max = x\n",
        "  x += 1\n",
        "\n",
        "print(x)"
      ],
      "metadata": {
        "colab": {
          "base_uri": "https://localhost:8080/"
        },
        "id": "589ccG-RMBRk",
        "outputId": "fcb91854-1b32-4784-a812-238634c5421e"
      },
      "execution_count": null,
      "outputs": [
        {
          "output_type": "stream",
          "name": "stdout",
          "text": [
            "16\n"
          ]
        }
      ]
    },
    {
      "cell_type": "code",
      "source": [
        "# 연습문제 5\n",
        "weight = [0 for i in range(12)]\n",
        "\n",
        "for i in range(12):\n",
        "  weight[i] = np.random.randint(43, 53)\n",
        "  print(weight[i], end=' ')"
      ],
      "metadata": {
        "colab": {
          "base_uri": "https://localhost:8080/"
        },
        "id": "COxcebaEMXxp",
        "outputId": "866d1d8f-a22e-4c69-8507-60bcec1f806a"
      },
      "execution_count": null,
      "outputs": [
        {
          "output_type": "stream",
          "name": "stdout",
          "text": [
            "50 43 52 50 48 52 50 49 49 48 43 47 "
          ]
        }
      ]
    },
    {
      "cell_type": "code",
      "source": [
        "avg, max = 0, 0\n",
        "min = weight[0]\n",
        "for i in range(12):\n",
        "  avg += weight[i]\n",
        "  if max < weight[i]:\n",
        "    max = weight[i]\n",
        "  if min > weight[i]:\n",
        "    min = weight[i]\n",
        "\n",
        "print(np.round(avg/12, 2), min, max)"
      ],
      "metadata": {
        "colab": {
          "base_uri": "https://localhost:8080/"
        },
        "id": "rcjAjqqnNRQw",
        "outputId": "c3c1dcb5-7f7e-42bb-87c9-11c24bb42994"
      },
      "execution_count": null,
      "outputs": [
        {
          "output_type": "stream",
          "name": "stdout",
          "text": [
            "48.42 43 52\n"
          ]
        }
      ]
    },
    {
      "cell_type": "code",
      "source": [
        "print(f'평균 = {np.round(np.mean(weight),2)}, 최소 = {np.min(weight)} - {np.argmin(weight)+1}월, 최대 = {np.max(weight)} - {np.argmax(weight)+1}월')"
      ],
      "metadata": {
        "colab": {
          "base_uri": "https://localhost:8080/"
        },
        "id": "id-vdwHHOGP8",
        "outputId": "a9a5b67d-5d81-4789-c955-cf6e979f2274"
      },
      "execution_count": null,
      "outputs": [
        {
          "output_type": "stream",
          "name": "stdout",
          "text": [
            "평균 = 48.42, 최소 = 43 - 2월, 최대 = 52 - 3월\n"
          ]
        }
      ]
    },
    {
      "cell_type": "code",
      "source": [
        "# 연습문제 6\n",
        "customer = [{'Name' : 'Yujeong','Tel' : 9787, 'Price':18},\n",
        "            {'Name' : 'Jaehyun','Tel' : 1997, 'Price':214},\n",
        "            {'Name' : 'Taeil','Tel' : 1994, 'Price':614},\n",
        "            {'Name' : 'Haechan','Tel' : 2000, 'Price':66}]\n",
        "\n",
        "for c in customer:\n",
        "  if c['Price'] > 50:\n",
        "    print(c)"
      ],
      "metadata": {
        "colab": {
          "base_uri": "https://localhost:8080/"
        },
        "id": "cVduj2WhPIPa",
        "outputId": "eee983d1-1668-4970-ce4b-31101816e8f1"
      },
      "execution_count": null,
      "outputs": [
        {
          "output_type": "stream",
          "name": "stdout",
          "text": [
            "{'Name': 'Jaehyun', 'Tel': 1997, 'Price': 214}\n",
            "{'Name': 'Taeil', 'Tel': 1994, 'Price': 614}\n",
            "{'Name': 'Haechan', 'Tel': 2000, 'Price': 66}\n"
          ]
        }
      ]
    },
    {
      "cell_type": "code",
      "source": [
        "# 연습문제 7\n",
        "# == 3.7절 연습문제 5"
      ],
      "metadata": {
        "id": "6kqhlRKvPabn"
      },
      "execution_count": null,
      "outputs": []
    },
    {
      "cell_type": "markdown",
      "source": [
        "# 3.9 Numpy 배열"
      ],
      "metadata": {
        "id": "1Jg2cX70PquI"
      }
    },
    {
      "cell_type": "code",
      "source": [
        "# 연습문제 1\n",
        "np.random.rand(5,7)"
      ],
      "metadata": {
        "colab": {
          "base_uri": "https://localhost:8080/"
        },
        "id": "OIsdBHovZ0yu",
        "outputId": "6ccb5033-7b4c-449b-d5d6-972d5c8a32cc"
      },
      "execution_count": null,
      "outputs": [
        {
          "output_type": "execute_result",
          "data": {
            "text/plain": [
              "array([[0.28759591, 0.9665793 , 0.63154862, 0.31154253, 0.92883053,\n",
              "        0.23468646, 0.64605437],\n",
              "       [0.1810001 , 0.68368548, 0.2268074 , 0.76948586, 0.4318478 ,\n",
              "        0.22340669, 0.44505534],\n",
              "       [0.66793332, 0.53862606, 0.75324567, 0.74993468, 0.99961891,\n",
              "        0.08429107, 0.83430027],\n",
              "       [0.80878289, 0.44215133, 0.65097547, 0.96935856, 0.8467673 ,\n",
              "        0.77311395, 0.61643534],\n",
              "       [0.13463138, 0.5127886 , 0.86371911, 0.31159464, 0.31577817,\n",
              "        0.59193692, 0.64294132]])"
            ]
          },
          "metadata": {},
          "execution_count": 101
        }
      ]
    },
    {
      "cell_type": "code",
      "source": [
        "# 연습문제 2\n",
        "n = np.zeros((3,4,5))\n",
        "n.shape"
      ],
      "metadata": {
        "colab": {
          "base_uri": "https://localhost:8080/"
        },
        "id": "r9MbNbAueAoM",
        "outputId": "9c38060a-ba68-4924-8639-2a5b081610e5"
      },
      "execution_count": null,
      "outputs": [
        {
          "output_type": "execute_result",
          "data": {
            "text/plain": [
              "(3, 4, 5)"
            ]
          },
          "metadata": {},
          "execution_count": 104
        }
      ]
    },
    {
      "cell_type": "code",
      "source": [
        "n"
      ],
      "metadata": {
        "colab": {
          "base_uri": "https://localhost:8080/"
        },
        "id": "VX19b19OeH1i",
        "outputId": "78e43d57-7d55-4162-af49-47d07db76547"
      },
      "execution_count": null,
      "outputs": [
        {
          "output_type": "execute_result",
          "data": {
            "text/plain": [
              "array([[[0., 0., 0., 0., 0.],\n",
              "        [0., 0., 0., 0., 0.],\n",
              "        [0., 0., 0., 0., 0.],\n",
              "        [0., 0., 0., 0., 0.]],\n",
              "\n",
              "       [[0., 0., 0., 0., 0.],\n",
              "        [0., 0., 0., 0., 0.],\n",
              "        [0., 0., 0., 0., 0.],\n",
              "        [0., 0., 0., 0., 0.]],\n",
              "\n",
              "       [[0., 0., 0., 0., 0.],\n",
              "        [0., 0., 0., 0., 0.],\n",
              "        [0., 0., 0., 0., 0.],\n",
              "        [0., 0., 0., 0., 0.]]])"
            ]
          },
          "metadata": {},
          "execution_count": 105
        }
      ]
    },
    {
      "cell_type": "code",
      "source": [
        "# 연습문제 3\n",
        "np.array([1,4,5,95,74,2])"
      ],
      "metadata": {
        "colab": {
          "base_uri": "https://localhost:8080/"
        },
        "id": "GDsnbg-ieKAz",
        "outputId": "39da57c3-2d86-4c7d-e12e-b6109b451554"
      },
      "execution_count": null,
      "outputs": [
        {
          "output_type": "execute_result",
          "data": {
            "text/plain": [
              "array([ 1,  4,  5, 95, 74,  2])"
            ]
          },
          "metadata": {},
          "execution_count": 106
        }
      ]
    },
    {
      "cell_type": "code",
      "source": [
        "# 연습문제 4\n",
        "n = np.random.rand(45)\n",
        "m = n.reshape(9,5)\n",
        "m.shape"
      ],
      "metadata": {
        "colab": {
          "base_uri": "https://localhost:8080/"
        },
        "id": "n7tXaJoNeOop",
        "outputId": "43d8e5ce-b4fa-41ab-f539-f789b702741d"
      },
      "execution_count": null,
      "outputs": [
        {
          "output_type": "execute_result",
          "data": {
            "text/plain": [
              "(9, 5)"
            ]
          },
          "metadata": {},
          "execution_count": 114
        }
      ]
    },
    {
      "cell_type": "code",
      "source": [
        "# 연습문제 5\n",
        "m = np.expand_dims(m,-1)\n",
        "m.shape"
      ],
      "metadata": {
        "colab": {
          "base_uri": "https://localhost:8080/"
        },
        "id": "D0qjF93WeYXc",
        "outputId": "85344311-7b2e-450c-c680-4f1f4d0cca2e"
      },
      "execution_count": null,
      "outputs": [
        {
          "output_type": "execute_result",
          "data": {
            "text/plain": [
              "(9, 5, 1)"
            ]
          },
          "metadata": {},
          "execution_count": 115
        }
      ]
    },
    {
      "cell_type": "code",
      "source": [
        "# 연습문제 6\n",
        "import numpy as np"
      ],
      "metadata": {
        "id": "D2BXmtwmjnhh"
      },
      "execution_count": null,
      "outputs": []
    },
    {
      "cell_type": "code",
      "source": [
        "data = np.array([[8.5, 200, 60.2, 450.3, 50],\n",
        "                 [12.3, 230.5, 56.3, 390.2, 35],\n",
        "                 [9.2, 190, 30, 500.4, 60]])"
      ],
      "metadata": {
        "id": "9B02AEqTj3G3"
      },
      "execution_count": null,
      "outputs": []
    },
    {
      "cell_type": "code",
      "source": [
        "data[:,2] >= 40"
      ],
      "metadata": {
        "colab": {
          "base_uri": "https://localhost:8080/"
        },
        "id": "Qh8_gNQPkwe5",
        "outputId": "89310d7b-edef-4a89-bfcf-b367ae1f7751"
      },
      "execution_count": null,
      "outputs": [
        {
          "output_type": "execute_result",
          "data": {
            "text/plain": [
              "array([ True,  True, False])"
            ]
          },
          "metadata": {},
          "execution_count": 10
        }
      ]
    },
    {
      "cell_type": "code",
      "source": [
        "data[data[:,2] >= 40, -1].mean()"
      ],
      "metadata": {
        "colab": {
          "base_uri": "https://localhost:8080/"
        },
        "id": "TdjgJe-0j3wy",
        "outputId": "34aea1b8-ce3f-494d-bcb8-6adfb3dc7c98"
      },
      "execution_count": null,
      "outputs": [
        {
          "output_type": "execute_result",
          "data": {
            "text/plain": [
              "42.5"
            ]
          },
          "metadata": {},
          "execution_count": 8
        }
      ]
    },
    {
      "cell_type": "code",
      "source": [
        "# 연습문제 7\n",
        "data[:,3] >= 400"
      ],
      "metadata": {
        "id": "KG4w8OtVTYEz",
        "colab": {
          "base_uri": "https://localhost:8080/"
        },
        "outputId": "cba19aa6-0f03-4cbc-81c1-9584a7c0719a"
      },
      "execution_count": null,
      "outputs": [
        {
          "output_type": "execute_result",
          "data": {
            "text/plain": [
              "array([ True, False,  True])"
            ]
          },
          "metadata": {},
          "execution_count": 13
        }
      ]
    },
    {
      "cell_type": "code",
      "source": [
        "data[data[:,3]>=400,3] = 400"
      ],
      "metadata": {
        "id": "1hvRhYgDk9Cq"
      },
      "execution_count": null,
      "outputs": []
    },
    {
      "cell_type": "code",
      "source": [
        "data"
      ],
      "metadata": {
        "colab": {
          "base_uri": "https://localhost:8080/"
        },
        "id": "3CLHKn2BlMCu",
        "outputId": "0cf04f5f-8684-4610-a79b-af8057b843c3"
      },
      "execution_count": null,
      "outputs": [
        {
          "output_type": "execute_result",
          "data": {
            "text/plain": [
              "array([[  8.5, 200. ,  60.2, 400. ,  50. ],\n",
              "       [ 12.3, 230.5,  56.3, 390.2,  35. ],\n",
              "       [  9.2, 190. ,  30. , 400. ,  60. ]])"
            ]
          },
          "metadata": {},
          "execution_count": 18
        }
      ]
    },
    {
      "cell_type": "markdown",
      "source": [
        "# 3.10 사용자 정의 함수"
      ],
      "metadata": {
        "id": "Y0kVfhU9Scbf"
      }
    },
    {
      "cell_type": "code",
      "source": [
        "# 연습문제 1\n",
        "def bmi(w, h):\n",
        "  h *= 0.01\n",
        "  return w / (h * h)"
      ],
      "metadata": {
        "id": "7jOPNtsxSjVY"
      },
      "execution_count": null,
      "outputs": []
    },
    {
      "cell_type": "code",
      "source": [
        "w = 49.5\n",
        "h = 152\n",
        "print(f'bmi = {bmi(w,h):.2f}')"
      ],
      "metadata": {
        "colab": {
          "base_uri": "https://localhost:8080/"
        },
        "id": "ZrD3iydvStmC",
        "outputId": "c227130b-9648-414f-faeb-0080cd3a9dbb"
      },
      "execution_count": null,
      "outputs": [
        {
          "output_type": "stream",
          "name": "stdout",
          "text": [
            "bmi = 21.42\n"
          ]
        }
      ]
    },
    {
      "cell_type": "code",
      "source": [
        "# 연습문제 2\n",
        "def walk(n):\n",
        "  avg_walk = np.round(n.mean(),2)\n",
        "  min_day = n.argmin()\n",
        "  min_walk = n[min_day]\n",
        "  max_day = n.argmax()\n",
        "  max_walk = n[max_day]\n",
        "  return avg_walk, min_day, min_walk, max_day, max_walk"
      ],
      "metadata": {
        "id": "FH6bHEhWlRro"
      },
      "execution_count": null,
      "outputs": []
    },
    {
      "cell_type": "code",
      "source": [
        "me = np.round(np.random.rand(30) * 10000)\n",
        "print(me)\n",
        "\n",
        "walk(me)"
      ],
      "metadata": {
        "colab": {
          "base_uri": "https://localhost:8080/"
        },
        "id": "QExrWbEDlsAL",
        "outputId": "e026473e-a93b-4aae-ff11-1dd310397dbd"
      },
      "execution_count": null,
      "outputs": [
        {
          "output_type": "stream",
          "name": "stdout",
          "text": [
            "[4125. 7202. 7671. 4506. 7374. 9520. 4084. 5958. 7269. 4524. 9793. 6534.\n",
            "  957. 3956. 7783. 4663. 8415. 1148. 3959. 8404. 9688. 9375. 3265.  214.\n",
            " 7855. 4298. 5998. 6468. 1995. 2686.]\n"
          ]
        },
        {
          "output_type": "execute_result",
          "data": {
            "text/plain": [
              "(5656.23, 23, 214.0, 10, 9793.0)"
            ]
          },
          "metadata": {},
          "execution_count": 32
        }
      ]
    },
    {
      "cell_type": "code",
      "source": [
        "# 연습문제 3\n",
        "import math\n",
        "def calc_math(a,b,c):\n",
        "  try:\n",
        "    x1 = (-b + math.sqrt(b**2 - 4*a*c)) / 2*a\n",
        "    x2 = (-b - math.sqrt(b**2 - 4*a*c)) / 2*a\n",
        "    return x1, x2\n",
        "  except:\n",
        "    print('Error')\n",
        "\n",
        "def calc_non(a,b,c):\n",
        "  n = b**2 - 4*a*c\n",
        "  if n > 0:\n",
        "    x1 = np.round((-b + n**0.5) / 2*a)\n",
        "    x2 = np.round((-b - n**0.5) / 2*a)\n",
        "    print(x1, ',', x2)\n",
        "  elif n == 0:\n",
        "    x = np.round(-b / 2*a)\n",
        "    print(x, '중근')\n",
        "  else:\n",
        "    print('허근')\n"
      ],
      "metadata": {
        "id": "SwEdBEwAm4XJ"
      },
      "execution_count": null,
      "outputs": []
    },
    {
      "cell_type": "code",
      "source": [
        "a,b,c = list(map(int, input().split()))"
      ],
      "metadata": {
        "colab": {
          "base_uri": "https://localhost:8080/"
        },
        "id": "MkD6bTuEqFqk",
        "outputId": "7ad19791-bdc7-4942-90af-802afde5bf19"
      },
      "execution_count": null,
      "outputs": [
        {
          "name": "stdout",
          "output_type": "stream",
          "text": [
            "1 4 -21\n"
          ]
        }
      ]
    },
    {
      "cell_type": "code",
      "source": [
        "calc_math(a,b,c)"
      ],
      "metadata": {
        "colab": {
          "base_uri": "https://localhost:8080/"
        },
        "id": "isHjpx_gqq0l",
        "outputId": "cd960209-05d6-4ccc-bfa8-1aafc074fab8"
      },
      "execution_count": null,
      "outputs": [
        {
          "output_type": "execute_result",
          "data": {
            "text/plain": [
              "(3.0, -7.0)"
            ]
          },
          "metadata": {},
          "execution_count": 63
        }
      ]
    },
    {
      "cell_type": "code",
      "source": [
        "calc_non(a,b,c)"
      ],
      "metadata": {
        "colab": {
          "base_uri": "https://localhost:8080/"
        },
        "id": "P4re7uzTquQk",
        "outputId": "f611b865-ddfe-48fb-99dc-30d59512e4ae"
      },
      "execution_count": null,
      "outputs": [
        {
          "output_type": "stream",
          "name": "stdout",
          "text": [
            "-7.0 , 3.0\n"
          ]
        }
      ]
    },
    {
      "cell_type": "code",
      "source": [
        "# 연습문제 4\n",
        "def find_point(a,b,c,d):\n",
        "  return 0"
      ],
      "metadata": {
        "id": "dEhuDLaGnpiR"
      },
      "execution_count": null,
      "outputs": []
    },
    {
      "cell_type": "code",
      "source": [
        "# 연습문제 5\n",
        "def len_arr(arr):\n",
        "  col = arr.shape[0]\n",
        "  row = arr.shape[1]\n",
        "  print(f'col-{col}, row-{row}')\n"
      ],
      "metadata": {
        "id": "MAhkfJ7ysWvS"
      },
      "execution_count": null,
      "outputs": []
    },
    {
      "cell_type": "code",
      "source": [
        "arr = np.array(np.random.rand(3,4))\n",
        "len_arr(arr)"
      ],
      "metadata": {
        "colab": {
          "base_uri": "https://localhost:8080/"
        },
        "id": "woVudbx8sr2h",
        "outputId": "c09c5526-d699-493a-bf1b-7aae97a64b32"
      },
      "execution_count": null,
      "outputs": [
        {
          "output_type": "stream",
          "name": "stdout",
          "text": [
            "col-3, row-4\n"
          ]
        }
      ]
    },
    {
      "cell_type": "code",
      "source": [
        "# 연습문제 6\n",
        "def book_info(t,y,a,p):\n",
        "  book = {}\n",
        "  book = {'Title':t, 'Year':y, 'Author':a, 'Price':p}\n",
        "  return book"
      ],
      "metadata": {
        "id": "C6VI-h1mtyNI"
      },
      "execution_count": null,
      "outputs": []
    },
    {
      "cell_type": "code",
      "source": [
        "book_info('It''s your Birthday', 1997, 'thangyou', 31400)"
      ],
      "metadata": {
        "colab": {
          "base_uri": "https://localhost:8080/"
        },
        "id": "aNV1lE7nyHfc",
        "outputId": "aa4d5caf-249a-4fa0-de88-7977fcfe4b10"
      },
      "execution_count": null,
      "outputs": [
        {
          "output_type": "execute_result",
          "data": {
            "text/plain": [
              "{'Title': 'Its your Birthday',\n",
              " 'Year': 1997,\n",
              " 'Author': 'thangyou',\n",
              " 'Price': 31400}"
            ]
          },
          "metadata": {},
          "execution_count": 92
        }
      ]
    }
  ]
}