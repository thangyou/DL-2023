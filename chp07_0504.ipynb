{
  "nbformat": 4,
  "nbformat_minor": 0,
  "metadata": {
    "colab": {
      "provenance": [],
      "collapsed_sections": [
        "d1Kk8GDRccVM"
      ],
      "gpuType": "T4",
      "authorship_tag": "ABX9TyM7t5RIsBJqVYjD2tzt5n6+"
    },
    "kernelspec": {
      "name": "python3",
      "display_name": "Python 3"
    },
    "language_info": {
      "name": "python"
    },
    "accelerator": "GPU",
    "gpuClass": "standard"
  },
  "cells": [
    {
      "cell_type": "markdown",
      "source": [
        "# 7.4 합성곱 신경망과 숫자 이미지 인식"
      ],
      "metadata": {
        "id": "Z_1IC_xlVRh9"
      }
    },
    {
      "cell_type": "markdown",
      "source": [
        "# 7.4.1 MNIST data set"
      ],
      "metadata": {
        "id": "4dehC7M2Ycgl"
      }
    },
    {
      "cell_type": "code",
      "execution_count": null,
      "metadata": {
        "id": "_yq3YXR-ROyJ"
      },
      "outputs": [],
      "source": [
        "import pandas as pd\n",
        "import numpy as np\n",
        "import matplotlib.pyplot as plt"
      ]
    },
    {
      "cell_type": "code",
      "source": [
        "data = pd.read_csv('./sample_data/mnist_train_small.csv', header=None)\n",
        "data  = np.array(data)"
      ],
      "metadata": {
        "id": "Vxi_xUlSVYEn"
      },
      "execution_count": null,
      "outputs": []
    },
    {
      "cell_type": "code",
      "source": [
        "data"
      ],
      "metadata": {
        "colab": {
          "base_uri": "https://localhost:8080/"
        },
        "id": "zvGPwhJLVgke",
        "outputId": "ac814f7f-c67f-45ac-bc7e-23be32511a27"
      },
      "execution_count": null,
      "outputs": [
        {
          "output_type": "execute_result",
          "data": {
            "text/plain": [
              "array([[6, 0, 0, ..., 0, 0, 0],\n",
              "       [5, 0, 0, ..., 0, 0, 0],\n",
              "       [7, 0, 0, ..., 0, 0, 0],\n",
              "       ...,\n",
              "       [2, 0, 0, ..., 0, 0, 0],\n",
              "       [9, 0, 0, ..., 0, 0, 0],\n",
              "       [5, 0, 0, ..., 0, 0, 0]])"
            ]
          },
          "metadata": {},
          "execution_count": 3
        }
      ]
    },
    {
      "cell_type": "code",
      "source": [
        "data.shape"
      ],
      "metadata": {
        "colab": {
          "base_uri": "https://localhost:8080/"
        },
        "id": "fzCmDTMAVhxG",
        "outputId": "ffba77fb-42be-43be-c2ec-2b718b09005c"
      },
      "execution_count": null,
      "outputs": [
        {
          "output_type": "execute_result",
          "data": {
            "text/plain": [
              "(20000, 785)"
            ]
          },
          "metadata": {},
          "execution_count": 4
        }
      ]
    },
    {
      "cell_type": "code",
      "source": [
        "data[0,:]"
      ],
      "metadata": {
        "colab": {
          "base_uri": "https://localhost:8080/"
        },
        "id": "7NinQwQBV_u8",
        "outputId": "a8abb70e-dfa1-43e4-eb7b-3fa78322df99"
      },
      "execution_count": null,
      "outputs": [
        {
          "output_type": "execute_result",
          "data": {
            "text/plain": [
              "array([  6,   0,   0,   0,   0,   0,   0,   0,   0,   0,   0,   0,   0,\n",
              "         0,   0,   0,   0,   0,   0,   0,   0,   0,   0,   0,   0,   0,\n",
              "         0,   0,   0,   0,   0,   0,   0,   0,   0,   0,   0,   0,   0,\n",
              "         0,   0,   0,   0,   0,   0,   0,   0,   0,   0,   0,   0,   0,\n",
              "         0,   0,   0,   0,   0,   0,   0,   0,   0,   0,   0,   0,   0,\n",
              "         0,   0,   0,   0,   0,   0,   0,   0,   0,   0,   0,   0,   0,\n",
              "         0,   0,   0,   0,   0,   0,   0,   0,   0,   0,   0,   0,   0,\n",
              "         0,   0,   0,   0,   0,   0,   0,   0,   0,   0,   0,   0,   0,\n",
              "         0,   0,   0,   0,   0,   0,   0,   0,   0,   0,   0,   0,   0,\n",
              "         0,   0,   0,   0,   0,   0,  24,  67,  67,  18,   0,   0,   0,\n",
              "         0,   0,   0,   0,   0,   0,   0,   0,   0,   0,   0,   0,   0,\n",
              "         0,   0,   0,   0,   0,   0,   0,   0, 131, 252, 252,  66,   0,\n",
              "         0,   0,   0,   0,   0,   0,   0,   0,   0,   0,   0,   0,   0,\n",
              "         0,   0,   0,   0,   0,   0,   0,   0,   0, 159, 250, 232,  30,\n",
              "        32,   0,   0,   0,   0,   0,   0,   0,   0,   0,   0,   0,   0,\n",
              "         0,   0,   0,   0,   0,   0,   0,   0,   0,   0,  15, 222, 252,\n",
              "       108,   0,   0,   0,   0,   0,   0,   0,   0,   0,   0,   0,   0,\n",
              "         0,   0,   0,   0,   0,   0,   0,   0,   0,   0,   0,   0, 147,\n",
              "       252, 183,   5,   0,   0,   0,   0,   0,   0,   0,  20,  89,  89,\n",
              "        73,   0,   0,   0,   0,   0,   0,   0,   0,   0,   0,   0,   0,\n",
              "        48, 247, 252, 159,   0,   0,   0,   0,   0,   0,   0,  79, 236,\n",
              "       252, 252, 249, 198,  16,   0,   0,   0,   0,   0,   0,   0,   0,\n",
              "         0,  41, 193, 252, 199,  22,   0,   0,   0,   0,   0,  12, 135,\n",
              "       248, 252, 252, 252, 252, 252, 100,   0,   0,   0,   0,   0,   0,\n",
              "         0,   0,   0, 100, 252, 252,  88,   0,   0,   0,   0,   0,  11,\n",
              "       171, 252, 252, 235, 175, 178, 252, 252, 224,   0,   0,   0,   0,\n",
              "         0,   0,   0,   0,  15, 209, 252, 233,  12,   0,   0,   0,   0,\n",
              "        49, 177, 252, 252,  89,  26,   0,   2, 166, 252, 252,   0,   0,\n",
              "         0,   0,   0,   0,   0,   0,  96, 253, 253,  59,   0,   0,   0,\n",
              "         0,  11, 177, 255, 253,  92,   0,   0,   0,   0, 155, 253, 128,\n",
              "         0,   0,   0,   0,   0,   0,   0,   0, 143, 252, 252,  10,   0,\n",
              "         0,   0,  12, 171, 252, 216, 110,  13,   0,   0,   0,   3, 180,\n",
              "       232,  24,   0,   0,   0,   0,   0,   0,   0,   0, 143, 252, 170,\n",
              "         2,   0,   0,   0, 135, 252, 209,  19,   0,   0,   0,   0,   0,\n",
              "        12, 252, 132,   0,   0,   0,   0,   0,   0,   0,   0,   0, 249,\n",
              "       252,  96,   0,   0,   0,  21, 248, 246,  34,   0,   0,   0,   0,\n",
              "         5,  61, 234, 152,   3,   0,   0,   0,   0,   0,   0,   0,   0,\n",
              "         0, 253, 252,  44,   0,   0,   0, 145, 252, 104,   0,   0,   0,\n",
              "        46, 114, 184, 252, 149,  34,   0,   0,   0,   0,   0,   0,   0,\n",
              "         0,   0,   0, 253, 252,  82,   0,   0,  31, 239, 252,  66,  39,\n",
              "        89, 165, 243, 252, 233, 126,   5,   0,   0,   0,   0,   0,   0,\n",
              "         0,   0,   0,   0,   0, 249, 252, 244, 126,  98, 143, 252, 252,\n",
              "       237, 240, 253, 252, 243, 174,  17,   0,   0,   0,   0,   0,   0,\n",
              "         0,   0,   0,   0,   0,   0,   0, 119, 239, 252, 252, 252, 252,\n",
              "       252, 252, 252, 252, 228, 179,  17,   0,   0,   0,   0,   0,   0,\n",
              "         0,   0,   0,   0,   0,   0,   0,   0,   0,   0,  46,  66,  66,\n",
              "        66,  66,  66,  66,  66,  66,  29,   0,   0,   0,   0,   0,   0,\n",
              "         0,   0,   0,   0,   0,   0,   0,   0,   0,   0,   0,   0,   0,\n",
              "         0,   0,   0,   0,   0,   0,   0,   0,   0,   0,   0,   0,   0,\n",
              "         0,   0,   0,   0,   0,   0,   0,   0,   0,   0,   0,   0,   0,\n",
              "         0,   0,   0,   0,   0,   0,   0,   0,   0,   0,   0,   0,   0,\n",
              "         0,   0,   0,   0,   0,   0,   0,   0,   0,   0,   0,   0,   0,\n",
              "         0,   0,   0,   0,   0,   0,   0,   0,   0,   0,   0,   0,   0,\n",
              "         0,   0,   0,   0,   0,   0,   0,   0,   0,   0,   0,   0,   0,\n",
              "         0,   0,   0,   0,   0,   0,   0,   0,   0,   0,   0,   0,   0,\n",
              "         0,   0,   0,   0,   0,   0,   0,   0,   0,   0,   0,   0,   0,\n",
              "         0,   0,   0,   0,   0,   0,   0,   0,   0,   0,   0,   0,   0,\n",
              "         0,   0,   0,   0,   0,   0,   0,   0,   0,   0,   0,   0,   0,\n",
              "         0,   0,   0,   0,   0,   0,   0,   0,   0,   0,   0,   0,   0,\n",
              "         0,   0,   0,   0,   0,   0,   0,   0,   0,   0,   0,   0,   0,\n",
              "         0,   0,   0,   0,   0])"
            ]
          },
          "metadata": {},
          "execution_count": 5
        }
      ]
    },
    {
      "cell_type": "code",
      "source": [
        "x_train = data[:,1:]  # 이미지 데이터\n",
        "# 28 x 28 이미지의 픽셀 정보가 1차원상에 나열되어 있음\n",
        "y_train = data[:,0]   # 정답 정보(0~9)"
      ],
      "metadata": {
        "id": "XcwnAK9JV8d9"
      },
      "execution_count": null,
      "outputs": []
    },
    {
      "cell_type": "code",
      "source": [
        "x_train.shape"
      ],
      "metadata": {
        "colab": {
          "base_uri": "https://localhost:8080/"
        },
        "id": "tnvikpgpWNoG",
        "outputId": "85e8621f-2e78-4681-fff5-98136ba013fa"
      },
      "execution_count": null,
      "outputs": [
        {
          "output_type": "execute_result",
          "data": {
            "text/plain": [
              "(20000, 784)"
            ]
          },
          "metadata": {},
          "execution_count": 7
        }
      ]
    },
    {
      "cell_type": "code",
      "source": [
        "x_train = x_train.reshape(-1, 28, 28) # 784 = 28 x 28"
      ],
      "metadata": {
        "id": "amIpYpKEWcB1"
      },
      "execution_count": null,
      "outputs": []
    },
    {
      "cell_type": "code",
      "source": [
        "x_train.shape"
      ],
      "metadata": {
        "colab": {
          "base_uri": "https://localhost:8080/"
        },
        "id": "0BY3kQz_W8jm",
        "outputId": "ebf9f03b-8f81-45e6-ddcc-26aba3bbb995"
      },
      "execution_count": null,
      "outputs": [
        {
          "output_type": "execute_result",
          "data": {
            "text/plain": [
              "(20000, 28, 28)"
            ]
          },
          "metadata": {},
          "execution_count": 9
        }
      ]
    },
    {
      "cell_type": "code",
      "source": [
        "print(x_train[0,:,:])"
      ],
      "metadata": {
        "colab": {
          "base_uri": "https://localhost:8080/"
        },
        "id": "f5Y9-rDKW-M-",
        "outputId": "10fae4e7-79c3-4f68-d8a4-cd5490e84d0d"
      },
      "execution_count": null,
      "outputs": [
        {
          "output_type": "stream",
          "name": "stdout",
          "text": [
            "[[  0   0   0   0   0   0   0   0   0   0   0   0   0   0   0   0   0   0\n",
            "    0   0   0   0   0   0   0   0   0   0]\n",
            " [  0   0   0   0   0   0   0   0   0   0   0   0   0   0   0   0   0   0\n",
            "    0   0   0   0   0   0   0   0   0   0]\n",
            " [  0   0   0   0   0   0   0   0   0   0   0   0   0   0   0   0   0   0\n",
            "    0   0   0   0   0   0   0   0   0   0]\n",
            " [  0   0   0   0   0   0   0   0   0   0   0   0   0   0   0   0   0   0\n",
            "    0   0   0   0   0   0   0   0   0   0]\n",
            " [  0   0   0   0   0   0   0   0   0   0  24  67  67  18   0   0   0   0\n",
            "    0   0   0   0   0   0   0   0   0   0]\n",
            " [  0   0   0   0   0   0   0   0   0   0 131 252 252  66   0   0   0   0\n",
            "    0   0   0   0   0   0   0   0   0   0]\n",
            " [  0   0   0   0   0   0   0   0   0 159 250 232  30  32   0   0   0   0\n",
            "    0   0   0   0   0   0   0   0   0   0]\n",
            " [  0   0   0   0   0   0   0   0  15 222 252 108   0   0   0   0   0   0\n",
            "    0   0   0   0   0   0   0   0   0   0]\n",
            " [  0   0   0   0   0   0   0   0 147 252 183   5   0   0   0   0   0   0\n",
            "    0  20  89  89  73   0   0   0   0   0]\n",
            " [  0   0   0   0   0   0   0  48 247 252 159   0   0   0   0   0   0   0\n",
            "   79 236 252 252 249 198  16   0   0   0]\n",
            " [  0   0   0   0   0   0  41 193 252 199  22   0   0   0   0   0  12 135\n",
            "  248 252 252 252 252 252 100   0   0   0]\n",
            " [  0   0   0   0   0   0 100 252 252  88   0   0   0   0   0  11 171 252\n",
            "  252 235 175 178 252 252 224   0   0   0]\n",
            " [  0   0   0   0   0  15 209 252 233  12   0   0   0   0  49 177 252 252\n",
            "   89  26   0   2 166 252 252   0   0   0]\n",
            " [  0   0   0   0   0  96 253 253  59   0   0   0   0  11 177 255 253  92\n",
            "    0   0   0   0 155 253 128   0   0   0]\n",
            " [  0   0   0   0   0 143 252 252  10   0   0   0  12 171 252 216 110  13\n",
            "    0   0   0   3 180 232  24   0   0   0]\n",
            " [  0   0   0   0   0 143 252 170   2   0   0   0 135 252 209  19   0   0\n",
            "    0   0   0  12 252 132   0   0   0   0]\n",
            " [  0   0   0   0   0 249 252  96   0   0   0  21 248 246  34   0   0   0\n",
            "    0   5  61 234 152   3   0   0   0   0]\n",
            " [  0   0   0   0   0 253 252  44   0   0   0 145 252 104   0   0   0  46\n",
            "  114 184 252 149  34   0   0   0   0   0]\n",
            " [  0   0   0   0   0 253 252  82   0   0  31 239 252  66  39  89 165 243\n",
            "  252 233 126   5   0   0   0   0   0   0]\n",
            " [  0   0   0   0   0 249 252 244 126  98 143 252 252 237 240 253 252 243\n",
            "  174  17   0   0   0   0   0   0   0   0]\n",
            " [  0   0   0   0   0 119 239 252 252 252 252 252 252 252 252 228 179  17\n",
            "    0   0   0   0   0   0   0   0   0   0]\n",
            " [  0   0   0   0   0   0  46  66  66  66  66  66  66  66  66  29   0   0\n",
            "    0   0   0   0   0   0   0   0   0   0]\n",
            " [  0   0   0   0   0   0   0   0   0   0   0   0   0   0   0   0   0   0\n",
            "    0   0   0   0   0   0   0   0   0   0]\n",
            " [  0   0   0   0   0   0   0   0   0   0   0   0   0   0   0   0   0   0\n",
            "    0   0   0   0   0   0   0   0   0   0]\n",
            " [  0   0   0   0   0   0   0   0   0   0   0   0   0   0   0   0   0   0\n",
            "    0   0   0   0   0   0   0   0   0   0]\n",
            " [  0   0   0   0   0   0   0   0   0   0   0   0   0   0   0   0   0   0\n",
            "    0   0   0   0   0   0   0   0   0   0]\n",
            " [  0   0   0   0   0   0   0   0   0   0   0   0   0   0   0   0   0   0\n",
            "    0   0   0   0   0   0   0   0   0   0]\n",
            " [  0   0   0   0   0   0   0   0   0   0   0   0   0   0   0   0   0   0\n",
            "    0   0   0   0   0   0   0   0   0   0]]\n"
          ]
        }
      ]
    },
    {
      "cell_type": "code",
      "source": [
        "plt.imshow(x_train[0,:,:])"
      ],
      "metadata": {
        "colab": {
          "base_uri": "https://localhost:8080/",
          "height": 448
        },
        "id": "LFOG3VCqXOWm",
        "outputId": "3b8af744-03d9-487a-8cf1-35abce889400"
      },
      "execution_count": null,
      "outputs": [
        {
          "output_type": "execute_result",
          "data": {
            "text/plain": [
              "<matplotlib.image.AxesImage at 0x7f7e629f0e20>"
            ]
          },
          "metadata": {},
          "execution_count": 11
        },
        {
          "output_type": "display_data",
          "data": {
            "text/plain": [
              "<Figure size 640x480 with 1 Axes>"
            ],
            "image/png": "[encoded data removed]"
          },
          "metadata": {}
        }
      ]
    },
    {
      "cell_type": "code",
      "source": [
        "y_train[0]"
      ],
      "metadata": {
        "colab": {
          "base_uri": "https://localhost:8080/"
        },
        "id": "H20KKqesXfVW",
        "outputId": "699d0249-0929-496a-c997-950bb28dfb56"
      },
      "execution_count": null,
      "outputs": [
        {
          "output_type": "execute_result",
          "data": {
            "text/plain": [
              "6"
            ]
          },
          "metadata": {},
          "execution_count": 12
        }
      ]
    },
    {
      "cell_type": "markdown",
      "source": [
        "# 7.4.2 딥러닝 모델 생성과 학습"
      ],
      "metadata": {
        "id": "aHtXc47-Ya1d"
      }
    },
    {
      "cell_type": "code",
      "source": [
        "import tensorflow.keras as keras\n",
        "from keras import layers\n",
        "from keras import optimizers"
      ],
      "metadata": {
        "id": "8oVrt7YCXzje"
      },
      "execution_count": null,
      "outputs": []
    },
    {
      "cell_type": "code",
      "source": [
        "y_train = keras.utils.to_categorical(y_train)"
      ],
      "metadata": {
        "id": "cpI-so-TYQWG"
      },
      "execution_count": null,
      "outputs": []
    },
    {
      "cell_type": "code",
      "source": [
        "y_train"
      ],
      "metadata": {
        "colab": {
          "base_uri": "https://localhost:8080/"
        },
        "id": "W6iC3QjCYilf",
        "outputId": "0bab39e7-8fb1-4abf-ba06-50d32188a289"
      },
      "execution_count": null,
      "outputs": [
        {
          "output_type": "execute_result",
          "data": {
            "text/plain": [
              "array([[0., 0., 0., ..., 0., 0., 0.],\n",
              "       [0., 0., 0., ..., 0., 0., 0.],\n",
              "       [0., 0., 0., ..., 1., 0., 0.],\n",
              "       ...,\n",
              "       [0., 0., 1., ..., 0., 0., 0.],\n",
              "       [0., 0., 0., ..., 0., 0., 1.],\n",
              "       [0., 0., 0., ..., 0., 0., 0.]], dtype=float32)"
            ]
          },
          "metadata": {},
          "execution_count": 15
        }
      ]
    },
    {
      "cell_type": "code",
      "source": [
        "# 2차원 합성곱층을 사용하기 위해서\n",
        "# 입력 데이터(x_train)의 이미지 데이터 부분을을(28x28) 3차원에 맞춰야 함\n",
        "# 이미지 데이터 - 3차원(R,G,B)\n",
        "x_train = np.expand_dims(x_train,-1)  # 4차원으로 수정"
      ],
      "metadata": {
        "id": "2nfGHVd_YjM-"
      },
      "execution_count": null,
      "outputs": []
    },
    {
      "cell_type": "code",
      "source": [
        "x_train.shape"
      ],
      "metadata": {
        "colab": {
          "base_uri": "https://localhost:8080/"
        },
        "id": "sP2BOH7aZA3X",
        "outputId": "b3ed3afc-bb10-49f8-d753-951884e1f237"
      },
      "execution_count": null,
      "outputs": [
        {
          "output_type": "execute_result",
          "data": {
            "text/plain": [
              "(20000, 28, 28, 1)"
            ]
          },
          "metadata": {},
          "execution_count": 17
        }
      ]
    },
    {
      "cell_type": "code",
      "source": [
        "x_train[0,:,:]"
      ],
      "metadata": {
        "colab": {
          "base_uri": "https://localhost:8080/"
        },
        "id": "z6w1_OZ0XJ2i",
        "outputId": "18b28951-e227-43b7-968a-4792aec91b21"
      },
      "execution_count": null,
      "outputs": [
        {
          "output_type": "execute_result",
          "data": {
            "text/plain": [
              "array([[[  0],\n",
              "        [  0],\n",
              "        [  0],\n",
              "        [  0],\n",
              "        [  0],\n",
              "        [  0],\n",
              "        [  0],\n",
              "        [  0],\n",
              "        [  0],\n",
              "        [  0],\n",
              "        [  0],\n",
              "        [  0],\n",
              "        [  0],\n",
              "        [  0],\n",
              "        [  0],\n",
              "        [  0],\n",
              "        [  0],\n",
              "        [  0],\n",
              "        [  0],\n",
              "        [  0],\n",
              "        [  0],\n",
              "        [  0],\n",
              "        [  0],\n",
              "        [  0],\n",
              "        [  0],\n",
              "        [  0],\n",
              "        [  0],\n",
              "        [  0]],\n",
              "\n",
              "       [[  0],\n",
              "        [  0],\n",
              "        [  0],\n",
              "        [  0],\n",
              "        [  0],\n",
              "        [  0],\n",
              "        [  0],\n",
              "        [  0],\n",
              "        [  0],\n",
              "        [  0],\n",
              "        [  0],\n",
              "        [  0],\n",
              "        [  0],\n",
              "        [  0],\n",
              "        [  0],\n",
              "        [  0],\n",
              "        [  0],\n",
              "        [  0],\n",
              "        [  0],\n",
              "        [  0],\n",
              "        [  0],\n",
              "        [  0],\n",
              "        [  0],\n",
              "        [  0],\n",
              "        [  0],\n",
              "        [  0],\n",
              "        [  0],\n",
              "        [  0]],\n",
              "\n",
              "       [[  0],\n",
              "        [  0],\n",
              "        [  0],\n",
              "        [  0],\n",
              "        [  0],\n",
              "        [  0],\n",
              "        [  0],\n",
              "        [  0],\n",
              "        [  0],\n",
              "        [  0],\n",
              "        [  0],\n",
              "        [  0],\n",
              "        [  0],\n",
              "        [  0],\n",
              "        [  0],\n",
              "        [  0],\n",
              "        [  0],\n",
              "        [  0],\n",
              "        [  0],\n",
              "        [  0],\n",
              "        [  0],\n",
              "        [  0],\n",
              "        [  0],\n",
              "        [  0],\n",
              "        [  0],\n",
              "        [  0],\n",
              "        [  0],\n",
              "        [  0]],\n",
              "\n",
              "       [[  0],\n",
              "        [  0],\n",
              "        [  0],\n",
              "        [  0],\n",
              "        [  0],\n",
              "        [  0],\n",
              "        [  0],\n",
              "        [  0],\n",
              "        [  0],\n",
              "        [  0],\n",
              "        [  0],\n",
              "        [  0],\n",
              "        [  0],\n",
              "        [  0],\n",
              "        [  0],\n",
              "        [  0],\n",
              "        [  0],\n",
              "        [  0],\n",
              "        [  0],\n",
              "        [  0],\n",
              "        [  0],\n",
              "        [  0],\n",
              "        [  0],\n",
              "        [  0],\n",
              "        [  0],\n",
              "        [  0],\n",
              "        [  0],\n",
              "        [  0]],\n",
              "\n",
              "       [[  0],\n",
              "        [  0],\n",
              "        [  0],\n",
              "        [  0],\n",
              "        [  0],\n",
              "        [  0],\n",
              "        [  0],\n",
              "        [  0],\n",
              "        [  0],\n",
              "        [  0],\n",
              "        [ 24],\n",
              "        [ 67],\n",
              "        [ 67],\n",
              "        [ 18],\n",
              "        [  0],\n",
              "        [  0],\n",
              "        [  0],\n",
              "        [  0],\n",
              "        [  0],\n",
              "        [  0],\n",
              "        [  0],\n",
              "        [  0],\n",
              "        [  0],\n",
              "        [  0],\n",
              "        [  0],\n",
              "        [  0],\n",
              "        [  0],\n",
              "        [  0]],\n",
              "\n",
              "       [[  0],\n",
              "        [  0],\n",
              "        [  0],\n",
              "        [  0],\n",
              "        [  0],\n",
              "        [  0],\n",
              "        [  0],\n",
              "        [  0],\n",
              "        [  0],\n",
              "        [  0],\n",
              "        [131],\n",
              "        [252],\n",
              "        [252],\n",
              "        [ 66],\n",
              "        [  0],\n",
              "        [  0],\n",
              "        [  0],\n",
              "        [  0],\n",
              "        [  0],\n",
              "        [  0],\n",
              "        [  0],\n",
              "        [  0],\n",
              "        [  0],\n",
              "        [  0],\n",
              "        [  0],\n",
              "        [  0],\n",
              "        [  0],\n",
              "        [  0]],\n",
              "\n",
              "       [[  0],\n",
              "        [  0],\n",
              "        [  0],\n",
              "        [  0],\n",
              "        [  0],\n",
              "        [  0],\n",
              "        [  0],\n",
              "        [  0],\n",
              "        [  0],\n",
              "        [159],\n",
              "        [250],\n",
              "        [232],\n",
              "        [ 30],\n",
              "        [ 32],\n",
              "        [  0],\n",
              "        [  0],\n",
              "        [  0],\n",
              "        [  0],\n",
              "        [  0],\n",
              "        [  0],\n",
              "        [  0],\n",
              "        [  0],\n",
              "        [  0],\n",
              "        [  0],\n",
              "        [  0],\n",
              "        [  0],\n",
              "        [  0],\n",
              "        [  0]],\n",
              "\n",
              "       [[  0],\n",
              "        [  0],\n",
              "        [  0],\n",
              "        [  0],\n",
              "        [  0],\n",
              "        [  0],\n",
              "        [  0],\n",
              "        [  0],\n",
              "        [ 15],\n",
              "        [222],\n",
              "        [252],\n",
              "        [108],\n",
              "        [  0],\n",
              "        [  0],\n",
              "        [  0],\n",
              "        [  0],\n",
              "        [  0],\n",
              "        [  0],\n",
              "        [  0],\n",
              "        [  0],\n",
              "        [  0],\n",
              "        [  0],\n",
              "        [  0],\n",
              "        [  0],\n",
              "        [  0],\n",
              "        [  0],\n",
              "        [  0],\n",
              "        [  0]],\n",
              "\n",
              "       [[  0],\n",
              "        [  0],\n",
              "        [  0],\n",
              "        [  0],\n",
              "        [  0],\n",
              "        [  0],\n",
              "        [  0],\n",
              "        [  0],\n",
              "        [147],\n",
              "        [252],\n",
              "        [183],\n",
              "        [  5],\n",
              "        [  0],\n",
              "        [  0],\n",
              "        [  0],\n",
              "        [  0],\n",
              "        [  0],\n",
              "        [  0],\n",
              "        [  0],\n",
              "        [ 20],\n",
              "        [ 89],\n",
              "        [ 89],\n",
              "        [ 73],\n",
              "        [  0],\n",
              "        [  0],\n",
              "        [  0],\n",
              "        [  0],\n",
              "        [  0]],\n",
              "\n",
              "       [[  0],\n",
              "        [  0],\n",
              "        [  0],\n",
              "        [  0],\n",
              "        [  0],\n",
              "        [  0],\n",
              "        [  0],\n",
              "        [ 48],\n",
              "        [247],\n",
              "        [252],\n",
              "        [159],\n",
              "        [  0],\n",
              "        [  0],\n",
              "        [  0],\n",
              "        [  0],\n",
              "        [  0],\n",
              "        [  0],\n",
              "        [  0],\n",
              "        [ 79],\n",
              "        [236],\n",
              "        [252],\n",
              "        [252],\n",
              "        [249],\n",
              "        [198],\n",
              "        [ 16],\n",
              "        [  0],\n",
              "        [  0],\n",
              "        [  0]],\n",
              "\n",
              "       [[  0],\n",
              "        [  0],\n",
              "        [  0],\n",
              "        [  0],\n",
              "        [  0],\n",
              "        [  0],\n",
              "        [ 41],\n",
              "        [193],\n",
              "        [252],\n",
              "        [199],\n",
              "        [ 22],\n",
              "        [  0],\n",
              "        [  0],\n",
              "        [  0],\n",
              "        [  0],\n",
              "        [  0],\n",
              "        [ 12],\n",
              "        [135],\n",
              "        [248],\n",
              "        [252],\n",
              "        [252],\n",
              "        [252],\n",
              "        [252],\n",
              "        [252],\n",
              "        [100],\n",
              "        [  0],\n",
              "        [  0],\n",
              "        [  0]],\n",
              "\n",
              "       [[  0],\n",
              "        [  0],\n",
              "        [  0],\n",
              "        [  0],\n",
              "        [  0],\n",
              "        [  0],\n",
              "        [100],\n",
              "        [252],\n",
              "        [252],\n",
              "        [ 88],\n",
              "        [  0],\n",
              "        [  0],\n",
              "        [  0],\n",
              "        [  0],\n",
              "        [  0],\n",
              "        [ 11],\n",
              "        [171],\n",
              "        [252],\n",
              "        [252],\n",
              "        [235],\n",
              "        [175],\n",
              "        [178],\n",
              "        [252],\n",
              "        [252],\n",
              "        [224],\n",
              "        [  0],\n",
              "        [  0],\n",
              "        [  0]],\n",
              "\n",
              "       [[  0],\n",
              "        [  0],\n",
              "        [  0],\n",
              "        [  0],\n",
              "        [  0],\n",
              "        [ 15],\n",
              "        [209],\n",
              "        [252],\n",
              "        [233],\n",
              "        [ 12],\n",
              "        [  0],\n",
              "        [  0],\n",
              "        [  0],\n",
              "        [  0],\n",
              "        [ 49],\n",
              "        [177],\n",
              "        [252],\n",
              "        [252],\n",
              "        [ 89],\n",
              "        [ 26],\n",
              "        [  0],\n",
              "        [  2],\n",
              "        [166],\n",
              "        [252],\n",
              "        [252],\n",
              "        [  0],\n",
              "        [  0],\n",
              "        [  0]],\n",
              "\n",
              "       [[  0],\n",
              "        [  0],\n",
              "        [  0],\n",
              "        [  0],\n",
              "        [  0],\n",
              "        [ 96],\n",
              "        [253],\n",
              "        [253],\n",
              "        [ 59],\n",
              "        [  0],\n",
              "        [  0],\n",
              "        [  0],\n",
              "        [  0],\n",
              "        [ 11],\n",
              "        [177],\n",
              "        [255],\n",
              "        [253],\n",
              "        [ 92],\n",
              "        [  0],\n",
              "        [  0],\n",
              "        [  0],\n",
              "        [  0],\n",
              "        [155],\n",
              "        [253],\n",
              "        [128],\n",
              "        [  0],\n",
              "        [  0],\n",
              "        [  0]],\n",
              "\n",
              "       [[  0],\n",
              "        [  0],\n",
              "        [  0],\n",
              "        [  0],\n",
              "        [  0],\n",
              "        [143],\n",
              "        [252],\n",
              "        [252],\n",
              "        [ 10],\n",
              "        [  0],\n",
              "        [  0],\n",
              "        [  0],\n",
              "        [ 12],\n",
              "        [171],\n",
              "        [252],\n",
              "        [216],\n",
              "        [110],\n",
              "        [ 13],\n",
              "        [  0],\n",
              "        [  0],\n",
              "        [  0],\n",
              "        [  3],\n",
              "        [180],\n",
              "        [232],\n",
              "        [ 24],\n",
              "        [  0],\n",
              "        [  0],\n",
              "        [  0]],\n",
              "\n",
              "       [[  0],\n",
              "        [  0],\n",
              "        [  0],\n",
              "        [  0],\n",
              "        [  0],\n",
              "        [143],\n",
              "        [252],\n",
              "        [170],\n",
              "        [  2],\n",
              "        [  0],\n",
              "        [  0],\n",
              "        [  0],\n",
              "        [135],\n",
              "        [252],\n",
              "        [209],\n",
              "        [ 19],\n",
              "        [  0],\n",
              "        [  0],\n",
              "        [  0],\n",
              "        [  0],\n",
              "        [  0],\n",
              "        [ 12],\n",
              "        [252],\n",
              "        [132],\n",
              "        [  0],\n",
              "        [  0],\n",
              "        [  0],\n",
              "        [  0]],\n",
              "\n",
              "       [[  0],\n",
              "        [  0],\n",
              "        [  0],\n",
              "        [  0],\n",
              "        [  0],\n",
              "        [249],\n",
              "        [252],\n",
              "        [ 96],\n",
              "        [  0],\n",
              "        [  0],\n",
              "        [  0],\n",
              "        [ 21],\n",
              "        [248],\n",
              "        [246],\n",
              "        [ 34],\n",
              "        [  0],\n",
              "        [  0],\n",
              "        [  0],\n",
              "        [  0],\n",
              "        [  5],\n",
              "        [ 61],\n",
              "        [234],\n",
              "        [152],\n",
              "        [  3],\n",
              "        [  0],\n",
              "        [  0],\n",
              "        [  0],\n",
              "        [  0]],\n",
              "\n",
              "       [[  0],\n",
              "        [  0],\n",
              "        [  0],\n",
              "        [  0],\n",
              "        [  0],\n",
              "        [253],\n",
              "        [252],\n",
              "        [ 44],\n",
              "        [  0],\n",
              "        [  0],\n",
              "        [  0],\n",
              "        [145],\n",
              "        [252],\n",
              "        [104],\n",
              "        [  0],\n",
              "        [  0],\n",
              "        [  0],\n",
              "        [ 46],\n",
              "        [114],\n",
              "        [184],\n",
              "        [252],\n",
              "        [149],\n",
              "        [ 34],\n",
              "        [  0],\n",
              "        [  0],\n",
              "        [  0],\n",
              "        [  0],\n",
              "        [  0]],\n",
              "\n",
              "       [[  0],\n",
              "        [  0],\n",
              "        [  0],\n",
              "        [  0],\n",
              "        [  0],\n",
              "        [253],\n",
              "        [252],\n",
              "        [ 82],\n",
              "        [  0],\n",
              "        [  0],\n",
              "        [ 31],\n",
              "        [239],\n",
              "        [252],\n",
              "        [ 66],\n",
              "        [ 39],\n",
              "        [ 89],\n",
              "        [165],\n",
              "        [243],\n",
              "        [252],\n",
              "        [233],\n",
              "        [126],\n",
              "        [  5],\n",
              "        [  0],\n",
              "        [  0],\n",
              "        [  0],\n",
              "        [  0],\n",
              "        [  0],\n",
              "        [  0]],\n",
              "\n",
              "       [[  0],\n",
              "        [  0],\n",
              "        [  0],\n",
              "        [  0],\n",
              "        [  0],\n",
              "        [249],\n",
              "        [252],\n",
              "        [244],\n",
              "        [126],\n",
              "        [ 98],\n",
              "        [143],\n",
              "        [252],\n",
              "        [252],\n",
              "        [237],\n",
              "        [240],\n",
              "        [253],\n",
              "        [252],\n",
              "        [243],\n",
              "        [174],\n",
              "        [ 17],\n",
              "        [  0],\n",
              "        [  0],\n",
              "        [  0],\n",
              "        [  0],\n",
              "        [  0],\n",
              "        [  0],\n",
              "        [  0],\n",
              "        [  0]],\n",
              "\n",
              "       [[  0],\n",
              "        [  0],\n",
              "        [  0],\n",
              "        [  0],\n",
              "        [  0],\n",
              "        [119],\n",
              "        [239],\n",
              "        [252],\n",
              "        [252],\n",
              "        [252],\n",
              "        [252],\n",
              "        [252],\n",
              "        [252],\n",
              "        [252],\n",
              "        [252],\n",
              "        [228],\n",
              "        [179],\n",
              "        [ 17],\n",
              "        [  0],\n",
              "        [  0],\n",
              "        [  0],\n",
              "        [  0],\n",
              "        [  0],\n",
              "        [  0],\n",
              "        [  0],\n",
              "        [  0],\n",
              "        [  0],\n",
              "        [  0]],\n",
              "\n",
              "       [[  0],\n",
              "        [  0],\n",
              "        [  0],\n",
              "        [  0],\n",
              "        [  0],\n",
              "        [  0],\n",
              "        [ 46],\n",
              "        [ 66],\n",
              "        [ 66],\n",
              "        [ 66],\n",
              "        [ 66],\n",
              "        [ 66],\n",
              "        [ 66],\n",
              "        [ 66],\n",
              "        [ 66],\n",
              "        [ 29],\n",
              "        [  0],\n",
              "        [  0],\n",
              "        [  0],\n",
              "        [  0],\n",
              "        [  0],\n",
              "        [  0],\n",
              "        [  0],\n",
              "        [  0],\n",
              "        [  0],\n",
              "        [  0],\n",
              "        [  0],\n",
              "        [  0]],\n",
              "\n",
              "       [[  0],\n",
              "        [  0],\n",
              "        [  0],\n",
              "        [  0],\n",
              "        [  0],\n",
              "        [  0],\n",
              "        [  0],\n",
              "        [  0],\n",
              "        [  0],\n",
              "        [  0],\n",
              "        [  0],\n",
              "        [  0],\n",
              "        [  0],\n",
              "        [  0],\n",
              "        [  0],\n",
              "        [  0],\n",
              "        [  0],\n",
              "        [  0],\n",
              "        [  0],\n",
              "        [  0],\n",
              "        [  0],\n",
              "        [  0],\n",
              "        [  0],\n",
              "        [  0],\n",
              "        [  0],\n",
              "        [  0],\n",
              "        [  0],\n",
              "        [  0]],\n",
              "\n",
              "       [[  0],\n",
              "        [  0],\n",
              "        [  0],\n",
              "        [  0],\n",
              "        [  0],\n",
              "        [  0],\n",
              "        [  0],\n",
              "        [  0],\n",
              "        [  0],\n",
              "        [  0],\n",
              "        [  0],\n",
              "        [  0],\n",
              "        [  0],\n",
              "        [  0],\n",
              "        [  0],\n",
              "        [  0],\n",
              "        [  0],\n",
              "        [  0],\n",
              "        [  0],\n",
              "        [  0],\n",
              "        [  0],\n",
              "        [  0],\n",
              "        [  0],\n",
              "        [  0],\n",
              "        [  0],\n",
              "        [  0],\n",
              "        [  0],\n",
              "        [  0]],\n",
              "\n",
              "       [[  0],\n",
              "        [  0],\n",
              "        [  0],\n",
              "        [  0],\n",
              "        [  0],\n",
              "        [  0],\n",
              "        [  0],\n",
              "        [  0],\n",
              "        [  0],\n",
              "        [  0],\n",
              "        [  0],\n",
              "        [  0],\n",
              "        [  0],\n",
              "        [  0],\n",
              "        [  0],\n",
              "        [  0],\n",
              "        [  0],\n",
              "        [  0],\n",
              "        [  0],\n",
              "        [  0],\n",
              "        [  0],\n",
              "        [  0],\n",
              "        [  0],\n",
              "        [  0],\n",
              "        [  0],\n",
              "        [  0],\n",
              "        [  0],\n",
              "        [  0]],\n",
              "\n",
              "       [[  0],\n",
              "        [  0],\n",
              "        [  0],\n",
              "        [  0],\n",
              "        [  0],\n",
              "        [  0],\n",
              "        [  0],\n",
              "        [  0],\n",
              "        [  0],\n",
              "        [  0],\n",
              "        [  0],\n",
              "        [  0],\n",
              "        [  0],\n",
              "        [  0],\n",
              "        [  0],\n",
              "        [  0],\n",
              "        [  0],\n",
              "        [  0],\n",
              "        [  0],\n",
              "        [  0],\n",
              "        [  0],\n",
              "        [  0],\n",
              "        [  0],\n",
              "        [  0],\n",
              "        [  0],\n",
              "        [  0],\n",
              "        [  0],\n",
              "        [  0]],\n",
              "\n",
              "       [[  0],\n",
              "        [  0],\n",
              "        [  0],\n",
              "        [  0],\n",
              "        [  0],\n",
              "        [  0],\n",
              "        [  0],\n",
              "        [  0],\n",
              "        [  0],\n",
              "        [  0],\n",
              "        [  0],\n",
              "        [  0],\n",
              "        [  0],\n",
              "        [  0],\n",
              "        [  0],\n",
              "        [  0],\n",
              "        [  0],\n",
              "        [  0],\n",
              "        [  0],\n",
              "        [  0],\n",
              "        [  0],\n",
              "        [  0],\n",
              "        [  0],\n",
              "        [  0],\n",
              "        [  0],\n",
              "        [  0],\n",
              "        [  0],\n",
              "        [  0]],\n",
              "\n",
              "       [[  0],\n",
              "        [  0],\n",
              "        [  0],\n",
              "        [  0],\n",
              "        [  0],\n",
              "        [  0],\n",
              "        [  0],\n",
              "        [  0],\n",
              "        [  0],\n",
              "        [  0],\n",
              "        [  0],\n",
              "        [  0],\n",
              "        [  0],\n",
              "        [  0],\n",
              "        [  0],\n",
              "        [  0],\n",
              "        [  0],\n",
              "        [  0],\n",
              "        [  0],\n",
              "        [  0],\n",
              "        [  0],\n",
              "        [  0],\n",
              "        [  0],\n",
              "        [  0],\n",
              "        [  0],\n",
              "        [  0],\n",
              "        [  0],\n",
              "        [  0]]])"
            ]
          },
          "metadata": {},
          "execution_count": 36
        }
      ]
    },
    {
      "cell_type": "code",
      "source": [
        "# 정규화\n",
        "x_train = x_train/255"
      ],
      "metadata": {
        "id": "dfn5s6eMXGXy"
      },
      "execution_count": null,
      "outputs": []
    },
    {
      "cell_type": "code",
      "source": [
        "from keras import Sequential"
      ],
      "metadata": {
        "id": "mvQFBuyDZCSP"
      },
      "execution_count": null,
      "outputs": []
    },
    {
      "cell_type": "code",
      "source": [
        "model = Sequential()\n",
        "# 1) 합성곱 생성\n",
        "# model.add(layers.Conv2D(filters=8, kernel_size=3, input_shape=(28,28,1),activation='relu'))\n",
        "# model.add(layers.Conv2D(filters=16, kernel_size=3, activation='relu'))\n",
        "# 2) padding 추가 -> Shape 유지\n",
        "model.add(layers.Conv2D(filters=8, kernel_size=3, input_shape=(28,28,1),activation='relu', padding='same'))\n",
        "model.add(layers.Conv2D(filters=16, kernel_size=3, activation='relu', padding='same'))\n",
        "model.add(layers.MaxPooling2D(strides=2, padding='same')) # stride = 2 -> 이미지 크기 1/2\n",
        "model.add(layers.Flatten())\n",
        "model.add(layers.Dense(units=10, activation='softmax'))\n",
        "# 원-핫 인코딩을 통해 이미지가 범주형 데이터가 되었음 -> softmax 사용"
      ],
      "metadata": {
        "id": "qtZbTfcVZTSO"
      },
      "execution_count": null,
      "outputs": []
    },
    {
      "cell_type": "code",
      "source": [
        "model.compile(loss='categorical_crossentropy', optimizer=optimizers.\n",
        "              RMSprop(learning_rate=0.001), metrics=['accuracy'])\n",
        "              # learning_rate 낮추면 -> 세밀한 분석 가능, 시간 오래 걸림, local minimum 빠질 위험"
      ],
      "metadata": {
        "id": "bcuNrtbDhlFd"
      },
      "execution_count": null,
      "outputs": []
    },
    {
      "cell_type": "code",
      "source": [
        "# 1)\n",
        "model.summary()\n",
        "# Flatten = (max_pooling2d_3) 12 x 12 x 16 = 2304"
      ],
      "metadata": {
        "colab": {
          "base_uri": "https://localhost:8080/"
        },
        "id": "VF_09oMqaWSH",
        "outputId": "d0afdd41-177b-4e2a-89d7-e084c14248bc"
      },
      "execution_count": null,
      "outputs": [
        {
          "output_type": "stream",
          "name": "stdout",
          "text": [
            "Model: \"sequential\"\n",
            "_________________________________________________________________\n",
            " Layer (type)                Output Shape              Param #   \n",
            "=================================================================\n",
            " conv2d (Conv2D)             (None, 28, 28, 8)         80        \n",
            "                                                                 \n",
            " conv2d_1 (Conv2D)           (None, 28, 28, 16)        1168      \n",
            "                                                                 \n",
            " max_pooling2d (MaxPooling2D  (None, 14, 14, 16)       0         \n",
            " )                                                               \n",
            "                                                                 \n",
            " flatten (Flatten)           (None, 3136)              0         \n",
            "                                                                 \n",
            " dense (Dense)               (None, 10)                31370     \n",
            "                                                                 \n",
            "=================================================================\n",
            "Total params: 32,618\n",
            "Trainable params: 32,618\n",
            "Non-trainable params: 0\n",
            "_________________________________________________________________\n"
          ]
        }
      ]
    },
    {
      "cell_type": "code",
      "source": [
        "# 2) padding 추가 한 경우\n",
        "model.summary()"
      ],
      "metadata": {
        "colab": {
          "base_uri": "https://localhost:8080/"
        },
        "id": "RBEkGex0dM8e",
        "outputId": "e85d9eee-153a-41ef-9476-443cf64b8cde"
      },
      "execution_count": null,
      "outputs": [
        {
          "output_type": "stream",
          "name": "stdout",
          "text": [
            "Model: \"sequential_1\"\n",
            "_________________________________________________________________\n",
            " Layer (type)                Output Shape              Param #   \n",
            "=================================================================\n",
            " conv2d_2 (Conv2D)           (None, 28, 28, 8)         80        \n",
            "                                                                 \n",
            " conv2d_3 (Conv2D)           (None, 28, 28, 16)        1168      \n",
            "                                                                 \n",
            " max_pooling2d_1 (MaxPooling  (None, 14, 14, 16)       0         \n",
            " 2D)                                                             \n",
            "                                                                 \n",
            " flatten_1 (Flatten)         (None, 3136)              0         \n",
            "                                                                 \n",
            " dense_1 (Dense)             (None, 10)                31370     \n",
            "                                                                 \n",
            "=================================================================\n",
            "Total params: 32,618\n",
            "Trainable params: 32,618\n",
            "Non-trainable params: 0\n",
            "_________________________________________________________________\n"
          ]
        }
      ]
    },
    {
      "cell_type": "code",
      "source": [
        "hist = model.fit(x_train, y_train, epochs=10, batch_size=64, validation_split=0.3)\n",
        "# val_accuracy 이 더 중요쓰 ......"
      ],
      "metadata": {
        "colab": {
          "base_uri": "https://localhost:8080/"
        },
        "id": "OXuUkJTBaA1H",
        "outputId": "4097d5ca-06d0-49d9-ffdf-c19f9d795a36"
      },
      "execution_count": null,
      "outputs": [
        {
          "output_type": "stream",
          "name": "stdout",
          "text": [
            "Epoch 1/10\n",
            "219/219 [==============================] - 2s 7ms/step - loss: 0.4674 - accuracy: 0.8634 - val_loss: 0.2395 - val_accuracy: 0.9328\n",
            "Epoch 2/10\n",
            "219/219 [==============================] - 1s 5ms/step - loss: 0.1871 - accuracy: 0.9432 - val_loss: 0.1871 - val_accuracy: 0.9455\n",
            "Epoch 3/10\n",
            "219/219 [==============================] - 1s 5ms/step - loss: 0.1226 - accuracy: 0.9631 - val_loss: 0.1251 - val_accuracy: 0.9622\n",
            "Epoch 4/10\n",
            "219/219 [==============================] - 1s 6ms/step - loss: 0.0921 - accuracy: 0.9726 - val_loss: 0.1007 - val_accuracy: 0.9715\n",
            "Epoch 5/10\n",
            "219/219 [==============================] - 2s 7ms/step - loss: 0.0738 - accuracy: 0.9784 - val_loss: 0.0868 - val_accuracy: 0.9752\n",
            "Epoch 6/10\n",
            "219/219 [==============================] - 2s 7ms/step - loss: 0.0636 - accuracy: 0.9827 - val_loss: 0.0797 - val_accuracy: 0.9758\n",
            "Epoch 7/10\n",
            "219/219 [==============================] - 1s 5ms/step - loss: 0.0519 - accuracy: 0.9858 - val_loss: 0.0822 - val_accuracy: 0.9747\n",
            "Epoch 8/10\n",
            "219/219 [==============================] - 1s 5ms/step - loss: 0.0447 - accuracy: 0.9880 - val_loss: 0.0728 - val_accuracy: 0.9787\n",
            "Epoch 9/10\n",
            "219/219 [==============================] - 1s 5ms/step - loss: 0.0388 - accuracy: 0.9900 - val_loss: 0.0830 - val_accuracy: 0.9778\n",
            "Epoch 10/10\n",
            "219/219 [==============================] - 1s 5ms/step - loss: 0.0338 - accuracy: 0.9914 - val_loss: 0.0733 - val_accuracy: 0.9793\n"
          ]
        }
      ]
    },
    {
      "cell_type": "code",
      "source": [
        "def drawHistory(hist):\n",
        "  fig = plt.figure(figsize=(15,10))   # 10x15 크기의 figure 생성\n",
        "  loss_ax = plt.gca()                 # figure의 기본 축 가져오기\n",
        "  acc_ax = loss_ax.twinx()            # 축을 1개 더 추가\n",
        "\n",
        "  # 손실 변화 양상을 그래프로 표시\n",
        "  loss_ax.plot(hist.history['loss'], 'y', label='train loss')\n",
        "  loss_ax.plot(hist.history['val_loss'], 'r', label='val_loss')\n",
        "  loss_ax.set_xlabel('epoch')\n",
        "  loss_ax.set_ylabel('loss')\n",
        "  loss_ax.legend(loc='lower left')\n",
        "\n",
        "  # 정확도 변화 양상을 그래프로 표시\n",
        "  acc_ax.plot(hist.history['accuracy'], 'b', label='train acc')\n",
        "  acc_ax.plot(hist.history['val_accuracy'], 'g', label='val acc')\n",
        "  acc_ax.set_ylabel('accuracy')\n",
        "  acc_ax.legend(loc='upper left')\n",
        "\n",
        "  plt.show()"
      ],
      "metadata": {
        "id": "YajF4oUKchdG"
      },
      "execution_count": null,
      "outputs": []
    },
    {
      "cell_type": "code",
      "source": [
        "drawHistory(hist)"
      ],
      "metadata": {
        "colab": {
          "base_uri": "https://localhost:8080/",
          "height": 850
        },
        "id": "hl87PzVahppG",
        "outputId": "5b5e0001-845b-4217-d9df-3de8b3e06ef1"
      },
      "execution_count": null,
      "outputs": [
        {
          "output_type": "display_data",
          "data": {
            "text/plain": [
              "<Figure size 1500x1000 with 2 Axes>"
            ],
            "image/png": "[encoded data removed]"
          },
          "metadata": {}
        }
      ]
    },
    {
      "cell_type": "markdown",
      "source": [
        "# 7.4.3 테스트"
      ],
      "metadata": {
        "id": "P5fOOF75iso4"
      }
    },
    {
      "cell_type": "code",
      "source": [
        "data = pd.read_csv('/content/sample_data/mnist_test.csv', header=None)\n",
        "data = np.array(data)"
      ],
      "metadata": {
        "id": "KeysdUA0ihFj"
      },
      "execution_count": null,
      "outputs": []
    },
    {
      "cell_type": "code",
      "source": [
        "x_test = data[:,1:]\n",
        "y_test = data[:,0]\n",
        "x_test = x_test.reshape(-1,28,28,1)"
      ],
      "metadata": {
        "id": "XiU7_DLzi0DX"
      },
      "execution_count": null,
      "outputs": []
    },
    {
      "cell_type": "code",
      "source": [
        "x_test = x_test / 255"
      ],
      "metadata": {
        "id": "6DTukbFcXgmE"
      },
      "execution_count": null,
      "outputs": []
    },
    {
      "cell_type": "code",
      "source": [
        "o = model.predict(x_test)"
      ],
      "metadata": {
        "colab": {
          "base_uri": "https://localhost:8080/"
        },
        "id": "uZk4z5S-i68p",
        "outputId": "dbae1f3c-565e-48fd-95e5-666e9ed63a7e"
      },
      "execution_count": null,
      "outputs": [
        {
          "output_type": "stream",
          "name": "stdout",
          "text": [
            "313/313 [==============================] - 1s 2ms/step\n"
          ]
        }
      ]
    },
    {
      "cell_type": "code",
      "source": [
        "o.shape"
      ],
      "metadata": {
        "colab": {
          "base_uri": "https://localhost:8080/"
        },
        "id": "flrghAm7jREY",
        "outputId": "0ebeafab-a275-42ea-b667-2d05d3a949aa"
      },
      "execution_count": null,
      "outputs": [
        {
          "output_type": "execute_result",
          "data": {
            "text/plain": [
              "(10000, 10)"
            ]
          },
          "metadata": {},
          "execution_count": 48
        }
      ]
    },
    {
      "cell_type": "code",
      "source": [
        "o[0,:]"
      ],
      "metadata": {
        "colab": {
          "base_uri": "https://localhost:8080/"
        },
        "id": "IzAc3KDJjN-o",
        "outputId": "621fbfd2-677f-4479-9605-5847dd97f8d3"
      },
      "execution_count": null,
      "outputs": [
        {
          "output_type": "execute_result",
          "data": {
            "text/plain": [
              "array([3.7732152e-13, 1.1855021e-14, 8.7580845e-11, 7.3016871e-08,\n",
              "       5.9989669e-16, 1.4327747e-12, 9.0783395e-21, 9.9999988e-01,\n",
              "       2.2909952e-09, 7.6220869e-10], dtype=float32)"
            ]
          },
          "metadata": {},
          "execution_count": 49
        }
      ]
    },
    {
      "cell_type": "code",
      "source": [
        "y_test[0]"
      ],
      "metadata": {
        "colab": {
          "base_uri": "https://localhost:8080/"
        },
        "id": "h50kUERDjP2g",
        "outputId": "fa695b6f-0338-43aa-d0e6-a1208400961d"
      },
      "execution_count": null,
      "outputs": [
        {
          "output_type": "execute_result",
          "data": {
            "text/plain": [
              "7"
            ]
          },
          "metadata": {},
          "execution_count": 50
        }
      ]
    },
    {
      "cell_type": "code",
      "source": [
        "np.argmax(o,-1)"
      ],
      "metadata": {
        "colab": {
          "base_uri": "https://localhost:8080/"
        },
        "id": "6kz7Wo9MjywY",
        "outputId": "cdcae12c-a9ba-483d-d1a2-afebfec2f794"
      },
      "execution_count": null,
      "outputs": [
        {
          "output_type": "execute_result",
          "data": {
            "text/plain": [
              "array([7, 2, 1, ..., 4, 5, 6])"
            ]
          },
          "metadata": {},
          "execution_count": 51
        }
      ]
    },
    {
      "cell_type": "code",
      "source": [
        "o = np.argmax(o, -1)"
      ],
      "metadata": {
        "id": "9KkefXVYkAvQ"
      },
      "execution_count": null,
      "outputs": []
    },
    {
      "cell_type": "code",
      "source": [
        "sum(y_test == o) / len(y_test)"
      ],
      "metadata": {
        "colab": {
          "base_uri": "https://localhost:8080/"
        },
        "id": "fUl16aXikCip",
        "outputId": "b78e504b-d6f0-45ef-fff9-0421aecf42f6"
      },
      "execution_count": null,
      "outputs": [
        {
          "output_type": "execute_result",
          "data": {
            "text/plain": [
              "0.9799"
            ]
          },
          "metadata": {},
          "execution_count": 53
        }
      ]
    },
    {
      "cell_type": "code",
      "source": [
        "o"
      ],
      "metadata": {
        "colab": {
          "base_uri": "https://localhost:8080/"
        },
        "id": "zdaMrhc0Aw6o",
        "outputId": "3beca93e-ce20-44f7-b08e-6469a9f9a042"
      },
      "execution_count": null,
      "outputs": [
        {
          "output_type": "execute_result",
          "data": {
            "text/plain": [
              "array([7, 2, 1, ..., 4, 5, 6])"
            ]
          },
          "metadata": {},
          "execution_count": 54
        }
      ]
    },
    {
      "cell_type": "markdown",
      "source": [
        "# 연습문제 4"
      ],
      "metadata": {
        "id": "dVniUcdyAH1D"
      }
    },
    {
      "cell_type": "code",
      "source": [
        "# confusion matrix를 나타내는 변수 생성. 정수형 타입으로 선언\n",
        "c_matrix = np.zeros([10,10]).astype(np.int_)\n",
        "\n",
        "# for i in range(y_test.shape[0]):  # 모든 테스트 데이터에range(len(y_test))\n",
        "for i, y in enumerate(y_test):\n",
        "# for i, idx_target in enumerate(y_test):\n",
        "  idx_target = y_test[i]          # 타깃 정보(세로축)\n",
        "  idx_output = o[i]               # 출력 정보(가로축)\n",
        "\n",
        "  # 해당 위치의 c_matrix 값을 1 증가\n",
        "  c_matrix[idx_target, idx_output] += 1\n",
        "\n",
        "print(c_matrix)"
      ],
      "metadata": {
        "colab": {
          "base_uri": "https://localhost:8080/"
        },
        "id": "b7RxEP84Y13y",
        "outputId": "6250e958-98fa-4e79-9c8a-434b1862a0d9"
      },
      "execution_count": null,
      "outputs": [
        {
          "output_type": "stream",
          "name": "stdout",
          "text": [
            "[[ 971    1    1    0    0    1    2    2    1    1]\n",
            " [   0 1130    3    2    0    0    0    0    0    0]\n",
            " [   0   12 1000    5    1    0    1   11    2    0]\n",
            " [   0    0    3  991    0    9    0    6    1    0]\n",
            " [   2    0    1    0  953    0    3    6    2   15]\n",
            " [   2    0    0    2    0  884    1    2    0    1]\n",
            " [   3    3    0    0    6    2  943    0    1    0]\n",
            " [   0    3    6    3    0    0    0 1014    2    0]\n",
            " [   7    0    3    4    1    3    2   12  939    3]\n",
            " [   3    6    1    3    3    2    0   14    3  974]]\n"
          ]
        }
      ]
    },
    {
      "cell_type": "code",
      "source": [
        "c_matrix[0,0] / sum(c_matrix[:,0])"
      ],
      "metadata": {
        "colab": {
          "base_uri": "https://localhost:8080/"
        },
        "id": "RL5WeOX6qDeW",
        "outputId": "db7dbc0b-d2d6-4c6d-b545-5e40725515ce"
      },
      "execution_count": null,
      "outputs": [
        {
          "output_type": "execute_result",
          "data": {
            "text/plain": [
              "0.9827935222672065"
            ]
          },
          "metadata": {},
          "execution_count": 111
        }
      ]
    },
    {
      "cell_type": "code",
      "source": [
        "p = np.zeros(10,)\n",
        "r = np.zeros(10,)\n",
        "f = np.zeros(10,)\n",
        "for i in range(10):\n",
        "  p[i] = c_matrix[i,i] / sum(c_matrix[:,i])\n",
        "  r[i] = c_matrix[i,i] / sum(c_matrix[i,:])\n",
        "  f[i] = 2 / (1/p[i] + 1/r[i])"
      ],
      "metadata": {
        "id": "wb0Geq2iqTR-"
      },
      "execution_count": null,
      "outputs": []
    },
    {
      "cell_type": "code",
      "source": [
        "np.mean(f)"
      ],
      "metadata": {
        "colab": {
          "base_uri": "https://localhost:8080/"
        },
        "id": "KvFgCfGOsvCQ",
        "outputId": "b877b92c-95c3-465f-c652-ebe554598a40"
      },
      "execution_count": null,
      "outputs": [
        {
          "output_type": "execute_result",
          "data": {
            "text/plain": [
              "0.9799567211282687"
            ]
          },
          "metadata": {},
          "execution_count": 117
        }
      ]
    },
    {
      "cell_type": "code",
      "source": [
        "f"
      ],
      "metadata": {
        "colab": {
          "base_uri": "https://localhost:8080/"
        },
        "id": "zO2gDMrgsxfX",
        "outputId": "cc17a779-973e-4b2a-e68b-7b441aeccc70"
      },
      "execution_count": null,
      "outputs": [
        {
          "output_type": "execute_result",
          "data": {
            "text/plain": [
              "array([0.98678862, 0.98689956, 0.97560976, 0.98118812, 0.97944502,\n",
              "       0.98605689, 0.98743455, 0.96801909, 0.97558442, 0.97254119])"
            ]
          },
          "metadata": {},
          "execution_count": 118
        }
      ]
    },
    {
      "cell_type": "code",
      "source": [
        "# 대각 행렬 np.diag()\n",
        "acc = np.sum(np.diag(c_matrix)) / np.sum(c_matrix[:])"
      ],
      "metadata": {
        "id": "dvsi251Xs79o"
      },
      "execution_count": null,
      "outputs": []
    },
    {
      "cell_type": "markdown",
      "source": [
        "# 나"
      ],
      "metadata": {
        "id": "d1Kk8GDRccVM"
      }
    },
    {
      "cell_type": "code",
      "source": [
        "y_test # target"
      ],
      "metadata": {
        "colab": {
          "base_uri": "https://localhost:8080/"
        },
        "id": "ZfLlGnqVBXc8",
        "outputId": "0fcc8a73-e736-46b7-c136-cfc4c47107b9"
      },
      "execution_count": null,
      "outputs": [
        {
          "output_type": "execute_result",
          "data": {
            "text/plain": [
              "array([7, 2, 1, ..., 4, 5, 6])"
            ]
          },
          "metadata": {},
          "execution_count": 152
        }
      ]
    },
    {
      "cell_type": "code",
      "source": [
        "o # 실제 결과"
      ],
      "metadata": {
        "colab": {
          "base_uri": "https://localhost:8080/"
        },
        "id": "CU7E2loiBbBG",
        "outputId": "1be29e32-16e9-492a-8f10-d2ed3fb9d539"
      },
      "execution_count": null,
      "outputs": [
        {
          "output_type": "execute_result",
          "data": {
            "text/plain": [
              "array([7, 2, 1, ..., 4, 5, 6])"
            ]
          },
          "metadata": {},
          "execution_count": 153
        }
      ]
    },
    {
      "cell_type": "code",
      "source": [
        "confusion_mat = np.zeros((10,10)).astype(np.int_)"
      ],
      "metadata": {
        "id": "SdSqPGItD5vP"
      },
      "execution_count": null,
      "outputs": []
    },
    {
      "cell_type": "code",
      "source": [
        "for target in y_test:\n",
        "  for test in o:\n",
        "    if (target == test):\n",
        "      confusion_mat[target,test] += 1\n",
        "print(confusion_mat)"
      ],
      "metadata": {
        "colab": {
          "base_uri": "https://localhost:8080/"
        },
        "id": "zhc49EQdY7GU",
        "outputId": "9aea16c6-1764-48d5-94af-dd89d5a2b6dd"
      },
      "execution_count": null,
      "outputs": [
        {
          "output_type": "stream",
          "name": "stdout",
          "text": [
            "[[ 968240       0       0       0       0       0       0       0       0\n",
            "        0]\n",
            " [      0 1310925       0       0       0       0       0       0       0\n",
            "        0]\n",
            " [      0       0 1050576       0       0       0       0       0       0\n",
            "        0]\n",
            " [      0       0       0 1020100       0       0       0       0       0\n",
            "        0]\n",
            " [      0       0       0       0  946648       0       0       0       0\n",
            "        0]\n",
            " [      0       0       0       0       0  803692       0       0       0\n",
            "        0]\n",
            " [      0       0       0       0       0       0  912016       0       0\n",
            "        0]\n",
            " [      0       0       0       0       0       0       0 1096876       0\n",
            "        0]\n",
            " [      0       0       0       0       0       0       0       0  926274\n",
            "        0]\n",
            " [      0       0       0       0       0       0       0       0       0\n",
            "  1002946]]\n"
          ]
        }
      ]
    },
    {
      "cell_type": "code",
      "source": [
        "'''\n",
        "Acc = sum() / len(c_matrix)\n",
        "Precision = TP / TP + PP\n",
        "Recall = TP / TP + FN\n",
        "F1 score =\n",
        "'''\n",
        "TP = list()\n",
        "PP = list()\n",
        "FN = list()\n",
        "Pred = list()\n",
        "Recall = list()"
      ],
      "metadata": {
        "id": "ZvKtyntbdSTk"
      },
      "execution_count": null,
      "outputs": []
    },
    {
      "cell_type": "code",
      "source": [
        "for i, j in enumerate(c_matrix):\n",
        "  TP.append(c_matrix[i,i])\n",
        "  PP.append(sum(c_matrix[:,i]) - c_matrix[i,i])\n",
        "  FN.append(sum(c_matrix[i,:]) - TP[i])\n",
        "  Pred.append(TP[i] / (TP[i]+PP[i]))\n",
        "  Recall.append(TP[i] / (TP[i]+FN[i]))"
      ],
      "metadata": {
        "id": "b7t2_5bqnlmp"
      },
      "execution_count": null,
      "outputs": []
    },
    {
      "cell_type": "markdown",
      "source": [
        "# confusion matrix\n",
        "\n",
        "[w3schools](https://www.w3schools.com/python/python_ml_confusion_matrix.asp)\n",
        "[blog](https://bskyvision.com/entry/python-scikit-learn%EC%9D%98-confusion-matrix-%ED%95%B4%EC%84%9D%ED%95%98%EA%B8%B0)"
      ],
      "metadata": {
        "id": "dK3B-12XDi_f"
      }
    },
    {
      "cell_type": "code",
      "source": [
        "from sklearn import metrics"
      ],
      "metadata": {
        "id": "SCvqkB8vAKHL"
      },
      "execution_count": null,
      "outputs": []
    },
    {
      "cell_type": "code",
      "source": [
        "confusion_matrix = metrics.confusion_matrix(o, y_test)\n",
        "cm_display = metrics.ConfusionMatrixDisplay(confusion_matrix = confusion_matrix)\n",
        "cm_display.plot()\n",
        "plt.show()"
      ],
      "metadata": {
        "colab": {
          "base_uri": "https://localhost:8080/",
          "height": 449
        },
        "id": "PRSjcUrEBfOH",
        "outputId": "9ad36b27-08eb-4455-81ae-2a2d5b07f090"
      },
      "execution_count": null,
      "outputs": [
        {
          "output_type": "display_data",
          "data": {
            "text/plain": [
              "<Figure size 640x480 with 2 Axes>"
            ],
            "image/png": "[encoded data removed]"
          },
          "metadata": {}
        }
      ]
    }
  ]
}