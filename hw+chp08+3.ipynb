{
  "nbformat": 4,
  "nbformat_minor": 0,
  "metadata": {
    "colab": {
      "provenance": [],
      "gpuType": "T4",
      "authorship_tag": "ABX9TyMDl754KUCPnh0JJykOcJ2b"
    },
    "kernelspec": {
      "name": "python3",
      "display_name": "Python 3"
    },
    "language_info": {
      "name": "python"
    },
    "accelerator": "GPU",
    "gpuClass": "standard"
  },
  "cells": [
    {
      "cell_type": "markdown",
      "source": [
        "# 연습문제 4"
      ],
      "metadata": {
        "id": "_4cyuZQFVag5"
      }
    },
    {
      "cell_type": "code",
      "source": [
        "from google.colab import drive\n",
        "drive.mount('/content/gdrive')"
      ],
      "metadata": {
        "colab": {
          "base_uri": "https://localhost:8080/"
        },
        "id": "H4JMPNSa3CRX",
        "outputId": "4565122c-a965-4e3d-a932-48a058ed616e"
      },
      "execution_count": null,
      "outputs": [
        {
          "output_type": "stream",
          "name": "stdout",
          "text": [
            "Mounted at /content/gdrive\n"
          ]
        }
      ]
    },
    {
      "cell_type": "code",
      "source": [
        "cd /content/gdrive/MyDrive/Colab Notebooks/ecg"
      ],
      "metadata": {
        "colab": {
          "base_uri": "https://localhost:8080/"
        },
        "id": "pPvmvBBx3CO3",
        "outputId": "2147ffdf-5087-461b-f44d-235498f5f2d4"
      },
      "execution_count": null,
      "outputs": [
        {
          "output_type": "stream",
          "name": "stdout",
          "text": [
            "/content/gdrive/MyDrive/Colab Notebooks/ecg\n"
          ]
        }
      ]
    },
    {
      "cell_type": "code",
      "source": [
        "def drawHistory(hist):\n",
        "  fig = plt.figure(figsize=(6,4))    # 6x4 크기의 figure 생성\n",
        "  loss_ax = plt.gca()                 # figure의 기본 축 가져오기\n",
        "  acc_ax = loss_ax.twinx()            # 축을 1개 더 추가\n",
        "\n",
        "  # 손실 변화 양상을 그래프로 표시\n",
        "  loss_ax.plot(hist.history['loss'], 'y', label='train loss')\n",
        "  loss_ax.plot(hist.history['val_loss'], 'r', label='val_loss')\n",
        "  loss_ax.set_xlabel('epoch')\n",
        "  loss_ax.set_ylabel('loss')\n",
        "  loss_ax.legend(loc='lower left')\n",
        "\n",
        "  # 정확도 변화 양상을 그래프로 표시\n",
        "  acc_ax.plot(hist.history['accuracy'], 'b', label='train acc')\n",
        "  acc_ax.plot(hist.history['val_accuracy'], 'g', label='val acc')\n",
        "  acc_ax.set_ylabel('accuracy')\n",
        "  acc_ax.legend(loc='upper left')\n",
        "\n",
        "  plt.show()"
      ],
      "metadata": {
        "id": "_HHrMzMsIaFx"
      },
      "execution_count": null,
      "outputs": []
    },
    {
      "cell_type": "code",
      "source": [
        "import matplotlib.pyplot as plt\n",
        "import numpy as np\n",
        "import pandas as pd\n",
        "data_no = pd.read_csv('/content/gdrive/MyDrive/Colab Notebooks/ecg/ptbdb_normal.csv')   # 정상 데이터\n",
        "data_ab = pd.read_csv('/content/gdrive/MyDrive/Colab Notebooks/ecg/ptbdb_abnormal.csv') # 비정상 데이터\n",
        "\n",
        "data_no = np.array(data_no)\n",
        "data_ab = np.array(data_ab)\n",
        "\n",
        "nTrain = 3000 # 학습 데이터\n",
        "nTest = 1000  # 테스트 데이터"
      ],
      "metadata": {
        "id": "qTGs7jqB3CHF"
      },
      "execution_count": null,
      "outputs": []
    },
    {
      "cell_type": "markdown",
      "source": [
        "# 3. 배치 크기, 에포크 수, 검증 데이터의 비율"
      ],
      "metadata": {
        "id": "rNFJieIaIaFi"
      }
    },
    {
      "cell_type": "code",
      "source": [
        "# 학습/테스트 데이터 생성을 위해 정상/비정상 데이터를 통합\n",
        "x_train = np.concatenate((data_no[:nTrain,:], data_ab[:nTrain,:]),0)\n",
        "x_test = np.concatenate((data_no[nTrain:nTrain+nTest,:], data_ab[nTrain:nTrain+nTest,:]),0)\n",
        "\n",
        "# 학습 데이터(x)의 출력 데이터(y)는 학습 데이터 개수만틈의 1, 테스트 데이터 개수만큼의 0으로 구성\n",
        "y_train = np.concatenate((np.zeros(nTrain,), np.ones(nTrain,)),0)\n",
        "y_test = np.concatenate((np.zeros(nTest,), np.ones(nTest,)),0)\n",
        "\n",
        "from tensorflow.keras.utils import to_categorical\n",
        "# 입력 데이터는 마지막 축을 1 증가 - 합성곱(CNN) 사용\n",
        "x_train = np.expand_dims(x_train,-1)\n",
        "x_test = np.expand_dims(x_test,-1)\n",
        "# 출력 데이터는 원-핫-인코딩\n",
        "y_train = to_categorical(y_train)\n",
        "y_test = to_categorical(y_test)"
      ],
      "metadata": {
        "id": "GdxnKteDIaFw"
      },
      "execution_count": null,
      "outputs": []
    },
    {
      "cell_type": "code",
      "source": [
        "from tensorflow.keras import Sequential\n",
        "from tensorflow.keras import layers\n",
        "from tensorflow.keras import optimizers\n",
        "\n",
        "model = Sequential()\n",
        "model.add(layers.Conv1D(filters=16, kernel_size= 3, input_shape=(x_train.shape[1], 1), activation='relu'))\n",
        "model.add(layers.Conv1D(filters=16, kernel_size= 3, activation='relu'))\n",
        "model.add(layers.MaxPooling1D(pool_size = 3,strides=2))\n",
        "model.add(layers.Conv1D(filters=32, kernel_size= 3, input_shape=(x_train.shape[1], 1), activation='relu'))\n",
        "model.add(layers.Conv1D(filters=32, kernel_size= 3, activation='relu'))\n",
        "model.add(layers.MaxPooling1D(pool_size = 3,strides=2))\n",
        "model.add(layers.LSTM(16))\n",
        "model.add(layers.Dense(units=2, activation='softmax'))\n",
        "model.compile(loss='categorical_crossentropy', optimizer=optimizers.Adam(learning_rate=0.01), metrics=['accuracy'])"
      ],
      "metadata": {
        "id": "3oAi4J8DIaFx"
      },
      "execution_count": null,
      "outputs": []
    },
    {
      "cell_type": "markdown",
      "source": [
        "# batch_size"
      ],
      "metadata": {
        "id": "kKqV7X_lgQBH"
      }
    },
    {
      "cell_type": "code",
      "source": [
        "hist = model.fit(x_train, y_train, epochs=50, batch_size=512, validation_split=0.2)"
      ],
      "metadata": {
        "colab": {
          "base_uri": "https://localhost:8080/"
        },
        "outputId": "7fb60abe-e401-4749-c533-9560617634bf",
        "id": "12WSUkAWIaFy"
      },
      "execution_count": null,
      "outputs": [
        {
          "output_type": "stream",
          "name": "stdout",
          "text": [
            "Epoch 1/50\n",
            "10/10 [==============================] - 17s 125ms/step - loss: 0.6650 - accuracy: 0.5925 - val_loss: 1.0872 - val_accuracy: 0.0000e+00\n",
            "Epoch 2/50\n",
            "10/10 [==============================] - 0s 13ms/step - loss: 0.6218 - accuracy: 0.6535 - val_loss: 0.8437 - val_accuracy: 0.5625\n",
            "Epoch 3/50\n",
            "10/10 [==============================] - 0s 11ms/step - loss: 0.5840 - accuracy: 0.7131 - val_loss: 1.0110 - val_accuracy: 0.3092\n",
            "Epoch 4/50\n",
            "10/10 [==============================] - 0s 12ms/step - loss: 0.5799 - accuracy: 0.7100 - val_loss: 0.8414 - val_accuracy: 0.5133\n",
            "Epoch 5/50\n",
            "10/10 [==============================] - 0s 12ms/step - loss: 0.5667 - accuracy: 0.7200 - val_loss: 0.7301 - val_accuracy: 0.5683\n",
            "Epoch 6/50\n",
            "10/10 [==============================] - 0s 11ms/step - loss: 0.5692 - accuracy: 0.7110 - val_loss: 0.9309 - val_accuracy: 0.4167\n",
            "Epoch 7/50\n",
            "10/10 [==============================] - 0s 12ms/step - loss: 0.5626 - accuracy: 0.7175 - val_loss: 0.7478 - val_accuracy: 0.5517\n",
            "Epoch 8/50\n",
            "10/10 [==============================] - 0s 12ms/step - loss: 0.5487 - accuracy: 0.7321 - val_loss: 0.7147 - val_accuracy: 0.5658\n",
            "Epoch 9/50\n",
            "10/10 [==============================] - 0s 12ms/step - loss: 0.5456 - accuracy: 0.7277 - val_loss: 0.8768 - val_accuracy: 0.3933\n",
            "Epoch 10/50\n",
            "10/10 [==============================] - 0s 12ms/step - loss: 0.5347 - accuracy: 0.7312 - val_loss: 0.8114 - val_accuracy: 0.5050\n",
            "Epoch 11/50\n",
            "10/10 [==============================] - 0s 11ms/step - loss: 0.5119 - accuracy: 0.7442 - val_loss: 0.7282 - val_accuracy: 0.5092\n",
            "Epoch 12/50\n",
            "10/10 [==============================] - 0s 13ms/step - loss: 0.4879 - accuracy: 0.7642 - val_loss: 0.9967 - val_accuracy: 0.3842\n",
            "Epoch 13/50\n",
            "10/10 [==============================] - 0s 12ms/step - loss: 0.5035 - accuracy: 0.7552 - val_loss: 0.6681 - val_accuracy: 0.5817\n",
            "Epoch 14/50\n",
            "10/10 [==============================] - 0s 12ms/step - loss: 0.4689 - accuracy: 0.7817 - val_loss: 0.9787 - val_accuracy: 0.4317\n",
            "Epoch 15/50\n",
            "10/10 [==============================] - 0s 12ms/step - loss: 0.4800 - accuracy: 0.7812 - val_loss: 0.6298 - val_accuracy: 0.5950\n",
            "Epoch 16/50\n",
            "10/10 [==============================] - 0s 13ms/step - loss: 0.4439 - accuracy: 0.7925 - val_loss: 0.6807 - val_accuracy: 0.6125\n",
            "Epoch 17/50\n",
            "10/10 [==============================] - 0s 12ms/step - loss: 0.4334 - accuracy: 0.7987 - val_loss: 0.8697 - val_accuracy: 0.5225\n",
            "Epoch 18/50\n",
            "10/10 [==============================] - 0s 14ms/step - loss: 0.4233 - accuracy: 0.8096 - val_loss: 0.7971 - val_accuracy: 0.6100\n",
            "Epoch 19/50\n",
            "10/10 [==============================] - 0s 12ms/step - loss: 0.4121 - accuracy: 0.8163 - val_loss: 0.5513 - val_accuracy: 0.6967\n",
            "Epoch 20/50\n",
            "10/10 [==============================] - 0s 13ms/step - loss: 0.3953 - accuracy: 0.8252 - val_loss: 0.4771 - val_accuracy: 0.6892\n",
            "Epoch 21/50\n",
            "10/10 [==============================] - 0s 12ms/step - loss: 0.3811 - accuracy: 0.8367 - val_loss: 0.3769 - val_accuracy: 0.7850\n",
            "Epoch 22/50\n",
            "10/10 [==============================] - 0s 11ms/step - loss: 0.3699 - accuracy: 0.8427 - val_loss: 0.5756 - val_accuracy: 0.6950\n",
            "Epoch 23/50\n",
            "10/10 [==============================] - 0s 12ms/step - loss: 0.3390 - accuracy: 0.8575 - val_loss: 0.5920 - val_accuracy: 0.6967\n",
            "Epoch 24/50\n",
            "10/10 [==============================] - 0s 12ms/step - loss: 0.3367 - accuracy: 0.8600 - val_loss: 0.3821 - val_accuracy: 0.8150\n",
            "Epoch 25/50\n",
            "10/10 [==============================] - 0s 12ms/step - loss: 0.3298 - accuracy: 0.8652 - val_loss: 0.3827 - val_accuracy: 0.8075\n",
            "Epoch 26/50\n",
            "10/10 [==============================] - 0s 12ms/step - loss: 0.3803 - accuracy: 0.8419 - val_loss: 0.6756 - val_accuracy: 0.6900\n",
            "Epoch 27/50\n",
            "10/10 [==============================] - 0s 12ms/step - loss: 0.3255 - accuracy: 0.8712 - val_loss: 0.3207 - val_accuracy: 0.8575\n",
            "Epoch 28/50\n",
            "10/10 [==============================] - 0s 12ms/step - loss: 0.3029 - accuracy: 0.8779 - val_loss: 0.4037 - val_accuracy: 0.8117\n",
            "Epoch 29/50\n",
            "10/10 [==============================] - 0s 13ms/step - loss: 0.2836 - accuracy: 0.8921 - val_loss: 0.3762 - val_accuracy: 0.8342\n",
            "Epoch 30/50\n",
            "10/10 [==============================] - 0s 11ms/step - loss: 0.2855 - accuracy: 0.8904 - val_loss: 0.4211 - val_accuracy: 0.8300\n",
            "Epoch 31/50\n",
            "10/10 [==============================] - 0s 13ms/step - loss: 0.2720 - accuracy: 0.8988 - val_loss: 0.4272 - val_accuracy: 0.7933\n",
            "Epoch 32/50\n",
            "10/10 [==============================] - 0s 12ms/step - loss: 0.3035 - accuracy: 0.8794 - val_loss: 0.4684 - val_accuracy: 0.7858\n",
            "Epoch 33/50\n",
            "10/10 [==============================] - 0s 12ms/step - loss: 0.2982 - accuracy: 0.8844 - val_loss: 0.3874 - val_accuracy: 0.8217\n",
            "Epoch 34/50\n",
            "10/10 [==============================] - 0s 12ms/step - loss: 0.2702 - accuracy: 0.8954 - val_loss: 0.4596 - val_accuracy: 0.7958\n",
            "Epoch 35/50\n",
            "10/10 [==============================] - 0s 12ms/step - loss: 0.2625 - accuracy: 0.8981 - val_loss: 0.4938 - val_accuracy: 0.7650\n",
            "Epoch 36/50\n",
            "10/10 [==============================] - 0s 12ms/step - loss: 0.2583 - accuracy: 0.9023 - val_loss: 0.4437 - val_accuracy: 0.7958\n",
            "Epoch 37/50\n",
            "10/10 [==============================] - 0s 13ms/step - loss: 0.2217 - accuracy: 0.9223 - val_loss: 0.3017 - val_accuracy: 0.8667\n",
            "Epoch 38/50\n",
            "10/10 [==============================] - 0s 12ms/step - loss: 0.2261 - accuracy: 0.9165 - val_loss: 0.2394 - val_accuracy: 0.9100\n",
            "Epoch 39/50\n",
            "10/10 [==============================] - 0s 12ms/step - loss: 0.2273 - accuracy: 0.9162 - val_loss: 0.3642 - val_accuracy: 0.8367\n",
            "Epoch 40/50\n",
            "10/10 [==============================] - 0s 12ms/step - loss: 0.2116 - accuracy: 0.9223 - val_loss: 0.3219 - val_accuracy: 0.8692\n",
            "Epoch 41/50\n",
            "10/10 [==============================] - 0s 11ms/step - loss: 0.2169 - accuracy: 0.9221 - val_loss: 0.4224 - val_accuracy: 0.8008\n",
            "Epoch 42/50\n",
            "10/10 [==============================] - 0s 13ms/step - loss: 0.2037 - accuracy: 0.9298 - val_loss: 0.4320 - val_accuracy: 0.8292\n",
            "Epoch 43/50\n",
            "10/10 [==============================] - 0s 11ms/step - loss: 0.1915 - accuracy: 0.9325 - val_loss: 0.2326 - val_accuracy: 0.9092\n",
            "Epoch 44/50\n",
            "10/10 [==============================] - 0s 13ms/step - loss: 0.1815 - accuracy: 0.9365 - val_loss: 0.4322 - val_accuracy: 0.8350\n",
            "Epoch 45/50\n",
            "10/10 [==============================] - 0s 11ms/step - loss: 0.2028 - accuracy: 0.9275 - val_loss: 0.4074 - val_accuracy: 0.8350\n",
            "Epoch 46/50\n",
            "10/10 [==============================] - 0s 12ms/step - loss: 0.2083 - accuracy: 0.9208 - val_loss: 0.4857 - val_accuracy: 0.8008\n",
            "Epoch 47/50\n",
            "10/10 [==============================] - 0s 13ms/step - loss: 0.2330 - accuracy: 0.9131 - val_loss: 0.2799 - val_accuracy: 0.8833\n",
            "Epoch 48/50\n",
            "10/10 [==============================] - 0s 12ms/step - loss: 0.1907 - accuracy: 0.9319 - val_loss: 0.2548 - val_accuracy: 0.8958\n",
            "Epoch 49/50\n",
            "10/10 [==============================] - 0s 12ms/step - loss: 0.1740 - accuracy: 0.9419 - val_loss: 0.2730 - val_accuracy: 0.8942\n",
            "Epoch 50/50\n",
            "10/10 [==============================] - 0s 13ms/step - loss: 0.1623 - accuracy: 0.9429 - val_loss: 0.3563 - val_accuracy: 0.8542\n"
          ]
        }
      ]
    },
    {
      "cell_type": "code",
      "source": [
        "o = model.predict(x_test)\n",
        "o = np.argmax(o,1)\n",
        "y_test = np.argmax(y_test,1)\n",
        "sum(np.equal(y_test,o))/len(y_test)"
      ],
      "metadata": {
        "colab": {
          "base_uri": "https://localhost:8080/"
        },
        "outputId": "806475b1-d5be-41e4-ec42-e0bff54a4298",
        "id": "-TUdwfdEIaFy"
      },
      "execution_count": null,
      "outputs": [
        {
          "output_type": "stream",
          "name": "stdout",
          "text": [
            "63/63 [==============================] - 1s 4ms/step\n"
          ]
        },
        {
          "output_type": "execute_result",
          "data": {
            "text/plain": [
              "0.9245"
            ]
          },
          "metadata": {},
          "execution_count": 8
        }
      ]
    },
    {
      "cell_type": "code",
      "source": [
        "x_train = np.concatenate((data_no[:nTrain,:], data_ab[:nTrain,:]),0)\n",
        "x_test = np.concatenate((data_no[nTrain:nTrain+nTest,:], data_ab[nTrain:nTrain+nTest,:]),0)\n",
        "y_train = np.concatenate((np.zeros(nTrain,), np.ones(nTrain,)),0)\n",
        "y_test = np.concatenate((np.zeros(nTest,), np.ones(nTest,)),0)\n",
        "\n",
        "from tensorflow.keras.utils import to_categorical\n",
        "x_train = np.expand_dims(x_train,-1)\n",
        "x_test = np.expand_dims(x_test,-1)\n",
        "y_train = to_categorical(y_train)\n",
        "y_test = to_categorical(y_test)\n",
        "\n",
        "from tensorflow.keras import Sequential\n",
        "from tensorflow.keras import layers\n",
        "from tensorflow.keras import optimizers\n",
        "\n",
        "model = Sequential()\n",
        "model.add(layers.Conv1D(filters=16, kernel_size= 3, input_shape=(x_train.shape[1], 1), activation='relu'))\n",
        "model.add(layers.Conv1D(filters=16, kernel_size= 3, activation='relu'))\n",
        "model.add(layers.MaxPooling1D(pool_size = 3,strides=2))\n",
        "model.add(layers.Conv1D(filters=32, kernel_size= 3, input_shape=(x_train.shape[1], 1), activation='relu'))\n",
        "model.add(layers.Conv1D(filters=32, kernel_size= 3, activation='relu'))\n",
        "model.add(layers.MaxPooling1D(pool_size = 3,strides=2))\n",
        "model.add(layers.LSTM(16))\n",
        "model.add(layers.Dense(units=2, activation='softmax'))\n",
        "model.compile(loss='categorical_crossentropy', optimizer=optimizers.Adam(learning_rate=0.01), metrics=['accuracy'])"
      ],
      "metadata": {
        "id": "TlvtjcWQhiYz"
      },
      "execution_count": null,
      "outputs": []
    },
    {
      "cell_type": "code",
      "source": [
        "hist = model.fit(x_train, y_train, epochs=50, batch_size=32, validation_split=0.2)"
      ],
      "metadata": {
        "colab": {
          "base_uri": "https://localhost:8080/"
        },
        "outputId": "fe763e0b-1be5-4d9f-bc22-4234ed092469",
        "id": "ENTO1SXdIaYC"
      },
      "execution_count": null,
      "outputs": [
        {
          "output_type": "stream",
          "name": "stdout",
          "text": [
            "Epoch 1/50\n",
            "150/150 [==============================] - 7s 23ms/step - loss: 0.6108 - accuracy: 0.6779 - val_loss: 0.7409 - val_accuracy: 0.5575\n",
            "Epoch 2/50\n",
            "150/150 [==============================] - 2s 13ms/step - loss: 0.5842 - accuracy: 0.7104 - val_loss: 0.9068 - val_accuracy: 0.4500\n",
            "Epoch 3/50\n",
            "150/150 [==============================] - 2s 12ms/step - loss: 0.5739 - accuracy: 0.7140 - val_loss: 0.7249 - val_accuracy: 0.5925\n",
            "Epoch 4/50\n",
            "150/150 [==============================] - 1s 10ms/step - loss: 0.5690 - accuracy: 0.7183 - val_loss: 0.7274 - val_accuracy: 0.5383\n",
            "Epoch 5/50\n",
            "150/150 [==============================] - 2s 13ms/step - loss: 0.5617 - accuracy: 0.7175 - val_loss: 0.7698 - val_accuracy: 0.4442\n",
            "Epoch 6/50\n",
            "150/150 [==============================] - 2s 11ms/step - loss: 0.5498 - accuracy: 0.7202 - val_loss: 0.7545 - val_accuracy: 0.5058\n",
            "Epoch 7/50\n",
            "150/150 [==============================] - 2s 12ms/step - loss: 0.5282 - accuracy: 0.7421 - val_loss: 0.6918 - val_accuracy: 0.5767\n",
            "Epoch 8/50\n",
            "150/150 [==============================] - 3s 18ms/step - loss: 0.5827 - accuracy: 0.7067 - val_loss: 0.7826 - val_accuracy: 0.5625\n",
            "Epoch 9/50\n",
            "150/150 [==============================] - 2s 15ms/step - loss: 0.5674 - accuracy: 0.7165 - val_loss: 0.8067 - val_accuracy: 0.5767\n",
            "Epoch 10/50\n",
            "150/150 [==============================] - 2s 12ms/step - loss: 0.5609 - accuracy: 0.7229 - val_loss: 0.7743 - val_accuracy: 0.5825\n",
            "Epoch 11/50\n",
            "150/150 [==============================] - 2s 12ms/step - loss: 0.5574 - accuracy: 0.7225 - val_loss: 0.8212 - val_accuracy: 0.5550\n",
            "Epoch 12/50\n",
            "150/150 [==============================] - 2s 12ms/step - loss: 0.5469 - accuracy: 0.7285 - val_loss: 0.7351 - val_accuracy: 0.6383\n",
            "Epoch 13/50\n",
            "150/150 [==============================] - 1s 7ms/step - loss: 0.5150 - accuracy: 0.7510 - val_loss: 0.6711 - val_accuracy: 0.5942\n",
            "Epoch 14/50\n",
            "150/150 [==============================] - 1s 8ms/step - loss: 0.5295 - accuracy: 0.7360 - val_loss: 0.7293 - val_accuracy: 0.5817\n",
            "Epoch 15/50\n",
            "150/150 [==============================] - 2s 12ms/step - loss: 0.5235 - accuracy: 0.7490 - val_loss: 0.8058 - val_accuracy: 0.5842\n",
            "Epoch 16/50\n",
            "150/150 [==============================] - 3s 17ms/step - loss: 0.5347 - accuracy: 0.7367 - val_loss: 0.7862 - val_accuracy: 0.5942\n",
            "Epoch 17/50\n",
            "150/150 [==============================] - 2s 13ms/step - loss: 0.5014 - accuracy: 0.7529 - val_loss: 0.7049 - val_accuracy: 0.5425\n",
            "Epoch 18/50\n",
            "150/150 [==============================] - 2s 12ms/step - loss: 0.4884 - accuracy: 0.7560 - val_loss: 0.8110 - val_accuracy: 0.6125\n",
            "Epoch 19/50\n",
            "150/150 [==============================] - 2s 12ms/step - loss: 0.4613 - accuracy: 0.7840 - val_loss: 0.5753 - val_accuracy: 0.7242\n",
            "Epoch 20/50\n",
            "150/150 [==============================] - 2s 12ms/step - loss: 0.4339 - accuracy: 0.7962 - val_loss: 0.6492 - val_accuracy: 0.6383\n",
            "Epoch 21/50\n",
            "150/150 [==============================] - 2s 12ms/step - loss: 0.3958 - accuracy: 0.8244 - val_loss: 0.6315 - val_accuracy: 0.6958\n",
            "Epoch 22/50\n",
            "150/150 [==============================] - 2s 12ms/step - loss: 0.3960 - accuracy: 0.8292 - val_loss: 0.2951 - val_accuracy: 0.8833\n",
            "Epoch 23/50\n",
            "150/150 [==============================] - 2s 13ms/step - loss: 0.3874 - accuracy: 0.8388 - val_loss: 0.4744 - val_accuracy: 0.7942\n",
            "Epoch 24/50\n",
            "150/150 [==============================] - 2s 14ms/step - loss: 0.3309 - accuracy: 0.8608 - val_loss: 0.4919 - val_accuracy: 0.7975\n",
            "Epoch 25/50\n",
            "150/150 [==============================] - 2s 12ms/step - loss: 0.3078 - accuracy: 0.8800 - val_loss: 0.4430 - val_accuracy: 0.8200\n",
            "Epoch 26/50\n",
            "150/150 [==============================] - 2s 10ms/step - loss: 0.2881 - accuracy: 0.8896 - val_loss: 0.2618 - val_accuracy: 0.8775\n",
            "Epoch 27/50\n",
            "150/150 [==============================] - 2s 11ms/step - loss: 0.2824 - accuracy: 0.8898 - val_loss: 0.4892 - val_accuracy: 0.8150\n",
            "Epoch 28/50\n",
            "150/150 [==============================] - 1s 10ms/step - loss: 0.2690 - accuracy: 0.8915 - val_loss: 0.4484 - val_accuracy: 0.7783\n",
            "Epoch 29/50\n",
            "150/150 [==============================] - 2s 11ms/step - loss: 0.2733 - accuracy: 0.8915 - val_loss: 0.3669 - val_accuracy: 0.8458\n",
            "Epoch 30/50\n",
            "150/150 [==============================] - 2s 11ms/step - loss: 0.2596 - accuracy: 0.8946 - val_loss: 0.3656 - val_accuracy: 0.8367\n",
            "Epoch 31/50\n",
            "150/150 [==============================] - 2s 15ms/step - loss: 0.2468 - accuracy: 0.8948 - val_loss: 0.5489 - val_accuracy: 0.7808\n",
            "Epoch 32/50\n",
            "150/150 [==============================] - 3s 17ms/step - loss: 0.2200 - accuracy: 0.9119 - val_loss: 0.4951 - val_accuracy: 0.7867\n",
            "Epoch 33/50\n",
            "150/150 [==============================] - 2s 10ms/step - loss: 0.2163 - accuracy: 0.9125 - val_loss: 0.3072 - val_accuracy: 0.8767\n",
            "Epoch 34/50\n",
            "150/150 [==============================] - 2s 11ms/step - loss: 0.2426 - accuracy: 0.9027 - val_loss: 0.3633 - val_accuracy: 0.8358\n",
            "Epoch 35/50\n",
            "150/150 [==============================] - 2s 12ms/step - loss: 0.2178 - accuracy: 0.9108 - val_loss: 0.2708 - val_accuracy: 0.8783\n",
            "Epoch 36/50\n",
            "150/150 [==============================] - 2s 10ms/step - loss: 0.2039 - accuracy: 0.9192 - val_loss: 0.2927 - val_accuracy: 0.8608\n",
            "Epoch 37/50\n",
            "150/150 [==============================] - 1s 9ms/step - loss: 0.1883 - accuracy: 0.9254 - val_loss: 0.2753 - val_accuracy: 0.8858\n",
            "Epoch 38/50\n",
            "150/150 [==============================] - 1s 7ms/step - loss: 0.1928 - accuracy: 0.9231 - val_loss: 0.2027 - val_accuracy: 0.9133\n",
            "Epoch 39/50\n",
            "150/150 [==============================] - 1s 8ms/step - loss: 0.2066 - accuracy: 0.9179 - val_loss: 0.3253 - val_accuracy: 0.8617\n",
            "Epoch 40/50\n",
            "150/150 [==============================] - 2s 16ms/step - loss: 0.1932 - accuracy: 0.9215 - val_loss: 0.2245 - val_accuracy: 0.9142\n",
            "Epoch 41/50\n",
            "150/150 [==============================] - 2s 11ms/step - loss: 0.2018 - accuracy: 0.9175 - val_loss: 0.5065 - val_accuracy: 0.8075\n",
            "Epoch 42/50\n",
            "150/150 [==============================] - 1s 7ms/step - loss: 0.2007 - accuracy: 0.9160 - val_loss: 0.2963 - val_accuracy: 0.8958\n",
            "Epoch 43/50\n",
            "150/150 [==============================] - 1s 7ms/step - loss: 0.1641 - accuracy: 0.9340 - val_loss: 0.3745 - val_accuracy: 0.8542\n",
            "Epoch 44/50\n",
            "150/150 [==============================] - 1s 7ms/step - loss: 0.1917 - accuracy: 0.9242 - val_loss: 0.3486 - val_accuracy: 0.8650\n",
            "Epoch 45/50\n",
            "150/150 [==============================] - 1s 7ms/step - loss: 0.1844 - accuracy: 0.9277 - val_loss: 0.2354 - val_accuracy: 0.9008\n",
            "Epoch 46/50\n",
            "150/150 [==============================] - 1s 7ms/step - loss: 0.1905 - accuracy: 0.9252 - val_loss: 0.2701 - val_accuracy: 0.8983\n",
            "Epoch 47/50\n",
            "150/150 [==============================] - 1s 7ms/step - loss: 0.1692 - accuracy: 0.9331 - val_loss: 0.4347 - val_accuracy: 0.8292\n",
            "Epoch 48/50\n",
            "150/150 [==============================] - 1s 7ms/step - loss: 0.1877 - accuracy: 0.9262 - val_loss: 0.1937 - val_accuracy: 0.9083\n",
            "Epoch 49/50\n",
            "150/150 [==============================] - 1s 7ms/step - loss: 0.1933 - accuracy: 0.9227 - val_loss: 0.2184 - val_accuracy: 0.9175\n",
            "Epoch 50/50\n",
            "150/150 [==============================] - 1s 8ms/step - loss: 0.1654 - accuracy: 0.9321 - val_loss: 0.3637 - val_accuracy: 0.8850\n"
          ]
        }
      ]
    },
    {
      "cell_type": "code",
      "source": [
        "o = model.predict(x_test)\n",
        "o = np.argmax(o,1)\n",
        "y_test = np.argmax(y_test,1)\n",
        "sum(np.equal(y_test,o))/len(y_test)"
      ],
      "metadata": {
        "colab": {
          "base_uri": "https://localhost:8080/"
        },
        "outputId": "8091a66a-ee64-4c5b-c6a0-74a01646e532",
        "id": "kVWafwTCIaYC"
      },
      "execution_count": null,
      "outputs": [
        {
          "output_type": "stream",
          "name": "stdout",
          "text": [
            "63/63 [==============================] - 1s 3ms/step\n"
          ]
        },
        {
          "output_type": "execute_result",
          "data": {
            "text/plain": [
              "0.896"
            ]
          },
          "metadata": {},
          "execution_count": 14
        }
      ]
    },
    {
      "cell_type": "markdown",
      "source": [
        "# epochs"
      ],
      "metadata": {
        "id": "5SCJPwsPgT_d"
      }
    },
    {
      "cell_type": "code",
      "source": [
        "x_train = np.concatenate((data_no[:nTrain,:], data_ab[:nTrain,:]),0)\n",
        "x_test = np.concatenate((data_no[nTrain:nTrain+nTest,:], data_ab[nTrain:nTrain+nTest,:]),0)\n",
        "y_train = np.concatenate((np.zeros(nTrain,), np.ones(nTrain,)),0)\n",
        "y_test = np.concatenate((np.zeros(nTest,), np.ones(nTest,)),0)\n",
        "\n",
        "from tensorflow.keras.utils import to_categorical\n",
        "x_train = np.expand_dims(x_train,-1)\n",
        "x_test = np.expand_dims(x_test,-1)\n",
        "y_train = to_categorical(y_train)\n",
        "y_test = to_categorical(y_test)\n",
        "\n",
        "from tensorflow.keras import Sequential\n",
        "from tensorflow.keras import layers\n",
        "from tensorflow.keras import optimizers\n",
        "\n",
        "model = Sequential()\n",
        "model.add(layers.Conv1D(filters=16, kernel_size= 3, input_shape=(x_train.shape[1], 1), activation='relu'))\n",
        "model.add(layers.Conv1D(filters=16, kernel_size= 3, activation='relu'))\n",
        "model.add(layers.MaxPooling1D(pool_size = 3,strides=2))\n",
        "model.add(layers.Conv1D(filters=32, kernel_size= 3, input_shape=(x_train.shape[1], 1), activation='relu'))\n",
        "model.add(layers.Conv1D(filters=32, kernel_size= 3, activation='relu'))\n",
        "model.add(layers.MaxPooling1D(pool_size = 3,strides=2))\n",
        "model.add(layers.LSTM(16))\n",
        "model.add(layers.Dense(units=2, activation='softmax'))\n",
        "model.compile(loss='categorical_crossentropy', optimizer=optimizers.Adam(learning_rate=0.01), metrics=['accuracy'])"
      ],
      "metadata": {
        "id": "U0Zr9Xx_hkDR"
      },
      "execution_count": null,
      "outputs": []
    },
    {
      "cell_type": "code",
      "source": [
        "model.fit(x_train, y_train, epochs=100, batch_size=128, validation_split=0.2)"
      ],
      "metadata": {
        "colab": {
          "base_uri": "https://localhost:8080/"
        },
        "outputId": "f80543a2-c58f-4755-c740-5f2ca208584a",
        "id": "oQOaEXy8gT_d"
      },
      "execution_count": null,
      "outputs": [
        {
          "output_type": "stream",
          "name": "stdout",
          "text": [
            "Epoch 1/100\n",
            "38/38 [==============================] - 8s 72ms/step - loss: 0.6409 - accuracy: 0.6415 - val_loss: 0.6996 - val_accuracy: 0.6525\n",
            "Epoch 2/100\n",
            "38/38 [==============================] - 1s 20ms/step - loss: 0.5902 - accuracy: 0.7060 - val_loss: 0.9384 - val_accuracy: 0.3333\n",
            "Epoch 3/100\n",
            "38/38 [==============================] - 1s 16ms/step - loss: 0.5695 - accuracy: 0.7231 - val_loss: 0.8510 - val_accuracy: 0.4475\n",
            "Epoch 4/100\n",
            "38/38 [==============================] - 1s 14ms/step - loss: 0.5674 - accuracy: 0.7160 - val_loss: 1.1427 - val_accuracy: 0.1392\n",
            "Epoch 5/100\n",
            "38/38 [==============================] - 0s 12ms/step - loss: 0.5739 - accuracy: 0.7150 - val_loss: 0.9169 - val_accuracy: 0.4367\n",
            "Epoch 6/100\n",
            "38/38 [==============================] - 1s 17ms/step - loss: 0.5535 - accuracy: 0.7269 - val_loss: 0.7773 - val_accuracy: 0.4900\n",
            "Epoch 7/100\n",
            "38/38 [==============================] - 1s 13ms/step - loss: 0.5379 - accuracy: 0.7337 - val_loss: 0.6603 - val_accuracy: 0.5383\n",
            "Epoch 8/100\n",
            "38/38 [==============================] - 1s 13ms/step - loss: 0.4970 - accuracy: 0.7521 - val_loss: 0.6795 - val_accuracy: 0.5000\n",
            "Epoch 9/100\n",
            "38/38 [==============================] - 0s 12ms/step - loss: 0.4751 - accuracy: 0.7710 - val_loss: 0.6276 - val_accuracy: 0.5842\n",
            "Epoch 10/100\n",
            "38/38 [==============================] - 0s 11ms/step - loss: 0.4393 - accuracy: 0.7919 - val_loss: 0.7223 - val_accuracy: 0.6075\n",
            "Epoch 11/100\n",
            "38/38 [==============================] - 1s 15ms/step - loss: 0.4332 - accuracy: 0.8037 - val_loss: 0.7640 - val_accuracy: 0.6083\n",
            "Epoch 12/100\n",
            "38/38 [==============================] - 1s 15ms/step - loss: 0.4171 - accuracy: 0.8060 - val_loss: 0.6895 - val_accuracy: 0.5942\n",
            "Epoch 13/100\n",
            "38/38 [==============================] - 1s 13ms/step - loss: 0.4225 - accuracy: 0.8094 - val_loss: 0.8089 - val_accuracy: 0.6650\n",
            "Epoch 14/100\n",
            "38/38 [==============================] - 1s 13ms/step - loss: 0.3935 - accuracy: 0.8298 - val_loss: 0.5654 - val_accuracy: 0.7250\n",
            "Epoch 15/100\n",
            "38/38 [==============================] - 1s 13ms/step - loss: 0.3532 - accuracy: 0.8531 - val_loss: 0.4982 - val_accuracy: 0.7633\n",
            "Epoch 16/100\n",
            "38/38 [==============================] - 1s 14ms/step - loss: 0.3670 - accuracy: 0.8496 - val_loss: 0.7167 - val_accuracy: 0.7158\n",
            "Epoch 17/100\n",
            "38/38 [==============================] - 1s 13ms/step - loss: 0.3393 - accuracy: 0.8621 - val_loss: 0.7647 - val_accuracy: 0.6650\n",
            "Epoch 18/100\n",
            "38/38 [==============================] - 1s 13ms/step - loss: 0.3240 - accuracy: 0.8654 - val_loss: 0.3172 - val_accuracy: 0.8783\n",
            "Epoch 19/100\n",
            "38/38 [==============================] - 1s 14ms/step - loss: 0.3216 - accuracy: 0.8665 - val_loss: 0.5139 - val_accuracy: 0.7717\n",
            "Epoch 20/100\n",
            "38/38 [==============================] - 0s 9ms/step - loss: 0.2874 - accuracy: 0.8835 - val_loss: 0.6433 - val_accuracy: 0.7483\n",
            "Epoch 21/100\n",
            "38/38 [==============================] - 0s 9ms/step - loss: 0.3147 - accuracy: 0.8671 - val_loss: 0.4305 - val_accuracy: 0.8275\n",
            "Epoch 22/100\n",
            "38/38 [==============================] - 0s 8ms/step - loss: 0.2526 - accuracy: 0.8979 - val_loss: 0.3440 - val_accuracy: 0.8558\n",
            "Epoch 23/100\n",
            "38/38 [==============================] - 0s 9ms/step - loss: 0.2461 - accuracy: 0.9038 - val_loss: 0.5763 - val_accuracy: 0.7483\n",
            "Epoch 24/100\n",
            "38/38 [==============================] - 0s 10ms/step - loss: 0.2289 - accuracy: 0.9181 - val_loss: 0.3881 - val_accuracy: 0.8417\n",
            "Epoch 25/100\n",
            "38/38 [==============================] - 0s 12ms/step - loss: 0.2051 - accuracy: 0.9250 - val_loss: 0.4678 - val_accuracy: 0.8108\n",
            "Epoch 26/100\n",
            "38/38 [==============================] - 0s 12ms/step - loss: 0.1888 - accuracy: 0.9275 - val_loss: 0.3144 - val_accuracy: 0.8658\n",
            "Epoch 27/100\n",
            "38/38 [==============================] - 0s 12ms/step - loss: 0.1756 - accuracy: 0.9346 - val_loss: 0.3316 - val_accuracy: 0.8617\n",
            "Epoch 28/100\n",
            "38/38 [==============================] - 0s 12ms/step - loss: 0.2010 - accuracy: 0.9235 - val_loss: 0.4853 - val_accuracy: 0.7917\n",
            "Epoch 29/100\n",
            "38/38 [==============================] - 0s 12ms/step - loss: 0.2080 - accuracy: 0.9215 - val_loss: 0.2270 - val_accuracy: 0.9183\n",
            "Epoch 30/100\n",
            "38/38 [==============================] - 0s 11ms/step - loss: 0.1625 - accuracy: 0.9417 - val_loss: 0.2899 - val_accuracy: 0.8892\n",
            "Epoch 31/100\n",
            "38/38 [==============================] - 0s 12ms/step - loss: 0.1469 - accuracy: 0.9492 - val_loss: 0.3381 - val_accuracy: 0.8733\n",
            "Epoch 32/100\n",
            "38/38 [==============================] - 0s 10ms/step - loss: 0.1451 - accuracy: 0.9463 - val_loss: 0.5094 - val_accuracy: 0.8200\n",
            "Epoch 33/100\n",
            "38/38 [==============================] - 0s 9ms/step - loss: 0.1878 - accuracy: 0.9294 - val_loss: 0.3335 - val_accuracy: 0.8575\n",
            "Epoch 34/100\n",
            "38/38 [==============================] - 0s 8ms/step - loss: 0.1624 - accuracy: 0.9404 - val_loss: 0.3111 - val_accuracy: 0.8633\n",
            "Epoch 35/100\n",
            "38/38 [==============================] - 0s 10ms/step - loss: 0.1420 - accuracy: 0.9442 - val_loss: 0.1964 - val_accuracy: 0.9208\n",
            "Epoch 36/100\n",
            "38/38 [==============================] - 0s 9ms/step - loss: 0.1399 - accuracy: 0.9450 - val_loss: 0.4618 - val_accuracy: 0.8475\n",
            "Epoch 37/100\n",
            "38/38 [==============================] - 0s 9ms/step - loss: 0.1389 - accuracy: 0.9494 - val_loss: 0.1294 - val_accuracy: 0.9500\n",
            "Epoch 38/100\n",
            "38/38 [==============================] - 0s 9ms/step - loss: 0.1248 - accuracy: 0.9529 - val_loss: 0.2502 - val_accuracy: 0.9067\n",
            "Epoch 39/100\n",
            "38/38 [==============================] - 0s 8ms/step - loss: 0.0974 - accuracy: 0.9665 - val_loss: 0.2506 - val_accuracy: 0.9075\n",
            "Epoch 40/100\n",
            "38/38 [==============================] - 0s 8ms/step - loss: 0.1124 - accuracy: 0.9567 - val_loss: 0.3539 - val_accuracy: 0.8742\n",
            "Epoch 41/100\n",
            "38/38 [==============================] - 0s 9ms/step - loss: 0.1020 - accuracy: 0.9613 - val_loss: 0.3215 - val_accuracy: 0.8783\n",
            "Epoch 42/100\n",
            "38/38 [==============================] - 0s 9ms/step - loss: 0.0911 - accuracy: 0.9692 - val_loss: 0.1965 - val_accuracy: 0.9283\n",
            "Epoch 43/100\n",
            "38/38 [==============================] - 0s 9ms/step - loss: 0.0927 - accuracy: 0.9704 - val_loss: 0.2652 - val_accuracy: 0.9042\n",
            "Epoch 44/100\n",
            "38/38 [==============================] - 0s 8ms/step - loss: 0.0958 - accuracy: 0.9640 - val_loss: 0.1516 - val_accuracy: 0.9383\n",
            "Epoch 45/100\n",
            "38/38 [==============================] - 1s 14ms/step - loss: 0.0993 - accuracy: 0.9656 - val_loss: 0.2504 - val_accuracy: 0.9158\n",
            "Epoch 46/100\n",
            "38/38 [==============================] - 0s 8ms/step - loss: 0.0910 - accuracy: 0.9673 - val_loss: 0.2427 - val_accuracy: 0.9117\n",
            "Epoch 47/100\n",
            "38/38 [==============================] - 1s 15ms/step - loss: 0.0812 - accuracy: 0.9712 - val_loss: 0.2837 - val_accuracy: 0.9150\n",
            "Epoch 48/100\n",
            "38/38 [==============================] - 0s 8ms/step - loss: 0.0917 - accuracy: 0.9671 - val_loss: 0.2040 - val_accuracy: 0.9342\n",
            "Epoch 49/100\n",
            "38/38 [==============================] - 0s 9ms/step - loss: 0.0819 - accuracy: 0.9712 - val_loss: 0.1541 - val_accuracy: 0.9625\n",
            "Epoch 50/100\n",
            "38/38 [==============================] - 0s 9ms/step - loss: 0.1202 - accuracy: 0.9552 - val_loss: 0.1942 - val_accuracy: 0.9300\n",
            "Epoch 51/100\n",
            "38/38 [==============================] - 0s 9ms/step - loss: 0.0904 - accuracy: 0.9658 - val_loss: 0.1644 - val_accuracy: 0.9425\n",
            "Epoch 52/100\n",
            "38/38 [==============================] - 0s 9ms/step - loss: 0.0685 - accuracy: 0.9771 - val_loss: 0.2057 - val_accuracy: 0.9333\n",
            "Epoch 53/100\n",
            "38/38 [==============================] - 0s 8ms/step - loss: 0.0716 - accuracy: 0.9748 - val_loss: 0.2922 - val_accuracy: 0.9108\n",
            "Epoch 54/100\n",
            "38/38 [==============================] - 0s 9ms/step - loss: 0.0838 - accuracy: 0.9698 - val_loss: 0.1346 - val_accuracy: 0.9483\n",
            "Epoch 55/100\n",
            "38/38 [==============================] - 0s 9ms/step - loss: 0.0707 - accuracy: 0.9777 - val_loss: 0.2823 - val_accuracy: 0.9092\n",
            "Epoch 56/100\n",
            "38/38 [==============================] - 0s 8ms/step - loss: 0.1059 - accuracy: 0.9615 - val_loss: 0.1587 - val_accuracy: 0.9475\n",
            "Epoch 57/100\n",
            "38/38 [==============================] - 0s 9ms/step - loss: 0.0876 - accuracy: 0.9692 - val_loss: 0.1763 - val_accuracy: 0.9367\n",
            "Epoch 58/100\n",
            "38/38 [==============================] - 0s 9ms/step - loss: 0.0548 - accuracy: 0.9829 - val_loss: 0.1945 - val_accuracy: 0.9408\n",
            "Epoch 59/100\n",
            "38/38 [==============================] - 0s 9ms/step - loss: 0.0485 - accuracy: 0.9854 - val_loss: 0.1242 - val_accuracy: 0.9658\n",
            "Epoch 60/100\n",
            "38/38 [==============================] - 0s 11ms/step - loss: 0.0667 - accuracy: 0.9756 - val_loss: 0.1914 - val_accuracy: 0.9400\n",
            "Epoch 61/100\n",
            "38/38 [==============================] - 0s 11ms/step - loss: 0.0450 - accuracy: 0.9856 - val_loss: 0.2846 - val_accuracy: 0.9208\n",
            "Epoch 62/100\n",
            "38/38 [==============================] - 0s 12ms/step - loss: 0.0586 - accuracy: 0.9819 - val_loss: 0.1433 - val_accuracy: 0.9583\n",
            "Epoch 63/100\n",
            "38/38 [==============================] - 0s 12ms/step - loss: 0.0761 - accuracy: 0.9717 - val_loss: 0.1575 - val_accuracy: 0.9483\n",
            "Epoch 64/100\n",
            "38/38 [==============================] - 0s 12ms/step - loss: 0.0500 - accuracy: 0.9844 - val_loss: 0.2451 - val_accuracy: 0.9283\n",
            "Epoch 65/100\n",
            "38/38 [==============================] - 0s 12ms/step - loss: 0.0503 - accuracy: 0.9812 - val_loss: 0.1853 - val_accuracy: 0.9458\n",
            "Epoch 66/100\n",
            "38/38 [==============================] - 0s 12ms/step - loss: 0.0738 - accuracy: 0.9729 - val_loss: 0.0607 - val_accuracy: 0.9808\n",
            "Epoch 67/100\n",
            "38/38 [==============================] - 0s 12ms/step - loss: 0.0787 - accuracy: 0.9710 - val_loss: 0.2505 - val_accuracy: 0.9258\n",
            "Epoch 68/100\n",
            "38/38 [==============================] - 0s 11ms/step - loss: 0.0582 - accuracy: 0.9787 - val_loss: 0.1627 - val_accuracy: 0.9450\n",
            "Epoch 69/100\n",
            "38/38 [==============================] - 0s 9ms/step - loss: 0.0545 - accuracy: 0.9798 - val_loss: 0.1891 - val_accuracy: 0.9442\n",
            "Epoch 70/100\n",
            "38/38 [==============================] - 0s 9ms/step - loss: 0.0642 - accuracy: 0.9771 - val_loss: 0.1471 - val_accuracy: 0.9542\n",
            "Epoch 71/100\n",
            "38/38 [==============================] - 0s 9ms/step - loss: 0.1051 - accuracy: 0.9590 - val_loss: 0.2022 - val_accuracy: 0.9258\n",
            "Epoch 72/100\n",
            "38/38 [==============================] - 0s 8ms/step - loss: 0.0680 - accuracy: 0.9744 - val_loss: 0.5234 - val_accuracy: 0.8350\n",
            "Epoch 73/100\n",
            "38/38 [==============================] - 0s 9ms/step - loss: 0.0780 - accuracy: 0.9719 - val_loss: 0.2504 - val_accuracy: 0.9125\n",
            "Epoch 74/100\n",
            "38/38 [==============================] - 0s 9ms/step - loss: 0.0567 - accuracy: 0.9800 - val_loss: 0.2219 - val_accuracy: 0.9342\n",
            "Epoch 75/100\n",
            "38/38 [==============================] - 0s 8ms/step - loss: 0.0499 - accuracy: 0.9837 - val_loss: 0.1691 - val_accuracy: 0.9500\n",
            "Epoch 76/100\n",
            "38/38 [==============================] - 0s 9ms/step - loss: 0.0414 - accuracy: 0.9869 - val_loss: 0.1921 - val_accuracy: 0.9458\n",
            "Epoch 77/100\n",
            "38/38 [==============================] - 0s 9ms/step - loss: 0.0831 - accuracy: 0.9673 - val_loss: 0.2721 - val_accuracy: 0.9208\n",
            "Epoch 78/100\n",
            "38/38 [==============================] - 0s 9ms/step - loss: 0.0499 - accuracy: 0.9833 - val_loss: 0.1805 - val_accuracy: 0.9525\n",
            "Epoch 79/100\n",
            "38/38 [==============================] - 0s 9ms/step - loss: 0.0509 - accuracy: 0.9835 - val_loss: 0.1269 - val_accuracy: 0.9558\n",
            "Epoch 80/100\n",
            "38/38 [==============================] - 0s 9ms/step - loss: 0.0944 - accuracy: 0.9673 - val_loss: 0.3926 - val_accuracy: 0.8742\n",
            "Epoch 81/100\n",
            "38/38 [==============================] - 0s 10ms/step - loss: 0.0579 - accuracy: 0.9792 - val_loss: 0.2044 - val_accuracy: 0.9375\n",
            "Epoch 82/100\n",
            "38/38 [==============================] - 0s 9ms/step - loss: 0.0397 - accuracy: 0.9860 - val_loss: 0.1862 - val_accuracy: 0.9458\n",
            "Epoch 83/100\n",
            "38/38 [==============================] - 0s 8ms/step - loss: 0.0386 - accuracy: 0.9875 - val_loss: 0.2169 - val_accuracy: 0.9475\n",
            "Epoch 84/100\n",
            "38/38 [==============================] - 0s 9ms/step - loss: 0.0318 - accuracy: 0.9902 - val_loss: 0.2683 - val_accuracy: 0.9292\n",
            "Epoch 85/100\n",
            "38/38 [==============================] - 0s 9ms/step - loss: 0.0275 - accuracy: 0.9900 - val_loss: 0.1622 - val_accuracy: 0.9567\n",
            "Epoch 86/100\n",
            "38/38 [==============================] - 0s 8ms/step - loss: 0.0688 - accuracy: 0.9760 - val_loss: 0.3530 - val_accuracy: 0.9100\n",
            "Epoch 87/100\n",
            "38/38 [==============================] - 0s 9ms/step - loss: 0.0824 - accuracy: 0.9694 - val_loss: 0.2449 - val_accuracy: 0.9300\n",
            "Epoch 88/100\n",
            "38/38 [==============================] - 0s 9ms/step - loss: 0.0720 - accuracy: 0.9721 - val_loss: 0.1356 - val_accuracy: 0.9517\n",
            "Epoch 89/100\n",
            "38/38 [==============================] - 0s 9ms/step - loss: 0.0361 - accuracy: 0.9881 - val_loss: 0.1682 - val_accuracy: 0.9467\n",
            "Epoch 90/100\n",
            "38/38 [==============================] - 0s 9ms/step - loss: 0.0426 - accuracy: 0.9850 - val_loss: 0.4213 - val_accuracy: 0.8842\n",
            "Epoch 91/100\n",
            "38/38 [==============================] - 0s 9ms/step - loss: 0.0514 - accuracy: 0.9815 - val_loss: 0.1828 - val_accuracy: 0.9400\n",
            "Epoch 92/100\n",
            "38/38 [==============================] - 0s 10ms/step - loss: 0.0303 - accuracy: 0.9902 - val_loss: 0.1708 - val_accuracy: 0.9558\n",
            "Epoch 93/100\n",
            "38/38 [==============================] - 0s 9ms/step - loss: 0.0414 - accuracy: 0.9844 - val_loss: 0.1274 - val_accuracy: 0.9642\n",
            "Epoch 94/100\n",
            "38/38 [==============================] - 0s 9ms/step - loss: 0.0620 - accuracy: 0.9775 - val_loss: 0.2027 - val_accuracy: 0.9383\n",
            "Epoch 95/100\n",
            "38/38 [==============================] - 0s 9ms/step - loss: 0.0641 - accuracy: 0.9756 - val_loss: 0.1724 - val_accuracy: 0.9483\n",
            "Epoch 96/100\n",
            "38/38 [==============================] - 0s 8ms/step - loss: 0.0444 - accuracy: 0.9842 - val_loss: 0.3269 - val_accuracy: 0.9167\n",
            "Epoch 97/100\n",
            "38/38 [==============================] - 0s 11ms/step - loss: 0.0287 - accuracy: 0.9892 - val_loss: 0.1156 - val_accuracy: 0.9642\n",
            "Epoch 98/100\n",
            "38/38 [==============================] - 0s 12ms/step - loss: 0.0586 - accuracy: 0.9804 - val_loss: 0.3426 - val_accuracy: 0.8983\n",
            "Epoch 99/100\n",
            "38/38 [==============================] - 1s 14ms/step - loss: 0.0375 - accuracy: 0.9862 - val_loss: 0.1459 - val_accuracy: 0.9625\n",
            "Epoch 100/100\n",
            "38/38 [==============================] - 0s 13ms/step - loss: 0.0553 - accuracy: 0.9802 - val_loss: 0.3479 - val_accuracy: 0.9000\n"
          ]
        },
        {
          "output_type": "execute_result",
          "data": {
            "text/plain": [
              "<keras.callbacks.History at 0x7f1ddd8a7790>"
            ]
          },
          "metadata": {},
          "execution_count": 16
        }
      ]
    },
    {
      "cell_type": "code",
      "source": [
        "o = model.predict(x_test)\n",
        "o = np.argmax(o,1)\n",
        "y_test = np.argmax(y_test,1)\n",
        "sum(np.equal(y_test,o))/len(y_test)"
      ],
      "metadata": {
        "colab": {
          "base_uri": "https://localhost:8080/"
        },
        "outputId": "2de9edba-9f39-4e83-c7f1-1ab06713ea0f",
        "id": "SROhstrwgT_d"
      },
      "execution_count": null,
      "outputs": [
        {
          "output_type": "stream",
          "name": "stdout",
          "text": [
            "63/63 [==============================] - 1s 3ms/step\n"
          ]
        },
        {
          "output_type": "execute_result",
          "data": {
            "text/plain": [
              "0.954"
            ]
          },
          "metadata": {},
          "execution_count": 17
        }
      ]
    },
    {
      "cell_type": "code",
      "source": [
        "x_train = np.concatenate((data_no[:nTrain,:], data_ab[:nTrain,:]),0)\n",
        "x_test = np.concatenate((data_no[nTrain:nTrain+nTest,:], data_ab[nTrain:nTrain+nTest,:]),0)\n",
        "y_train = np.concatenate((np.zeros(nTrain,), np.ones(nTrain,)),0)\n",
        "y_test = np.concatenate((np.zeros(nTest,), np.ones(nTest,)),0)\n",
        "\n",
        "from tensorflow.keras.utils import to_categorical\n",
        "x_train = np.expand_dims(x_train,-1)\n",
        "x_test = np.expand_dims(x_test,-1)\n",
        "y_train = to_categorical(y_train)\n",
        "y_test = to_categorical(y_test)\n",
        "\n",
        "from tensorflow.keras import Sequential\n",
        "from tensorflow.keras import layers\n",
        "from tensorflow.keras import optimizers\n",
        "\n",
        "model = Sequential()\n",
        "model.add(layers.Conv1D(filters=16, kernel_size= 3, input_shape=(x_train.shape[1], 1), activation='relu'))\n",
        "model.add(layers.Conv1D(filters=16, kernel_size= 3, activation='relu'))\n",
        "model.add(layers.MaxPooling1D(pool_size = 3,strides=2))\n",
        "model.add(layers.Conv1D(filters=32, kernel_size= 3, input_shape=(x_train.shape[1], 1), activation='relu'))\n",
        "model.add(layers.Conv1D(filters=32, kernel_size= 3, activation='relu'))\n",
        "model.add(layers.MaxPooling1D(pool_size = 3,strides=2))\n",
        "model.add(layers.LSTM(16))\n",
        "model.add(layers.Dense(units=2, activation='softmax'))\n",
        "model.compile(loss='categorical_crossentropy', optimizer=optimizers.Adam(learning_rate=0.01), metrics=['accuracy'])"
      ],
      "metadata": {
        "id": "DbBxEf7_hlBL"
      },
      "execution_count": null,
      "outputs": []
    },
    {
      "cell_type": "code",
      "source": [
        "model.fit(x_train, y_train, epochs=25, batch_size=128, validation_split=0.2)"
      ],
      "metadata": {
        "colab": {
          "base_uri": "https://localhost:8080/"
        },
        "outputId": "b2f78e2f-df8f-4549-ba70-10cb3de34fbb",
        "id": "Y0ok3J7VgT_e"
      },
      "execution_count": null,
      "outputs": [
        {
          "output_type": "stream",
          "name": "stdout",
          "text": [
            "Epoch 1/25\n",
            "38/38 [==============================] - 6s 22ms/step - loss: 0.6109 - accuracy: 0.6844 - val_loss: 0.8562 - val_accuracy: 0.4683\n",
            "Epoch 2/25\n",
            "38/38 [==============================] - 0s 8ms/step - loss: 0.5924 - accuracy: 0.6973 - val_loss: 1.0283 - val_accuracy: 0.3425\n",
            "Epoch 3/25\n",
            "38/38 [==============================] - 0s 8ms/step - loss: 0.5747 - accuracy: 0.7148 - val_loss: 0.7729 - val_accuracy: 0.5850\n",
            "Epoch 4/25\n",
            "38/38 [==============================] - 0s 9ms/step - loss: 0.5745 - accuracy: 0.7190 - val_loss: 0.9408 - val_accuracy: 0.4608\n",
            "Epoch 5/25\n",
            "38/38 [==============================] - 0s 10ms/step - loss: 0.5715 - accuracy: 0.7167 - val_loss: 0.7686 - val_accuracy: 0.5492\n",
            "Epoch 6/25\n",
            "38/38 [==============================] - 0s 9ms/step - loss: 0.5579 - accuracy: 0.7265 - val_loss: 0.7242 - val_accuracy: 0.5150\n",
            "Epoch 7/25\n",
            "38/38 [==============================] - 0s 8ms/step - loss: 0.5511 - accuracy: 0.7237 - val_loss: 0.9025 - val_accuracy: 0.4842\n",
            "Epoch 8/25\n",
            "38/38 [==============================] - 0s 8ms/step - loss: 0.5251 - accuracy: 0.7387 - val_loss: 1.2013 - val_accuracy: 0.1775\n",
            "Epoch 9/25\n",
            "38/38 [==============================] - 0s 8ms/step - loss: 0.5542 - accuracy: 0.7240 - val_loss: 0.9953 - val_accuracy: 0.3533\n",
            "Epoch 10/25\n",
            "38/38 [==============================] - 0s 9ms/step - loss: 0.5192 - accuracy: 0.7412 - val_loss: 0.5953 - val_accuracy: 0.5925\n",
            "Epoch 11/25\n",
            "38/38 [==============================] - 0s 9ms/step - loss: 0.4786 - accuracy: 0.7683 - val_loss: 0.7384 - val_accuracy: 0.4658\n",
            "Epoch 12/25\n",
            "38/38 [==============================] - 0s 9ms/step - loss: 0.4677 - accuracy: 0.7815 - val_loss: 0.6891 - val_accuracy: 0.5258\n",
            "Epoch 13/25\n",
            "38/38 [==============================] - 0s 10ms/step - loss: 0.4330 - accuracy: 0.8023 - val_loss: 0.7762 - val_accuracy: 0.5375\n",
            "Epoch 14/25\n",
            "38/38 [==============================] - 0s 9ms/step - loss: 0.4515 - accuracy: 0.7856 - val_loss: 0.6112 - val_accuracy: 0.5750\n",
            "Epoch 15/25\n",
            "38/38 [==============================] - 0s 9ms/step - loss: 0.4413 - accuracy: 0.7877 - val_loss: 0.5033 - val_accuracy: 0.6900\n",
            "Epoch 16/25\n",
            "38/38 [==============================] - 0s 9ms/step - loss: 0.4050 - accuracy: 0.8104 - val_loss: 0.3913 - val_accuracy: 0.8167\n",
            "Epoch 17/25\n",
            "38/38 [==============================] - 0s 8ms/step - loss: 0.3713 - accuracy: 0.8360 - val_loss: 0.5808 - val_accuracy: 0.6167\n",
            "Epoch 18/25\n",
            "38/38 [==============================] - 0s 8ms/step - loss: 0.3389 - accuracy: 0.8560 - val_loss: 0.3107 - val_accuracy: 0.8533\n",
            "Epoch 19/25\n",
            "38/38 [==============================] - 0s 9ms/step - loss: 0.3617 - accuracy: 0.8406 - val_loss: 0.3534 - val_accuracy: 0.7933\n",
            "Epoch 20/25\n",
            "38/38 [==============================] - 0s 9ms/step - loss: 0.3086 - accuracy: 0.8671 - val_loss: 0.7372 - val_accuracy: 0.6158\n",
            "Epoch 21/25\n",
            "38/38 [==============================] - 0s 9ms/step - loss: 0.3154 - accuracy: 0.8637 - val_loss: 0.8550 - val_accuracy: 0.6267\n",
            "Epoch 22/25\n",
            "38/38 [==============================] - 0s 9ms/step - loss: 0.3073 - accuracy: 0.8715 - val_loss: 0.3697 - val_accuracy: 0.8092\n",
            "Epoch 23/25\n",
            "38/38 [==============================] - 0s 9ms/step - loss: 0.2755 - accuracy: 0.8863 - val_loss: 0.5942 - val_accuracy: 0.6917\n",
            "Epoch 24/25\n",
            "38/38 [==============================] - 0s 9ms/step - loss: 0.2664 - accuracy: 0.8933 - val_loss: 0.4847 - val_accuracy: 0.7700\n",
            "Epoch 25/25\n",
            "38/38 [==============================] - 0s 9ms/step - loss: 0.2531 - accuracy: 0.8967 - val_loss: 0.4982 - val_accuracy: 0.7675\n"
          ]
        },
        {
          "output_type": "execute_result",
          "data": {
            "text/plain": [
              "<keras.callbacks.History at 0x7f1ddd2fbbb0>"
            ]
          },
          "metadata": {},
          "execution_count": 19
        }
      ]
    },
    {
      "cell_type": "code",
      "source": [
        "o = model.predict(x_test)\n",
        "o = np.argmax(o,1)\n",
        "y_test = np.argmax(y_test,1)\n",
        "sum(np.equal(y_test,o))/len(y_test)"
      ],
      "metadata": {
        "colab": {
          "base_uri": "https://localhost:8080/"
        },
        "outputId": "8f788afc-7268-45e5-f2fd-2bb3065f133b",
        "id": "AaiyLZPtgT_e"
      },
      "execution_count": null,
      "outputs": [
        {
          "output_type": "stream",
          "name": "stdout",
          "text": [
            "63/63 [==============================] - 1s 3ms/step\n"
          ]
        },
        {
          "output_type": "execute_result",
          "data": {
            "text/plain": [
              "0.8795"
            ]
          },
          "metadata": {},
          "execution_count": 20
        }
      ]
    },
    {
      "cell_type": "markdown",
      "source": [
        "# validation_split"
      ],
      "metadata": {
        "id": "FB3hrOHAgUiv"
      }
    },
    {
      "cell_type": "code",
      "source": [
        "x_train = np.concatenate((data_no[:nTrain,:], data_ab[:nTrain,:]),0)\n",
        "x_test = np.concatenate((data_no[nTrain:nTrain+nTest,:], data_ab[nTrain:nTrain+nTest,:]),0)\n",
        "y_train = np.concatenate((np.zeros(nTrain,), np.ones(nTrain,)),0)\n",
        "y_test = np.concatenate((np.zeros(nTest,), np.ones(nTest,)),0)\n",
        "\n",
        "from tensorflow.keras.utils import to_categorical\n",
        "x_train = np.expand_dims(x_train,-1)\n",
        "x_test = np.expand_dims(x_test,-1)\n",
        "y_train = to_categorical(y_train)\n",
        "y_test = to_categorical(y_test)\n",
        "\n",
        "from tensorflow.keras import Sequential\n",
        "from tensorflow.keras import layers\n",
        "from tensorflow.keras import optimizers\n",
        "\n",
        "model = Sequential()\n",
        "model.add(layers.Conv1D(filters=16, kernel_size= 3, input_shape=(x_train.shape[1], 1), activation='relu'))\n",
        "model.add(layers.Conv1D(filters=16, kernel_size= 3, activation='relu'))\n",
        "model.add(layers.MaxPooling1D(pool_size = 3,strides=2))\n",
        "model.add(layers.Conv1D(filters=32, kernel_size= 3, input_shape=(x_train.shape[1], 1), activation='relu'))\n",
        "model.add(layers.Conv1D(filters=32, kernel_size= 3, activation='relu'))\n",
        "model.add(layers.MaxPooling1D(pool_size = 3,strides=2))\n",
        "model.add(layers.LSTM(16))\n",
        "model.add(layers.Dense(units=2, activation='softmax'))\n",
        "model.compile(loss='categorical_crossentropy', optimizer=optimizers.Adam(learning_rate=0.01), metrics=['accuracy'])"
      ],
      "metadata": {
        "id": "i4X_S8WphmH2"
      },
      "execution_count": null,
      "outputs": []
    },
    {
      "cell_type": "code",
      "source": [
        "model.fit(x_train, y_train, epochs=50, batch_size=128, validation_split=0.4)"
      ],
      "metadata": {
        "colab": {
          "base_uri": "https://localhost:8080/"
        },
        "outputId": "3148043e-a2b0-4d3e-fd8b-3c387a16c301",
        "id": "ECSD56jagUiw"
      },
      "execution_count": null,
      "outputs": [
        {
          "output_type": "stream",
          "name": "stdout",
          "text": [
            "Epoch 1/50\n",
            "29/29 [==============================] - 8s 60ms/step - loss: 0.4904 - accuracy: 0.8117 - val_loss: 1.9343 - val_accuracy: 0.0000e+00\n",
            "Epoch 2/50\n",
            "29/29 [==============================] - 0s 17ms/step - loss: 0.4535 - accuracy: 0.8333 - val_loss: 1.7937 - val_accuracy: 0.0000e+00\n",
            "Epoch 3/50\n",
            "29/29 [==============================] - 1s 18ms/step - loss: 0.4523 - accuracy: 0.8333 - val_loss: 1.7993 - val_accuracy: 0.0000e+00\n",
            "Epoch 4/50\n",
            "29/29 [==============================] - 1s 20ms/step - loss: 0.4469 - accuracy: 0.8333 - val_loss: 1.6833 - val_accuracy: 0.0000e+00\n",
            "Epoch 5/50\n",
            "29/29 [==============================] - 1s 21ms/step - loss: 0.4084 - accuracy: 0.8353 - val_loss: 1.6039 - val_accuracy: 0.1258\n",
            "Epoch 6/50\n",
            "29/29 [==============================] - 1s 20ms/step - loss: 0.4012 - accuracy: 0.8392 - val_loss: 1.7564 - val_accuracy: 0.0512\n",
            "Epoch 7/50\n",
            "29/29 [==============================] - 1s 19ms/step - loss: 0.3940 - accuracy: 0.8492 - val_loss: 1.6208 - val_accuracy: 0.0621\n",
            "Epoch 8/50\n",
            "29/29 [==============================] - 0s 16ms/step - loss: 0.3902 - accuracy: 0.8500 - val_loss: 1.6411 - val_accuracy: 0.1146\n",
            "Epoch 9/50\n",
            "29/29 [==============================] - 0s 17ms/step - loss: 0.3888 - accuracy: 0.8469 - val_loss: 1.6401 - val_accuracy: 0.0838\n",
            "Epoch 10/50\n",
            "29/29 [==============================] - 0s 13ms/step - loss: 0.3892 - accuracy: 0.8450 - val_loss: 1.4185 - val_accuracy: 0.2579\n",
            "Epoch 11/50\n",
            "29/29 [==============================] - 0s 16ms/step - loss: 0.4052 - accuracy: 0.8406 - val_loss: 1.6918 - val_accuracy: 0.0000e+00\n",
            "Epoch 12/50\n",
            "29/29 [==============================] - 0s 16ms/step - loss: 0.4514 - accuracy: 0.8333 - val_loss: 1.8281 - val_accuracy: 0.0000e+00\n",
            "Epoch 13/50\n",
            "29/29 [==============================] - 0s 17ms/step - loss: 0.4514 - accuracy: 0.8333 - val_loss: 1.8597 - val_accuracy: 0.0000e+00\n",
            "Epoch 14/50\n",
            "29/29 [==============================] - 0s 17ms/step - loss: 0.4512 - accuracy: 0.8333 - val_loss: 1.8212 - val_accuracy: 0.0000e+00\n",
            "Epoch 15/50\n",
            "29/29 [==============================] - 1s 17ms/step - loss: 0.4508 - accuracy: 0.8333 - val_loss: 1.8221 - val_accuracy: 0.0000e+00\n",
            "Epoch 16/50\n",
            "29/29 [==============================] - 0s 17ms/step - loss: 0.4520 - accuracy: 0.8333 - val_loss: 1.6973 - val_accuracy: 0.0000e+00\n",
            "Epoch 17/50\n",
            "29/29 [==============================] - 0s 16ms/step - loss: 0.4507 - accuracy: 0.8333 - val_loss: 1.8036 - val_accuracy: 0.0000e+00\n",
            "Epoch 18/50\n",
            "29/29 [==============================] - 0s 16ms/step - loss: 0.4513 - accuracy: 0.8333 - val_loss: 1.7871 - val_accuracy: 0.0000e+00\n",
            "Epoch 19/50\n",
            "29/29 [==============================] - 1s 22ms/step - loss: 0.4515 - accuracy: 0.8333 - val_loss: 1.8505 - val_accuracy: 0.0000e+00\n",
            "Epoch 20/50\n",
            "29/29 [==============================] - 1s 20ms/step - loss: 0.4511 - accuracy: 0.8333 - val_loss: 1.8248 - val_accuracy: 0.0000e+00\n",
            "Epoch 21/50\n",
            "29/29 [==============================] - 1s 18ms/step - loss: 0.4505 - accuracy: 0.8333 - val_loss: 1.7093 - val_accuracy: 0.0000e+00\n",
            "Epoch 22/50\n",
            "29/29 [==============================] - 0s 16ms/step - loss: 0.4540 - accuracy: 0.8333 - val_loss: 1.7652 - val_accuracy: 0.0000e+00\n",
            "Epoch 23/50\n",
            "29/29 [==============================] - 0s 15ms/step - loss: 0.4510 - accuracy: 0.8333 - val_loss: 1.7229 - val_accuracy: 0.0000e+00\n",
            "Epoch 24/50\n",
            "29/29 [==============================] - 0s 14ms/step - loss: 0.4510 - accuracy: 0.8333 - val_loss: 1.8480 - val_accuracy: 0.0000e+00\n",
            "Epoch 25/50\n",
            "29/29 [==============================] - 0s 16ms/step - loss: 0.4510 - accuracy: 0.8333 - val_loss: 1.8180 - val_accuracy: 0.0000e+00\n",
            "Epoch 26/50\n",
            "29/29 [==============================] - 0s 12ms/step - loss: 0.4511 - accuracy: 0.8333 - val_loss: 1.8600 - val_accuracy: 0.0000e+00\n",
            "Epoch 27/50\n",
            "29/29 [==============================] - 0s 10ms/step - loss: 0.4514 - accuracy: 0.8333 - val_loss: 1.8290 - val_accuracy: 0.0000e+00\n",
            "Epoch 28/50\n",
            "29/29 [==============================] - 0s 10ms/step - loss: 0.4511 - accuracy: 0.8333 - val_loss: 1.8835 - val_accuracy: 0.0000e+00\n",
            "Epoch 29/50\n",
            "29/29 [==============================] - 0s 10ms/step - loss: 0.4509 - accuracy: 0.8333 - val_loss: 1.7866 - val_accuracy: 0.0000e+00\n",
            "Epoch 30/50\n",
            "29/29 [==============================] - 0s 10ms/step - loss: 0.4514 - accuracy: 0.8333 - val_loss: 1.7618 - val_accuracy: 0.0000e+00\n",
            "Epoch 31/50\n",
            "29/29 [==============================] - 0s 10ms/step - loss: 0.4512 - accuracy: 0.8333 - val_loss: 1.8065 - val_accuracy: 0.0000e+00\n",
            "Epoch 32/50\n",
            "29/29 [==============================] - 0s 13ms/step - loss: 0.4510 - accuracy: 0.8333 - val_loss: 1.8349 - val_accuracy: 0.0000e+00\n",
            "Epoch 33/50\n",
            "29/29 [==============================] - 0s 11ms/step - loss: 0.4516 - accuracy: 0.8333 - val_loss: 1.8436 - val_accuracy: 0.0000e+00\n",
            "Epoch 34/50\n",
            "29/29 [==============================] - 0s 10ms/step - loss: 0.4515 - accuracy: 0.8333 - val_loss: 1.7788 - val_accuracy: 0.0000e+00\n",
            "Epoch 35/50\n",
            "29/29 [==============================] - 0s 10ms/step - loss: 0.4509 - accuracy: 0.8333 - val_loss: 1.7910 - val_accuracy: 0.0000e+00\n",
            "Epoch 36/50\n",
            "29/29 [==============================] - 0s 10ms/step - loss: 0.4509 - accuracy: 0.8333 - val_loss: 1.7304 - val_accuracy: 0.0000e+00\n",
            "Epoch 37/50\n",
            "29/29 [==============================] - 0s 10ms/step - loss: 0.4514 - accuracy: 0.8333 - val_loss: 1.7548 - val_accuracy: 0.0000e+00\n",
            "Epoch 38/50\n",
            "29/29 [==============================] - 0s 10ms/step - loss: 0.4509 - accuracy: 0.8333 - val_loss: 1.7317 - val_accuracy: 0.0000e+00\n",
            "Epoch 39/50\n",
            "29/29 [==============================] - 0s 10ms/step - loss: 0.4512 - accuracy: 0.8333 - val_loss: 1.8972 - val_accuracy: 0.0000e+00\n",
            "Epoch 40/50\n",
            "29/29 [==============================] - 0s 9ms/step - loss: 0.4513 - accuracy: 0.8333 - val_loss: 1.7741 - val_accuracy: 0.0000e+00\n",
            "Epoch 41/50\n",
            "29/29 [==============================] - 0s 11ms/step - loss: 0.4511 - accuracy: 0.8333 - val_loss: 1.7689 - val_accuracy: 0.0000e+00\n",
            "Epoch 42/50\n",
            "29/29 [==============================] - 0s 10ms/step - loss: 0.4515 - accuracy: 0.8333 - val_loss: 1.8318 - val_accuracy: 0.0000e+00\n",
            "Epoch 43/50\n",
            "29/29 [==============================] - 0s 10ms/step - loss: 0.4512 - accuracy: 0.8333 - val_loss: 1.7398 - val_accuracy: 0.0000e+00\n",
            "Epoch 44/50\n",
            "29/29 [==============================] - 0s 10ms/step - loss: 0.4530 - accuracy: 0.8333 - val_loss: 1.9902 - val_accuracy: 0.0000e+00\n",
            "Epoch 45/50\n",
            "29/29 [==============================] - 0s 10ms/step - loss: 0.4529 - accuracy: 0.8333 - val_loss: 1.8237 - val_accuracy: 0.0000e+00\n",
            "Epoch 46/50\n",
            "29/29 [==============================] - 0s 9ms/step - loss: 0.4507 - accuracy: 0.8333 - val_loss: 1.8599 - val_accuracy: 0.0000e+00\n",
            "Epoch 47/50\n",
            "29/29 [==============================] - 0s 10ms/step - loss: 0.4188 - accuracy: 0.8417 - val_loss: 1.3588 - val_accuracy: 0.1496\n",
            "Epoch 48/50\n",
            "29/29 [==============================] - 0s 9ms/step - loss: 0.3950 - accuracy: 0.8478 - val_loss: 1.4702 - val_accuracy: 0.1587\n",
            "Epoch 49/50\n",
            "29/29 [==============================] - 0s 10ms/step - loss: 0.3886 - accuracy: 0.8464 - val_loss: 1.7907 - val_accuracy: 0.1221\n",
            "Epoch 50/50\n",
            "29/29 [==============================] - 0s 10ms/step - loss: 0.3883 - accuracy: 0.8469 - val_loss: 1.6329 - val_accuracy: 0.1008\n"
          ]
        },
        {
          "output_type": "execute_result",
          "data": {
            "text/plain": [
              "<keras.callbacks.History at 0x7f1ddd95aaa0>"
            ]
          },
          "metadata": {},
          "execution_count": 22
        }
      ]
    },
    {
      "cell_type": "code",
      "source": [
        "o = model.predict(x_test)\n",
        "o = np.argmax(o,1)\n",
        "y_test = np.argmax(y_test,1)\n",
        "sum(np.equal(y_test,o))/len(y_test)"
      ],
      "metadata": {
        "colab": {
          "base_uri": "https://localhost:8080/"
        },
        "outputId": "6c1dbe9e-ae43-4550-df9b-915410f6c321",
        "id": "S_qvgrcngUix"
      },
      "execution_count": null,
      "outputs": [
        {
          "output_type": "stream",
          "name": "stdout",
          "text": [
            "63/63 [==============================] - 1s 3ms/step\n"
          ]
        },
        {
          "output_type": "execute_result",
          "data": {
            "text/plain": [
              "0.548"
            ]
          },
          "metadata": {},
          "execution_count": 23
        }
      ]
    },
    {
      "cell_type": "code",
      "source": [
        "x_train = np.concatenate((data_no[:nTrain,:], data_ab[:nTrain,:]),0)\n",
        "x_test = np.concatenate((data_no[nTrain:nTrain+nTest,:], data_ab[nTrain:nTrain+nTest,:]),0)\n",
        "y_train = np.concatenate((np.zeros(nTrain,), np.ones(nTrain,)),0)\n",
        "y_test = np.concatenate((np.zeros(nTest,), np.ones(nTest,)),0)\n",
        "\n",
        "from tensorflow.keras.utils import to_categorical\n",
        "x_train = np.expand_dims(x_train,-1)\n",
        "x_test = np.expand_dims(x_test,-1)\n",
        "y_train = to_categorical(y_train)\n",
        "y_test = to_categorical(y_test)\n",
        "\n",
        "from tensorflow.keras import Sequential\n",
        "from tensorflow.keras import layers\n",
        "from tensorflow.keras import optimizers\n",
        "\n",
        "model = Sequential()\n",
        "model.add(layers.Conv1D(filters=16, kernel_size= 3, input_shape=(x_train.shape[1], 1), activation='relu'))\n",
        "model.add(layers.Conv1D(filters=16, kernel_size= 3, activation='relu'))\n",
        "model.add(layers.MaxPooling1D(pool_size = 3,strides=2))\n",
        "model.add(layers.Conv1D(filters=32, kernel_size= 3, input_shape=(x_train.shape[1], 1), activation='relu'))\n",
        "model.add(layers.Conv1D(filters=32, kernel_size= 3, activation='relu'))\n",
        "model.add(layers.MaxPooling1D(pool_size = 3,strides=2))\n",
        "model.add(layers.LSTM(16))\n",
        "model.add(layers.Dense(units=2, activation='softmax'))\n",
        "model.compile(loss='categorical_crossentropy', optimizer=optimizers.Adam(learning_rate=0.01), metrics=['accuracy'])"
      ],
      "metadata": {
        "id": "DnZbkCZ3hnvZ"
      },
      "execution_count": null,
      "outputs": []
    },
    {
      "cell_type": "code",
      "source": [
        "model.fit(x_train, y_train, epochs=100, batch_size=256, validation_split=0.1)"
      ],
      "metadata": {
        "colab": {
          "base_uri": "https://localhost:8080/"
        },
        "outputId": "4addd1d0-40b7-4dde-8c8f-94c579b5a18c",
        "id": "tRA6va4LgUix"
      },
      "execution_count": null,
      "outputs": [
        {
          "output_type": "stream",
          "name": "stdout",
          "text": [
            "Epoch 1/100\n",
            "22/22 [==============================] - 5s 32ms/step - loss: 0.6606 - accuracy: 0.6026 - val_loss: 0.7275 - val_accuracy: 0.5933\n",
            "Epoch 2/100\n",
            "22/22 [==============================] - 0s 11ms/step - loss: 0.6039 - accuracy: 0.6935 - val_loss: 0.6143 - val_accuracy: 0.5950\n",
            "Epoch 3/100\n",
            "22/22 [==============================] - 0s 10ms/step - loss: 0.5871 - accuracy: 0.7031 - val_loss: 0.8342 - val_accuracy: 0.4067\n",
            "Epoch 4/100\n",
            "22/22 [==============================] - 0s 10ms/step - loss: 0.5798 - accuracy: 0.7004 - val_loss: 0.7371 - val_accuracy: 0.4833\n",
            "Epoch 5/100\n",
            "22/22 [==============================] - 0s 8ms/step - loss: 0.5840 - accuracy: 0.6957 - val_loss: 0.7906 - val_accuracy: 0.4517\n",
            "Epoch 6/100\n",
            "22/22 [==============================] - 0s 9ms/step - loss: 0.5721 - accuracy: 0.7059 - val_loss: 0.8031 - val_accuracy: 0.3950\n",
            "Epoch 7/100\n",
            "22/22 [==============================] - 0s 8ms/step - loss: 0.5791 - accuracy: 0.6941 - val_loss: 0.8014 - val_accuracy: 0.4500\n",
            "Epoch 8/100\n",
            "22/22 [==============================] - 0s 8ms/step - loss: 0.5620 - accuracy: 0.7057 - val_loss: 0.8277 - val_accuracy: 0.3483\n",
            "Epoch 9/100\n",
            "22/22 [==============================] - 0s 9ms/step - loss: 0.5584 - accuracy: 0.7128 - val_loss: 0.5870 - val_accuracy: 0.6117\n",
            "Epoch 10/100\n",
            "22/22 [==============================] - 0s 9ms/step - loss: 0.5482 - accuracy: 0.7226 - val_loss: 0.5788 - val_accuracy: 0.6433\n",
            "Epoch 11/100\n",
            "22/22 [==============================] - 0s 9ms/step - loss: 0.5264 - accuracy: 0.7441 - val_loss: 0.5150 - val_accuracy: 0.6833\n",
            "Epoch 12/100\n",
            "22/22 [==============================] - 0s 8ms/step - loss: 0.5048 - accuracy: 0.7572 - val_loss: 0.5097 - val_accuracy: 0.7083\n",
            "Epoch 13/100\n",
            "22/22 [==============================] - 0s 8ms/step - loss: 0.4876 - accuracy: 0.7765 - val_loss: 0.7553 - val_accuracy: 0.5383\n",
            "Epoch 14/100\n",
            "22/22 [==============================] - 0s 8ms/step - loss: 0.4613 - accuracy: 0.7883 - val_loss: 0.5037 - val_accuracy: 0.7200\n",
            "Epoch 15/100\n",
            "22/22 [==============================] - 0s 10ms/step - loss: 0.4196 - accuracy: 0.8170 - val_loss: 0.7448 - val_accuracy: 0.5817\n",
            "Epoch 16/100\n",
            "22/22 [==============================] - 0s 9ms/step - loss: 0.4386 - accuracy: 0.8061 - val_loss: 0.5627 - val_accuracy: 0.7033\n",
            "Epoch 17/100\n",
            "22/22 [==============================] - 0s 10ms/step - loss: 0.3811 - accuracy: 0.8383 - val_loss: 0.2807 - val_accuracy: 0.8600\n",
            "Epoch 18/100\n",
            "22/22 [==============================] - 0s 10ms/step - loss: 0.3450 - accuracy: 0.8580 - val_loss: 0.5453 - val_accuracy: 0.7450\n",
            "Epoch 19/100\n",
            "22/22 [==============================] - 0s 10ms/step - loss: 0.3408 - accuracy: 0.8600 - val_loss: 0.3882 - val_accuracy: 0.8050\n",
            "Epoch 20/100\n",
            "22/22 [==============================] - 0s 10ms/step - loss: 0.3342 - accuracy: 0.8557 - val_loss: 0.5795 - val_accuracy: 0.6983\n",
            "Epoch 21/100\n",
            "22/22 [==============================] - 0s 10ms/step - loss: 0.3009 - accuracy: 0.8817 - val_loss: 0.3339 - val_accuracy: 0.8450\n",
            "Epoch 22/100\n",
            "22/22 [==============================] - 0s 10ms/step - loss: 0.2965 - accuracy: 0.8828 - val_loss: 0.4244 - val_accuracy: 0.8000\n",
            "Epoch 23/100\n",
            "22/22 [==============================] - 0s 10ms/step - loss: 0.2513 - accuracy: 0.9002 - val_loss: 0.2856 - val_accuracy: 0.8600\n",
            "Epoch 24/100\n",
            "22/22 [==============================] - 0s 9ms/step - loss: 0.2592 - accuracy: 0.8919 - val_loss: 0.4010 - val_accuracy: 0.8317\n",
            "Epoch 25/100\n",
            "22/22 [==============================] - 0s 10ms/step - loss: 0.2594 - accuracy: 0.8993 - val_loss: 0.3333 - val_accuracy: 0.8367\n",
            "Epoch 26/100\n",
            "22/22 [==============================] - 0s 9ms/step - loss: 0.2410 - accuracy: 0.8991 - val_loss: 0.3463 - val_accuracy: 0.8300\n",
            "Epoch 27/100\n",
            "22/22 [==============================] - 0s 10ms/step - loss: 0.2212 - accuracy: 0.9106 - val_loss: 0.4048 - val_accuracy: 0.8000\n",
            "Epoch 28/100\n",
            "22/22 [==============================] - 0s 9ms/step - loss: 0.2438 - accuracy: 0.9017 - val_loss: 0.4671 - val_accuracy: 0.7883\n",
            "Epoch 29/100\n",
            "22/22 [==============================] - 0s 10ms/step - loss: 0.2078 - accuracy: 0.9200 - val_loss: 0.3334 - val_accuracy: 0.8367\n",
            "Epoch 30/100\n",
            "22/22 [==============================] - 0s 10ms/step - loss: 0.2103 - accuracy: 0.9193 - val_loss: 0.2555 - val_accuracy: 0.8767\n",
            "Epoch 31/100\n",
            "22/22 [==============================] - 0s 10ms/step - loss: 0.2123 - accuracy: 0.9167 - val_loss: 0.2881 - val_accuracy: 0.8700\n",
            "Epoch 32/100\n",
            "22/22 [==============================] - 0s 9ms/step - loss: 0.2065 - accuracy: 0.9211 - val_loss: 0.2941 - val_accuracy: 0.8717\n",
            "Epoch 33/100\n",
            "22/22 [==============================] - 0s 11ms/step - loss: 0.1898 - accuracy: 0.9265 - val_loss: 0.2000 - val_accuracy: 0.9117\n",
            "Epoch 34/100\n",
            "22/22 [==============================] - 0s 9ms/step - loss: 0.1999 - accuracy: 0.9211 - val_loss: 0.2053 - val_accuracy: 0.9000\n",
            "Epoch 35/100\n",
            "22/22 [==============================] - 0s 9ms/step - loss: 0.1790 - accuracy: 0.9341 - val_loss: 0.3436 - val_accuracy: 0.8650\n",
            "Epoch 36/100\n",
            "22/22 [==============================] - 0s 9ms/step - loss: 0.1714 - accuracy: 0.9352 - val_loss: 0.3304 - val_accuracy: 0.8733\n",
            "Epoch 37/100\n",
            "22/22 [==============================] - 0s 10ms/step - loss: 0.2403 - accuracy: 0.9028 - val_loss: 0.2429 - val_accuracy: 0.8967\n",
            "Epoch 38/100\n",
            "22/22 [==============================] - 0s 10ms/step - loss: 0.1737 - accuracy: 0.9346 - val_loss: 0.2866 - val_accuracy: 0.8783\n",
            "Epoch 39/100\n",
            "22/22 [==============================] - 0s 9ms/step - loss: 0.1683 - accuracy: 0.9320 - val_loss: 0.2635 - val_accuracy: 0.8917\n",
            "Epoch 40/100\n",
            "22/22 [==============================] - 0s 9ms/step - loss: 0.1595 - accuracy: 0.9381 - val_loss: 0.2471 - val_accuracy: 0.9033\n",
            "Epoch 41/100\n",
            "22/22 [==============================] - 0s 10ms/step - loss: 0.1453 - accuracy: 0.9433 - val_loss: 0.3012 - val_accuracy: 0.8700\n",
            "Epoch 42/100\n",
            "22/22 [==============================] - 0s 12ms/step - loss: 0.1484 - accuracy: 0.9426 - val_loss: 0.3357 - val_accuracy: 0.8617\n",
            "Epoch 43/100\n",
            "22/22 [==============================] - 0s 13ms/step - loss: 0.1762 - accuracy: 0.9309 - val_loss: 0.3915 - val_accuracy: 0.8117\n",
            "Epoch 44/100\n",
            "22/22 [==============================] - 0s 12ms/step - loss: 0.1493 - accuracy: 0.9404 - val_loss: 0.1806 - val_accuracy: 0.9150\n",
            "Epoch 45/100\n",
            "22/22 [==============================] - 0s 12ms/step - loss: 0.1552 - accuracy: 0.9387 - val_loss: 0.2452 - val_accuracy: 0.9000\n",
            "Epoch 46/100\n",
            "22/22 [==============================] - 0s 13ms/step - loss: 0.1456 - accuracy: 0.9459 - val_loss: 0.3084 - val_accuracy: 0.8783\n",
            "Epoch 47/100\n",
            "22/22 [==============================] - 0s 12ms/step - loss: 0.1564 - accuracy: 0.9413 - val_loss: 0.3148 - val_accuracy: 0.8583\n",
            "Epoch 48/100\n",
            "22/22 [==============================] - 0s 12ms/step - loss: 0.1243 - accuracy: 0.9535 - val_loss: 0.2203 - val_accuracy: 0.9050\n",
            "Epoch 49/100\n",
            "22/22 [==============================] - 0s 12ms/step - loss: 0.1279 - accuracy: 0.9526 - val_loss: 0.2132 - val_accuracy: 0.9000\n",
            "Epoch 50/100\n",
            "22/22 [==============================] - 0s 14ms/step - loss: 0.1265 - accuracy: 0.9535 - val_loss: 0.3267 - val_accuracy: 0.8700\n",
            "Epoch 51/100\n",
            "22/22 [==============================] - 0s 12ms/step - loss: 0.2687 - accuracy: 0.9007 - val_loss: 0.3466 - val_accuracy: 0.8467\n",
            "Epoch 52/100\n",
            "22/22 [==============================] - 0s 13ms/step - loss: 0.1852 - accuracy: 0.9274 - val_loss: 0.1810 - val_accuracy: 0.9050\n",
            "Epoch 53/100\n",
            "22/22 [==============================] - 0s 13ms/step - loss: 0.1516 - accuracy: 0.9430 - val_loss: 0.2935 - val_accuracy: 0.8817\n",
            "Epoch 54/100\n",
            "22/22 [==============================] - 0s 13ms/step - loss: 0.1379 - accuracy: 0.9522 - val_loss: 0.1597 - val_accuracy: 0.9283\n",
            "Epoch 55/100\n",
            "22/22 [==============================] - 0s 9ms/step - loss: 0.1214 - accuracy: 0.9528 - val_loss: 0.1823 - val_accuracy: 0.9283\n",
            "Epoch 56/100\n",
            "22/22 [==============================] - 0s 9ms/step - loss: 0.1300 - accuracy: 0.9502 - val_loss: 0.2142 - val_accuracy: 0.9067\n",
            "Epoch 57/100\n",
            "22/22 [==============================] - 0s 9ms/step - loss: 0.1246 - accuracy: 0.9524 - val_loss: 0.2345 - val_accuracy: 0.8917\n",
            "Epoch 58/100\n",
            "22/22 [==============================] - 0s 9ms/step - loss: 0.1078 - accuracy: 0.9578 - val_loss: 0.3115 - val_accuracy: 0.8933\n",
            "Epoch 59/100\n",
            "22/22 [==============================] - 0s 11ms/step - loss: 0.1932 - accuracy: 0.9265 - val_loss: 0.2565 - val_accuracy: 0.8967\n",
            "Epoch 60/100\n",
            "22/22 [==============================] - 0s 9ms/step - loss: 0.1309 - accuracy: 0.9496 - val_loss: 0.1822 - val_accuracy: 0.9217\n",
            "Epoch 61/100\n",
            "22/22 [==============================] - 0s 10ms/step - loss: 0.1273 - accuracy: 0.9478 - val_loss: 0.1370 - val_accuracy: 0.9400\n",
            "Epoch 62/100\n",
            "22/22 [==============================] - 0s 9ms/step - loss: 0.2183 - accuracy: 0.9163 - val_loss: 0.3521 - val_accuracy: 0.8350\n",
            "Epoch 63/100\n",
            "22/22 [==============================] - 0s 9ms/step - loss: 0.1521 - accuracy: 0.9389 - val_loss: 0.2083 - val_accuracy: 0.8983\n",
            "Epoch 64/100\n",
            "22/22 [==============================] - 0s 9ms/step - loss: 0.1343 - accuracy: 0.9491 - val_loss: 0.2242 - val_accuracy: 0.9067\n",
            "Epoch 65/100\n",
            "22/22 [==============================] - 0s 9ms/step - loss: 0.1115 - accuracy: 0.9580 - val_loss: 0.1342 - val_accuracy: 0.9450\n",
            "Epoch 66/100\n",
            "22/22 [==============================] - 0s 9ms/step - loss: 0.0963 - accuracy: 0.9620 - val_loss: 0.2271 - val_accuracy: 0.9017\n",
            "Epoch 67/100\n",
            "22/22 [==============================] - 0s 9ms/step - loss: 0.0889 - accuracy: 0.9633 - val_loss: 0.2108 - val_accuracy: 0.9183\n",
            "Epoch 68/100\n",
            "22/22 [==============================] - 0s 9ms/step - loss: 0.0843 - accuracy: 0.9694 - val_loss: 0.3383 - val_accuracy: 0.8933\n",
            "Epoch 69/100\n",
            "22/22 [==============================] - 0s 8ms/step - loss: 0.1808 - accuracy: 0.9357 - val_loss: 0.1864 - val_accuracy: 0.9200\n",
            "Epoch 70/100\n",
            "22/22 [==============================] - 0s 9ms/step - loss: 0.1249 - accuracy: 0.9513 - val_loss: 0.3256 - val_accuracy: 0.8817\n",
            "Epoch 71/100\n",
            "22/22 [==============================] - 0s 10ms/step - loss: 0.1387 - accuracy: 0.9457 - val_loss: 0.2204 - val_accuracy: 0.9033\n",
            "Epoch 72/100\n",
            "22/22 [==============================] - 0s 9ms/step - loss: 0.0917 - accuracy: 0.9633 - val_loss: 0.1781 - val_accuracy: 0.9300\n",
            "Epoch 73/100\n",
            "22/22 [==============================] - 0s 9ms/step - loss: 0.0938 - accuracy: 0.9643 - val_loss: 0.2317 - val_accuracy: 0.9183\n",
            "Epoch 74/100\n",
            "22/22 [==============================] - 0s 9ms/step - loss: 0.0963 - accuracy: 0.9611 - val_loss: 0.1999 - val_accuracy: 0.9300\n",
            "Epoch 75/100\n",
            "22/22 [==============================] - 0s 9ms/step - loss: 0.0832 - accuracy: 0.9681 - val_loss: 0.1327 - val_accuracy: 0.9617\n",
            "Epoch 76/100\n",
            "22/22 [==============================] - 0s 9ms/step - loss: 0.0596 - accuracy: 0.9793 - val_loss: 0.2347 - val_accuracy: 0.9267\n",
            "Epoch 77/100\n",
            "22/22 [==============================] - 0s 9ms/step - loss: 0.0599 - accuracy: 0.9774 - val_loss: 0.2002 - val_accuracy: 0.9417\n",
            "Epoch 78/100\n",
            "22/22 [==============================] - 0s 8ms/step - loss: 0.0527 - accuracy: 0.9830 - val_loss: 0.2447 - val_accuracy: 0.9283\n",
            "Epoch 79/100\n",
            "22/22 [==============================] - 0s 9ms/step - loss: 0.0558 - accuracy: 0.9798 - val_loss: 0.1606 - val_accuracy: 0.9483\n",
            "Epoch 80/100\n",
            "22/22 [==============================] - 0s 9ms/step - loss: 0.0641 - accuracy: 0.9763 - val_loss: 0.2088 - val_accuracy: 0.9400\n",
            "Epoch 81/100\n",
            "22/22 [==============================] - 0s 9ms/step - loss: 0.0612 - accuracy: 0.9772 - val_loss: 0.2346 - val_accuracy: 0.9267\n",
            "Epoch 82/100\n",
            "22/22 [==============================] - 0s 9ms/step - loss: 0.0670 - accuracy: 0.9770 - val_loss: 0.1912 - val_accuracy: 0.9383\n",
            "Epoch 83/100\n",
            "22/22 [==============================] - 0s 9ms/step - loss: 0.0683 - accuracy: 0.9750 - val_loss: 0.2864 - val_accuracy: 0.9267\n",
            "Epoch 84/100\n",
            "22/22 [==============================] - 0s 9ms/step - loss: 0.0559 - accuracy: 0.9780 - val_loss: 0.2457 - val_accuracy: 0.9350\n",
            "Epoch 85/100\n",
            "22/22 [==============================] - 0s 8ms/step - loss: 0.0634 - accuracy: 0.9772 - val_loss: 0.2061 - val_accuracy: 0.9400\n",
            "Epoch 86/100\n",
            "22/22 [==============================] - 0s 9ms/step - loss: 0.0538 - accuracy: 0.9809 - val_loss: 0.2043 - val_accuracy: 0.9367\n",
            "Epoch 87/100\n",
            "22/22 [==============================] - 0s 8ms/step - loss: 0.0654 - accuracy: 0.9754 - val_loss: 0.2355 - val_accuracy: 0.9417\n",
            "Epoch 88/100\n",
            "22/22 [==============================] - 0s 9ms/step - loss: 0.0529 - accuracy: 0.9807 - val_loss: 0.2255 - val_accuracy: 0.9383\n",
            "Epoch 89/100\n",
            "22/22 [==============================] - 0s 8ms/step - loss: 0.0616 - accuracy: 0.9761 - val_loss: 0.2372 - val_accuracy: 0.9400\n",
            "Epoch 90/100\n",
            "22/22 [==============================] - 0s 8ms/step - loss: 0.0701 - accuracy: 0.9748 - val_loss: 0.2497 - val_accuracy: 0.9233\n",
            "Epoch 91/100\n",
            "22/22 [==============================] - 0s 9ms/step - loss: 0.1007 - accuracy: 0.9628 - val_loss: 0.1518 - val_accuracy: 0.9583\n",
            "Epoch 92/100\n",
            "22/22 [==============================] - 0s 9ms/step - loss: 0.0725 - accuracy: 0.9728 - val_loss: 0.2551 - val_accuracy: 0.9300\n",
            "Epoch 93/100\n",
            "22/22 [==============================] - 0s 9ms/step - loss: 0.0596 - accuracy: 0.9791 - val_loss: 0.2430 - val_accuracy: 0.9333\n",
            "Epoch 94/100\n",
            "22/22 [==============================] - 0s 9ms/step - loss: 0.0467 - accuracy: 0.9830 - val_loss: 0.2044 - val_accuracy: 0.9400\n",
            "Epoch 95/100\n",
            "22/22 [==============================] - 0s 9ms/step - loss: 0.0922 - accuracy: 0.9680 - val_loss: 0.2305 - val_accuracy: 0.9300\n",
            "Epoch 96/100\n",
            "22/22 [==============================] - 0s 9ms/step - loss: 0.0656 - accuracy: 0.9778 - val_loss: 0.2529 - val_accuracy: 0.9217\n",
            "Epoch 97/100\n",
            "22/22 [==============================] - 0s 9ms/step - loss: 0.1009 - accuracy: 0.9607 - val_loss: 0.1357 - val_accuracy: 0.9533\n",
            "Epoch 98/100\n",
            "22/22 [==============================] - 0s 9ms/step - loss: 0.1102 - accuracy: 0.9565 - val_loss: 0.2956 - val_accuracy: 0.8983\n",
            "Epoch 99/100\n",
            "22/22 [==============================] - 0s 8ms/step - loss: 0.0799 - accuracy: 0.9691 - val_loss: 0.2135 - val_accuracy: 0.9267\n",
            "Epoch 100/100\n",
            "22/22 [==============================] - 0s 9ms/step - loss: 0.0684 - accuracy: 0.9739 - val_loss: 0.2687 - val_accuracy: 0.9267\n"
          ]
        },
        {
          "output_type": "execute_result",
          "data": {
            "text/plain": [
              "<keras.callbacks.History at 0x7f1ddde079a0>"
            ]
          },
          "metadata": {},
          "execution_count": 32
        }
      ]
    },
    {
      "cell_type": "code",
      "source": [
        "o = model.predict(x_test)\n",
        "o = np.argmax(o,1)\n",
        "y_test = np.argmax(y_test,1)\n",
        "sum(np.equal(y_test,o))/len(y_test)"
      ],
      "metadata": {
        "colab": {
          "base_uri": "https://localhost:8080/"
        },
        "outputId": "361d2744-b1c4-4cca-ee2f-2238c8e2f976",
        "id": "VMsqPNzxgUix"
      },
      "execution_count": null,
      "outputs": [
        {
          "output_type": "stream",
          "name": "stdout",
          "text": [
            "63/63 [==============================] - 1s 4ms/step\n"
          ]
        },
        {
          "output_type": "execute_result",
          "data": {
            "text/plain": [
              "0.9565"
            ]
          },
          "metadata": {},
          "execution_count": 33
        }
      ]
    }
  ]
}