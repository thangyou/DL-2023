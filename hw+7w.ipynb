{
  "nbformat": 4,
  "nbformat_minor": 0,
  "metadata": {
    "colab": {
      "provenance": [],
      "collapsed_sections": [
        "wDuBa8cff2kR"
      ],
      "authorship_tag": "ABX9TyPxHqMiUnVhO237fQo0UZRC"
    },
    "kernelspec": {
      "name": "python3",
      "display_name": "Python 3"
    },
    "language_info": {
      "name": "python"
    }
  },
  "cells": [
    {
      "cell_type": "markdown",
      "source": [
        "# 환경 설정"
      ],
      "metadata": {
        "id": "HHbjNK_Wq968"
      }
    },
    {
      "cell_type": "code",
      "execution_count": null,
      "metadata": {
        "id": "7FQRc5WboYSf"
      },
      "outputs": [],
      "source": [
        "# 1. gdrive mount\n",
        "from google.colab import files\n",
        "from google.colab import drive\n",
        "\n",
        "files.upload()"
      ]
    },
    {
      "cell_type": "code",
      "source": [
        "!mkdir ~/.kaggle\n",
        "!mv kaggle.json ~/.kaggle/\n",
        "!chmod 600 ~/.kaggle/*\n",
        "drive.mount('/content/gdrive')"
      ],
      "metadata": {
        "colab": {
          "base_uri": "https://localhost:8080/"
        },
        "id": "0X4VDyLApDdt",
        "outputId": "3de25a58-6087-4d7e-801a-9f6abd83703e"
      },
      "execution_count": null,
      "outputs": [
        {
          "output_type": "stream",
          "name": "stdout",
          "text": [
            "Mounted at /content/gdrive\n"
          ]
        }
      ]
    },
    {
      "cell_type": "code",
      "source": [
        "# 2. 데이터 폴더로 이동, 데이터 불러오기(pandas)\n",
        "# !mkdir '/content/gdrive/MyDrive/Colab Notebooks/spaceship_titanic'"
      ],
      "metadata": {
        "id": "M76s2xkzpjUM"
      },
      "execution_count": null,
      "outputs": []
    },
    {
      "cell_type": "code",
      "source": [
        "cd '/content/gdrive/MyDrive/Colab Notebooks/spaceship_titanic'"
      ],
      "metadata": {
        "colab": {
          "base_uri": "https://localhost:8080/"
        },
        "id": "qe8Q37Jkq4vh",
        "outputId": "b86cfad9-415f-40f3-f13d-8499ad740293"
      },
      "execution_count": null,
      "outputs": [
        {
          "output_type": "stream",
          "name": "stdout",
          "text": [
            "/content/gdrive/MyDrive/Colab Notebooks/spaceship_titanic\n"
          ]
        }
      ]
    },
    {
      "cell_type": "code",
      "source": [
        "import pandas as pd"
      ],
      "metadata": {
        "id": "AtfoSPZqftm-"
      },
      "execution_count": null,
      "outputs": []
    },
    {
      "cell_type": "code",
      "source": [
        "# !kaggle competitions download -c spaceship-titanic\n",
        "# !unzip -qq \"/content/gdrive/MyDrive/Colab Notebooks/spaceship_titanic/spaceship-titanic.zip\""
      ],
      "metadata": {
        "id": "m6FtMR4OpPp_"
      },
      "execution_count": null,
      "outputs": []
    },
    {
      "cell_type": "code",
      "source": [
        "data_train = pd.read_csv('train.csv')\n",
        "data_test = pd.read_csv('test.csv')"
      ],
      "metadata": {
        "id": "TSdAnH22pwj2"
      },
      "execution_count": null,
      "outputs": []
    },
    {
      "cell_type": "markdown",
      "source": [
        "# train.csv"
      ],
      "metadata": {
        "id": "S9DjkL3Jf5Yt"
      }
    },
    {
      "cell_type": "code",
      "source": [
        "data_train"
      ],
      "metadata": {
        "colab": {
          "base_uri": "https://localhost:8080/",
          "height": 467
        },
        "id": "DuFE0nHMQlHA",
        "outputId": "a8dbd979-8771-40ca-d191-1a64ab324a91"
      },
      "execution_count": null,
      "outputs": [
        {
          "output_type": "execute_result",
          "data": {
            "text/plain": [
              "     PassengerId HomePlanet CryoSleep     Cabin    Destination   Age    VIP  \\\n",
              "0        0001_01     Europa     False     B/0/P    TRAPPIST-1e  39.0  False   \n",
              "1        0002_01      Earth     False     F/0/S    TRAPPIST-1e  24.0  False   \n",
              "2        0003_01     Europa     False     A/0/S    TRAPPIST-1e  58.0   True   \n",
              "3        0003_02     Europa     False     A/0/S    TRAPPIST-1e  33.0  False   \n",
              "4        0004_01      Earth     False     F/1/S    TRAPPIST-1e  16.0  False   \n",
              "...          ...        ...       ...       ...            ...   ...    ...   \n",
              "8688     9276_01     Europa     False    A/98/P    55 Cancri e  41.0   True   \n",
              "8689     9278_01      Earth      True  G/1499/S  PSO J318.5-22  18.0  False   \n",
              "8690     9279_01      Earth     False  G/1500/S    TRAPPIST-1e  26.0  False   \n",
              "8691     9280_01     Europa     False   E/608/S    55 Cancri e  32.0  False   \n",
              "8692     9280_02     Europa     False   E/608/S    TRAPPIST-1e  44.0  False   \n",
              "\n",
              "      RoomService  FoodCourt  ShoppingMall     Spa  VRDeck               Name  \\\n",
              "0             0.0        0.0           0.0     0.0     0.0    Maham Ofracculy   \n",
              "1           109.0        9.0          25.0   549.0    44.0       Juanna Vines   \n",
              "2            43.0     3576.0           0.0  6715.0    49.0      Altark Susent   \n",
              "3             0.0     1283.0         371.0  3329.0   193.0       Solam Susent   \n",
              "4           303.0       70.0         151.0   565.0     2.0  Willy Santantines   \n",
              "...           ...        ...           ...     ...     ...                ...   \n",
              "8688          0.0     6819.0           0.0  1643.0    74.0  Gravior Noxnuther   \n",
              "8689          0.0        0.0           0.0     0.0     0.0    Kurta Mondalley   \n",
              "8690          0.0        0.0        1872.0     1.0     0.0       Fayey Connon   \n",
              "8691          0.0     1049.0           0.0   353.0  3235.0   Celeon Hontichre   \n",
              "8692        126.0     4688.0           0.0     0.0    12.0   Propsh Hontichre   \n",
              "\n",
              "      Transported  \n",
              "0           False  \n",
              "1            True  \n",
              "2           False  \n",
              "3           False  \n",
              "4            True  \n",
              "...           ...  \n",
              "8688        False  \n",
              "8689        False  \n",
              "8690         True  \n",
              "8691        False  \n",
              "8692         True  \n",
              "\n",
              "[8693 rows x 14 columns]"
            ],
            "text/html": [
              "\n",
              "  <div id=\"df-448fe573-3641-4481-aeff-f589c6fb5f12\">\n",
              "    <div class=\"colab-df-container\">\n",
              "      <div>\n",
              "<style scoped>\n",
              "    .dataframe tbody tr th:only-of-type {\n",
              "        vertical-align: middle;\n",
              "    }\n",
              "\n",
              "    .dataframe tbody tr th {\n",
              "        vertical-align: top;\n",
              "    }\n",
              "\n",
              "    .dataframe thead th {\n",
              "        text-align: right;\n",
              "    }\n",
              "</style>\n",
              "<table border=\"1\" class=\"dataframe\">\n",
              "  <thead>\n",
              "    <tr style=\"text-align: right;\">\n",
              "      <th></th>\n",
              "      <th>PassengerId</th>\n",
              "      <th>HomePlanet</th>\n",
              "      <th>CryoSleep</th>\n",
              "      <th>Cabin</th>\n",
              "      <th>Destination</th>\n",
              "      <th>Age</th>\n",
              "      <th>VIP</th>\n",
              "      <th>RoomService</th>\n",
              "      <th>FoodCourt</th>\n",
              "      <th>ShoppingMall</th>\n",
              "      <th>Spa</th>\n",
              "      <th>VRDeck</th>\n",
              "      <th>Name</th>\n",
              "      <th>Transported</th>\n",
              "    </tr>\n",
              "  </thead>\n",
              "  <tbody>\n",
              "    <tr>\n",
              "      <th>0</th>\n",
              "      <td>0001_01</td>\n",
              "      <td>Europa</td>\n",
              "      <td>False</td>\n",
              "      <td>B/0/P</td>\n",
              "      <td>TRAPPIST-1e</td>\n",
              "      <td>39.0</td>\n",
              "      <td>False</td>\n",
              "      <td>0.0</td>\n",
              "      <td>0.0</td>\n",
              "      <td>0.0</td>\n",
              "      <td>0.0</td>\n",
              "      <td>0.0</td>\n",
              "      <td>Maham Ofracculy</td>\n",
              "      <td>False</td>\n",
              "    </tr>\n",
              "    <tr>\n",
              "      <th>1</th>\n",
              "      <td>0002_01</td>\n",
              "      <td>Earth</td>\n",
              "      <td>False</td>\n",
              "      <td>F/0/S</td>\n",
              "      <td>TRAPPIST-1e</td>\n",
              "      <td>24.0</td>\n",
              "      <td>False</td>\n",
              "      <td>109.0</td>\n",
              "      <td>9.0</td>\n",
              "      <td>25.0</td>\n",
              "      <td>549.0</td>\n",
              "      <td>44.0</td>\n",
              "      <td>Juanna Vines</td>\n",
              "      <td>True</td>\n",
              "    </tr>\n",
              "    <tr>\n",
              "      <th>2</th>\n",
              "      <td>0003_01</td>\n",
              "      <td>Europa</td>\n",
              "      <td>False</td>\n",
              "      <td>A/0/S</td>\n",
              "      <td>TRAPPIST-1e</td>\n",
              "      <td>58.0</td>\n",
              "      <td>True</td>\n",
              "      <td>43.0</td>\n",
              "      <td>3576.0</td>\n",
              "      <td>0.0</td>\n",
              "      <td>6715.0</td>\n",
              "      <td>49.0</td>\n",
              "      <td>Altark Susent</td>\n",
              "      <td>False</td>\n",
              "    </tr>\n",
              "    <tr>\n",
              "      <th>3</th>\n",
              "      <td>0003_02</td>\n",
              "      <td>Europa</td>\n",
              "      <td>False</td>\n",
              "      <td>A/0/S</td>\n",
              "      <td>TRAPPIST-1e</td>\n",
              "      <td>33.0</td>\n",
              "      <td>False</td>\n",
              "      <td>0.0</td>\n",
              "      <td>1283.0</td>\n",
              "      <td>371.0</td>\n",
              "      <td>3329.0</td>\n",
              "      <td>193.0</td>\n",
              "      <td>Solam Susent</td>\n",
              "      <td>False</td>\n",
              "    </tr>\n",
              "    <tr>\n",
              "      <th>4</th>\n",
              "      <td>0004_01</td>\n",
              "      <td>Earth</td>\n",
              "      <td>False</td>\n",
              "      <td>F/1/S</td>\n",
              "      <td>TRAPPIST-1e</td>\n",
              "      <td>16.0</td>\n",
              "      <td>False</td>\n",
              "      <td>303.0</td>\n",
              "      <td>70.0</td>\n",
              "      <td>151.0</td>\n",
              "      <td>565.0</td>\n",
              "      <td>2.0</td>\n",
              "      <td>Willy Santantines</td>\n",
              "      <td>True</td>\n",
              "    </tr>\n",
              "    <tr>\n",
              "      <th>...</th>\n",
              "      <td>...</td>\n",
              "      <td>...</td>\n",
              "      <td>...</td>\n",
              "      <td>...</td>\n",
              "      <td>...</td>\n",
              "      <td>...</td>\n",
              "      <td>...</td>\n",
              "      <td>...</td>\n",
              "      <td>...</td>\n",
              "      <td>...</td>\n",
              "      <td>...</td>\n",
              "      <td>...</td>\n",
              "      <td>...</td>\n",
              "      <td>...</td>\n",
              "    </tr>\n",
              "    <tr>\n",
              "      <th>8688</th>\n",
              "      <td>9276_01</td>\n",
              "      <td>Europa</td>\n",
              "      <td>False</td>\n",
              "      <td>A/98/P</td>\n",
              "      <td>55 Cancri e</td>\n",
              "      <td>41.0</td>\n",
              "      <td>True</td>\n",
              "      <td>0.0</td>\n",
              "      <td>6819.0</td>\n",
              "      <td>0.0</td>\n",
              "      <td>1643.0</td>\n",
              "      <td>74.0</td>\n",
              "      <td>Gravior Noxnuther</td>\n",
              "      <td>False</td>\n",
              "    </tr>\n",
              "    <tr>\n",
              "      <th>8689</th>\n",
              "      <td>9278_01</td>\n",
              "      <td>Earth</td>\n",
              "      <td>True</td>\n",
              "      <td>G/1499/S</td>\n",
              "      <td>PSO J318.5-22</td>\n",
              "      <td>18.0</td>\n",
              "      <td>False</td>\n",
              "      <td>0.0</td>\n",
              "      <td>0.0</td>\n",
              "      <td>0.0</td>\n",
              "      <td>0.0</td>\n",
              "      <td>0.0</td>\n",
              "      <td>Kurta Mondalley</td>\n",
              "      <td>False</td>\n",
              "    </tr>\n",
              "    <tr>\n",
              "      <th>8690</th>\n",
              "      <td>9279_01</td>\n",
              "      <td>Earth</td>\n",
              "      <td>False</td>\n",
              "      <td>G/1500/S</td>\n",
              "      <td>TRAPPIST-1e</td>\n",
              "      <td>26.0</td>\n",
              "      <td>False</td>\n",
              "      <td>0.0</td>\n",
              "      <td>0.0</td>\n",
              "      <td>1872.0</td>\n",
              "      <td>1.0</td>\n",
              "      <td>0.0</td>\n",
              "      <td>Fayey Connon</td>\n",
              "      <td>True</td>\n",
              "    </tr>\n",
              "    <tr>\n",
              "      <th>8691</th>\n",
              "      <td>9280_01</td>\n",
              "      <td>Europa</td>\n",
              "      <td>False</td>\n",
              "      <td>E/608/S</td>\n",
              "      <td>55 Cancri e</td>\n",
              "      <td>32.0</td>\n",
              "      <td>False</td>\n",
              "      <td>0.0</td>\n",
              "      <td>1049.0</td>\n",
              "      <td>0.0</td>\n",
              "      <td>353.0</td>\n",
              "      <td>3235.0</td>\n",
              "      <td>Celeon Hontichre</td>\n",
              "      <td>False</td>\n",
              "    </tr>\n",
              "    <tr>\n",
              "      <th>8692</th>\n",
              "      <td>9280_02</td>\n",
              "      <td>Europa</td>\n",
              "      <td>False</td>\n",
              "      <td>E/608/S</td>\n",
              "      <td>TRAPPIST-1e</td>\n",
              "      <td>44.0</td>\n",
              "      <td>False</td>\n",
              "      <td>126.0</td>\n",
              "      <td>4688.0</td>\n",
              "      <td>0.0</td>\n",
              "      <td>0.0</td>\n",
              "      <td>12.0</td>\n",
              "      <td>Propsh Hontichre</td>\n",
              "      <td>True</td>\n",
              "    </tr>\n",
              "  </tbody>\n",
              "</table>\n",
              "<p>8693 rows × 14 columns</p>\n",
              "</div>\n",
              "      <button class=\"colab-df-convert\" onclick=\"convertToInteractive('df-448fe573-3641-4481-aeff-f589c6fb5f12')\"\n",
              "              title=\"Convert this dataframe to an interactive table.\"\n",
              "              style=\"display:none;\">\n",
              "        \n",
              "  <svg xmlns=\"http://www.w3.org/2000/svg\" height=\"24px\"viewBox=\"0 0 24 24\"\n",
              "       width=\"24px\">\n",
              "    <path d=\"M0 0h24v24H0V0z\" fill=\"none\"/>\n",
              "    <path d=\"M18.56 5.44l.94 2.06.94-2.06 2.06-.94-2.06-.94-.94-2.06-.94 2.06-2.06.94zm-11 1L8.5 8.5l.94-2.06 2.06-.94-2.06-.94L8.5 2.5l-.94 2.06-2.06.94zm10 10l.94 2.06.94-2.06 2.06-.94-2.06-.94-.94-2.06-.94 2.06-2.06.94z\"/><path d=\"M17.41 7.96l-1.37-1.37c-.4-.4-.92-.59-1.43-.59-.52 0-1.04.2-1.43.59L10.3 9.45l-7.72 7.72c-.78.78-.78 2.05 0 2.83L4 21.41c.39.39.9.59 1.41.59.51 0 1.02-.2 1.41-.59l7.78-7.78 2.81-2.81c.8-.78.8-2.07 0-2.86zM5.41 20L4 18.59l7.72-7.72 1.47 1.35L5.41 20z\"/>\n",
              "  </svg>\n",
              "      </button>\n",
              "      \n",
              "  <style>\n",
              "    .colab-df-container {\n",
              "      display:flex;\n",
              "      flex-wrap:wrap;\n",
              "      gap: 12px;\n",
              "    }\n",
              "\n",
              "    .colab-df-convert {\n",
              "      background-color: #E8F0FE;\n",
              "      border: none;\n",
              "      border-radius: 50%;\n",
              "      cursor: pointer;\n",
              "      display: none;\n",
              "      fill: #1967D2;\n",
              "      height: 32px;\n",
              "      padding: 0 0 0 0;\n",
              "      width: 32px;\n",
              "    }\n",
              "\n",
              "    .colab-df-convert:hover {\n",
              "      background-color: #E2EBFA;\n",
              "      box-shadow: 0px 1px 2px rgba(60, 64, 67, 0.3), 0px 1px 3px 1px rgba(60, 64, 67, 0.15);\n",
              "      fill: #174EA6;\n",
              "    }\n",
              "\n",
              "    [theme=dark] .colab-df-convert {\n",
              "      background-color: #3B4455;\n",
              "      fill: #D2E3FC;\n",
              "    }\n",
              "\n",
              "    [theme=dark] .colab-df-convert:hover {\n",
              "      background-color: #434B5C;\n",
              "      box-shadow: 0px 1px 3px 1px rgba(0, 0, 0, 0.15);\n",
              "      filter: drop-shadow(0px 1px 2px rgba(0, 0, 0, 0.3));\n",
              "      fill: #FFFFFF;\n",
              "    }\n",
              "  </style>\n",
              "\n",
              "      <script>\n",
              "        const buttonEl =\n",
              "          document.querySelector('#df-448fe573-3641-4481-aeff-f589c6fb5f12 button.colab-df-convert');\n",
              "        buttonEl.style.display =\n",
              "          google.colab.kernel.accessAllowed ? 'block' : 'none';\n",
              "\n",
              "        async function convertToInteractive(key) {\n",
              "          const element = document.querySelector('#df-448fe573-3641-4481-aeff-f589c6fb5f12');\n",
              "          const dataTable =\n",
              "            await google.colab.kernel.invokeFunction('convertToInteractive',\n",
              "                                                     [key], {});\n",
              "          if (!dataTable) return;\n",
              "\n",
              "          const docLinkHtml = 'Like what you see? Visit the ' +\n",
              "            '<a target=\"_blank\" href=https://colab.research.google.com/notebooks/data_table.ipynb>data table notebook</a>'\n",
              "            + ' to learn more about interactive tables.';\n",
              "          element.innerHTML = '';\n",
              "          dataTable['output_type'] = 'display_data';\n",
              "          await google.colab.output.renderOutput(dataTable, element);\n",
              "          const docLink = document.createElement('div');\n",
              "          docLink.innerHTML = docLinkHtml;\n",
              "          element.appendChild(docLink);\n",
              "        }\n",
              "      </script>\n",
              "    </div>\n",
              "  </div>\n",
              "  "
            ]
          },
          "metadata": {},
          "execution_count": 9
        }
      ]
    },
    {
      "cell_type": "code",
      "source": [
        "data_train.columns"
      ],
      "metadata": {
        "colab": {
          "base_uri": "https://localhost:8080/"
        },
        "id": "8QpXhYC1rY6O",
        "outputId": "783d4bef-0e1a-489d-86f2-a9bc0115b8a0"
      },
      "execution_count": null,
      "outputs": [
        {
          "output_type": "execute_result",
          "data": {
            "text/plain": [
              "Index(['PassengerId', 'HomePlanet', 'CryoSleep', 'Cabin', 'Destination', 'Age',\n",
              "       'VIP', 'RoomService', 'FoodCourt', 'ShoppingMall', 'Spa', 'VRDeck',\n",
              "       'Name', 'Transported'],\n",
              "      dtype='object')"
            ]
          },
          "metadata": {},
          "execution_count": 10
        }
      ]
    },
    {
      "cell_type": "code",
      "source": [
        "data_train.shape"
      ],
      "metadata": {
        "colab": {
          "base_uri": "https://localhost:8080/"
        },
        "id": "z43G64ZMrhC9",
        "outputId": "b757f57b-9daa-46a0-9879-7097809c3a5d"
      },
      "execution_count": null,
      "outputs": [
        {
          "output_type": "execute_result",
          "data": {
            "text/plain": [
              "(8693, 14)"
            ]
          },
          "metadata": {},
          "execution_count": 11
        }
      ]
    },
    {
      "cell_type": "code",
      "source": [
        "data_train.info()"
      ],
      "metadata": {
        "colab": {
          "base_uri": "https://localhost:8080/"
        },
        "id": "jiGh7baSJ7kS",
        "outputId": "ed6616d1-b604-447c-d4ff-3879c36ded0b"
      },
      "execution_count": null,
      "outputs": [
        {
          "output_type": "stream",
          "name": "stdout",
          "text": [
            "<class 'pandas.core.frame.DataFrame'>\n",
            "RangeIndex: 8693 entries, 0 to 8692\n",
            "Data columns (total 14 columns):\n",
            " #   Column        Non-Null Count  Dtype  \n",
            "---  ------        --------------  -----  \n",
            " 0   PassengerId   8693 non-null   object \n",
            " 1   HomePlanet    8492 non-null   object \n",
            " 2   CryoSleep     8476 non-null   object \n",
            " 3   Cabin         8494 non-null   object \n",
            " 4   Destination   8511 non-null   object \n",
            " 5   Age           8514 non-null   float64\n",
            " 6   VIP           8490 non-null   object \n",
            " 7   RoomService   8512 non-null   float64\n",
            " 8   FoodCourt     8510 non-null   float64\n",
            " 9   ShoppingMall  8485 non-null   float64\n",
            " 10  Spa           8510 non-null   float64\n",
            " 11  VRDeck        8505 non-null   float64\n",
            " 12  Name          8493 non-null   object \n",
            " 13  Transported   8693 non-null   bool   \n",
            "dtypes: bool(1), float64(6), object(7)\n",
            "memory usage: 891.5+ KB\n"
          ]
        }
      ]
    },
    {
      "cell_type": "code",
      "source": [
        "# 결측 데이터 확인\n",
        "data_train.isna().sum()"
      ],
      "metadata": {
        "colab": {
          "base_uri": "https://localhost:8080/"
        },
        "id": "9VBF5VwvTfy4",
        "outputId": "cc0ee46d-8825-4f89-8065-7fe56337f384"
      },
      "execution_count": null,
      "outputs": [
        {
          "output_type": "execute_result",
          "data": {
            "text/plain": [
              "PassengerId       0\n",
              "HomePlanet      201\n",
              "CryoSleep       217\n",
              "Cabin           199\n",
              "Destination     182\n",
              "Age             179\n",
              "VIP             203\n",
              "RoomService     181\n",
              "FoodCourt       183\n",
              "ShoppingMall    208\n",
              "Spa             183\n",
              "VRDeck          188\n",
              "Name            200\n",
              "Transported       0\n",
              "dtype: int64"
            ]
          },
          "metadata": {},
          "execution_count": 13
        }
      ]
    },
    {
      "cell_type": "code",
      "source": [
        "#수치형 데이터 확인\n",
        "data_train.describe()"
      ],
      "metadata": {
        "colab": {
          "base_uri": "https://localhost:8080/",
          "height": 300
        },
        "id": "0LV5-jKdTojA",
        "outputId": "d999f5ca-61f3-476d-9add-4508eef59623"
      },
      "execution_count": null,
      "outputs": [
        {
          "output_type": "execute_result",
          "data": {
            "text/plain": [
              "               Age   RoomService     FoodCourt  ShoppingMall           Spa  \\\n",
              "count  8514.000000   8512.000000   8510.000000   8485.000000   8510.000000   \n",
              "mean     28.827930    224.687617    458.077203    173.729169    311.138778   \n",
              "std      14.489021    666.717663   1611.489240    604.696458   1136.705535   \n",
              "min       0.000000      0.000000      0.000000      0.000000      0.000000   \n",
              "25%      19.000000      0.000000      0.000000      0.000000      0.000000   \n",
              "50%      27.000000      0.000000      0.000000      0.000000      0.000000   \n",
              "75%      38.000000     47.000000     76.000000     27.000000     59.000000   \n",
              "max      79.000000  14327.000000  29813.000000  23492.000000  22408.000000   \n",
              "\n",
              "             VRDeck  \n",
              "count   8505.000000  \n",
              "mean     304.854791  \n",
              "std     1145.717189  \n",
              "min        0.000000  \n",
              "25%        0.000000  \n",
              "50%        0.000000  \n",
              "75%       46.000000  \n",
              "max    24133.000000  "
            ],
            "text/html": [
              "\n",
              "  <div id=\"df-d60f6bc4-a6b7-49c9-b23d-bc80be68aef7\">\n",
              "    <div class=\"colab-df-container\">\n",
              "      <div>\n",
              "<style scoped>\n",
              "    .dataframe tbody tr th:only-of-type {\n",
              "        vertical-align: middle;\n",
              "    }\n",
              "\n",
              "    .dataframe tbody tr th {\n",
              "        vertical-align: top;\n",
              "    }\n",
              "\n",
              "    .dataframe thead th {\n",
              "        text-align: right;\n",
              "    }\n",
              "</style>\n",
              "<table border=\"1\" class=\"dataframe\">\n",
              "  <thead>\n",
              "    <tr style=\"text-align: right;\">\n",
              "      <th></th>\n",
              "      <th>Age</th>\n",
              "      <th>RoomService</th>\n",
              "      <th>FoodCourt</th>\n",
              "      <th>ShoppingMall</th>\n",
              "      <th>Spa</th>\n",
              "      <th>VRDeck</th>\n",
              "    </tr>\n",
              "  </thead>\n",
              "  <tbody>\n",
              "    <tr>\n",
              "      <th>count</th>\n",
              "      <td>8514.000000</td>\n",
              "      <td>8512.000000</td>\n",
              "      <td>8510.000000</td>\n",
              "      <td>8485.000000</td>\n",
              "      <td>8510.000000</td>\n",
              "      <td>8505.000000</td>\n",
              "    </tr>\n",
              "    <tr>\n",
              "      <th>mean</th>\n",
              "      <td>28.827930</td>\n",
              "      <td>224.687617</td>\n",
              "      <td>458.077203</td>\n",
              "      <td>173.729169</td>\n",
              "      <td>311.138778</td>\n",
              "      <td>304.854791</td>\n",
              "    </tr>\n",
              "    <tr>\n",
              "      <th>std</th>\n",
              "      <td>14.489021</td>\n",
              "      <td>666.717663</td>\n",
              "      <td>1611.489240</td>\n",
              "      <td>604.696458</td>\n",
              "      <td>1136.705535</td>\n",
              "      <td>1145.717189</td>\n",
              "    </tr>\n",
              "    <tr>\n",
              "      <th>min</th>\n",
              "      <td>0.000000</td>\n",
              "      <td>0.000000</td>\n",
              "      <td>0.000000</td>\n",
              "      <td>0.000000</td>\n",
              "      <td>0.000000</td>\n",
              "      <td>0.000000</td>\n",
              "    </tr>\n",
              "    <tr>\n",
              "      <th>25%</th>\n",
              "      <td>19.000000</td>\n",
              "      <td>0.000000</td>\n",
              "      <td>0.000000</td>\n",
              "      <td>0.000000</td>\n",
              "      <td>0.000000</td>\n",
              "      <td>0.000000</td>\n",
              "    </tr>\n",
              "    <tr>\n",
              "      <th>50%</th>\n",
              "      <td>27.000000</td>\n",
              "      <td>0.000000</td>\n",
              "      <td>0.000000</td>\n",
              "      <td>0.000000</td>\n",
              "      <td>0.000000</td>\n",
              "      <td>0.000000</td>\n",
              "    </tr>\n",
              "    <tr>\n",
              "      <th>75%</th>\n",
              "      <td>38.000000</td>\n",
              "      <td>47.000000</td>\n",
              "      <td>76.000000</td>\n",
              "      <td>27.000000</td>\n",
              "      <td>59.000000</td>\n",
              "      <td>46.000000</td>\n",
              "    </tr>\n",
              "    <tr>\n",
              "      <th>max</th>\n",
              "      <td>79.000000</td>\n",
              "      <td>14327.000000</td>\n",
              "      <td>29813.000000</td>\n",
              "      <td>23492.000000</td>\n",
              "      <td>22408.000000</td>\n",
              "      <td>24133.000000</td>\n",
              "    </tr>\n",
              "  </tbody>\n",
              "</table>\n",
              "</div>\n",
              "      <button class=\"colab-df-convert\" onclick=\"convertToInteractive('df-d60f6bc4-a6b7-49c9-b23d-bc80be68aef7')\"\n",
              "              title=\"Convert this dataframe to an interactive table.\"\n",
              "              style=\"display:none;\">\n",
              "        \n",
              "  <svg xmlns=\"http://www.w3.org/2000/svg\" height=\"24px\"viewBox=\"0 0 24 24\"\n",
              "       width=\"24px\">\n",
              "    <path d=\"M0 0h24v24H0V0z\" fill=\"none\"/>\n",
              "    <path d=\"M18.56 5.44l.94 2.06.94-2.06 2.06-.94-2.06-.94-.94-2.06-.94 2.06-2.06.94zm-11 1L8.5 8.5l.94-2.06 2.06-.94-2.06-.94L8.5 2.5l-.94 2.06-2.06.94zm10 10l.94 2.06.94-2.06 2.06-.94-2.06-.94-.94-2.06-.94 2.06-2.06.94z\"/><path d=\"M17.41 7.96l-1.37-1.37c-.4-.4-.92-.59-1.43-.59-.52 0-1.04.2-1.43.59L10.3 9.45l-7.72 7.72c-.78.78-.78 2.05 0 2.83L4 21.41c.39.39.9.59 1.41.59.51 0 1.02-.2 1.41-.59l7.78-7.78 2.81-2.81c.8-.78.8-2.07 0-2.86zM5.41 20L4 18.59l7.72-7.72 1.47 1.35L5.41 20z\"/>\n",
              "  </svg>\n",
              "      </button>\n",
              "      \n",
              "  <style>\n",
              "    .colab-df-container {\n",
              "      display:flex;\n",
              "      flex-wrap:wrap;\n",
              "      gap: 12px;\n",
              "    }\n",
              "\n",
              "    .colab-df-convert {\n",
              "      background-color: #E8F0FE;\n",
              "      border: none;\n",
              "      border-radius: 50%;\n",
              "      cursor: pointer;\n",
              "      display: none;\n",
              "      fill: #1967D2;\n",
              "      height: 32px;\n",
              "      padding: 0 0 0 0;\n",
              "      width: 32px;\n",
              "    }\n",
              "\n",
              "    .colab-df-convert:hover {\n",
              "      background-color: #E2EBFA;\n",
              "      box-shadow: 0px 1px 2px rgba(60, 64, 67, 0.3), 0px 1px 3px 1px rgba(60, 64, 67, 0.15);\n",
              "      fill: #174EA6;\n",
              "    }\n",
              "\n",
              "    [theme=dark] .colab-df-convert {\n",
              "      background-color: #3B4455;\n",
              "      fill: #D2E3FC;\n",
              "    }\n",
              "\n",
              "    [theme=dark] .colab-df-convert:hover {\n",
              "      background-color: #434B5C;\n",
              "      box-shadow: 0px 1px 3px 1px rgba(0, 0, 0, 0.15);\n",
              "      filter: drop-shadow(0px 1px 2px rgba(0, 0, 0, 0.3));\n",
              "      fill: #FFFFFF;\n",
              "    }\n",
              "  </style>\n",
              "\n",
              "      <script>\n",
              "        const buttonEl =\n",
              "          document.querySelector('#df-d60f6bc4-a6b7-49c9-b23d-bc80be68aef7 button.colab-df-convert');\n",
              "        buttonEl.style.display =\n",
              "          google.colab.kernel.accessAllowed ? 'block' : 'none';\n",
              "\n",
              "        async function convertToInteractive(key) {\n",
              "          const element = document.querySelector('#df-d60f6bc4-a6b7-49c9-b23d-bc80be68aef7');\n",
              "          const dataTable =\n",
              "            await google.colab.kernel.invokeFunction('convertToInteractive',\n",
              "                                                     [key], {});\n",
              "          if (!dataTable) return;\n",
              "\n",
              "          const docLinkHtml = 'Like what you see? Visit the ' +\n",
              "            '<a target=\"_blank\" href=https://colab.research.google.com/notebooks/data_table.ipynb>data table notebook</a>'\n",
              "            + ' to learn more about interactive tables.';\n",
              "          element.innerHTML = '';\n",
              "          dataTable['output_type'] = 'display_data';\n",
              "          await google.colab.output.renderOutput(dataTable, element);\n",
              "          const docLink = document.createElement('div');\n",
              "          docLink.innerHTML = docLinkHtml;\n",
              "          element.appendChild(docLink);\n",
              "        }\n",
              "      </script>\n",
              "    </div>\n",
              "  </div>\n",
              "  "
            ]
          },
          "metadata": {},
          "execution_count": 14
        }
      ]
    },
    {
      "cell_type": "code",
      "source": [
        "# 범주형 데이터 확인\n",
        "data_train.describe(include=['O'])"
      ],
      "metadata": {
        "colab": {
          "base_uri": "https://localhost:8080/",
          "height": 175
        },
        "id": "fdrPu8VQTrTS",
        "outputId": "e3670dd8-aca9-4bd6-c327-734507cf140e"
      },
      "execution_count": null,
      "outputs": [
        {
          "output_type": "execute_result",
          "data": {
            "text/plain": [
              "       PassengerId HomePlanet CryoSleep    Cabin  Destination    VIP  \\\n",
              "count         8693       8492      8476     8494         8511   8490   \n",
              "unique        8693          3         2     6560            3      2   \n",
              "top        0001_01      Earth     False  G/734/S  TRAPPIST-1e  False   \n",
              "freq             1       4602      5439        8         5915   8291   \n",
              "\n",
              "                  Name  \n",
              "count             8493  \n",
              "unique            8473  \n",
              "top     Gollux Reedall  \n",
              "freq                 2  "
            ],
            "text/html": [
              "\n",
              "  <div id=\"df-e665160f-9382-4f41-87fd-b32b732dbff3\">\n",
              "    <div class=\"colab-df-container\">\n",
              "      <div>\n",
              "<style scoped>\n",
              "    .dataframe tbody tr th:only-of-type {\n",
              "        vertical-align: middle;\n",
              "    }\n",
              "\n",
              "    .dataframe tbody tr th {\n",
              "        vertical-align: top;\n",
              "    }\n",
              "\n",
              "    .dataframe thead th {\n",
              "        text-align: right;\n",
              "    }\n",
              "</style>\n",
              "<table border=\"1\" class=\"dataframe\">\n",
              "  <thead>\n",
              "    <tr style=\"text-align: right;\">\n",
              "      <th></th>\n",
              "      <th>PassengerId</th>\n",
              "      <th>HomePlanet</th>\n",
              "      <th>CryoSleep</th>\n",
              "      <th>Cabin</th>\n",
              "      <th>Destination</th>\n",
              "      <th>VIP</th>\n",
              "      <th>Name</th>\n",
              "    </tr>\n",
              "  </thead>\n",
              "  <tbody>\n",
              "    <tr>\n",
              "      <th>count</th>\n",
              "      <td>8693</td>\n",
              "      <td>8492</td>\n",
              "      <td>8476</td>\n",
              "      <td>8494</td>\n",
              "      <td>8511</td>\n",
              "      <td>8490</td>\n",
              "      <td>8493</td>\n",
              "    </tr>\n",
              "    <tr>\n",
              "      <th>unique</th>\n",
              "      <td>8693</td>\n",
              "      <td>3</td>\n",
              "      <td>2</td>\n",
              "      <td>6560</td>\n",
              "      <td>3</td>\n",
              "      <td>2</td>\n",
              "      <td>8473</td>\n",
              "    </tr>\n",
              "    <tr>\n",
              "      <th>top</th>\n",
              "      <td>0001_01</td>\n",
              "      <td>Earth</td>\n",
              "      <td>False</td>\n",
              "      <td>G/734/S</td>\n",
              "      <td>TRAPPIST-1e</td>\n",
              "      <td>False</td>\n",
              "      <td>Gollux Reedall</td>\n",
              "    </tr>\n",
              "    <tr>\n",
              "      <th>freq</th>\n",
              "      <td>1</td>\n",
              "      <td>4602</td>\n",
              "      <td>5439</td>\n",
              "      <td>8</td>\n",
              "      <td>5915</td>\n",
              "      <td>8291</td>\n",
              "      <td>2</td>\n",
              "    </tr>\n",
              "  </tbody>\n",
              "</table>\n",
              "</div>\n",
              "      <button class=\"colab-df-convert\" onclick=\"convertToInteractive('df-e665160f-9382-4f41-87fd-b32b732dbff3')\"\n",
              "              title=\"Convert this dataframe to an interactive table.\"\n",
              "              style=\"display:none;\">\n",
              "        \n",
              "  <svg xmlns=\"http://www.w3.org/2000/svg\" height=\"24px\"viewBox=\"0 0 24 24\"\n",
              "       width=\"24px\">\n",
              "    <path d=\"M0 0h24v24H0V0z\" fill=\"none\"/>\n",
              "    <path d=\"M18.56 5.44l.94 2.06.94-2.06 2.06-.94-2.06-.94-.94-2.06-.94 2.06-2.06.94zm-11 1L8.5 8.5l.94-2.06 2.06-.94-2.06-.94L8.5 2.5l-.94 2.06-2.06.94zm10 10l.94 2.06.94-2.06 2.06-.94-2.06-.94-.94-2.06-.94 2.06-2.06.94z\"/><path d=\"M17.41 7.96l-1.37-1.37c-.4-.4-.92-.59-1.43-.59-.52 0-1.04.2-1.43.59L10.3 9.45l-7.72 7.72c-.78.78-.78 2.05 0 2.83L4 21.41c.39.39.9.59 1.41.59.51 0 1.02-.2 1.41-.59l7.78-7.78 2.81-2.81c.8-.78.8-2.07 0-2.86zM5.41 20L4 18.59l7.72-7.72 1.47 1.35L5.41 20z\"/>\n",
              "  </svg>\n",
              "      </button>\n",
              "      \n",
              "  <style>\n",
              "    .colab-df-container {\n",
              "      display:flex;\n",
              "      flex-wrap:wrap;\n",
              "      gap: 12px;\n",
              "    }\n",
              "\n",
              "    .colab-df-convert {\n",
              "      background-color: #E8F0FE;\n",
              "      border: none;\n",
              "      border-radius: 50%;\n",
              "      cursor: pointer;\n",
              "      display: none;\n",
              "      fill: #1967D2;\n",
              "      height: 32px;\n",
              "      padding: 0 0 0 0;\n",
              "      width: 32px;\n",
              "    }\n",
              "\n",
              "    .colab-df-convert:hover {\n",
              "      background-color: #E2EBFA;\n",
              "      box-shadow: 0px 1px 2px rgba(60, 64, 67, 0.3), 0px 1px 3px 1px rgba(60, 64, 67, 0.15);\n",
              "      fill: #174EA6;\n",
              "    }\n",
              "\n",
              "    [theme=dark] .colab-df-convert {\n",
              "      background-color: #3B4455;\n",
              "      fill: #D2E3FC;\n",
              "    }\n",
              "\n",
              "    [theme=dark] .colab-df-convert:hover {\n",
              "      background-color: #434B5C;\n",
              "      box-shadow: 0px 1px 3px 1px rgba(0, 0, 0, 0.15);\n",
              "      filter: drop-shadow(0px 1px 2px rgba(0, 0, 0, 0.3));\n",
              "      fill: #FFFFFF;\n",
              "    }\n",
              "  </style>\n",
              "\n",
              "      <script>\n",
              "        const buttonEl =\n",
              "          document.querySelector('#df-e665160f-9382-4f41-87fd-b32b732dbff3 button.colab-df-convert');\n",
              "        buttonEl.style.display =\n",
              "          google.colab.kernel.accessAllowed ? 'block' : 'none';\n",
              "\n",
              "        async function convertToInteractive(key) {\n",
              "          const element = document.querySelector('#df-e665160f-9382-4f41-87fd-b32b732dbff3');\n",
              "          const dataTable =\n",
              "            await google.colab.kernel.invokeFunction('convertToInteractive',\n",
              "                                                     [key], {});\n",
              "          if (!dataTable) return;\n",
              "\n",
              "          const docLinkHtml = 'Like what you see? Visit the ' +\n",
              "            '<a target=\"_blank\" href=https://colab.research.google.com/notebooks/data_table.ipynb>data table notebook</a>'\n",
              "            + ' to learn more about interactive tables.';\n",
              "          element.innerHTML = '';\n",
              "          dataTable['output_type'] = 'display_data';\n",
              "          await google.colab.output.renderOutput(dataTable, element);\n",
              "          const docLink = document.createElement('div');\n",
              "          docLink.innerHTML = docLinkHtml;\n",
              "          element.appendChild(docLink);\n",
              "        }\n",
              "      </script>\n",
              "    </div>\n",
              "  </div>\n",
              "  "
            ]
          },
          "metadata": {},
          "execution_count": 15
        }
      ]
    },
    {
      "cell_type": "code",
      "source": [
        "# 결측 데이터 처리\n",
        "# 범주형\n",
        "data_train['CryoSleep'] = data_train['CryoSleep'].fillna(0)\n",
        "data_train['VIP'] = data_train['VIP'].fillna(0)"
      ],
      "metadata": {
        "id": "nGf0kQswT352"
      },
      "execution_count": null,
      "outputs": []
    },
    {
      "cell_type": "code",
      "source": [
        "# 수치형\n",
        "data_train['Age'] = data_train['Age'].fillna(data_train['Age'].median())\n",
        "# data_train_np[np.isnan(data_train_np[:,5]), 5] = 30/ np.max(data_train['Age'])  # Nan 처리"
      ],
      "metadata": {
        "id": "BqeumJXGd-SP"
      },
      "execution_count": null,
      "outputs": []
    },
    {
      "cell_type": "code",
      "source": [
        "# bool형 -> int로 변경\n",
        "data_train['CryoSleep'] = data_train['CryoSleep'].astype(int)\n",
        "data_train['VIP']= data_train['VIP'].astype(int)"
      ],
      "metadata": {
        "id": "HJ5tdCRTUWxx"
      },
      "execution_count": null,
      "outputs": []
    },
    {
      "cell_type": "code",
      "source": [
        "'''\n",
        "PassengerId - Unique\n",
        "HomePlanet - Earth, Europa, Mars (3)\n",
        "CryoSleep - TRUE, FALSE (2)\n",
        "Cabin - A~G + P/S (1)\n",
        "Destination - (3)\n",
        "Age - 0 ~ 79 (1)\n",
        "VIP - TRUE, FALSE (2)\n",
        "RoomServices - 0.0 ~ 14.3k + nan (1)\n",
        "FoodCourt - 0.0 ~ 29.8k + nan (1)\n",
        "ShoppingMall - 0.0 ~ 23.5k (1)\n",
        "Spa - 0.0 ~ 22.4k (1)\n",
        "VRDeck - 0.0 ~ 24.1k (1)\n",
        "Name - Unique\n",
        "Transported - TRUE, FALSE (2)\n",
        "'''"
      ],
      "metadata": {
        "id": "aGlecjGmsSap",
        "colab": {
          "base_uri": "https://localhost:8080/",
          "height": 72
        },
        "outputId": "d7c3177a-110c-41db-ad70-521e6f1c04bb"
      },
      "execution_count": null,
      "outputs": [
        {
          "output_type": "execute_result",
          "data": {
            "text/plain": [
              "'\\nPassengerId - Unique\\nHomePlanet - Earth, Europa, Mars (3)\\nCryoSleep - TRUE, FALSE (2)\\nCabin - A~G + P/S (1)\\nDestination - (3)\\nAge - 0 ~ 79 (1)\\nVIP - TRUE, FALSE (2)\\nRoomServices - 0.0 ~ 14.3k + nan (1)\\nFoodCourt - 0.0 ~ 29.8k + nan (1)\\nShoppingMall - 0.0 ~ 23.5k (1)\\nSpa - 0.0 ~ 22.4k (1)\\nVRDeck - 0.0 ~ 24.1k (1)\\nName - Unique\\nTransported - TRUE, FALSE (2)\\n'"
            ],
            "application/vnd.google.colaboratory.intrinsic+json": {
              "type": "string"
            }
          },
          "metadata": {},
          "execution_count": 19
        }
      ]
    },
    {
      "cell_type": "code",
      "source": [
        "# 3. 데이터 전처리(수치화&정규화)\n",
        "import numpy as np\n",
        "data_len = data_train.shape[0]\n",
        "data_train_np = np.zeros([data_len,11])"
      ],
      "metadata": {
        "id": "0XEKq6KgrKvv"
      },
      "execution_count": null,
      "outputs": []
    },
    {
      "cell_type": "code",
      "source": [
        "data_train_np"
      ],
      "metadata": {
        "colab": {
          "base_uri": "https://localhost:8080/"
        },
        "id": "8mfSyF4HPoU8",
        "outputId": "bccb960a-9b44-4086-d3d2-1bb55282500e"
      },
      "execution_count": null,
      "outputs": [
        {
          "output_type": "execute_result",
          "data": {
            "text/plain": [
              "array([[0., 0., 0., ..., 0., 0., 0.],\n",
              "       [0., 0., 0., ..., 0., 0., 0.],\n",
              "       [0., 0., 0., ..., 0., 0., 0.],\n",
              "       ...,\n",
              "       [0., 0., 0., ..., 0., 0., 0.],\n",
              "       [0., 0., 0., ..., 0., 0., 0.],\n",
              "       [0., 0., 0., ..., 0., 0., 0.]])"
            ]
          },
          "metadata": {},
          "execution_count": 21
        }
      ]
    },
    {
      "cell_type": "code",
      "source": [
        "from tensorflow.keras.utils import to_categorical"
      ],
      "metadata": {
        "id": "e3H9Cz9SgXh7"
      },
      "execution_count": null,
      "outputs": []
    },
    {
      "cell_type": "code",
      "source": [
        "df1 = data_train[data_train['CryoSleep']==1]"
      ],
      "metadata": {
        "id": "oH-Qs2ybRWI3"
      },
      "execution_count": null,
      "outputs": []
    },
    {
      "cell_type": "code",
      "source": [
        "df1['CryoSleep'].count()"
      ],
      "metadata": {
        "colab": {
          "base_uri": "https://localhost:8080/"
        },
        "id": "zp5-bYX9PNjE",
        "outputId": "830471ac-f051-466b-d6b0-9eb9dd21bc56"
      },
      "execution_count": null,
      "outputs": [
        {
          "output_type": "execute_result",
          "data": {
            "text/plain": [
              "3037"
            ]
          },
          "metadata": {},
          "execution_count": 24
        }
      ]
    },
    {
      "cell_type": "code",
      "source": [
        "CryoSleep_num = np.zeros(data_len)\n",
        "CryoSleep_num[np.array(data_train['CryoSleep']==1)]=1 # True"
      ],
      "metadata": {
        "id": "_ptqarxpPrvM"
      },
      "execution_count": null,
      "outputs": []
    },
    {
      "cell_type": "code",
      "source": [
        "np.where(CryoSleep_num == 1)"
      ],
      "metadata": {
        "colab": {
          "base_uri": "https://localhost:8080/"
        },
        "id": "xQK69h-cSeHM",
        "outputId": "85e02eaa-e85a-4dd5-db84-8fd85e813907"
      },
      "execution_count": null,
      "outputs": [
        {
          "output_type": "execute_result",
          "data": {
            "text/plain": [
              "(array([   7,    9,   10, ..., 8681, 8684, 8689]),)"
            ]
          },
          "metadata": {},
          "execution_count": 26
        }
      ]
    },
    {
      "cell_type": "code",
      "source": [
        "data_train_np[:,0:2] = to_categorical(CryoSleep_num)"
      ],
      "metadata": {
        "id": "ePUQNFNKSc06"
      },
      "execution_count": null,
      "outputs": []
    },
    {
      "cell_type": "code",
      "source": [
        "data_train_np[:,0:2]"
      ],
      "metadata": {
        "colab": {
          "base_uri": "https://localhost:8080/"
        },
        "id": "Oj1-eee2QFyJ",
        "outputId": "e8393b82-a229-4bc0-db15-3a5c2ffb54cd"
      },
      "execution_count": null,
      "outputs": [
        {
          "output_type": "execute_result",
          "data": {
            "text/plain": [
              "array([[1., 0.],\n",
              "       [1., 0.],\n",
              "       [1., 0.],\n",
              "       ...,\n",
              "       [1., 0.],\n",
              "       [1., 0.],\n",
              "       [1., 0.]])"
            ]
          },
          "metadata": {},
          "execution_count": 28
        }
      ]
    },
    {
      "cell_type": "code",
      "source": [
        "# 범주가 2개인 데이터 원-핫 인코딩\n",
        "# CryoSleep, VIP, Transported\n",
        "CryoSleep_num = np.zeros(data_len)\n",
        "CryoSleep_num[np.array(data_train['CryoSleep']==1)]=1\n",
        "# sleep_num[df['CryoSleep']==True] = 1\n",
        "data_train_np[:,0:2] = to_categorical(CryoSleep_num)\n",
        "\n",
        "VIP_num = np.zeros(data_len)\n",
        "VIP_num[np.array(data_train['VIP']==1)]=1\n",
        "data_train_np[:,2:4] = to_categorical(VIP_num)"
      ],
      "metadata": {
        "id": "-4BMaL0PgbFb"
      },
      "execution_count": null,
      "outputs": []
    },
    {
      "cell_type": "code",
      "source": [
        "data_train_np[:,0:4]"
      ],
      "metadata": {
        "colab": {
          "base_uri": "https://localhost:8080/"
        },
        "id": "ELvTIxiMPaV6",
        "outputId": "99af571e-5c68-4884-dd0b-20103ec65798"
      },
      "execution_count": null,
      "outputs": [
        {
          "output_type": "execute_result",
          "data": {
            "text/plain": [
              "array([[1., 0., 1., 0.],\n",
              "       [1., 0., 1., 0.],\n",
              "       [1., 0., 0., 1.],\n",
              "       ...,\n",
              "       [1., 0., 1., 0.],\n",
              "       [1., 0., 1., 0.],\n",
              "       [1., 0., 1., 0.]])"
            ]
          },
          "metadata": {},
          "execution_count": 30
        }
      ]
    },
    {
      "cell_type": "code",
      "source": [
        "# 범주가 3개 이상인 데이터 원-핫 인코딩\n",
        "'''\n",
        "HomePlanet - Earth, Europa, Mars (3)\n",
        "Destination - (3)\n",
        "'''"
      ],
      "metadata": {
        "id": "A3ecxb2nhsCV",
        "colab": {
          "base_uri": "https://localhost:8080/",
          "height": 35
        },
        "outputId": "b9d71bc9-36f9-4b23-e77a-138e5bd92d6d"
      },
      "execution_count": null,
      "outputs": [
        {
          "output_type": "execute_result",
          "data": {
            "text/plain": [
              "'\\nHomePlanet - Earth, Europa, Mars (3)\\nDestination - (3)\\n'"
            ],
            "application/vnd.google.colaboratory.intrinsic+json": {
              "type": "string"
            }
          },
          "metadata": {},
          "execution_count": 31
        }
      ]
    },
    {
      "cell_type": "code",
      "source": [
        "# 출발지\n",
        "home_num = np.zeros(df.shape[0])  # 디폴트(지구 or Nan) 는 0\n",
        "home_num[df['HomePlanet']=='Europa'] = 1 # 유로파 = 1\n",
        "home_num[df['HomePlanet']=='Mars'] = 2   # 화성 = 2\n",
        "train_x[:,0:3] = to_categorical(home_num)"
      ],
      "metadata": {
        "id": "ceITDA9sGt9p"
      },
      "execution_count": null,
      "outputs": []
    },
    {
      "cell_type": "code",
      "source": [
        "print(data_train['HomePlanet'].head())\n",
        "HomePlanet_dummies = pd.get_dummies(data_train[['HomePlanet']])\n",
        "print(HomePlanet_dummies.head())\n",
        "print(type(HomePlanet_dummies))"
      ],
      "metadata": {
        "colab": {
          "base_uri": "https://localhost:8080/"
        },
        "id": "tF3Tu2AHYCR-",
        "outputId": "f2bb1d3b-c6eb-461d-e23b-8fd8c6c4721b"
      },
      "execution_count": null,
      "outputs": [
        {
          "output_type": "stream",
          "name": "stdout",
          "text": [
            "0    Europa\n",
            "1     Earth\n",
            "2    Europa\n",
            "3    Europa\n",
            "4     Earth\n",
            "Name: HomePlanet, dtype: object\n",
            "   HomePlanet_Earth  HomePlanet_Europa  HomePlanet_Mars\n",
            "0                 0                  1                0\n",
            "1                 1                  0                0\n",
            "2                 0                  1                0\n",
            "3                 0                  1                0\n",
            "4                 1                  0                0\n",
            "<class 'pandas.core.frame.DataFrame'>\n"
          ]
        }
      ]
    },
    {
      "cell_type": "code",
      "source": [
        "HomePlanet_num = np.zeros(data_len)"
      ],
      "metadata": {
        "id": "sgXa2yx0N165"
      },
      "execution_count": null,
      "outputs": []
    },
    {
      "cell_type": "code",
      "source": [
        "HomePlanet_num = HomePlanet_dummies.to_numpy()"
      ],
      "metadata": {
        "id": "59hwH8bZYi9Q"
      },
      "execution_count": null,
      "outputs": []
    },
    {
      "cell_type": "code",
      "source": [
        "HomePlanet_num.shape"
      ],
      "metadata": {
        "colab": {
          "base_uri": "https://localhost:8080/"
        },
        "id": "-3HiwOXUOinW",
        "outputId": "44b6a54d-9d21-4cbf-a5ea-08cb5c5e695d"
      },
      "execution_count": null,
      "outputs": [
        {
          "output_type": "execute_result",
          "data": {
            "text/plain": [
              "(8693, 3)"
            ]
          },
          "metadata": {},
          "execution_count": 35
        }
      ]
    },
    {
      "cell_type": "code",
      "source": [
        "HomePlanet_num"
      ],
      "metadata": {
        "colab": {
          "base_uri": "https://localhost:8080/"
        },
        "id": "6PKcSeuQOnlr",
        "outputId": "3eb009f9-ff25-480e-fe7d-e266b494009e"
      },
      "execution_count": null,
      "outputs": [
        {
          "output_type": "execute_result",
          "data": {
            "text/plain": [
              "array([[0, 1, 0],\n",
              "       [1, 0, 0],\n",
              "       [0, 1, 0],\n",
              "       ...,\n",
              "       [1, 0, 0],\n",
              "       [0, 1, 0],\n",
              "       [0, 1, 0]], dtype=uint8)"
            ]
          },
          "metadata": {},
          "execution_count": 36
        }
      ]
    },
    {
      "cell_type": "code",
      "source": [
        "# HomePlanet_num = HomePlanet_num.replace({'Earth':0, 'Europa':1, 'Mars':2})"
      ],
      "metadata": {
        "id": "diUg600HXdQ-"
      },
      "execution_count": null,
      "outputs": []
    },
    {
      "cell_type": "code",
      "source": [
        "# HomePlanet_num[np.array(data_train['HomePlanet']=='Earth')]=1"
      ],
      "metadata": {
        "id": "wlACzXHwN61D"
      },
      "execution_count": null,
      "outputs": []
    },
    {
      "cell_type": "code",
      "source": [
        "# data_train_np[:,6:9] = to_categorical(HomePlanet_num)"
      ],
      "metadata": {
        "id": "ns1zWspnOGXr"
      },
      "execution_count": null,
      "outputs": []
    },
    {
      "cell_type": "code",
      "source": [
        "data_train_np[:,4:7] = HomePlanet_num"
      ],
      "metadata": {
        "id": "POnqcRuEZB5w"
      },
      "execution_count": null,
      "outputs": []
    },
    {
      "cell_type": "code",
      "source": [
        "data_train_np[:,0:7]"
      ],
      "metadata": {
        "colab": {
          "base_uri": "https://localhost:8080/"
        },
        "id": "301m8wKFZFC6",
        "outputId": "e6e01c83-3158-4c4d-9cd2-e76b947c7d32"
      },
      "execution_count": null,
      "outputs": [
        {
          "output_type": "execute_result",
          "data": {
            "text/plain": [
              "array([[1., 0., 1., ..., 0., 1., 0.],\n",
              "       [1., 0., 1., ..., 1., 0., 0.],\n",
              "       [1., 0., 0., ..., 0., 1., 0.],\n",
              "       ...,\n",
              "       [1., 0., 1., ..., 1., 0., 0.],\n",
              "       [1., 0., 1., ..., 0., 1., 0.],\n",
              "       [1., 0., 1., ..., 0., 1., 0.]])"
            ]
          },
          "metadata": {},
          "execution_count": 41
        }
      ]
    },
    {
      "cell_type": "code",
      "source": [
        "data_train['Destination']"
      ],
      "metadata": {
        "colab": {
          "base_uri": "https://localhost:8080/"
        },
        "id": "Y6YZEva_Zz-O",
        "outputId": "d39a1d36-47aa-42b3-c7e4-05f3f9d7c5e4"
      },
      "execution_count": null,
      "outputs": [
        {
          "output_type": "execute_result",
          "data": {
            "text/plain": [
              "0         TRAPPIST-1e\n",
              "1         TRAPPIST-1e\n",
              "2         TRAPPIST-1e\n",
              "3         TRAPPIST-1e\n",
              "4         TRAPPIST-1e\n",
              "            ...      \n",
              "8688      55 Cancri e\n",
              "8689    PSO J318.5-22\n",
              "8690      TRAPPIST-1e\n",
              "8691      55 Cancri e\n",
              "8692      TRAPPIST-1e\n",
              "Name: Destination, Length: 8693, dtype: object"
            ]
          },
          "metadata": {},
          "execution_count": 42
        }
      ]
    },
    {
      "cell_type": "code",
      "source": [
        "print(data_train['Destination'].head())\n",
        "Destination_dummies = pd.get_dummies(data_train[['Destination']])\n",
        "print(Destination_dummies.head())\n",
        "print(type(Destination_dummies))\n",
        "\n",
        "Destination_num = np.zeros(data_len)\n",
        "Destination_num = Destination_dummies.to_numpy()\n",
        "data_train_np[:,7:10] = Destination_num"
      ],
      "metadata": {
        "colab": {
          "base_uri": "https://localhost:8080/"
        },
        "id": "U92RYs1aZWnQ",
        "outputId": "87d066be-71ac-4bbe-8873-5750c784c788"
      },
      "execution_count": null,
      "outputs": [
        {
          "output_type": "stream",
          "name": "stdout",
          "text": [
            "0    TRAPPIST-1e\n",
            "1    TRAPPIST-1e\n",
            "2    TRAPPIST-1e\n",
            "3    TRAPPIST-1e\n",
            "4    TRAPPIST-1e\n",
            "Name: Destination, dtype: object\n",
            "   Destination_55 Cancri e  Destination_PSO J318.5-22  Destination_TRAPPIST-1e\n",
            "0                        0                          0                        1\n",
            "1                        0                          0                        1\n",
            "2                        0                          0                        1\n",
            "3                        0                          0                        1\n",
            "4                        0                          0                        1\n",
            "<class 'pandas.core.frame.DataFrame'>\n"
          ]
        }
      ]
    },
    {
      "cell_type": "code",
      "source": [
        "data_train_np[:,7:10]"
      ],
      "metadata": {
        "colab": {
          "base_uri": "https://localhost:8080/"
        },
        "id": "oTjlQ5b5Z53k",
        "outputId": "f891dec7-4242-45ee-fe4f-9b27502e754b"
      },
      "execution_count": null,
      "outputs": [
        {
          "output_type": "execute_result",
          "data": {
            "text/plain": [
              "array([[0., 0., 1.],\n",
              "       [0., 0., 1.],\n",
              "       [0., 0., 1.],\n",
              "       ...,\n",
              "       [0., 0., 1.],\n",
              "       [1., 0., 0.],\n",
              "       [0., 0., 1.]])"
            ]
          },
          "metadata": {},
          "execution_count": 44
        }
      ]
    },
    {
      "cell_type": "code",
      "source": [
        "# 수치형 데이터의 정규화\n",
        "# 나이 데이터는 최댓(추정)값으로 나눔\n",
        "# 원 데이터 중 결측치 존재 -> 평균값으로 대치\n",
        "'''\n",
        "Cabin - A~G + P/S (1)\n",
        "Age - 0 ~ 79 (1)\n",
        "RoomServices - 0.0 ~ 14.3k + nan (1)\n",
        "FoodCourt - 0.0 ~ 29.8k + nan (1)\n",
        "ShoppingMall - 0.0 ~ 23.5k (1)\n",
        "Spa - 0.0 ~ 22.4k (1)\n",
        "VRDeck - 0.0 ~ 24.1k (1)\n",
        "'''\n"
      ],
      "metadata": {
        "id": "28B7E-xKiEu7",
        "colab": {
          "base_uri": "https://localhost:8080/",
          "height": 53
        },
        "outputId": "b6488860-a7a3-4dd1-ae5b-da4e44e3d29b"
      },
      "execution_count": null,
      "outputs": [
        {
          "output_type": "execute_result",
          "data": {
            "text/plain": [
              "'\\nCabin - A~G + P/S (1)\\nAge - 0 ~ 79 (1)\\nRoomServices - 0.0 ~ 14.3k + nan (1)\\nFoodCourt - 0.0 ~ 29.8k + nan (1)\\nShoppingMall - 0.0 ~ 23.5k (1)\\nSpa - 0.0 ~ 22.4k (1)\\nVRDeck - 0.0 ~ 24.1k (1)\\n'"
            ],
            "application/vnd.google.colaboratory.intrinsic+json": {
              "type": "string"
            }
          },
          "metadata": {},
          "execution_count": 45
        }
      ]
    },
    {
      "cell_type": "code",
      "source": [
        "age_orig = np.array(data_train['Age'])"
      ],
      "metadata": {
        "id": "Oq6gcZw5c8FJ"
      },
      "execution_count": null,
      "outputs": []
    },
    {
      "cell_type": "code",
      "source": [
        "age_orig"
      ],
      "metadata": {
        "colab": {
          "base_uri": "https://localhost:8080/"
        },
        "id": "xN_2rD6pdLu7",
        "outputId": "9be1d2e6-a080-496c-9676-c2ac363952bc"
      },
      "execution_count": null,
      "outputs": [
        {
          "output_type": "execute_result",
          "data": {
            "text/plain": [
              "array([39., 24., 58., ..., 26., 32., 44.])"
            ]
          },
          "metadata": {},
          "execution_count": 47
        }
      ]
    },
    {
      "cell_type": "code",
      "source": [
        "np.min(age_orig)\n",
        "# age_orig.min()"
      ],
      "metadata": {
        "colab": {
          "base_uri": "https://localhost:8080/"
        },
        "id": "CNJ0dAvldMxq",
        "outputId": "2bf62a9e-e704-42ac-ec6e-e5d9506f76b3"
      },
      "execution_count": null,
      "outputs": [
        {
          "output_type": "execute_result",
          "data": {
            "text/plain": [
              "0.0"
            ]
          },
          "metadata": {},
          "execution_count": 48
        }
      ]
    },
    {
      "cell_type": "code",
      "source": [
        "np.max(age_orig)\n",
        "# age_orig.max()"
      ],
      "metadata": {
        "colab": {
          "base_uri": "https://localhost:8080/"
        },
        "id": "3kaHn6bMdPVr",
        "outputId": "47b3a13c-695f-40d5-985b-1c7c5a85dad7"
      },
      "execution_count": null,
      "outputs": [
        {
          "output_type": "execute_result",
          "data": {
            "text/plain": [
              "79.0"
            ]
          },
          "metadata": {},
          "execution_count": 49
        }
      ]
    },
    {
      "cell_type": "code",
      "source": [
        "age_conv = (age_orig - np.min(age_orig)) / (np.max(age_orig) - np.min(age_orig))"
      ],
      "metadata": {
        "id": "5CEPhNWveHqU"
      },
      "execution_count": null,
      "outputs": []
    },
    {
      "cell_type": "code",
      "source": [
        "age_conv"
      ],
      "metadata": {
        "colab": {
          "base_uri": "https://localhost:8080/"
        },
        "id": "cwjm2u3hePto",
        "outputId": "b81c8150-e258-41c6-c866-958913674186"
      },
      "execution_count": null,
      "outputs": [
        {
          "output_type": "execute_result",
          "data": {
            "text/plain": [
              "array([0.49367089, 0.30379747, 0.73417722, ..., 0.32911392, 0.40506329,\n",
              "       0.55696203])"
            ]
          },
          "metadata": {},
          "execution_count": 51
        }
      ]
    },
    {
      "cell_type": "code",
      "source": [
        "data_train_np[:,10] = age_conv"
      ],
      "metadata": {
        "id": "Mwh2d34AetU_"
      },
      "execution_count": null,
      "outputs": []
    },
    {
      "cell_type": "code",
      "source": [
        "# 도착여부 Transported\n",
        "data_train_np_y = to_categorical(data_train['Transported'])"
      ],
      "metadata": {
        "id": "2Asp5VrxgSFe"
      },
      "execution_count": null,
      "outputs": []
    },
    {
      "cell_type": "code",
      "source": [
        "data_train_np_y"
      ],
      "metadata": {
        "colab": {
          "base_uri": "https://localhost:8080/"
        },
        "id": "Cd4JNJO7gWH-",
        "outputId": "4cb99bf1-ccd8-4333-b747-1115ae1dd528"
      },
      "execution_count": null,
      "outputs": [
        {
          "output_type": "execute_result",
          "data": {
            "text/plain": [
              "array([[1., 0.],\n",
              "       [0., 1.],\n",
              "       [1., 0.],\n",
              "       ...,\n",
              "       [0., 1.],\n",
              "       [1., 0.],\n",
              "       [0., 1.]], dtype=float32)"
            ]
          },
          "metadata": {},
          "execution_count": 54
        }
      ]
    },
    {
      "cell_type": "markdown",
      "source": [
        "# test.csv"
      ],
      "metadata": {
        "id": "wDuBa8cff2kR"
      }
    },
    {
      "cell_type": "code",
      "source": [
        "data_test.shape"
      ],
      "metadata": {
        "colab": {
          "base_uri": "https://localhost:8080/"
        },
        "id": "8Zt8H0sZf_yH",
        "outputId": "c550ba1a-33b3-413b-b077-13d0379dcc5e"
      },
      "execution_count": null,
      "outputs": [
        {
          "output_type": "execute_result",
          "data": {
            "text/plain": [
              "(4277, 13)"
            ]
          },
          "metadata": {},
          "execution_count": 55
        }
      ]
    },
    {
      "cell_type": "code",
      "source": [
        "data_test.columns"
      ],
      "metadata": {
        "colab": {
          "base_uri": "https://localhost:8080/"
        },
        "id": "KN7Dxekyf4H8",
        "outputId": "02a2c113-a400-4192-f922-1e527350258a"
      },
      "execution_count": null,
      "outputs": [
        {
          "output_type": "execute_result",
          "data": {
            "text/plain": [
              "Index(['PassengerId', 'HomePlanet', 'CryoSleep', 'Cabin', 'Destination', 'Age',\n",
              "       'VIP', 'RoomService', 'FoodCourt', 'ShoppingMall', 'Spa', 'VRDeck',\n",
              "       'Name'],\n",
              "      dtype='object')"
            ]
          },
          "metadata": {},
          "execution_count": 56
        }
      ]
    },
    {
      "cell_type": "code",
      "source": [
        "data_test.isna().sum()"
      ],
      "metadata": {
        "colab": {
          "base_uri": "https://localhost:8080/"
        },
        "id": "rKiMwjzRgDRR",
        "outputId": "b89d4633-fe09-403d-902b-5c74c9ad8acd"
      },
      "execution_count": null,
      "outputs": [
        {
          "output_type": "execute_result",
          "data": {
            "text/plain": [
              "PassengerId       0\n",
              "HomePlanet       87\n",
              "CryoSleep        93\n",
              "Cabin           100\n",
              "Destination      92\n",
              "Age              91\n",
              "VIP              93\n",
              "RoomService      82\n",
              "FoodCourt       106\n",
              "ShoppingMall     98\n",
              "Spa             101\n",
              "VRDeck           80\n",
              "Name             94\n",
              "dtype: int64"
            ]
          },
          "metadata": {},
          "execution_count": 57
        }
      ]
    },
    {
      "cell_type": "code",
      "source": [
        "data_test['CryoSleep'] = data_test['CryoSleep'].fillna(0)\n",
        "data_test['VIP'] = data_test['VIP'].fillna(0)\n",
        "data_test['Age'] = data_test['Age'].fillna(data_test['Age'].median())"
      ],
      "metadata": {
        "id": "4g_aar06gySr"
      },
      "execution_count": null,
      "outputs": []
    },
    {
      "cell_type": "code",
      "source": [
        "data_test['CryoSleep'] = data_test['CryoSleep'].astype(int)\n",
        "data_test['VIP']= data_test['VIP'].astype(int)"
      ],
      "metadata": {
        "id": "PChssFKLg-aL"
      },
      "execution_count": null,
      "outputs": []
    },
    {
      "cell_type": "code",
      "source": [
        "import numpy as np\n",
        "test_len = data_test.shape[0]\n",
        "data_test_np = np.zeros([test_len,11])"
      ],
      "metadata": {
        "id": "dbtFoYdQhEdo"
      },
      "execution_count": null,
      "outputs": []
    },
    {
      "cell_type": "code",
      "source": [
        "# 범주가 2개인 데이터 원-핫 인코딩\n",
        "# CryoSleep, VIP\n",
        "CryoSleep_num = np.zeros(test_len)\n",
        "CryoSleep_num[np.array(data_test['CryoSleep']==1)]=1\n",
        "data_test_np[:,0:2] = to_categorical(CryoSleep_num)\n",
        "\n",
        "VIP_num = np.zeros(test_len)\n",
        "VIP_num[np.array(data_test['VIP']==1)]=1\n",
        "data_test_np[:,2:4] = to_categorical(VIP_num)"
      ],
      "metadata": {
        "id": "3lJ9OiIChRWC"
      },
      "execution_count": null,
      "outputs": []
    },
    {
      "cell_type": "code",
      "source": [
        "# 범주가 3개\n",
        "print(data_test['HomePlanet'].head())\n",
        "HomePlanet_dummies = pd.get_dummies(data_test[['HomePlanet']])\n",
        "print(HomePlanet_dummies.head())\n",
        "print(type(HomePlanet_dummies))\n",
        "\n",
        "HomePlanet_num = np.zeros(test_len)\n",
        "HomePlanet_num = HomePlanet_dummies.to_numpy()\n",
        "data_test_np[:,4:7] = HomePlanet_num\n",
        "\n",
        "print(data_test['Destination'].head())\n",
        "Destination_dummies = pd.get_dummies(data_test[['Destination']])\n",
        "print(Destination_dummies.head())\n",
        "print(type(Destination_dummies))\n",
        "\n",
        "Destination_num = np.zeros(test_len)\n",
        "Destination_num = Destination_dummies.to_numpy()\n",
        "data_test_np[:,7:10] = Destination_num"
      ],
      "metadata": {
        "colab": {
          "base_uri": "https://localhost:8080/"
        },
        "id": "tBuXzCSlhnbq",
        "outputId": "25147160-24bb-4297-98cb-3483643b1bcc"
      },
      "execution_count": null,
      "outputs": [
        {
          "output_type": "stream",
          "name": "stdout",
          "text": [
            "0     Earth\n",
            "1     Earth\n",
            "2    Europa\n",
            "3    Europa\n",
            "4     Earth\n",
            "Name: HomePlanet, dtype: object\n",
            "   HomePlanet_Earth  HomePlanet_Europa  HomePlanet_Mars\n",
            "0                 1                  0                0\n",
            "1                 1                  0                0\n",
            "2                 0                  1                0\n",
            "3                 0                  1                0\n",
            "4                 1                  0                0\n",
            "<class 'pandas.core.frame.DataFrame'>\n",
            "0    TRAPPIST-1e\n",
            "1    TRAPPIST-1e\n",
            "2    55 Cancri e\n",
            "3    TRAPPIST-1e\n",
            "4    TRAPPIST-1e\n",
            "Name: Destination, dtype: object\n",
            "   Destination_55 Cancri e  Destination_PSO J318.5-22  Destination_TRAPPIST-1e\n",
            "0                        0                          0                        1\n",
            "1                        0                          0                        1\n",
            "2                        1                          0                        0\n",
            "3                        0                          0                        1\n",
            "4                        0                          0                        1\n",
            "<class 'pandas.core.frame.DataFrame'>\n"
          ]
        }
      ]
    },
    {
      "cell_type": "code",
      "source": [
        "data_test_np[:,:10]"
      ],
      "metadata": {
        "colab": {
          "base_uri": "https://localhost:8080/"
        },
        "id": "gMXA2id4iuG2",
        "outputId": "4b651c91-1ee3-4895-accf-d6649de60ada"
      },
      "execution_count": null,
      "outputs": [
        {
          "output_type": "execute_result",
          "data": {
            "text/plain": [
              "array([[0., 1., 1., ..., 0., 0., 1.],\n",
              "       [1., 0., 1., ..., 0., 0., 1.],\n",
              "       [0., 1., 1., ..., 1., 0., 0.],\n",
              "       ...,\n",
              "       [0., 1., 1., ..., 1., 0., 0.],\n",
              "       [1., 0., 1., ..., 0., 0., 0.],\n",
              "       [0., 1., 1., ..., 0., 1., 0.]])"
            ]
          },
          "metadata": {},
          "execution_count": 63
        }
      ]
    },
    {
      "cell_type": "code",
      "source": [
        "age_orig_test = np.array(data_test['Age'])"
      ],
      "metadata": {
        "id": "e9BvLKr5m4SS"
      },
      "execution_count": null,
      "outputs": []
    },
    {
      "cell_type": "code",
      "source": [
        "age_conv_test = (age_orig_test - age_orig_test.min()) / (age_orig_test.max() - age_orig_test.min())"
      ],
      "metadata": {
        "id": "rfeT5rB7nIvD"
      },
      "execution_count": null,
      "outputs": []
    },
    {
      "cell_type": "code",
      "source": [
        "data_test_np[:,10] = age_conv_test"
      ],
      "metadata": {
        "id": "VYWiE8ZhnVtG"
      },
      "execution_count": null,
      "outputs": []
    },
    {
      "cell_type": "code",
      "source": [
        "data_test_np"
      ],
      "metadata": {
        "colab": {
          "base_uri": "https://localhost:8080/"
        },
        "id": "qkPx5V6lnbZH",
        "outputId": "ef4932de-4ec8-4dcc-be53-8f3462b07743"
      },
      "execution_count": null,
      "outputs": [
        {
          "output_type": "execute_result",
          "data": {
            "text/plain": [
              "array([[0.        , 1.        , 1.        , ..., 0.        , 1.        ,\n",
              "        0.34177215],\n",
              "       [1.        , 0.        , 1.        , ..., 0.        , 1.        ,\n",
              "        0.24050633],\n",
              "       [0.        , 1.        , 1.        , ..., 0.        , 0.        ,\n",
              "        0.39240506],\n",
              "       ...,\n",
              "       [0.        , 1.        , 1.        , ..., 0.        , 0.        ,\n",
              "        0.32911392],\n",
              "       [1.        , 0.        , 1.        , ..., 0.        , 0.        ,\n",
              "        0.32911392],\n",
              "       [0.        , 1.        , 1.        , ..., 1.        , 0.        ,\n",
              "        0.5443038 ]])"
            ]
          },
          "metadata": {},
          "execution_count": 67
        }
      ]
    },
    {
      "cell_type": "markdown",
      "source": [
        "# 완전 연결층을 사용하여 데이터 학습"
      ],
      "metadata": {
        "id": "Nd8r5bwViz8l"
      }
    },
    {
      "cell_type": "code",
      "source": [
        "from keras.models import Sequential\n",
        "from keras import layers\n",
        "from keras import optimizers"
      ],
      "metadata": {
        "id": "D2cnNqFJi820"
      },
      "execution_count": null,
      "outputs": []
    },
    {
      "cell_type": "code",
      "source": [
        "model = Sequential()\n",
        "model.add(layers.Dense(units=8, activation='relu'))\n",
        "model.add(layers.Dense(units=16, activation='relu'))\n",
        "model.add(layers.Dense(units=32, activation='relu'))\n",
        "# model.add(layers.Dense(units=64, activation='relu'))\n",
        "# model.add(layers.Dense(units=128, activation='relu'))\n",
        "model.add(layers.Dense(units=2, activation='softmax'))"
      ],
      "metadata": {
        "id": "L-C1nZypi_Hs"
      },
      "execution_count": null,
      "outputs": []
    },
    {
      "cell_type": "code",
      "source": [
        "model.compile(loss='categorical_crossentropy',\n",
        "              optimizer = optimizers.RMSprop(lr=0.001), metrics=['accuracy'])"
      ],
      "metadata": {
        "id": "Tv4n8ROnGMT_",
        "colab": {
          "base_uri": "https://localhost:8080/"
        },
        "outputId": "1faeb014-e128-40e1-82bf-0e65f5f3c821"
      },
      "execution_count": null,
      "outputs": [
        {
          "output_type": "stream",
          "name": "stderr",
          "text": [
            "/usr/local/lib/python3.9/dist-packages/keras/optimizers/legacy/rmsprop.py:143: UserWarning: The `lr` argument is deprecated, use `learning_rate` instead.\n",
            "  super().__init__(name, **kwargs)\n"
          ]
        }
      ]
    },
    {
      "cell_type": "code",
      "source": [
        "hist_1 = model.fit(data_train_np,data_train_np_y, epochs = 300,\n",
        "                 batch_size=512, validation_split=0.3)"
      ],
      "metadata": {
        "colab": {
          "base_uri": "https://localhost:8080/"
        },
        "id": "kDSxrsQXuq_v",
        "outputId": "09e52267-f882-48ed-9d50-f501b4132eb2"
      },
      "execution_count": null,
      "outputs": [
        {
          "output_type": "stream",
          "name": "stdout",
          "text": [
            "Epoch 1/300\n",
            "12/12 [==============================] - 1s 29ms/step - loss: 0.6919 - accuracy: 0.5643 - val_loss: 0.6730 - val_accuracy: 0.6518\n",
            "Epoch 2/300\n",
            "12/12 [==============================] - 0s 6ms/step - loss: 0.6669 - accuracy: 0.6337 - val_loss: 0.6500 - val_accuracy: 0.6630\n",
            "Epoch 3/300\n",
            "12/12 [==============================] - 0s 7ms/step - loss: 0.6464 - accuracy: 0.6426 - val_loss: 0.6271 - val_accuracy: 0.6653\n",
            "Epoch 4/300\n",
            "12/12 [==============================] - 0s 8ms/step - loss: 0.6255 - accuracy: 0.6771 - val_loss: 0.6023 - val_accuracy: 0.7147\n",
            "Epoch 5/300\n",
            "12/12 [==============================] - 0s 7ms/step - loss: 0.6067 - accuracy: 0.7021 - val_loss: 0.5816 - val_accuracy: 0.7385\n",
            "Epoch 6/300\n",
            "12/12 [==============================] - 0s 7ms/step - loss: 0.5923 - accuracy: 0.7113 - val_loss: 0.5670 - val_accuracy: 0.7400\n",
            "Epoch 7/300\n",
            "12/12 [==============================] - 0s 9ms/step - loss: 0.5816 - accuracy: 0.7116 - val_loss: 0.5566 - val_accuracy: 0.7389\n",
            "Epoch 8/300\n",
            "12/12 [==============================] - 0s 10ms/step - loss: 0.5741 - accuracy: 0.7114 - val_loss: 0.5493 - val_accuracy: 0.7373\n",
            "Epoch 9/300\n",
            "12/12 [==============================] - 0s 10ms/step - loss: 0.5684 - accuracy: 0.7103 - val_loss: 0.5448 - val_accuracy: 0.7354\n",
            "Epoch 10/300\n",
            "12/12 [==============================] - 0s 10ms/step - loss: 0.5649 - accuracy: 0.7122 - val_loss: 0.5415 - val_accuracy: 0.7354\n",
            "Epoch 11/300\n",
            "12/12 [==============================] - 0s 9ms/step - loss: 0.5620 - accuracy: 0.7121 - val_loss: 0.5399 - val_accuracy: 0.7354\n",
            "Epoch 12/300\n",
            "12/12 [==============================] - 0s 9ms/step - loss: 0.5593 - accuracy: 0.7126 - val_loss: 0.5392 - val_accuracy: 0.7404\n",
            "Epoch 13/300\n",
            "12/12 [==============================] - 0s 9ms/step - loss: 0.5575 - accuracy: 0.7152 - val_loss: 0.5364 - val_accuracy: 0.7354\n",
            "Epoch 14/300\n",
            "12/12 [==============================] - 0s 10ms/step - loss: 0.5563 - accuracy: 0.7127 - val_loss: 0.5352 - val_accuracy: 0.7370\n",
            "Epoch 15/300\n",
            "12/12 [==============================] - 0s 9ms/step - loss: 0.5551 - accuracy: 0.7134 - val_loss: 0.5344 - val_accuracy: 0.7354\n",
            "Epoch 16/300\n",
            "12/12 [==============================] - 0s 9ms/step - loss: 0.5530 - accuracy: 0.7152 - val_loss: 0.5338 - val_accuracy: 0.7354\n",
            "Epoch 17/300\n",
            "12/12 [==============================] - 0s 9ms/step - loss: 0.5527 - accuracy: 0.7144 - val_loss: 0.5336 - val_accuracy: 0.7362\n",
            "Epoch 18/300\n",
            "12/12 [==============================] - 0s 12ms/step - loss: 0.5517 - accuracy: 0.7149 - val_loss: 0.5329 - val_accuracy: 0.7362\n",
            "Epoch 19/300\n",
            "12/12 [==============================] - 0s 13ms/step - loss: 0.5511 - accuracy: 0.7144 - val_loss: 0.5334 - val_accuracy: 0.7404\n",
            "Epoch 20/300\n",
            "12/12 [==============================] - 0s 9ms/step - loss: 0.5503 - accuracy: 0.7149 - val_loss: 0.5323 - val_accuracy: 0.7396\n",
            "Epoch 21/300\n",
            "12/12 [==============================] - 0s 10ms/step - loss: 0.5504 - accuracy: 0.7145 - val_loss: 0.5314 - val_accuracy: 0.7358\n",
            "Epoch 22/300\n",
            "12/12 [==============================] - 0s 10ms/step - loss: 0.5491 - accuracy: 0.7154 - val_loss: 0.5318 - val_accuracy: 0.7412\n",
            "Epoch 23/300\n",
            "12/12 [==============================] - 0s 11ms/step - loss: 0.5491 - accuracy: 0.7147 - val_loss: 0.5331 - val_accuracy: 0.7412\n",
            "Epoch 24/300\n",
            "12/12 [==============================] - 0s 10ms/step - loss: 0.5486 - accuracy: 0.7147 - val_loss: 0.5302 - val_accuracy: 0.7389\n",
            "Epoch 25/300\n",
            "12/12 [==============================] - 0s 11ms/step - loss: 0.5486 - accuracy: 0.7145 - val_loss: 0.5303 - val_accuracy: 0.7373\n",
            "Epoch 26/300\n",
            "12/12 [==============================] - 0s 10ms/step - loss: 0.5481 - accuracy: 0.7152 - val_loss: 0.5301 - val_accuracy: 0.7389\n",
            "Epoch 27/300\n",
            "12/12 [==============================] - 0s 9ms/step - loss: 0.5483 - accuracy: 0.7147 - val_loss: 0.5302 - val_accuracy: 0.7419\n",
            "Epoch 28/300\n",
            "12/12 [==============================] - 0s 9ms/step - loss: 0.5479 - accuracy: 0.7150 - val_loss: 0.5299 - val_accuracy: 0.7373\n",
            "Epoch 29/300\n",
            "12/12 [==============================] - 0s 10ms/step - loss: 0.5476 - accuracy: 0.7152 - val_loss: 0.5294 - val_accuracy: 0.7389\n",
            "Epoch 30/300\n",
            "12/12 [==============================] - 0s 10ms/step - loss: 0.5472 - accuracy: 0.7150 - val_loss: 0.5289 - val_accuracy: 0.7385\n",
            "Epoch 31/300\n",
            "12/12 [==============================] - 0s 10ms/step - loss: 0.5474 - accuracy: 0.7159 - val_loss: 0.5293 - val_accuracy: 0.7385\n",
            "Epoch 32/300\n",
            "12/12 [==============================] - 0s 10ms/step - loss: 0.5470 - accuracy: 0.7150 - val_loss: 0.5303 - val_accuracy: 0.7435\n",
            "Epoch 33/300\n",
            "12/12 [==============================] - 0s 9ms/step - loss: 0.5471 - accuracy: 0.7145 - val_loss: 0.5299 - val_accuracy: 0.7431\n",
            "Epoch 34/300\n",
            "12/12 [==============================] - 0s 10ms/step - loss: 0.5471 - accuracy: 0.7154 - val_loss: 0.5298 - val_accuracy: 0.7423\n",
            "Epoch 35/300\n",
            "12/12 [==============================] - 0s 9ms/step - loss: 0.5467 - accuracy: 0.7154 - val_loss: 0.5291 - val_accuracy: 0.7416\n",
            "Epoch 36/300\n",
            "12/12 [==============================] - 0s 9ms/step - loss: 0.5466 - accuracy: 0.7160 - val_loss: 0.5287 - val_accuracy: 0.7385\n",
            "Epoch 37/300\n",
            "12/12 [==============================] - 0s 9ms/step - loss: 0.5466 - accuracy: 0.7164 - val_loss: 0.5288 - val_accuracy: 0.7400\n",
            "Epoch 38/300\n",
            "12/12 [==============================] - 0s 8ms/step - loss: 0.5465 - accuracy: 0.7160 - val_loss: 0.5290 - val_accuracy: 0.7423\n",
            "Epoch 39/300\n",
            "12/12 [==============================] - 0s 11ms/step - loss: 0.5462 - accuracy: 0.7155 - val_loss: 0.5295 - val_accuracy: 0.7412\n",
            "Epoch 40/300\n",
            "12/12 [==============================] - 0s 9ms/step - loss: 0.5462 - accuracy: 0.7164 - val_loss: 0.5280 - val_accuracy: 0.7419\n",
            "Epoch 41/300\n",
            "12/12 [==============================] - 0s 10ms/step - loss: 0.5462 - accuracy: 0.7152 - val_loss: 0.5282 - val_accuracy: 0.7423\n",
            "Epoch 42/300\n",
            "12/12 [==============================] - 0s 14ms/step - loss: 0.5459 - accuracy: 0.7159 - val_loss: 0.5279 - val_accuracy: 0.7419\n",
            "Epoch 43/300\n",
            "12/12 [==============================] - 0s 14ms/step - loss: 0.5458 - accuracy: 0.7162 - val_loss: 0.5289 - val_accuracy: 0.7423\n",
            "Epoch 44/300\n",
            "12/12 [==============================] - 0s 7ms/step - loss: 0.5455 - accuracy: 0.7149 - val_loss: 0.5283 - val_accuracy: 0.7404\n",
            "Epoch 45/300\n",
            "12/12 [==============================] - 0s 7ms/step - loss: 0.5456 - accuracy: 0.7152 - val_loss: 0.5280 - val_accuracy: 0.7419\n",
            "Epoch 46/300\n",
            "12/12 [==============================] - 0s 6ms/step - loss: 0.5452 - accuracy: 0.7160 - val_loss: 0.5298 - val_accuracy: 0.7373\n",
            "Epoch 47/300\n",
            "12/12 [==============================] - 0s 6ms/step - loss: 0.5453 - accuracy: 0.7162 - val_loss: 0.5267 - val_accuracy: 0.7427\n",
            "Epoch 48/300\n",
            "12/12 [==============================] - 0s 6ms/step - loss: 0.5454 - accuracy: 0.7160 - val_loss: 0.5274 - val_accuracy: 0.7423\n",
            "Epoch 49/300\n",
            "12/12 [==============================] - 0s 6ms/step - loss: 0.5453 - accuracy: 0.7168 - val_loss: 0.5276 - val_accuracy: 0.7419\n",
            "Epoch 50/300\n",
            "12/12 [==============================] - 0s 7ms/step - loss: 0.5444 - accuracy: 0.7154 - val_loss: 0.5270 - val_accuracy: 0.7423\n",
            "Epoch 51/300\n",
            "12/12 [==============================] - 0s 6ms/step - loss: 0.5447 - accuracy: 0.7167 - val_loss: 0.5268 - val_accuracy: 0.7423\n",
            "Epoch 52/300\n",
            "12/12 [==============================] - 0s 7ms/step - loss: 0.5453 - accuracy: 0.7165 - val_loss: 0.5269 - val_accuracy: 0.7427\n",
            "Epoch 53/300\n",
            "12/12 [==============================] - 0s 6ms/step - loss: 0.5449 - accuracy: 0.7150 - val_loss: 0.5267 - val_accuracy: 0.7419\n",
            "Epoch 54/300\n",
            "12/12 [==============================] - 0s 7ms/step - loss: 0.5441 - accuracy: 0.7172 - val_loss: 0.5259 - val_accuracy: 0.7416\n",
            "Epoch 55/300\n",
            "12/12 [==============================] - 0s 8ms/step - loss: 0.5444 - accuracy: 0.7167 - val_loss: 0.5272 - val_accuracy: 0.7427\n",
            "Epoch 56/300\n",
            "12/12 [==============================] - 0s 7ms/step - loss: 0.5446 - accuracy: 0.7155 - val_loss: 0.5263 - val_accuracy: 0.7431\n",
            "Epoch 57/300\n",
            "12/12 [==============================] - 0s 7ms/step - loss: 0.5445 - accuracy: 0.7162 - val_loss: 0.5261 - val_accuracy: 0.7427\n",
            "Epoch 58/300\n",
            "12/12 [==============================] - 0s 6ms/step - loss: 0.5442 - accuracy: 0.7157 - val_loss: 0.5269 - val_accuracy: 0.7423\n",
            "Epoch 59/300\n",
            "12/12 [==============================] - 0s 7ms/step - loss: 0.5445 - accuracy: 0.7155 - val_loss: 0.5267 - val_accuracy: 0.7423\n",
            "Epoch 60/300\n",
            "12/12 [==============================] - 0s 7ms/step - loss: 0.5441 - accuracy: 0.7152 - val_loss: 0.5274 - val_accuracy: 0.7427\n",
            "Epoch 61/300\n",
            "12/12 [==============================] - 0s 7ms/step - loss: 0.5436 - accuracy: 0.7162 - val_loss: 0.5293 - val_accuracy: 0.7381\n",
            "Epoch 62/300\n",
            "12/12 [==============================] - 0s 6ms/step - loss: 0.5442 - accuracy: 0.7178 - val_loss: 0.5260 - val_accuracy: 0.7423\n",
            "Epoch 63/300\n",
            "12/12 [==============================] - 0s 6ms/step - loss: 0.5442 - accuracy: 0.7149 - val_loss: 0.5268 - val_accuracy: 0.7389\n",
            "Epoch 64/300\n",
            "12/12 [==============================] - 0s 6ms/step - loss: 0.5438 - accuracy: 0.7164 - val_loss: 0.5262 - val_accuracy: 0.7404\n",
            "Epoch 65/300\n",
            "12/12 [==============================] - 0s 6ms/step - loss: 0.5437 - accuracy: 0.7164 - val_loss: 0.5257 - val_accuracy: 0.7412\n",
            "Epoch 66/300\n",
            "12/12 [==============================] - 0s 7ms/step - loss: 0.5435 - accuracy: 0.7159 - val_loss: 0.5276 - val_accuracy: 0.7370\n",
            "Epoch 67/300\n",
            "12/12 [==============================] - 0s 7ms/step - loss: 0.5439 - accuracy: 0.7159 - val_loss: 0.5257 - val_accuracy: 0.7416\n",
            "Epoch 68/300\n",
            "12/12 [==============================] - 0s 7ms/step - loss: 0.5434 - accuracy: 0.7167 - val_loss: 0.5256 - val_accuracy: 0.7423\n",
            "Epoch 69/300\n",
            "12/12 [==============================] - 0s 7ms/step - loss: 0.5439 - accuracy: 0.7167 - val_loss: 0.5268 - val_accuracy: 0.7389\n",
            "Epoch 70/300\n",
            "12/12 [==============================] - 0s 7ms/step - loss: 0.5432 - accuracy: 0.7165 - val_loss: 0.5253 - val_accuracy: 0.7419\n",
            "Epoch 71/300\n",
            "12/12 [==============================] - 0s 7ms/step - loss: 0.5429 - accuracy: 0.7172 - val_loss: 0.5260 - val_accuracy: 0.7389\n",
            "Epoch 72/300\n",
            "12/12 [==============================] - 0s 7ms/step - loss: 0.5433 - accuracy: 0.7170 - val_loss: 0.5260 - val_accuracy: 0.7400\n",
            "Epoch 73/300\n",
            "12/12 [==============================] - 0s 7ms/step - loss: 0.5434 - accuracy: 0.7170 - val_loss: 0.5256 - val_accuracy: 0.7423\n",
            "Epoch 74/300\n",
            "12/12 [==============================] - 0s 6ms/step - loss: 0.5429 - accuracy: 0.7157 - val_loss: 0.5270 - val_accuracy: 0.7412\n",
            "Epoch 75/300\n",
            "12/12 [==============================] - 0s 6ms/step - loss: 0.5435 - accuracy: 0.7170 - val_loss: 0.5253 - val_accuracy: 0.7396\n",
            "Epoch 76/300\n",
            "12/12 [==============================] - 0s 6ms/step - loss: 0.5428 - accuracy: 0.7173 - val_loss: 0.5256 - val_accuracy: 0.7423\n",
            "Epoch 77/300\n",
            "12/12 [==============================] - 0s 6ms/step - loss: 0.5428 - accuracy: 0.7164 - val_loss: 0.5295 - val_accuracy: 0.7358\n",
            "Epoch 78/300\n",
            "12/12 [==============================] - 0s 7ms/step - loss: 0.5425 - accuracy: 0.7175 - val_loss: 0.5262 - val_accuracy: 0.7419\n",
            "Epoch 79/300\n",
            "12/12 [==============================] - 0s 8ms/step - loss: 0.5432 - accuracy: 0.7152 - val_loss: 0.5259 - val_accuracy: 0.7389\n",
            "Epoch 80/300\n",
            "12/12 [==============================] - 0s 7ms/step - loss: 0.5425 - accuracy: 0.7172 - val_loss: 0.5265 - val_accuracy: 0.7427\n",
            "Epoch 81/300\n",
            "12/12 [==============================] - 0s 7ms/step - loss: 0.5424 - accuracy: 0.7183 - val_loss: 0.5250 - val_accuracy: 0.7416\n",
            "Epoch 82/300\n",
            "12/12 [==============================] - 0s 7ms/step - loss: 0.5426 - accuracy: 0.7180 - val_loss: 0.5279 - val_accuracy: 0.7423\n",
            "Epoch 83/300\n",
            "12/12 [==============================] - 0s 7ms/step - loss: 0.5424 - accuracy: 0.7193 - val_loss: 0.5254 - val_accuracy: 0.7423\n",
            "Epoch 84/300\n",
            "12/12 [==============================] - 0s 6ms/step - loss: 0.5422 - accuracy: 0.7173 - val_loss: 0.5285 - val_accuracy: 0.7377\n",
            "Epoch 85/300\n",
            "12/12 [==============================] - 0s 7ms/step - loss: 0.5427 - accuracy: 0.7182 - val_loss: 0.5249 - val_accuracy: 0.7408\n",
            "Epoch 86/300\n",
            "12/12 [==============================] - 0s 6ms/step - loss: 0.5426 - accuracy: 0.7183 - val_loss: 0.5261 - val_accuracy: 0.7416\n",
            "Epoch 87/300\n",
            "12/12 [==============================] - 0s 7ms/step - loss: 0.5421 - accuracy: 0.7190 - val_loss: 0.5259 - val_accuracy: 0.7416\n",
            "Epoch 88/300\n",
            "12/12 [==============================] - 0s 7ms/step - loss: 0.5422 - accuracy: 0.7210 - val_loss: 0.5255 - val_accuracy: 0.7419\n",
            "Epoch 89/300\n",
            "12/12 [==============================] - 0s 7ms/step - loss: 0.5420 - accuracy: 0.7205 - val_loss: 0.5247 - val_accuracy: 0.7435\n",
            "Epoch 90/300\n",
            "12/12 [==============================] - 0s 7ms/step - loss: 0.5422 - accuracy: 0.7196 - val_loss: 0.5249 - val_accuracy: 0.7423\n",
            "Epoch 91/300\n",
            "12/12 [==============================] - 0s 6ms/step - loss: 0.5420 - accuracy: 0.7180 - val_loss: 0.5253 - val_accuracy: 0.7423\n",
            "Epoch 92/300\n",
            "12/12 [==============================] - 0s 8ms/step - loss: 0.5418 - accuracy: 0.7200 - val_loss: 0.5250 - val_accuracy: 0.7419\n",
            "Epoch 93/300\n",
            "12/12 [==============================] - 0s 8ms/step - loss: 0.5417 - accuracy: 0.7191 - val_loss: 0.5254 - val_accuracy: 0.7412\n",
            "Epoch 94/300\n",
            "12/12 [==============================] - 0s 7ms/step - loss: 0.5419 - accuracy: 0.7185 - val_loss: 0.5263 - val_accuracy: 0.7416\n",
            "Epoch 95/300\n",
            "12/12 [==============================] - 0s 6ms/step - loss: 0.5415 - accuracy: 0.7193 - val_loss: 0.5262 - val_accuracy: 0.7450\n",
            "Epoch 96/300\n",
            "12/12 [==============================] - 0s 7ms/step - loss: 0.5418 - accuracy: 0.7210 - val_loss: 0.5247 - val_accuracy: 0.7431\n",
            "Epoch 97/300\n",
            "12/12 [==============================] - 0s 7ms/step - loss: 0.5415 - accuracy: 0.7203 - val_loss: 0.5254 - val_accuracy: 0.7435\n",
            "Epoch 98/300\n",
            "12/12 [==============================] - 0s 7ms/step - loss: 0.5417 - accuracy: 0.7206 - val_loss: 0.5237 - val_accuracy: 0.7439\n",
            "Epoch 99/300\n",
            "12/12 [==============================] - 0s 7ms/step - loss: 0.5419 - accuracy: 0.7193 - val_loss: 0.5248 - val_accuracy: 0.7439\n",
            "Epoch 100/300\n",
            "12/12 [==============================] - 0s 8ms/step - loss: 0.5421 - accuracy: 0.7200 - val_loss: 0.5246 - val_accuracy: 0.7427\n",
            "Epoch 101/300\n",
            "12/12 [==============================] - 0s 7ms/step - loss: 0.5415 - accuracy: 0.7226 - val_loss: 0.5244 - val_accuracy: 0.7435\n",
            "Epoch 102/300\n",
            "12/12 [==============================] - 0s 7ms/step - loss: 0.5417 - accuracy: 0.7214 - val_loss: 0.5244 - val_accuracy: 0.7427\n",
            "Epoch 103/300\n",
            "12/12 [==============================] - 0s 7ms/step - loss: 0.5408 - accuracy: 0.7205 - val_loss: 0.5249 - val_accuracy: 0.7462\n",
            "Epoch 104/300\n",
            "12/12 [==============================] - 0s 6ms/step - loss: 0.5416 - accuracy: 0.7201 - val_loss: 0.5244 - val_accuracy: 0.7431\n",
            "Epoch 105/300\n",
            "12/12 [==============================] - 0s 7ms/step - loss: 0.5411 - accuracy: 0.7205 - val_loss: 0.5241 - val_accuracy: 0.7435\n",
            "Epoch 106/300\n",
            "12/12 [==============================] - 0s 6ms/step - loss: 0.5411 - accuracy: 0.7228 - val_loss: 0.5237 - val_accuracy: 0.7431\n",
            "Epoch 107/300\n",
            "12/12 [==============================] - 0s 7ms/step - loss: 0.5409 - accuracy: 0.7218 - val_loss: 0.5244 - val_accuracy: 0.7446\n",
            "Epoch 108/300\n",
            "12/12 [==============================] - 0s 8ms/step - loss: 0.5408 - accuracy: 0.7219 - val_loss: 0.5247 - val_accuracy: 0.7450\n",
            "Epoch 109/300\n",
            "12/12 [==============================] - 0s 8ms/step - loss: 0.5409 - accuracy: 0.7216 - val_loss: 0.5231 - val_accuracy: 0.7462\n",
            "Epoch 110/300\n",
            "12/12 [==============================] - 0s 6ms/step - loss: 0.5406 - accuracy: 0.7208 - val_loss: 0.5253 - val_accuracy: 0.7465\n",
            "Epoch 111/300\n",
            "12/12 [==============================] - 0s 7ms/step - loss: 0.5407 - accuracy: 0.7219 - val_loss: 0.5239 - val_accuracy: 0.7454\n",
            "Epoch 112/300\n",
            "12/12 [==============================] - 0s 9ms/step - loss: 0.5405 - accuracy: 0.7214 - val_loss: 0.5252 - val_accuracy: 0.7454\n",
            "Epoch 113/300\n",
            "12/12 [==============================] - 0s 7ms/step - loss: 0.5405 - accuracy: 0.7205 - val_loss: 0.5248 - val_accuracy: 0.7446\n",
            "Epoch 114/300\n",
            "12/12 [==============================] - 0s 6ms/step - loss: 0.5407 - accuracy: 0.7218 - val_loss: 0.5241 - val_accuracy: 0.7458\n",
            "Epoch 115/300\n",
            "12/12 [==============================] - 0s 7ms/step - loss: 0.5399 - accuracy: 0.7221 - val_loss: 0.5230 - val_accuracy: 0.7469\n",
            "Epoch 116/300\n",
            "12/12 [==============================] - 0s 7ms/step - loss: 0.5404 - accuracy: 0.7224 - val_loss: 0.5231 - val_accuracy: 0.7442\n",
            "Epoch 117/300\n",
            "12/12 [==============================] - 0s 6ms/step - loss: 0.5401 - accuracy: 0.7211 - val_loss: 0.5231 - val_accuracy: 0.7462\n",
            "Epoch 118/300\n",
            "12/12 [==============================] - 0s 8ms/step - loss: 0.5408 - accuracy: 0.7210 - val_loss: 0.5251 - val_accuracy: 0.7462\n",
            "Epoch 119/300\n",
            "12/12 [==============================] - 0s 8ms/step - loss: 0.5399 - accuracy: 0.7221 - val_loss: 0.5239 - val_accuracy: 0.7473\n",
            "Epoch 120/300\n",
            "12/12 [==============================] - 0s 7ms/step - loss: 0.5408 - accuracy: 0.7233 - val_loss: 0.5232 - val_accuracy: 0.7473\n",
            "Epoch 121/300\n",
            "12/12 [==============================] - 0s 7ms/step - loss: 0.5397 - accuracy: 0.7224 - val_loss: 0.5231 - val_accuracy: 0.7473\n",
            "Epoch 122/300\n",
            "12/12 [==============================] - 0s 6ms/step - loss: 0.5399 - accuracy: 0.7228 - val_loss: 0.5222 - val_accuracy: 0.7454\n",
            "Epoch 123/300\n",
            "12/12 [==============================] - 0s 7ms/step - loss: 0.5397 - accuracy: 0.7210 - val_loss: 0.5227 - val_accuracy: 0.7454\n",
            "Epoch 124/300\n",
            "12/12 [==============================] - 0s 6ms/step - loss: 0.5399 - accuracy: 0.7229 - val_loss: 0.5239 - val_accuracy: 0.7458\n",
            "Epoch 125/300\n",
            "12/12 [==============================] - 0s 7ms/step - loss: 0.5401 - accuracy: 0.7237 - val_loss: 0.5222 - val_accuracy: 0.7446\n",
            "Epoch 126/300\n",
            "12/12 [==============================] - 0s 7ms/step - loss: 0.5397 - accuracy: 0.7251 - val_loss: 0.5242 - val_accuracy: 0.7465\n",
            "Epoch 127/300\n",
            "12/12 [==============================] - 0s 6ms/step - loss: 0.5393 - accuracy: 0.7219 - val_loss: 0.5263 - val_accuracy: 0.7477\n",
            "Epoch 128/300\n",
            "12/12 [==============================] - 0s 7ms/step - loss: 0.5397 - accuracy: 0.7224 - val_loss: 0.5246 - val_accuracy: 0.7465\n",
            "Epoch 129/300\n",
            "12/12 [==============================] - 0s 7ms/step - loss: 0.5401 - accuracy: 0.7242 - val_loss: 0.5228 - val_accuracy: 0.7465\n",
            "Epoch 130/300\n",
            "12/12 [==============================] - 0s 8ms/step - loss: 0.5393 - accuracy: 0.7236 - val_loss: 0.5222 - val_accuracy: 0.7442\n",
            "Epoch 131/300\n",
            "12/12 [==============================] - 0s 8ms/step - loss: 0.5394 - accuracy: 0.7228 - val_loss: 0.5226 - val_accuracy: 0.7469\n",
            "Epoch 132/300\n",
            "12/12 [==============================] - 0s 9ms/step - loss: 0.5394 - accuracy: 0.7228 - val_loss: 0.5229 - val_accuracy: 0.7469\n",
            "Epoch 133/300\n",
            "12/12 [==============================] - 0s 6ms/step - loss: 0.5396 - accuracy: 0.7239 - val_loss: 0.5226 - val_accuracy: 0.7446\n",
            "Epoch 134/300\n",
            "12/12 [==============================] - 0s 8ms/step - loss: 0.5392 - accuracy: 0.7211 - val_loss: 0.5215 - val_accuracy: 0.7462\n",
            "Epoch 135/300\n",
            "12/12 [==============================] - 0s 8ms/step - loss: 0.5391 - accuracy: 0.7228 - val_loss: 0.5249 - val_accuracy: 0.7469\n",
            "Epoch 136/300\n",
            "12/12 [==============================] - 0s 8ms/step - loss: 0.5392 - accuracy: 0.7224 - val_loss: 0.5220 - val_accuracy: 0.7469\n",
            "Epoch 137/300\n",
            "12/12 [==============================] - 0s 8ms/step - loss: 0.5391 - accuracy: 0.7236 - val_loss: 0.5229 - val_accuracy: 0.7462\n",
            "Epoch 138/300\n",
            "12/12 [==============================] - 0s 7ms/step - loss: 0.5391 - accuracy: 0.7223 - val_loss: 0.5223 - val_accuracy: 0.7469\n",
            "Epoch 139/300\n",
            "12/12 [==============================] - 0s 8ms/step - loss: 0.5389 - accuracy: 0.7241 - val_loss: 0.5220 - val_accuracy: 0.7477\n",
            "Epoch 140/300\n",
            "12/12 [==============================] - 0s 8ms/step - loss: 0.5385 - accuracy: 0.7236 - val_loss: 0.5224 - val_accuracy: 0.7469\n",
            "Epoch 141/300\n",
            "12/12 [==============================] - 0s 8ms/step - loss: 0.5391 - accuracy: 0.7229 - val_loss: 0.5229 - val_accuracy: 0.7465\n",
            "Epoch 142/300\n",
            "12/12 [==============================] - 0s 6ms/step - loss: 0.5387 - accuracy: 0.7237 - val_loss: 0.5221 - val_accuracy: 0.7473\n",
            "Epoch 143/300\n",
            "12/12 [==============================] - 0s 7ms/step - loss: 0.5390 - accuracy: 0.7221 - val_loss: 0.5221 - val_accuracy: 0.7469\n",
            "Epoch 144/300\n",
            "12/12 [==============================] - 0s 6ms/step - loss: 0.5388 - accuracy: 0.7223 - val_loss: 0.5216 - val_accuracy: 0.7469\n",
            "Epoch 145/300\n",
            "12/12 [==============================] - 0s 7ms/step - loss: 0.5385 - accuracy: 0.7241 - val_loss: 0.5235 - val_accuracy: 0.7469\n",
            "Epoch 146/300\n",
            "12/12 [==============================] - 0s 7ms/step - loss: 0.5381 - accuracy: 0.7241 - val_loss: 0.5219 - val_accuracy: 0.7473\n",
            "Epoch 147/300\n",
            "12/12 [==============================] - 0s 6ms/step - loss: 0.5389 - accuracy: 0.7229 - val_loss: 0.5217 - val_accuracy: 0.7469\n",
            "Epoch 148/300\n",
            "12/12 [==============================] - 0s 7ms/step - loss: 0.5379 - accuracy: 0.7242 - val_loss: 0.5213 - val_accuracy: 0.7496\n",
            "Epoch 149/300\n",
            "12/12 [==============================] - 0s 6ms/step - loss: 0.5384 - accuracy: 0.7233 - val_loss: 0.5232 - val_accuracy: 0.7477\n",
            "Epoch 150/300\n",
            "12/12 [==============================] - 0s 7ms/step - loss: 0.5383 - accuracy: 0.7233 - val_loss: 0.5220 - val_accuracy: 0.7473\n",
            "Epoch 151/300\n",
            "12/12 [==============================] - 0s 7ms/step - loss: 0.5381 - accuracy: 0.7236 - val_loss: 0.5237 - val_accuracy: 0.7462\n",
            "Epoch 152/300\n",
            "12/12 [==============================] - 0s 8ms/step - loss: 0.5379 - accuracy: 0.7246 - val_loss: 0.5209 - val_accuracy: 0.7485\n",
            "Epoch 153/300\n",
            "12/12 [==============================] - 0s 8ms/step - loss: 0.5381 - accuracy: 0.7244 - val_loss: 0.5211 - val_accuracy: 0.7473\n",
            "Epoch 154/300\n",
            "12/12 [==============================] - 0s 9ms/step - loss: 0.5378 - accuracy: 0.7234 - val_loss: 0.5211 - val_accuracy: 0.7477\n",
            "Epoch 155/300\n",
            "12/12 [==============================] - 0s 9ms/step - loss: 0.5380 - accuracy: 0.7239 - val_loss: 0.5207 - val_accuracy: 0.7504\n",
            "Epoch 156/300\n",
            "12/12 [==============================] - 0s 10ms/step - loss: 0.5376 - accuracy: 0.7226 - val_loss: 0.5237 - val_accuracy: 0.7462\n",
            "Epoch 157/300\n",
            "12/12 [==============================] - 0s 13ms/step - loss: 0.5375 - accuracy: 0.7242 - val_loss: 0.5215 - val_accuracy: 0.7469\n",
            "Epoch 158/300\n",
            "12/12 [==============================] - 0s 11ms/step - loss: 0.5373 - accuracy: 0.7251 - val_loss: 0.5219 - val_accuracy: 0.7477\n",
            "Epoch 159/300\n",
            "12/12 [==============================] - 0s 10ms/step - loss: 0.5374 - accuracy: 0.7252 - val_loss: 0.5229 - val_accuracy: 0.7477\n",
            "Epoch 160/300\n",
            "12/12 [==============================] - 0s 13ms/step - loss: 0.5371 - accuracy: 0.7259 - val_loss: 0.5209 - val_accuracy: 0.7485\n",
            "Epoch 161/300\n",
            "12/12 [==============================] - 0s 10ms/step - loss: 0.5378 - accuracy: 0.7247 - val_loss: 0.5207 - val_accuracy: 0.7481\n",
            "Epoch 162/300\n",
            "12/12 [==============================] - 0s 9ms/step - loss: 0.5372 - accuracy: 0.7242 - val_loss: 0.5200 - val_accuracy: 0.7492\n",
            "Epoch 163/300\n",
            "12/12 [==============================] - 0s 9ms/step - loss: 0.5372 - accuracy: 0.7256 - val_loss: 0.5217 - val_accuracy: 0.7469\n",
            "Epoch 164/300\n",
            "12/12 [==============================] - 0s 11ms/step - loss: 0.5370 - accuracy: 0.7252 - val_loss: 0.5240 - val_accuracy: 0.7450\n",
            "Epoch 165/300\n",
            "12/12 [==============================] - 0s 10ms/step - loss: 0.5369 - accuracy: 0.7241 - val_loss: 0.5206 - val_accuracy: 0.7485\n",
            "Epoch 166/300\n",
            "12/12 [==============================] - 0s 9ms/step - loss: 0.5367 - accuracy: 0.7241 - val_loss: 0.5231 - val_accuracy: 0.7465\n",
            "Epoch 167/300\n",
            "12/12 [==============================] - 0s 10ms/step - loss: 0.5371 - accuracy: 0.7237 - val_loss: 0.5200 - val_accuracy: 0.7473\n",
            "Epoch 168/300\n",
            "12/12 [==============================] - 0s 9ms/step - loss: 0.5371 - accuracy: 0.7236 - val_loss: 0.5196 - val_accuracy: 0.7473\n",
            "Epoch 169/300\n",
            "12/12 [==============================] - 0s 9ms/step - loss: 0.5368 - accuracy: 0.7247 - val_loss: 0.5201 - val_accuracy: 0.7469\n",
            "Epoch 170/300\n",
            "12/12 [==============================] - 0s 11ms/step - loss: 0.5365 - accuracy: 0.7249 - val_loss: 0.5213 - val_accuracy: 0.7485\n",
            "Epoch 171/300\n",
            "12/12 [==============================] - 0s 8ms/step - loss: 0.5371 - accuracy: 0.7257 - val_loss: 0.5204 - val_accuracy: 0.7485\n",
            "Epoch 172/300\n",
            "12/12 [==============================] - 0s 9ms/step - loss: 0.5364 - accuracy: 0.7256 - val_loss: 0.5191 - val_accuracy: 0.7477\n",
            "Epoch 173/300\n",
            "12/12 [==============================] - 0s 10ms/step - loss: 0.5368 - accuracy: 0.7244 - val_loss: 0.5192 - val_accuracy: 0.7488\n",
            "Epoch 174/300\n",
            "12/12 [==============================] - 0s 9ms/step - loss: 0.5359 - accuracy: 0.7244 - val_loss: 0.5194 - val_accuracy: 0.7496\n",
            "Epoch 175/300\n",
            "12/12 [==============================] - 0s 8ms/step - loss: 0.5364 - accuracy: 0.7244 - val_loss: 0.5198 - val_accuracy: 0.7496\n",
            "Epoch 176/300\n",
            "12/12 [==============================] - 0s 9ms/step - loss: 0.5359 - accuracy: 0.7246 - val_loss: 0.5249 - val_accuracy: 0.7389\n",
            "Epoch 177/300\n",
            "12/12 [==============================] - 0s 9ms/step - loss: 0.5363 - accuracy: 0.7252 - val_loss: 0.5197 - val_accuracy: 0.7481\n",
            "Epoch 178/300\n",
            "12/12 [==============================] - 0s 10ms/step - loss: 0.5359 - accuracy: 0.7249 - val_loss: 0.5189 - val_accuracy: 0.7492\n",
            "Epoch 179/300\n",
            "12/12 [==============================] - 0s 10ms/step - loss: 0.5364 - accuracy: 0.7249 - val_loss: 0.5191 - val_accuracy: 0.7496\n",
            "Epoch 180/300\n",
            "12/12 [==============================] - 0s 8ms/step - loss: 0.5356 - accuracy: 0.7256 - val_loss: 0.5219 - val_accuracy: 0.7481\n",
            "Epoch 181/300\n",
            "12/12 [==============================] - 0s 8ms/step - loss: 0.5356 - accuracy: 0.7244 - val_loss: 0.5187 - val_accuracy: 0.7496\n",
            "Epoch 182/300\n",
            "12/12 [==============================] - 0s 9ms/step - loss: 0.5355 - accuracy: 0.7254 - val_loss: 0.5193 - val_accuracy: 0.7488\n",
            "Epoch 183/300\n",
            "12/12 [==============================] - 0s 9ms/step - loss: 0.5354 - accuracy: 0.7252 - val_loss: 0.5185 - val_accuracy: 0.7496\n",
            "Epoch 184/300\n",
            "12/12 [==============================] - 0s 9ms/step - loss: 0.5357 - accuracy: 0.7239 - val_loss: 0.5183 - val_accuracy: 0.7504\n",
            "Epoch 185/300\n",
            "12/12 [==============================] - 0s 9ms/step - loss: 0.5352 - accuracy: 0.7249 - val_loss: 0.5177 - val_accuracy: 0.7492\n",
            "Epoch 186/300\n",
            "12/12 [==============================] - 0s 8ms/step - loss: 0.5351 - accuracy: 0.7241 - val_loss: 0.5178 - val_accuracy: 0.7496\n",
            "Epoch 187/300\n",
            "12/12 [==============================] - 0s 9ms/step - loss: 0.5350 - accuracy: 0.7249 - val_loss: 0.5180 - val_accuracy: 0.7500\n",
            "Epoch 188/300\n",
            "12/12 [==============================] - 0s 9ms/step - loss: 0.5347 - accuracy: 0.7252 - val_loss: 0.5181 - val_accuracy: 0.7504\n",
            "Epoch 189/300\n",
            "12/12 [==============================] - 0s 9ms/step - loss: 0.5354 - accuracy: 0.7244 - val_loss: 0.5172 - val_accuracy: 0.7500\n",
            "Epoch 190/300\n",
            "12/12 [==============================] - 0s 9ms/step - loss: 0.5346 - accuracy: 0.7244 - val_loss: 0.5203 - val_accuracy: 0.7458\n",
            "Epoch 191/300\n",
            "12/12 [==============================] - 0s 13ms/step - loss: 0.5350 - accuracy: 0.7249 - val_loss: 0.5173 - val_accuracy: 0.7500\n",
            "Epoch 192/300\n",
            "12/12 [==============================] - 0s 11ms/step - loss: 0.5348 - accuracy: 0.7259 - val_loss: 0.5202 - val_accuracy: 0.7473\n",
            "Epoch 193/300\n",
            "12/12 [==============================] - 0s 10ms/step - loss: 0.5345 - accuracy: 0.7246 - val_loss: 0.5179 - val_accuracy: 0.7500\n",
            "Epoch 194/300\n",
            "12/12 [==============================] - 0s 11ms/step - loss: 0.5346 - accuracy: 0.7233 - val_loss: 0.5167 - val_accuracy: 0.7500\n",
            "Epoch 195/300\n",
            "12/12 [==============================] - 0s 10ms/step - loss: 0.5349 - accuracy: 0.7249 - val_loss: 0.5172 - val_accuracy: 0.7500\n",
            "Epoch 196/300\n",
            "12/12 [==============================] - 0s 8ms/step - loss: 0.5343 - accuracy: 0.7257 - val_loss: 0.5189 - val_accuracy: 0.7473\n",
            "Epoch 197/300\n",
            "12/12 [==============================] - 0s 7ms/step - loss: 0.5342 - accuracy: 0.7260 - val_loss: 0.5197 - val_accuracy: 0.7477\n",
            "Epoch 198/300\n",
            "12/12 [==============================] - 0s 6ms/step - loss: 0.5348 - accuracy: 0.7252 - val_loss: 0.5168 - val_accuracy: 0.7504\n",
            "Epoch 199/300\n",
            "12/12 [==============================] - 0s 7ms/step - loss: 0.5338 - accuracy: 0.7252 - val_loss: 0.5161 - val_accuracy: 0.7519\n",
            "Epoch 200/300\n",
            "12/12 [==============================] - 0s 6ms/step - loss: 0.5340 - accuracy: 0.7239 - val_loss: 0.5170 - val_accuracy: 0.7508\n",
            "Epoch 201/300\n",
            "12/12 [==============================] - 0s 7ms/step - loss: 0.5338 - accuracy: 0.7247 - val_loss: 0.5157 - val_accuracy: 0.7523\n",
            "Epoch 202/300\n",
            "12/12 [==============================] - 0s 7ms/step - loss: 0.5339 - accuracy: 0.7244 - val_loss: 0.5167 - val_accuracy: 0.7531\n",
            "Epoch 203/300\n",
            "12/12 [==============================] - 0s 6ms/step - loss: 0.5340 - accuracy: 0.7251 - val_loss: 0.5165 - val_accuracy: 0.7523\n",
            "Epoch 204/300\n",
            "12/12 [==============================] - 0s 7ms/step - loss: 0.5338 - accuracy: 0.7251 - val_loss: 0.5171 - val_accuracy: 0.7519\n",
            "Epoch 205/300\n",
            "12/12 [==============================] - 0s 7ms/step - loss: 0.5333 - accuracy: 0.7251 - val_loss: 0.5171 - val_accuracy: 0.7504\n",
            "Epoch 206/300\n",
            "12/12 [==============================] - 0s 8ms/step - loss: 0.5336 - accuracy: 0.7247 - val_loss: 0.5164 - val_accuracy: 0.7523\n",
            "Epoch 207/300\n",
            "12/12 [==============================] - 0s 7ms/step - loss: 0.5332 - accuracy: 0.7259 - val_loss: 0.5176 - val_accuracy: 0.7496\n",
            "Epoch 208/300\n",
            "12/12 [==============================] - 0s 7ms/step - loss: 0.5334 - accuracy: 0.7262 - val_loss: 0.5181 - val_accuracy: 0.7485\n",
            "Epoch 209/300\n",
            "12/12 [==============================] - 0s 7ms/step - loss: 0.5335 - accuracy: 0.7254 - val_loss: 0.5158 - val_accuracy: 0.7531\n",
            "Epoch 210/300\n",
            "12/12 [==============================] - 0s 6ms/step - loss: 0.5331 - accuracy: 0.7264 - val_loss: 0.5182 - val_accuracy: 0.7504\n",
            "Epoch 211/300\n",
            "12/12 [==============================] - 0s 8ms/step - loss: 0.5330 - accuracy: 0.7251 - val_loss: 0.5154 - val_accuracy: 0.7538\n",
            "Epoch 212/300\n",
            "12/12 [==============================] - 0s 7ms/step - loss: 0.5326 - accuracy: 0.7260 - val_loss: 0.5152 - val_accuracy: 0.7531\n",
            "Epoch 213/300\n",
            "12/12 [==============================] - 0s 10ms/step - loss: 0.5329 - accuracy: 0.7260 - val_loss: 0.5189 - val_accuracy: 0.7477\n",
            "Epoch 214/300\n",
            "12/12 [==============================] - 0s 7ms/step - loss: 0.5328 - accuracy: 0.7259 - val_loss: 0.5175 - val_accuracy: 0.7492\n",
            "Epoch 215/300\n",
            "12/12 [==============================] - 0s 8ms/step - loss: 0.5326 - accuracy: 0.7241 - val_loss: 0.5165 - val_accuracy: 0.7512\n",
            "Epoch 216/300\n",
            "12/12 [==============================] - 0s 7ms/step - loss: 0.5328 - accuracy: 0.7262 - val_loss: 0.5171 - val_accuracy: 0.7500\n",
            "Epoch 217/300\n",
            "12/12 [==============================] - 0s 7ms/step - loss: 0.5324 - accuracy: 0.7259 - val_loss: 0.5144 - val_accuracy: 0.7535\n",
            "Epoch 218/300\n",
            "12/12 [==============================] - 0s 7ms/step - loss: 0.5324 - accuracy: 0.7260 - val_loss: 0.5153 - val_accuracy: 0.7508\n",
            "Epoch 219/300\n",
            "12/12 [==============================] - 0s 7ms/step - loss: 0.5323 - accuracy: 0.7259 - val_loss: 0.5160 - val_accuracy: 0.7512\n",
            "Epoch 220/300\n",
            "12/12 [==============================] - 0s 7ms/step - loss: 0.5322 - accuracy: 0.7260 - val_loss: 0.5153 - val_accuracy: 0.7523\n",
            "Epoch 221/300\n",
            "12/12 [==============================] - 0s 7ms/step - loss: 0.5321 - accuracy: 0.7264 - val_loss: 0.5158 - val_accuracy: 0.7496\n",
            "Epoch 222/300\n",
            "12/12 [==============================] - 0s 6ms/step - loss: 0.5318 - accuracy: 0.7260 - val_loss: 0.5198 - val_accuracy: 0.7450\n",
            "Epoch 223/300\n",
            "12/12 [==============================] - 0s 8ms/step - loss: 0.5320 - accuracy: 0.7267 - val_loss: 0.5179 - val_accuracy: 0.7481\n",
            "Epoch 224/300\n",
            "12/12 [==============================] - 0s 7ms/step - loss: 0.5324 - accuracy: 0.7259 - val_loss: 0.5151 - val_accuracy: 0.7508\n",
            "Epoch 225/300\n",
            "12/12 [==============================] - 0s 8ms/step - loss: 0.5317 - accuracy: 0.7260 - val_loss: 0.5164 - val_accuracy: 0.7500\n",
            "Epoch 226/300\n",
            "12/12 [==============================] - 0s 7ms/step - loss: 0.5320 - accuracy: 0.7267 - val_loss: 0.5177 - val_accuracy: 0.7492\n",
            "Epoch 227/300\n",
            "12/12 [==============================] - 0s 7ms/step - loss: 0.5320 - accuracy: 0.7264 - val_loss: 0.5162 - val_accuracy: 0.7488\n",
            "Epoch 228/300\n",
            "12/12 [==============================] - 0s 7ms/step - loss: 0.5318 - accuracy: 0.7251 - val_loss: 0.5146 - val_accuracy: 0.7512\n",
            "Epoch 229/300\n",
            "12/12 [==============================] - 0s 8ms/step - loss: 0.5320 - accuracy: 0.7257 - val_loss: 0.5145 - val_accuracy: 0.7523\n",
            "Epoch 230/300\n",
            "12/12 [==============================] - 0s 7ms/step - loss: 0.5315 - accuracy: 0.7260 - val_loss: 0.5148 - val_accuracy: 0.7500\n",
            "Epoch 231/300\n",
            "12/12 [==============================] - 0s 8ms/step - loss: 0.5315 - accuracy: 0.7260 - val_loss: 0.5146 - val_accuracy: 0.7508\n",
            "Epoch 232/300\n",
            "12/12 [==============================] - 0s 7ms/step - loss: 0.5315 - accuracy: 0.7259 - val_loss: 0.5157 - val_accuracy: 0.7504\n",
            "Epoch 233/300\n",
            "12/12 [==============================] - 0s 10ms/step - loss: 0.5313 - accuracy: 0.7259 - val_loss: 0.5141 - val_accuracy: 0.7527\n",
            "Epoch 234/300\n",
            "12/12 [==============================] - 0s 7ms/step - loss: 0.5311 - accuracy: 0.7262 - val_loss: 0.5155 - val_accuracy: 0.7508\n",
            "Epoch 235/300\n",
            "12/12 [==============================] - 0s 7ms/step - loss: 0.5320 - accuracy: 0.7254 - val_loss: 0.5141 - val_accuracy: 0.7527\n",
            "Epoch 236/300\n",
            "12/12 [==============================] - 0s 6ms/step - loss: 0.5313 - accuracy: 0.7270 - val_loss: 0.5145 - val_accuracy: 0.7512\n",
            "Epoch 237/300\n",
            "12/12 [==============================] - 0s 7ms/step - loss: 0.5314 - accuracy: 0.7259 - val_loss: 0.5154 - val_accuracy: 0.7508\n",
            "Epoch 238/300\n",
            "12/12 [==============================] - 0s 6ms/step - loss: 0.5310 - accuracy: 0.7256 - val_loss: 0.5138 - val_accuracy: 0.7531\n",
            "Epoch 239/300\n",
            "12/12 [==============================] - 0s 7ms/step - loss: 0.5315 - accuracy: 0.7260 - val_loss: 0.5146 - val_accuracy: 0.7512\n",
            "Epoch 240/300\n",
            "12/12 [==============================] - 0s 7ms/step - loss: 0.5314 - accuracy: 0.7247 - val_loss: 0.5150 - val_accuracy: 0.7500\n",
            "Epoch 241/300\n",
            "12/12 [==============================] - 0s 8ms/step - loss: 0.5311 - accuracy: 0.7264 - val_loss: 0.5152 - val_accuracy: 0.7512\n",
            "Epoch 242/300\n",
            "12/12 [==============================] - 0s 7ms/step - loss: 0.5312 - accuracy: 0.7262 - val_loss: 0.5143 - val_accuracy: 0.7523\n",
            "Epoch 243/300\n",
            "12/12 [==============================] - 0s 7ms/step - loss: 0.5312 - accuracy: 0.7259 - val_loss: 0.5143 - val_accuracy: 0.7531\n",
            "Epoch 244/300\n",
            "12/12 [==============================] - 0s 7ms/step - loss: 0.5308 - accuracy: 0.7254 - val_loss: 0.5141 - val_accuracy: 0.7515\n",
            "Epoch 245/300\n",
            "12/12 [==============================] - 0s 8ms/step - loss: 0.5308 - accuracy: 0.7262 - val_loss: 0.5134 - val_accuracy: 0.7531\n",
            "Epoch 246/300\n",
            "12/12 [==============================] - 0s 8ms/step - loss: 0.5311 - accuracy: 0.7264 - val_loss: 0.5148 - val_accuracy: 0.7519\n",
            "Epoch 247/300\n",
            "12/12 [==============================] - 0s 8ms/step - loss: 0.5309 - accuracy: 0.7275 - val_loss: 0.5159 - val_accuracy: 0.7496\n",
            "Epoch 248/300\n",
            "12/12 [==============================] - 0s 6ms/step - loss: 0.5308 - accuracy: 0.7267 - val_loss: 0.5137 - val_accuracy: 0.7523\n",
            "Epoch 249/300\n",
            "12/12 [==============================] - 0s 7ms/step - loss: 0.5310 - accuracy: 0.7259 - val_loss: 0.5138 - val_accuracy: 0.7527\n",
            "Epoch 250/300\n",
            "12/12 [==============================] - 0s 7ms/step - loss: 0.5307 - accuracy: 0.7269 - val_loss: 0.5142 - val_accuracy: 0.7504\n",
            "Epoch 251/300\n",
            "12/12 [==============================] - 0s 7ms/step - loss: 0.5305 - accuracy: 0.7252 - val_loss: 0.5135 - val_accuracy: 0.7527\n",
            "Epoch 252/300\n",
            "12/12 [==============================] - 0s 7ms/step - loss: 0.5310 - accuracy: 0.7260 - val_loss: 0.5146 - val_accuracy: 0.7523\n",
            "Epoch 253/300\n",
            "12/12 [==============================] - 0s 9ms/step - loss: 0.5302 - accuracy: 0.7265 - val_loss: 0.5141 - val_accuracy: 0.7500\n",
            "Epoch 254/300\n",
            "12/12 [==============================] - 0s 10ms/step - loss: 0.5308 - accuracy: 0.7262 - val_loss: 0.5160 - val_accuracy: 0.7488\n",
            "Epoch 255/300\n",
            "12/12 [==============================] - 0s 7ms/step - loss: 0.5306 - accuracy: 0.7265 - val_loss: 0.5153 - val_accuracy: 0.7512\n",
            "Epoch 256/300\n",
            "12/12 [==============================] - 0s 8ms/step - loss: 0.5308 - accuracy: 0.7264 - val_loss: 0.5139 - val_accuracy: 0.7519\n",
            "Epoch 257/300\n",
            "12/12 [==============================] - 0s 13ms/step - loss: 0.5307 - accuracy: 0.7257 - val_loss: 0.5139 - val_accuracy: 0.7519\n",
            "Epoch 258/300\n",
            "12/12 [==============================] - 0s 17ms/step - loss: 0.5305 - accuracy: 0.7267 - val_loss: 0.5134 - val_accuracy: 0.7512\n",
            "Epoch 259/300\n",
            "12/12 [==============================] - 0s 15ms/step - loss: 0.5305 - accuracy: 0.7262 - val_loss: 0.5127 - val_accuracy: 0.7538\n",
            "Epoch 260/300\n",
            "12/12 [==============================] - 0s 13ms/step - loss: 0.5303 - accuracy: 0.7264 - val_loss: 0.5127 - val_accuracy: 0.7535\n",
            "Epoch 261/300\n",
            "12/12 [==============================] - 0s 9ms/step - loss: 0.5306 - accuracy: 0.7254 - val_loss: 0.5139 - val_accuracy: 0.7515\n",
            "Epoch 262/300\n",
            "12/12 [==============================] - 0s 16ms/step - loss: 0.5303 - accuracy: 0.7265 - val_loss: 0.5150 - val_accuracy: 0.7519\n",
            "Epoch 263/300\n",
            "12/12 [==============================] - 0s 7ms/step - loss: 0.5301 - accuracy: 0.7259 - val_loss: 0.5154 - val_accuracy: 0.7500\n",
            "Epoch 264/300\n",
            "12/12 [==============================] - 0s 13ms/step - loss: 0.5308 - accuracy: 0.7264 - val_loss: 0.5137 - val_accuracy: 0.7523\n",
            "Epoch 265/300\n",
            "12/12 [==============================] - 0s 6ms/step - loss: 0.5304 - accuracy: 0.7272 - val_loss: 0.5129 - val_accuracy: 0.7546\n",
            "Epoch 266/300\n",
            "12/12 [==============================] - 0s 7ms/step - loss: 0.5305 - accuracy: 0.7264 - val_loss: 0.5147 - val_accuracy: 0.7508\n",
            "Epoch 267/300\n",
            "12/12 [==============================] - 0s 14ms/step - loss: 0.5303 - accuracy: 0.7265 - val_loss: 0.5159 - val_accuracy: 0.7458\n",
            "Epoch 268/300\n",
            "12/12 [==============================] - 0s 20ms/step - loss: 0.5303 - accuracy: 0.7265 - val_loss: 0.5177 - val_accuracy: 0.7485\n",
            "Epoch 269/300\n",
            "12/12 [==============================] - 0s 19ms/step - loss: 0.5304 - accuracy: 0.7265 - val_loss: 0.5142 - val_accuracy: 0.7515\n",
            "Epoch 270/300\n",
            "12/12 [==============================] - 0s 17ms/step - loss: 0.5306 - accuracy: 0.7270 - val_loss: 0.5142 - val_accuracy: 0.7500\n",
            "Epoch 271/300\n",
            "12/12 [==============================] - 0s 17ms/step - loss: 0.5302 - accuracy: 0.7259 - val_loss: 0.5131 - val_accuracy: 0.7531\n",
            "Epoch 272/300\n",
            "12/12 [==============================] - 0s 16ms/step - loss: 0.5301 - accuracy: 0.7269 - val_loss: 0.5150 - val_accuracy: 0.7500\n",
            "Epoch 273/300\n",
            "12/12 [==============================] - 0s 12ms/step - loss: 0.5300 - accuracy: 0.7269 - val_loss: 0.5156 - val_accuracy: 0.7496\n",
            "Epoch 274/300\n",
            "12/12 [==============================] - 0s 13ms/step - loss: 0.5303 - accuracy: 0.7264 - val_loss: 0.5138 - val_accuracy: 0.7519\n",
            "Epoch 275/300\n",
            "12/12 [==============================] - 0s 12ms/step - loss: 0.5301 - accuracy: 0.7264 - val_loss: 0.5134 - val_accuracy: 0.7527\n",
            "Epoch 276/300\n",
            "12/12 [==============================] - 0s 15ms/step - loss: 0.5301 - accuracy: 0.7262 - val_loss: 0.5129 - val_accuracy: 0.7523\n",
            "Epoch 277/300\n",
            "12/12 [==============================] - 0s 9ms/step - loss: 0.5300 - accuracy: 0.7269 - val_loss: 0.5143 - val_accuracy: 0.7500\n",
            "Epoch 278/300\n",
            "12/12 [==============================] - 0s 15ms/step - loss: 0.5299 - accuracy: 0.7274 - val_loss: 0.5137 - val_accuracy: 0.7531\n",
            "Epoch 279/300\n",
            "12/12 [==============================] - 0s 13ms/step - loss: 0.5298 - accuracy: 0.7260 - val_loss: 0.5156 - val_accuracy: 0.7500\n",
            "Epoch 280/300\n",
            "12/12 [==============================] - 0s 8ms/step - loss: 0.5300 - accuracy: 0.7260 - val_loss: 0.5139 - val_accuracy: 0.7531\n",
            "Epoch 281/300\n",
            "12/12 [==============================] - 0s 9ms/step - loss: 0.5301 - accuracy: 0.7267 - val_loss: 0.5139 - val_accuracy: 0.7527\n",
            "Epoch 282/300\n",
            "12/12 [==============================] - 0s 7ms/step - loss: 0.5295 - accuracy: 0.7260 - val_loss: 0.5148 - val_accuracy: 0.7515\n",
            "Epoch 283/300\n",
            "12/12 [==============================] - 0s 11ms/step - loss: 0.5300 - accuracy: 0.7272 - val_loss: 0.5149 - val_accuracy: 0.7508\n",
            "Epoch 284/300\n",
            "12/12 [==============================] - 0s 10ms/step - loss: 0.5293 - accuracy: 0.7267 - val_loss: 0.5154 - val_accuracy: 0.7515\n",
            "Epoch 285/300\n",
            "12/12 [==============================] - 0s 9ms/step - loss: 0.5297 - accuracy: 0.7269 - val_loss: 0.5161 - val_accuracy: 0.7508\n",
            "Epoch 286/300\n",
            "12/12 [==============================] - 0s 11ms/step - loss: 0.5296 - accuracy: 0.7270 - val_loss: 0.5135 - val_accuracy: 0.7531\n",
            "Epoch 287/300\n",
            "12/12 [==============================] - 0s 10ms/step - loss: 0.5296 - accuracy: 0.7260 - val_loss: 0.5138 - val_accuracy: 0.7519\n",
            "Epoch 288/300\n",
            "12/12 [==============================] - 0s 9ms/step - loss: 0.5289 - accuracy: 0.7270 - val_loss: 0.5155 - val_accuracy: 0.7512\n",
            "Epoch 289/300\n",
            "12/12 [==============================] - 0s 12ms/step - loss: 0.5300 - accuracy: 0.7259 - val_loss: 0.5131 - val_accuracy: 0.7519\n",
            "Epoch 290/300\n",
            "12/12 [==============================] - 0s 11ms/step - loss: 0.5295 - accuracy: 0.7256 - val_loss: 0.5116 - val_accuracy: 0.7538\n",
            "Epoch 291/300\n",
            "12/12 [==============================] - 0s 9ms/step - loss: 0.5292 - accuracy: 0.7275 - val_loss: 0.5118 - val_accuracy: 0.7546\n",
            "Epoch 292/300\n",
            "12/12 [==============================] - 0s 9ms/step - loss: 0.5292 - accuracy: 0.7259 - val_loss: 0.5120 - val_accuracy: 0.7542\n",
            "Epoch 293/300\n",
            "12/12 [==============================] - 0s 10ms/step - loss: 0.5294 - accuracy: 0.7274 - val_loss: 0.5120 - val_accuracy: 0.7538\n",
            "Epoch 294/300\n",
            "12/12 [==============================] - 0s 9ms/step - loss: 0.5292 - accuracy: 0.7277 - val_loss: 0.5125 - val_accuracy: 0.7527\n",
            "Epoch 295/300\n",
            "12/12 [==============================] - 0s 10ms/step - loss: 0.5296 - accuracy: 0.7267 - val_loss: 0.5131 - val_accuracy: 0.7519\n",
            "Epoch 296/300\n",
            "12/12 [==============================] - 0s 9ms/step - loss: 0.5292 - accuracy: 0.7272 - val_loss: 0.5141 - val_accuracy: 0.7512\n",
            "Epoch 297/300\n",
            "12/12 [==============================] - 0s 11ms/step - loss: 0.5289 - accuracy: 0.7257 - val_loss: 0.5120 - val_accuracy: 0.7542\n",
            "Epoch 298/300\n",
            "12/12 [==============================] - 0s 9ms/step - loss: 0.5296 - accuracy: 0.7265 - val_loss: 0.5129 - val_accuracy: 0.7527\n",
            "Epoch 299/300\n",
            "12/12 [==============================] - 0s 9ms/step - loss: 0.5294 - accuracy: 0.7272 - val_loss: 0.5126 - val_accuracy: 0.7535\n",
            "Epoch 300/300\n",
            "12/12 [==============================] - 0s 11ms/step - loss: 0.5290 - accuracy: 0.7270 - val_loss: 0.5133 - val_accuracy: 0.7535\n"
          ]
        }
      ]
    },
    {
      "cell_type": "code",
      "source": [
        "import matplotlib.pyplot as plt\n",
        "\n",
        "def drawHistory(hist):\n",
        "  fig = plt.figure(figsize=(10,7))    # 10x7 크기의 figure 생성\n",
        "  loss_ax = plt.gca()                 # figure의 기본 축 가져오기\n",
        "  acc_ax = loss_ax.twinx()            # 축을 1개 더 추가\n",
        "\n",
        "  # 손실 변화 양상을 그래프로 표시\n",
        "  loss_ax.plot(hist.history['loss'], 'y', label='train loss')\n",
        "  loss_ax.plot(hist.history['val_loss'], 'r', label='val_loss')\n",
        "  loss_ax.set_xlabel('epoch')\n",
        "  loss_ax.set_ylabel('loss')\n",
        "  loss_ax.legend(loc='lower left')\n",
        "\n",
        "  # 정확도 변화 양상을 그래프로 표시\n",
        "  acc_ax.plot(hist.history['accuracy'], 'b', label='train acc')\n",
        "  acc_ax.plot(hist.history['val_accuracy'], 'g', label='val acc')\n",
        "  acc_ax.set_ylabel('accuracy')\n",
        "  acc_ax.legend(loc='upper left')\n",
        "\n",
        "  plt.show()"
      ],
      "metadata": {
        "id": "r3DfK25MjLLb"
      },
      "execution_count": null,
      "outputs": []
    },
    {
      "cell_type": "code",
      "source": [
        "drawHistory(hist_1)"
      ],
      "metadata": {
        "colab": {
          "base_uri": "https://localhost:8080/",
          "height": 830
        },
        "id": "KL8rsTUaUduR",
        "outputId": "a9b9257c-b56c-4aa9-bac1-e61194c67ff8"
      },
      "execution_count": null,
      "outputs": [
        {
          "output_type": "display_data",
          "data": {
            "text/plain": [
              "<Figure size 1500x1000 with 2 Axes>"
            ],
            "image/png": "[encoded data removed]"
          },
          "metadata": {}
        }
      ]
    },
    {
      "cell_type": "code",
      "source": [
        "o = model.predict(data_test_np)\n",
        "print(o)"
      ],
      "metadata": {
        "colab": {
          "base_uri": "https://localhost:8080/"
        },
        "id": "PuWXxW5ZjQL3",
        "outputId": "56f7ec90-5503-4699-eac0-0eb7cd6fbac8"
      },
      "execution_count": null,
      "outputs": [
        {
          "output_type": "stream",
          "name": "stdout",
          "text": [
            "134/134 [==============================] - 1s 2ms/step\n",
            "[[0.3873515  0.61264855]\n",
            " [0.66158295 0.3384171 ]\n",
            " [0.00712854 0.9928714 ]\n",
            " ...\n",
            " [0.03025519 0.96974486]\n",
            " [0.6137451  0.38625485]\n",
            " [0.3495493  0.6504507 ]]\n"
          ]
        }
      ]
    },
    {
      "cell_type": "code",
      "source": [
        "o = np.argmax(o, -1)"
      ],
      "metadata": {
        "id": "f-xHUCKtoNUt"
      },
      "execution_count": null,
      "outputs": []
    },
    {
      "cell_type": "code",
      "source": [
        "o"
      ],
      "metadata": {
        "colab": {
          "base_uri": "https://localhost:8080/"
        },
        "id": "-MzEARmFj1Qn",
        "outputId": "c4e82863-887e-4fa7-b684-08b4c28b9b09"
      },
      "execution_count": null,
      "outputs": [
        {
          "output_type": "execute_result",
          "data": {
            "text/plain": [
              "array([1, 0, 1, ..., 1, 0, 1])"
            ]
          },
          "metadata": {},
          "execution_count": 76
        }
      ]
    },
    {
      "cell_type": "code",
      "source": [
        "o = np.array(o, dtype=bool)"
      ],
      "metadata": {
        "id": "m2ndphUny82j"
      },
      "execution_count": null,
      "outputs": []
    },
    {
      "cell_type": "code",
      "source": [
        "o"
      ],
      "metadata": {
        "colab": {
          "base_uri": "https://localhost:8080/"
        },
        "id": "Fh0DLB5ty90R",
        "outputId": "9a375797-cdd4-4d65-cdfd-ec69fada0a22"
      },
      "execution_count": null,
      "outputs": [
        {
          "output_type": "execute_result",
          "data": {
            "text/plain": [
              "array([ True, False,  True, ...,  True, False,  True])"
            ]
          },
          "metadata": {},
          "execution_count": 78
        }
      ]
    },
    {
      "cell_type": "code",
      "source": [
        "PassergerId = np.array(data_test['PassengerId'])"
      ],
      "metadata": {
        "id": "luzanlEszB0A"
      },
      "execution_count": null,
      "outputs": []
    },
    {
      "cell_type": "code",
      "source": [
        "df_solution = pd.DataFrame({'PassengerId' : PassergerId, 'Transported' : o})\n",
        "df_solution.to_csv('test_predict_2.csv', index=False)\n",
        "\n",
        "df_solution.head()"
      ],
      "metadata": {
        "colab": {
          "base_uri": "https://localhost:8080/",
          "height": 206
        },
        "id": "nLT_9k2nzCdU",
        "outputId": "c4810e98-7c13-4c6c-fa68-920a3299272e"
      },
      "execution_count": null,
      "outputs": [
        {
          "output_type": "execute_result",
          "data": {
            "text/plain": [
              "  PassengerId  Transported\n",
              "0     0013_01         True\n",
              "1     0018_01        False\n",
              "2     0019_01         True\n",
              "3     0021_01        False\n",
              "4     0023_01        False"
            ],
            "text/html": [
              "\n",
              "  <div id=\"df-13a75edb-ff23-4a38-8e2c-2b11de8f76bf\">\n",
              "    <div class=\"colab-df-container\">\n",
              "      <div>\n",
              "<style scoped>\n",
              "    .dataframe tbody tr th:only-of-type {\n",
              "        vertical-align: middle;\n",
              "    }\n",
              "\n",
              "    .dataframe tbody tr th {\n",
              "        vertical-align: top;\n",
              "    }\n",
              "\n",
              "    .dataframe thead th {\n",
              "        text-align: right;\n",
              "    }\n",
              "</style>\n",
              "<table border=\"1\" class=\"dataframe\">\n",
              "  <thead>\n",
              "    <tr style=\"text-align: right;\">\n",
              "      <th></th>\n",
              "      <th>PassengerId</th>\n",
              "      <th>Transported</th>\n",
              "    </tr>\n",
              "  </thead>\n",
              "  <tbody>\n",
              "    <tr>\n",
              "      <th>0</th>\n",
              "      <td>0013_01</td>\n",
              "      <td>True</td>\n",
              "    </tr>\n",
              "    <tr>\n",
              "      <th>1</th>\n",
              "      <td>0018_01</td>\n",
              "      <td>False</td>\n",
              "    </tr>\n",
              "    <tr>\n",
              "      <th>2</th>\n",
              "      <td>0019_01</td>\n",
              "      <td>True</td>\n",
              "    </tr>\n",
              "    <tr>\n",
              "      <th>3</th>\n",
              "      <td>0021_01</td>\n",
              "      <td>False</td>\n",
              "    </tr>\n",
              "    <tr>\n",
              "      <th>4</th>\n",
              "      <td>0023_01</td>\n",
              "      <td>False</td>\n",
              "    </tr>\n",
              "  </tbody>\n",
              "</table>\n",
              "</div>\n",
              "      <button class=\"colab-df-convert\" onclick=\"convertToInteractive('df-13a75edb-ff23-4a38-8e2c-2b11de8f76bf')\"\n",
              "              title=\"Convert this dataframe to an interactive table.\"\n",
              "              style=\"display:none;\">\n",
              "        \n",
              "  <svg xmlns=\"http://www.w3.org/2000/svg\" height=\"24px\"viewBox=\"0 0 24 24\"\n",
              "       width=\"24px\">\n",
              "    <path d=\"M0 0h24v24H0V0z\" fill=\"none\"/>\n",
              "    <path d=\"M18.56 5.44l.94 2.06.94-2.06 2.06-.94-2.06-.94-.94-2.06-.94 2.06-2.06.94zm-11 1L8.5 8.5l.94-2.06 2.06-.94-2.06-.94L8.5 2.5l-.94 2.06-2.06.94zm10 10l.94 2.06.94-2.06 2.06-.94-2.06-.94-.94-2.06-.94 2.06-2.06.94z\"/><path d=\"M17.41 7.96l-1.37-1.37c-.4-.4-.92-.59-1.43-.59-.52 0-1.04.2-1.43.59L10.3 9.45l-7.72 7.72c-.78.78-.78 2.05 0 2.83L4 21.41c.39.39.9.59 1.41.59.51 0 1.02-.2 1.41-.59l7.78-7.78 2.81-2.81c.8-.78.8-2.07 0-2.86zM5.41 20L4 18.59l7.72-7.72 1.47 1.35L5.41 20z\"/>\n",
              "  </svg>\n",
              "      </button>\n",
              "      \n",
              "  <style>\n",
              "    .colab-df-container {\n",
              "      display:flex;\n",
              "      flex-wrap:wrap;\n",
              "      gap: 12px;\n",
              "    }\n",
              "\n",
              "    .colab-df-convert {\n",
              "      background-color: #E8F0FE;\n",
              "      border: none;\n",
              "      border-radius: 50%;\n",
              "      cursor: pointer;\n",
              "      display: none;\n",
              "      fill: #1967D2;\n",
              "      height: 32px;\n",
              "      padding: 0 0 0 0;\n",
              "      width: 32px;\n",
              "    }\n",
              "\n",
              "    .colab-df-convert:hover {\n",
              "      background-color: #E2EBFA;\n",
              "      box-shadow: 0px 1px 2px rgba(60, 64, 67, 0.3), 0px 1px 3px 1px rgba(60, 64, 67, 0.15);\n",
              "      fill: #174EA6;\n",
              "    }\n",
              "\n",
              "    [theme=dark] .colab-df-convert {\n",
              "      background-color: #3B4455;\n",
              "      fill: #D2E3FC;\n",
              "    }\n",
              "\n",
              "    [theme=dark] .colab-df-convert:hover {\n",
              "      background-color: #434B5C;\n",
              "      box-shadow: 0px 1px 3px 1px rgba(0, 0, 0, 0.15);\n",
              "      filter: drop-shadow(0px 1px 2px rgba(0, 0, 0, 0.3));\n",
              "      fill: #FFFFFF;\n",
              "    }\n",
              "  </style>\n",
              "\n",
              "      <script>\n",
              "        const buttonEl =\n",
              "          document.querySelector('#df-13a75edb-ff23-4a38-8e2c-2b11de8f76bf button.colab-df-convert');\n",
              "        buttonEl.style.display =\n",
              "          google.colab.kernel.accessAllowed ? 'block' : 'none';\n",
              "\n",
              "        async function convertToInteractive(key) {\n",
              "          const element = document.querySelector('#df-13a75edb-ff23-4a38-8e2c-2b11de8f76bf');\n",
              "          const dataTable =\n",
              "            await google.colab.kernel.invokeFunction('convertToInteractive',\n",
              "                                                     [key], {});\n",
              "          if (!dataTable) return;\n",
              "\n",
              "          const docLinkHtml = 'Like what you see? Visit the ' +\n",
              "            '<a target=\"_blank\" href=https://colab.research.google.com/notebooks/data_table.ipynb>data table notebook</a>'\n",
              "            + ' to learn more about interactive tables.';\n",
              "          element.innerHTML = '';\n",
              "          dataTable['output_type'] = 'display_data';\n",
              "          await google.colab.output.renderOutput(dataTable, element);\n",
              "          const docLink = document.createElement('div');\n",
              "          docLink.innerHTML = docLinkHtml;\n",
              "          element.appendChild(docLink);\n",
              "        }\n",
              "      </script>\n",
              "    </div>\n",
              "  </div>\n",
              "  "
            ]
          },
          "metadata": {},
          "execution_count": 81
        }
      ]
    },
    {
      "cell_type": "code",
      "source": [
        "!kaggle competitions submit -c spaceship-titanic -f test_predict_2.csv -m \"0415_submission\""
      ],
      "metadata": {
        "colab": {
          "base_uri": "https://localhost:8080/"
        },
        "id": "gUW2P0z2HyOq",
        "outputId": "6492364b-16a6-48a3-85be-bd8aaff676f5"
      },
      "execution_count": null,
      "outputs": [
        {
          "output_type": "stream",
          "name": "stdout",
          "text": [
            "100% 56.9k/56.9k [00:00<00:00, 241kB/s]\n",
            "Successfully submitted to Spaceship Titanic"
          ]
        }
      ]
    },
    {
      "cell_type": "code",
      "source": [],
      "metadata": {
        "id": "jzQcAxO7zmY3"
      },
      "execution_count": null,
      "outputs": []
    }
  ]
}