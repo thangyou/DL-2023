{
  "nbformat": 4,
  "nbformat_minor": 0,
  "metadata": {
    "colab": {
      "provenance": [],
      "authorship_tag": "ABX9TyO3Is1cI84viIsKYxIA70vi"
    },
    "kernelspec": {
      "name": "python3",
      "display_name": "Python 3"
    },
    "language_info": {
      "name": "python"
    }
  },
  "cells": [
    {
      "cell_type": "markdown",
      "source": [
        "**Chapter** 4. 구글 코랩과 데이터 분석의 기초"
      ],
      "metadata": {
        "id": "kdtC74hRposP"
      }
    },
    {
      "cell_type": "markdown",
      "source": [
        "# 4.1 리눅스 시스템 기초"
      ],
      "metadata": {
        "id": "c6gLdeE_YDSM"
      }
    },
    {
      "cell_type": "code",
      "execution_count": null,
      "metadata": {
        "colab": {
          "base_uri": "https://localhost:8080/"
        },
        "id": "lXQul20eJiuQ",
        "outputId": "f598af5a-2d12-46aa-f12f-f64484ed1bf2"
      },
      "outputs": [
        {
          "output_type": "stream",
          "name": "stdout",
          "text": [
            "Ubuntu 20.04.5 LTS\n"
          ]
        }
      ],
      "source": [
        "# 현재 코랩에서 사용 중인 운영체제 확인\n",
        "!cat /etc/issue.net"
      ]
    },
    {
      "cell_type": "code",
      "source": [
        "pwd"
      ],
      "metadata": {
        "colab": {
          "base_uri": "https://localhost:8080/",
          "height": 35
        },
        "id": "6DsaXJmoX_wg",
        "outputId": "49b23f84-9dbe-444c-8c18-2eb06bb4e112"
      },
      "execution_count": null,
      "outputs": [
        {
          "output_type": "execute_result",
          "data": {
            "text/plain": [
              "'/content'"
            ],
            "application/vnd.google.colaboratory.intrinsic+json": {
              "type": "string"
            }
          },
          "metadata": {},
          "execution_count": 1
        }
      ]
    },
    {
      "cell_type": "code",
      "source": [
        "ls"
      ],
      "metadata": {
        "colab": {
          "base_uri": "https://localhost:8080/"
        },
        "id": "xDtDpXe8ZccE",
        "outputId": "497bf345-1475-418a-aa8f-9dd513828ef6"
      },
      "execution_count": null,
      "outputs": [
        {
          "output_type": "stream",
          "name": "stdout",
          "text": [
            "\u001b[0m\u001b[01;36mbin\u001b[0m@      \u001b[01;34mdev\u001b[0m/   \u001b[01;36mlib32\u001b[0m@   \u001b[01;34mmnt\u001b[0m/                      \u001b[01;34mpython-apt\u001b[0m/  \u001b[01;34msrv\u001b[0m/    \u001b[01;34musr\u001b[0m/\n",
            "\u001b[01;34mboot\u001b[0m/     \u001b[01;34metc\u001b[0m/   \u001b[01;36mlib64\u001b[0m@   NGC-DL-CONTAINER-LICENSE  \u001b[01;34mroot\u001b[0m/        \u001b[01;34msys\u001b[0m/    \u001b[01;34mvar\u001b[0m/\n",
            "\u001b[01;34mcontent\u001b[0m/  \u001b[01;34mhome\u001b[0m/  \u001b[01;36mlibx32\u001b[0m@  \u001b[01;34mopt\u001b[0m/                      \u001b[01;34mrun\u001b[0m/         \u001b[30;42mtmp\u001b[0m/\n",
            "\u001b[01;34mdatalab\u001b[0m/  \u001b[01;36mlib\u001b[0m@   \u001b[01;34mmedia\u001b[0m/   \u001b[01;34mproc\u001b[0m/                     \u001b[01;36msbin\u001b[0m@        \u001b[01;34mtools\u001b[0m/\n"
          ]
        }
      ]
    },
    {
      "cell_type": "code",
      "source": [
        "cd sample_data"
      ],
      "metadata": {
        "colab": {
          "base_uri": "https://localhost:8080/"
        },
        "id": "y6a50RGuZfFw",
        "outputId": "08281efd-40e3-4462-b563-8bfb297c2652"
      },
      "execution_count": null,
      "outputs": [
        {
          "output_type": "stream",
          "name": "stdout",
          "text": [
            "/content/sample_data\n"
          ]
        }
      ]
    },
    {
      "cell_type": "code",
      "source": [
        "cd .."
      ],
      "metadata": {
        "colab": {
          "base_uri": "https://localhost:8080/"
        },
        "id": "8x6E-KooZ96L",
        "outputId": "2ab7b796-d118-407c-8035-fef76cedf7ea"
      },
      "execution_count": null,
      "outputs": [
        {
          "output_type": "stream",
          "name": "stdout",
          "text": [
            "/\n"
          ]
        }
      ]
    },
    {
      "cell_type": "code",
      "source": [
        "cd /content/sample_data"
      ],
      "metadata": {
        "colab": {
          "base_uri": "https://localhost:8080/"
        },
        "id": "Mp5eM6zmaKmR",
        "outputId": "77eb8e7f-480d-4145-a2f2-9f544ecd58bb"
      },
      "execution_count": null,
      "outputs": [
        {
          "output_type": "stream",
          "name": "stdout",
          "text": [
            "/content/sample_data\n"
          ]
        }
      ]
    },
    {
      "cell_type": "code",
      "source": [
        "ls"
      ],
      "metadata": {
        "colab": {
          "base_uri": "https://localhost:8080/"
        },
        "id": "RMtkdcnKah-v",
        "outputId": "19290a98-f4e3-4b46-e96d-1916881863bf"
      },
      "execution_count": null,
      "outputs": [
        {
          "output_type": "stream",
          "name": "stdout",
          "text": [
            "\u001b[0m\u001b[01;32manscombe.json\u001b[0m*                mnist_test.csv\n",
            "california_housing_test.csv   mnist_train_small.csv\n",
            "california_housing_train.csv  \u001b[01;32mREADME.md\u001b[0m*\n"
          ]
        }
      ]
    },
    {
      "cell_type": "code",
      "source": [
        "ls -al"
      ],
      "metadata": {
        "colab": {
          "base_uri": "https://localhost:8080/"
        },
        "id": "F7CI1Zoraj0v",
        "outputId": "862c6378-19e6-4214-f43c-7cb9ec981d3a"
      },
      "execution_count": null,
      "outputs": [
        {
          "output_type": "stream",
          "name": "stdout",
          "text": [
            "total 55512\n",
            "drwxr-xr-x 1 root root     4096 Mar 22 13:39 \u001b[0m\u001b[01;34m.\u001b[0m/\n",
            "drwxr-xr-x 1 root root     4096 Mar 24 02:14 \u001b[01;34m..\u001b[0m/\n",
            "-rwxr-xr-x 1 root root     1697 Jan  1  2000 \u001b[01;32manscombe.json\u001b[0m*\n",
            "-rw-r--r-- 1 root root   301141 Mar 22 13:39 california_housing_test.csv\n",
            "-rw-r--r-- 1 root root  1706430 Mar 22 13:39 california_housing_train.csv\n",
            "-rw-r--r-- 1 root root 18289443 Mar 22 13:39 mnist_test.csv\n",
            "-rw-r--r-- 1 root root 36523880 Mar 22 13:39 mnist_train_small.csv\n",
            "-rwxr-xr-x 1 root root      930 Jan  1  2000 \u001b[01;32mREADME.md\u001b[0m*\n"
          ]
        }
      ]
    },
    {
      "cell_type": "code",
      "source": [
        "! pip install kaggle"
      ],
      "metadata": {
        "colab": {
          "base_uri": "https://localhost:8080/"
        },
        "id": "EoFqvNkQa3xC",
        "outputId": "e8468d07-b8d9-4242-86d2-38942a7b7f07"
      },
      "execution_count": null,
      "outputs": [
        {
          "output_type": "stream",
          "name": "stdout",
          "text": [
            "Looking in indexes: https://pypi.org/simple, https://us-python.pkg.dev/colab-wheels/public/simple/\n",
            "Requirement already satisfied: kaggle in /usr/local/lib/python3.9/dist-packages (1.5.13)\n",
            "Requirement already satisfied: tqdm in /usr/local/lib/python3.9/dist-packages (from kaggle) (4.65.0)\n",
            "Requirement already satisfied: urllib3 in /usr/local/lib/python3.9/dist-packages (from kaggle) (1.26.15)\n",
            "Requirement already satisfied: requests in /usr/local/lib/python3.9/dist-packages (from kaggle) (2.27.1)\n",
            "Requirement already satisfied: python-dateutil in /usr/local/lib/python3.9/dist-packages (from kaggle) (2.8.2)\n",
            "Requirement already satisfied: python-slugify in /usr/local/lib/python3.9/dist-packages (from kaggle) (8.0.1)\n",
            "Requirement already satisfied: certifi in /usr/local/lib/python3.9/dist-packages (from kaggle) (2022.12.7)\n",
            "Requirement already satisfied: six>=1.10 in /usr/local/lib/python3.9/dist-packages (from kaggle) (1.16.0)\n",
            "Requirement already satisfied: text-unidecode>=1.3 in /usr/local/lib/python3.9/dist-packages (from python-slugify->kaggle) (1.3)\n",
            "Requirement already satisfied: charset-normalizer~=2.0.0 in /usr/local/lib/python3.9/dist-packages (from requests->kaggle) (2.0.12)\n",
            "Requirement already satisfied: idna<4,>=2.5 in /usr/local/lib/python3.9/dist-packages (from requests->kaggle) (3.4)\n"
          ]
        }
      ]
    },
    {
      "cell_type": "code",
      "source": [
        "from google.colab import files\n",
        "files.upload()"
      ],
      "metadata": {
        "id": "whOPTdrxeB85"
      },
      "execution_count": null,
      "outputs": []
    },
    {
      "cell_type": "code",
      "source": [
        "ls"
      ],
      "metadata": {
        "colab": {
          "base_uri": "https://localhost:8080/"
        },
        "id": "qd5_vK2meVw8",
        "outputId": "f813327f-4c8d-468a-afd6-85baa1c56f89"
      },
      "execution_count": null,
      "outputs": [
        {
          "output_type": "stream",
          "name": "stdout",
          "text": [
            "\u001b[0m\u001b[01;32manscombe.json\u001b[0m*                mnist_test.csv\n",
            "california_housing_test.csv   mnist_train_small.csv\n",
            "california_housing_train.csv  \u001b[01;32mREADME.md\u001b[0m*\n"
          ]
        }
      ]
    },
    {
      "cell_type": "code",
      "source": [
        "!mkdir ~/.kaggle\n",
        "!mv kaggle.json ~/.kaggle/\n",
        "!chmod 600 ~/.kaggle/*"
      ],
      "metadata": {
        "id": "jzbHvdfweerg",
        "colab": {
          "base_uri": "https://localhost:8080/"
        },
        "outputId": "14a966cc-44f3-406d-b6c4-99ddf91c1c8a"
      },
      "execution_count": null,
      "outputs": [
        {
          "output_type": "stream",
          "name": "stdout",
          "text": [
            "mkdir: cannot create directory ‘/root/.kaggle’: File exists\n"
          ]
        }
      ]
    },
    {
      "cell_type": "code",
      "source": [
        "cd ~/.kaggle"
      ],
      "metadata": {
        "colab": {
          "base_uri": "https://localhost:8080/"
        },
        "id": "PMoPFLIFe6i4",
        "outputId": "cf1d4e34-d5cc-49d9-8fce-8509f0a181e3"
      },
      "execution_count": null,
      "outputs": [
        {
          "output_type": "stream",
          "name": "stdout",
          "text": [
            "/root/.kaggle\n"
          ]
        }
      ]
    },
    {
      "cell_type": "code",
      "source": [
        "ls -al"
      ],
      "metadata": {
        "colab": {
          "base_uri": "https://localhost:8080/"
        },
        "id": "ZauVDRLDfBta",
        "outputId": "c4b85c01-40f1-4f53-d102-90f23ccd0d6f"
      },
      "execution_count": null,
      "outputs": [
        {
          "output_type": "stream",
          "name": "stdout",
          "text": [
            "total 16\n",
            "drwxr-xr-x 2 root root 4096 Mar 24 02:38 \u001b[0m\u001b[01;34m.\u001b[0m/\n",
            "drwx------ 1 root root 4096 Mar 24 02:38 \u001b[01;34m..\u001b[0m/\n",
            "-rw------- 1 root root   67 Mar 24 02:36 kaggle.json\n"
          ]
        }
      ]
    },
    {
      "cell_type": "code",
      "source": [
        "!kaggle competitions list"
      ],
      "metadata": {
        "colab": {
          "base_uri": "https://localhost:8080/"
        },
        "id": "MMj_hMp3e27T",
        "outputId": "55e1948b-92c2-49cc-ced8-e05b92a36888"
      },
      "execution_count": null,
      "outputs": [
        {
          "output_type": "stream",
          "name": "stdout",
          "text": [
            "ref                                                                                deadline             category             reward  teamCount  userHasEntered  \n",
            "---------------------------------------------------------------------------------  -------------------  ---------------  ----------  ---------  --------------  \n",
            "https://www.kaggle.com/competitions/vesuvius-challenge-ink-detection               2023-06-14 23:59:00  Featured         $1,000,000        132           False  \n",
            "https://www.kaggle.com/competitions/asl-signs                                      2023-05-01 23:59:00  Research           $100,000        674           False  \n",
            "https://www.kaggle.com/competitions/tlvmc-parkinsons-freezing-gait-prediction      2023-06-08 23:59:00  Research           $100,000        207           False  \n",
            "https://www.kaggle.com/competitions/amp-parkinsons-disease-progression-prediction  2023-05-18 23:59:00  Featured            $60,000        774           False  \n",
            "https://www.kaggle.com/competitions/lux-ai-season-2                                2023-04-24 23:59:00  Featured            $55,000        502           False  \n",
            "https://www.kaggle.com/competitions/predict-student-performance-from-game-play     2023-06-07 23:59:00  Featured            $55,000       1057           False  \n",
            "https://www.kaggle.com/competitions/icecube-neutrinos-in-deep-ice                  2023-04-19 23:59:00  Research            $50,000        624           False  \n",
            "https://www.kaggle.com/competitions/stable-diffusion-image-to-prompts              2023-05-15 23:59:00  Featured            $50,000        711           False  \n",
            "https://www.kaggle.com/competitions/birdclef-2023                                  2023-05-24 23:59:00  Research            $50,000        466           False  \n",
            "https://www.kaggle.com/competitions/benetech-making-graphs-accessible              2023-06-12 23:59:00  Featured            $50,000          6           False  \n",
            "https://www.kaggle.com/competitions/playground-series-s3e11                        2023-04-03 23:59:00  Playground             Swag        387           False  \n",
            "https://www.kaggle.com/competitions/fathomnet-out-of-sample-detection              2023-05-23 23:59:00  Research          Knowledge          0           False  \n",
            "https://www.kaggle.com/competitions/titanic                                        2030-01-01 00:00:00  Getting Started   Knowledge      14949            True  \n",
            "https://www.kaggle.com/competitions/house-prices-advanced-regression-techniques    2030-01-01 00:00:00  Getting Started   Knowledge       4276            True  \n",
            "https://www.kaggle.com/competitions/spaceship-titanic                              2030-01-01 00:00:00  Getting Started   Knowledge       2356           False  \n",
            "https://www.kaggle.com/competitions/digit-recognizer                               2030-01-01 00:00:00  Getting Started   Knowledge       1384           False  \n",
            "https://www.kaggle.com/competitions/nlp-getting-started                            2030-01-01 00:00:00  Getting Started   Knowledge       1074            True  \n",
            "https://www.kaggle.com/competitions/connectx                                       2030-01-01 00:00:00  Getting Started   Knowledge        251           False  \n",
            "https://www.kaggle.com/competitions/tpu-getting-started                            2030-06-03 23:59:00  Getting Started   Knowledge        147           False  \n",
            "https://www.kaggle.com/competitions/store-sales-time-series-forecasting            2030-06-30 23:59:00  Getting Started   Knowledge        637           False  \n"
          ]
        }
      ]
    },
    {
      "cell_type": "code",
      "source": [
        "pwd"
      ],
      "metadata": {
        "colab": {
          "base_uri": "https://localhost:8080/",
          "height": 35
        },
        "id": "LNB_NKMtfCZe",
        "outputId": "5e212dda-f0f9-463c-ad19-c15462bd200f"
      },
      "execution_count": null,
      "outputs": [
        {
          "output_type": "execute_result",
          "data": {
            "text/plain": [
              "'/root/.kaggle'"
            ],
            "application/vnd.google.colaboratory.intrinsic+json": {
              "type": "string"
            }
          },
          "metadata": {},
          "execution_count": 31
        }
      ]
    },
    {
      "cell_type": "code",
      "source": [
        "cd .."
      ],
      "metadata": {
        "colab": {
          "base_uri": "https://localhost:8080/"
        },
        "id": "zY2upyOXf7xV",
        "outputId": "6185cbd4-a8d0-4fa7-8356-9446dd26fe8a"
      },
      "execution_count": null,
      "outputs": [
        {
          "output_type": "stream",
          "name": "stdout",
          "text": [
            "/root\n"
          ]
        }
      ]
    },
    {
      "cell_type": "code",
      "source": [
        "ls"
      ],
      "metadata": {
        "id": "OXOs9YI4f8YP"
      },
      "execution_count": null,
      "outputs": []
    },
    {
      "cell_type": "code",
      "source": [
        "ls -al"
      ],
      "metadata": {
        "colab": {
          "base_uri": "https://localhost:8080/"
        },
        "id": "fm6PRv1Hf9n4",
        "outputId": "c385dbfe-5a1a-404d-a967-0c70f618c7fc"
      },
      "execution_count": null,
      "outputs": [
        {
          "output_type": "stream",
          "name": "stdout",
          "text": [
            "total 68\n",
            "drwx------ 1 root root 4096 Mar 24 02:38 \u001b[0m\u001b[01;34m.\u001b[0m/\n",
            "drwxr-xr-x 1 root root 4096 Mar 24 02:08 \u001b[01;34m..\u001b[0m/\n",
            "-r-xr-xr-x 1 root root 1169 Jan  1  2000 \u001b[01;32m.bashrc\u001b[0m*\n",
            "drwxr-xr-x 1 root root 4096 Mar 22 13:51 \u001b[01;34m.cache\u001b[0m/\n",
            "drwx------ 4 root root 4096 Mar 22 13:50 \u001b[01;34m.config\u001b[0m/\n",
            "drwxr-xr-x 1 root root 4096 Mar 22 13:50 \u001b[01;34m.ipython\u001b[0m/\n",
            "drwx------ 2 root root 4096 Mar 22 13:50 \u001b[01;34m.jupyter\u001b[0m/\n",
            "drwxr-xr-x 2 root root 4096 Mar 24 02:38 \u001b[01;34m.kaggle\u001b[0m/\n",
            "drwxr-xr-x 2 root root 4096 Mar 22 13:48 \u001b[01;34m.keras\u001b[0m/\n",
            "drwxr-xr-x 1 root root 4096 Mar 22 13:50 \u001b[01;34m.local\u001b[0m/\n",
            "drwxr-xr-x 4 root root 4096 Mar 22 13:50 \u001b[01;34m.npm\u001b[0m/\n",
            "-rw-r--r-- 1 root root  161 Dec  5  2019 .profile\n",
            "-r-xr-xr-x 1 root root  254 Jan  1  2000 \u001b[01;32m.tmux.conf\u001b[0m*\n",
            "-rw-r--r-- 1 root root  165 Mar 22 13:50 .wget-hsts\n"
          ]
        }
      ]
    }
  ]
}