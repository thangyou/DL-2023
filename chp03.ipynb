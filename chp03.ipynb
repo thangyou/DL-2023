{
  "nbformat": 4,
  "nbformat_minor": 0,
  "metadata": {
    "colab": {
      "provenance": [],
      "collapsed_sections": [
        "t1UwyCDSNAD7",
        "xZ-J_XvF_VDw",
        "3YoVkF5KJXA7",
        "e2xauILSI3F8"
      ],
      "authorship_tag": "ABX9TyN7X+wVcK5aLWNUi4R2ZWTZ"
    },
    "kernelspec": {
      "name": "python3",
      "display_name": "Python 3"
    },
    "language_info": {
      "name": "python"
    }
  },
  "cells": [
    {
      "cell_type": "markdown",
      "source": [
        "**Chapter** 3. 파이썬과 코딩의 기초"
      ],
      "metadata": {
        "id": "ddZ2OPbV_hCo"
      }
    },
    {
      "cell_type": "markdown",
      "source": [
        "# 3.1 계산식, 라이브러리와 함수 ~ 3.4 변수\n"
      ],
      "metadata": {
        "id": "t1UwyCDSNAD7"
      }
    },
    {
      "cell_type": "code",
      "source": [
        "'''\n",
        "실행 단축키\n",
        "1. ctrl + Enter\n",
        "2. shift + Enter -> 셀 바꿈!\n",
        "'''"
      ],
      "metadata": {
        "id": "_FXlPZA9IcVc"
      },
      "execution_count": null,
      "outputs": []
    },
    {
      "cell_type": "code",
      "execution_count": null,
      "metadata": {
        "colab": {
          "base_uri": "https://localhost:8080/"
        },
        "id": "VzX-3PYdGg6I",
        "outputId": "0d2165f9-b9d2-4d7d-8288-f9ae56064b62"
      },
      "outputs": [
        {
          "output_type": "execute_result",
          "data": {
            "text/plain": [
              "12"
            ]
          },
          "metadata": {},
          "execution_count": 2
        }
      ],
      "source": [
        "3*4"
      ]
    },
    {
      "cell_type": "code",
      "source": [
        "24//7 # 정수 나눗셈"
      ],
      "metadata": {
        "colab": {
          "base_uri": "https://localhost:8080/"
        },
        "id": "S-PDglZ2ILtK",
        "outputId": "7754bb88-5667-4ff1-ceac-de47a47b9c78"
      },
      "execution_count": null,
      "outputs": [
        {
          "output_type": "execute_result",
          "data": {
            "text/plain": [
              "3"
            ]
          },
          "metadata": {},
          "execution_count": 4
        }
      ]
    },
    {
      "cell_type": "code",
      "source": [
        "25%7 # 나머지"
      ],
      "metadata": {
        "colab": {
          "base_uri": "https://localhost:8080/"
        },
        "id": "LAOn2DCCIRJk",
        "outputId": "194d6cbe-3f46-4a5a-c3ba-db8f05352fd2"
      },
      "execution_count": null,
      "outputs": [
        {
          "output_type": "execute_result",
          "data": {
            "text/plain": [
              "4"
            ]
          },
          "metadata": {},
          "execution_count": 5
        }
      ]
    },
    {
      "cell_type": "code",
      "source": [
        "2**3"
      ],
      "metadata": {
        "colab": {
          "base_uri": "https://localhost:8080/"
        },
        "id": "_taOZcKBIglP",
        "outputId": "1bfbea77-37ac-49ae-9aa3-177abd35ebaa"
      },
      "execution_count": null,
      "outputs": [
        {
          "output_type": "execute_result",
          "data": {
            "text/plain": [
              "8"
            ]
          },
          "metadata": {},
          "execution_count": 6
        }
      ]
    },
    {
      "cell_type": "code",
      "source": [
        "import numpy as np\n",
        "np.cos(3.141592)"
      ],
      "metadata": {
        "colab": {
          "base_uri": "https://localhost:8080/"
        },
        "id": "gnKeuHkpI0vM",
        "outputId": "ff5c8d5d-6ee6-411a-9f95-1fec1e5cd90d"
      },
      "execution_count": null,
      "outputs": [
        {
          "output_type": "execute_result",
          "data": {
            "text/plain": [
              "-0.9999999999997864"
            ]
          },
          "metadata": {},
          "execution_count": 14
        }
      ]
    },
    {
      "cell_type": "code",
      "source": [
        "!pip install numpy\n",
        "# ! = Linux 명령어 사용하라!"
      ],
      "metadata": {
        "colab": {
          "base_uri": "https://localhost:8080/"
        },
        "id": "3qMPXygrI-1I",
        "outputId": "6bf4cf25-118b-4f4e-930a-d9dfa740bbf9"
      },
      "execution_count": null,
      "outputs": [
        {
          "output_type": "stream",
          "name": "stdout",
          "text": [
            "Looking in indexes: https://pypi.org/simple, https://us-python.pkg.dev/colab-wheels/public/simple/\n",
            "Requirement already satisfied: numpy in /usr/local/lib/python3.9/dist-packages (1.22.4)\n"
          ]
        }
      ]
    },
    {
      "cell_type": "code",
      "source": [
        "# from 라이브러리명 import 함수명\n",
        "from numpy import cos"
      ],
      "metadata": {
        "id": "xLO2bBtuLgAF"
      },
      "execution_count": null,
      "outputs": []
    },
    {
      "cell_type": "code",
      "source": [
        "# 연습문제 4 (p.108)\n",
        "# (1)\n",
        "np.sin(np.pi/3)+np.cos(np.pi/3)"
      ],
      "metadata": {
        "colab": {
          "base_uri": "https://localhost:8080/"
        },
        "id": "PrrQMaimP2Lf",
        "outputId": "048a541a-f622-40b9-c04f-bc71385eb231"
      },
      "execution_count": null,
      "outputs": [
        {
          "output_type": "execute_result",
          "data": {
            "text/plain": [
              "1.3660254037844388"
            ]
          },
          "metadata": {},
          "execution_count": 37
        }
      ]
    },
    {
      "cell_type": "code",
      "source": [
        "a = np.cos(3.14)\n",
        "print(a)"
      ],
      "metadata": {
        "colab": {
          "base_uri": "https://localhost:8080/"
        },
        "id": "sVQE1Ph6QnGL",
        "outputId": "34b0084d-d6e3-41c3-c1be-3cb92d40a26c"
      },
      "execution_count": null,
      "outputs": [
        {
          "output_type": "stream",
          "name": "stdout",
          "text": [
            "-0.9999987317275395\n"
          ]
        }
      ]
    },
    {
      "cell_type": "code",
      "source": [
        "a = 3 # int\n",
        "a = 3.4 # float\n",
        "type(a)\n",
        "# print(a)"
      ],
      "metadata": {
        "colab": {
          "base_uri": "https://localhost:8080/"
        },
        "id": "Lgy5jFhUSjo8",
        "outputId": "ca4f3640-7135-4791-b732-0e887a12470b"
      },
      "execution_count": null,
      "outputs": [
        {
          "output_type": "execute_result",
          "data": {
            "text/plain": [
              "float"
            ]
          },
          "metadata": {},
          "execution_count": 26
        }
      ]
    },
    {
      "cell_type": "code",
      "source": [
        "a = 3==4\n",
        "print(a)"
      ],
      "metadata": {
        "colab": {
          "base_uri": "https://localhost:8080/"
        },
        "id": "q2ZxSQCoSse_",
        "outputId": "4342045b-f8a1-488e-9508-2d816b490047"
      },
      "execution_count": null,
      "outputs": [
        {
          "output_type": "stream",
          "name": "stdout",
          "text": [
            "False\n"
          ]
        }
      ]
    },
    {
      "cell_type": "code",
      "source": [
        "# 연습문제 3 (p119)\n",
        "radius = 4.53\n",
        "np.pi * (radius**2) * 30 / 360"
      ],
      "metadata": {
        "colab": {
          "base_uri": "https://localhost:8080/"
        },
        "id": "v8xQvxcZToET",
        "outputId": "3f79acb1-ade6-40df-a67e-2da2de091d53"
      },
      "execution_count": null,
      "outputs": [
        {
          "output_type": "execute_result",
          "data": {
            "text/plain": [
              "5.372359057087565"
            ]
          },
          "metadata": {},
          "execution_count": 33
        }
      ]
    },
    {
      "cell_type": "code",
      "source": [
        "# 연습문제 6\n",
        "100 * (1 + 0.019) * (1 + 0.019)"
      ],
      "metadata": {
        "colab": {
          "base_uri": "https://localhost:8080/"
        },
        "id": "Tf8UyEwAVF-9",
        "outputId": "586c3bb8-cc03-49fb-c513-bebcc5db14d6"
      },
      "execution_count": null,
      "outputs": [
        {
          "output_type": "execute_result",
          "data": {
            "text/plain": [
              "103.83609999999999"
            ]
          },
          "metadata": {},
          "execution_count": 36
        }
      ]
    },
    {
      "cell_type": "code",
      "source": [
        "# 연습문제 1\n",
        "total = 1200 * 36\n",
        "print(total)"
      ],
      "metadata": {
        "colab": {
          "base_uri": "https://localhost:8080/"
        },
        "id": "1gy1dFQeVfCA",
        "outputId": "593ee859-d06c-4e69-a00e-973950024eaa"
      },
      "execution_count": null,
      "outputs": [
        {
          "output_type": "stream",
          "name": "stdout",
          "text": [
            "43200\n"
          ]
        }
      ]
    },
    {
      "cell_type": "code",
      "source": [
        "# 연습문제 2\n",
        "r = 4.5312\n",
        "size_area = np.pi * (r**2)\n",
        "print(size_area)"
      ],
      "metadata": {
        "colab": {
          "base_uri": "https://localhost:8080/"
        },
        "id": "EM6ASH8QWHZe",
        "outputId": "6a596cb2-b210-4d3b-ecac-c51ae47af4f0"
      },
      "execution_count": null,
      "outputs": [
        {
          "output_type": "stream",
          "name": "stdout",
          "text": [
            "64.50246860427404\n"
          ]
        }
      ]
    },
    {
      "cell_type": "code",
      "source": [
        "# np.round(3.567, 1) # 3.6\n",
        "np.round(1, 3.567)"
      ],
      "metadata": {
        "colab": {
          "base_uri": "https://localhost:8080/",
          "height": 342
        },
        "id": "4P_xAXNNWZPT",
        "outputId": "fc50749c-9340-4b2f-9587-0879b994b2a8"
      },
      "execution_count": null,
      "outputs": [
        {
          "output_type": "error",
          "ename": "TypeError",
          "evalue": "ignored",
          "traceback": [
            "\u001b[0;31m---------------------------------------------------------------------------\u001b[0m",
            "\u001b[0;31mTypeError\u001b[0m                                 Traceback (most recent call last)",
            "\u001b[0;32m<ipython-input-40-a7110e4bc418>\u001b[0m in \u001b[0;36m<module>\u001b[0;34m\u001b[0m\n\u001b[1;32m      1\u001b[0m \u001b[0;31m# np.round(3.567,1)/\u001b[0m\u001b[0;34m\u001b[0m\u001b[0;34m\u001b[0m\u001b[0m\n\u001b[0;32m----> 2\u001b[0;31m \u001b[0mnp\u001b[0m\u001b[0;34m.\u001b[0m\u001b[0mround\u001b[0m\u001b[0;34m(\u001b[0m\u001b[0;36m1\u001b[0m\u001b[0;34m,\u001b[0m\u001b[0;36m3.567\u001b[0m\u001b[0;34m)\u001b[0m\u001b[0;34m\u001b[0m\u001b[0;34m\u001b[0m\u001b[0m\n\u001b[0m",
            "\u001b[0;32m/usr/local/lib/python3.9/dist-packages/numpy/core/overrides.py\u001b[0m in \u001b[0;36mround_\u001b[0;34m(*args, **kwargs)\u001b[0m\n",
            "\u001b[0;32m/usr/local/lib/python3.9/dist-packages/numpy/core/fromnumeric.py\u001b[0m in \u001b[0;36mround_\u001b[0;34m(a, decimals, out)\u001b[0m\n\u001b[1;32m   3771\u001b[0m     \u001b[0maround\u001b[0m \u001b[0;34m:\u001b[0m \u001b[0mequivalent\u001b[0m \u001b[0mfunction\u001b[0m\u001b[0;34m;\u001b[0m \u001b[0msee\u001b[0m \u001b[0;32mfor\u001b[0m \u001b[0mdetails\u001b[0m\u001b[0;34m.\u001b[0m\u001b[0;34m\u001b[0m\u001b[0;34m\u001b[0m\u001b[0m\n\u001b[1;32m   3772\u001b[0m     \"\"\"\n\u001b[0;32m-> 3773\u001b[0;31m     \u001b[0;32mreturn\u001b[0m \u001b[0maround\u001b[0m\u001b[0;34m(\u001b[0m\u001b[0ma\u001b[0m\u001b[0;34m,\u001b[0m \u001b[0mdecimals\u001b[0m\u001b[0;34m=\u001b[0m\u001b[0mdecimals\u001b[0m\u001b[0;34m,\u001b[0m \u001b[0mout\u001b[0m\u001b[0;34m=\u001b[0m\u001b[0mout\u001b[0m\u001b[0;34m)\u001b[0m\u001b[0;34m\u001b[0m\u001b[0;34m\u001b[0m\u001b[0m\n\u001b[0m\u001b[1;32m   3774\u001b[0m \u001b[0;34m\u001b[0m\u001b[0m\n\u001b[1;32m   3775\u001b[0m \u001b[0;34m\u001b[0m\u001b[0m\n",
            "\u001b[0;32m/usr/local/lib/python3.9/dist-packages/numpy/core/overrides.py\u001b[0m in \u001b[0;36maround\u001b[0;34m(*args, **kwargs)\u001b[0m\n",
            "\u001b[0;32m/usr/local/lib/python3.9/dist-packages/numpy/core/fromnumeric.py\u001b[0m in \u001b[0;36maround\u001b[0;34m(a, decimals, out)\u001b[0m\n\u001b[1;32m   3346\u001b[0m \u001b[0;34m\u001b[0m\u001b[0m\n\u001b[1;32m   3347\u001b[0m     \"\"\"\n\u001b[0;32m-> 3348\u001b[0;31m     \u001b[0;32mreturn\u001b[0m \u001b[0m_wrapfunc\u001b[0m\u001b[0;34m(\u001b[0m\u001b[0ma\u001b[0m\u001b[0;34m,\u001b[0m \u001b[0;34m'round'\u001b[0m\u001b[0;34m,\u001b[0m \u001b[0mdecimals\u001b[0m\u001b[0;34m=\u001b[0m\u001b[0mdecimals\u001b[0m\u001b[0;34m,\u001b[0m \u001b[0mout\u001b[0m\u001b[0;34m=\u001b[0m\u001b[0mout\u001b[0m\u001b[0;34m)\u001b[0m\u001b[0;34m\u001b[0m\u001b[0;34m\u001b[0m\u001b[0m\n\u001b[0m\u001b[1;32m   3349\u001b[0m \u001b[0;34m\u001b[0m\u001b[0m\n\u001b[1;32m   3350\u001b[0m \u001b[0;34m\u001b[0m\u001b[0m\n",
            "\u001b[0;32m/usr/local/lib/python3.9/dist-packages/numpy/core/fromnumeric.py\u001b[0m in \u001b[0;36m_wrapfunc\u001b[0;34m(obj, method, *args, **kwds)\u001b[0m\n\u001b[1;32m     52\u001b[0m     \u001b[0mbound\u001b[0m \u001b[0;34m=\u001b[0m \u001b[0mgetattr\u001b[0m\u001b[0;34m(\u001b[0m\u001b[0mobj\u001b[0m\u001b[0;34m,\u001b[0m \u001b[0mmethod\u001b[0m\u001b[0;34m,\u001b[0m \u001b[0;32mNone\u001b[0m\u001b[0;34m)\u001b[0m\u001b[0;34m\u001b[0m\u001b[0;34m\u001b[0m\u001b[0m\n\u001b[1;32m     53\u001b[0m     \u001b[0;32mif\u001b[0m \u001b[0mbound\u001b[0m \u001b[0;32mis\u001b[0m \u001b[0;32mNone\u001b[0m\u001b[0;34m:\u001b[0m\u001b[0;34m\u001b[0m\u001b[0;34m\u001b[0m\u001b[0m\n\u001b[0;32m---> 54\u001b[0;31m         \u001b[0;32mreturn\u001b[0m \u001b[0m_wrapit\u001b[0m\u001b[0;34m(\u001b[0m\u001b[0mobj\u001b[0m\u001b[0;34m,\u001b[0m \u001b[0mmethod\u001b[0m\u001b[0;34m,\u001b[0m \u001b[0;34m*\u001b[0m\u001b[0margs\u001b[0m\u001b[0;34m,\u001b[0m \u001b[0;34m**\u001b[0m\u001b[0mkwds\u001b[0m\u001b[0;34m)\u001b[0m\u001b[0;34m\u001b[0m\u001b[0;34m\u001b[0m\u001b[0m\n\u001b[0m\u001b[1;32m     55\u001b[0m \u001b[0;34m\u001b[0m\u001b[0m\n\u001b[1;32m     56\u001b[0m     \u001b[0;32mtry\u001b[0m\u001b[0;34m:\u001b[0m\u001b[0;34m\u001b[0m\u001b[0;34m\u001b[0m\u001b[0m\n",
            "\u001b[0;32m/usr/local/lib/python3.9/dist-packages/numpy/core/fromnumeric.py\u001b[0m in \u001b[0;36m_wrapit\u001b[0;34m(obj, method, *args, **kwds)\u001b[0m\n\u001b[1;32m     41\u001b[0m     \u001b[0;32mexcept\u001b[0m \u001b[0mAttributeError\u001b[0m\u001b[0;34m:\u001b[0m\u001b[0;34m\u001b[0m\u001b[0;34m\u001b[0m\u001b[0m\n\u001b[1;32m     42\u001b[0m         \u001b[0mwrap\u001b[0m \u001b[0;34m=\u001b[0m \u001b[0;32mNone\u001b[0m\u001b[0;34m\u001b[0m\u001b[0;34m\u001b[0m\u001b[0m\n\u001b[0;32m---> 43\u001b[0;31m     \u001b[0mresult\u001b[0m \u001b[0;34m=\u001b[0m \u001b[0mgetattr\u001b[0m\u001b[0;34m(\u001b[0m\u001b[0masarray\u001b[0m\u001b[0;34m(\u001b[0m\u001b[0mobj\u001b[0m\u001b[0;34m)\u001b[0m\u001b[0;34m,\u001b[0m \u001b[0mmethod\u001b[0m\u001b[0;34m)\u001b[0m\u001b[0;34m(\u001b[0m\u001b[0;34m*\u001b[0m\u001b[0margs\u001b[0m\u001b[0;34m,\u001b[0m \u001b[0;34m**\u001b[0m\u001b[0mkwds\u001b[0m\u001b[0;34m)\u001b[0m\u001b[0;34m\u001b[0m\u001b[0;34m\u001b[0m\u001b[0m\n\u001b[0m\u001b[1;32m     44\u001b[0m     \u001b[0;32mif\u001b[0m \u001b[0mwrap\u001b[0m\u001b[0;34m:\u001b[0m\u001b[0;34m\u001b[0m\u001b[0;34m\u001b[0m\u001b[0m\n\u001b[1;32m     45\u001b[0m         \u001b[0;32mif\u001b[0m \u001b[0;32mnot\u001b[0m \u001b[0misinstance\u001b[0m\u001b[0;34m(\u001b[0m\u001b[0mresult\u001b[0m\u001b[0;34m,\u001b[0m \u001b[0mmu\u001b[0m\u001b[0;34m.\u001b[0m\u001b[0mndarray\u001b[0m\u001b[0;34m)\u001b[0m\u001b[0;34m:\u001b[0m\u001b[0;34m\u001b[0m\u001b[0;34m\u001b[0m\u001b[0m\n",
            "\u001b[0;31mTypeError\u001b[0m: integer argument expected, got float"
          ]
        }
      ]
    },
    {
      "cell_type": "code",
      "source": [
        "# def round_(a, decimals=0, out=None)\n",
        "np.round(decimals=1, a=3.567)"
      ],
      "metadata": {
        "colab": {
          "base_uri": "https://localhost:8080/"
        },
        "id": "YGQbvrN3YKdj",
        "outputId": "4df6746f-6079-4db8-f130-9f60758fd1c1"
      },
      "execution_count": null,
      "outputs": [
        {
          "output_type": "execute_result",
          "data": {
            "text/plain": [
              "3.6"
            ]
          },
          "metadata": {},
          "execution_count": 42
        }
      ]
    },
    {
      "cell_type": "code",
      "source": [
        "import numpy as np\n",
        "s = np.sin(np.pi/3)"
      ],
      "metadata": {
        "id": "f1wgcepOY1kL"
      },
      "execution_count": null,
      "outputs": []
    },
    {
      "cell_type": "markdown",
      "source": [
        "# 3.5 함수"
      ],
      "metadata": {
        "id": "xZ-J_XvF_VDw"
      }
    },
    {
      "cell_type": "code",
      "source": [
        "a = 'b ='\n",
        "b = 3.5\n",
        "print(a,b)"
      ],
      "metadata": {
        "colab": {
          "base_uri": "https://localhost:8080/"
        },
        "id": "XnC3y11e44cY",
        "outputId": "493599f2-a58b-4898-85fb-b3d01668cfc1"
      },
      "execution_count": null,
      "outputs": [
        {
          "output_type": "stream",
          "name": "stdout",
          "text": [
            "b = 3.5\n"
          ]
        }
      ]
    },
    {
      "cell_type": "code",
      "source": [
        "print(a+str(b))"
      ],
      "metadata": {
        "colab": {
          "base_uri": "https://localhost:8080/"
        },
        "id": "H9S-Z2K74-5k",
        "outputId": "0b277327-73ee-4f4a-f446-3a6397a29a2b"
      },
      "execution_count": null,
      "outputs": [
        {
          "output_type": "stream",
          "name": "stdout",
          "text": [
            "b =3.5\n"
          ]
        }
      ]
    },
    {
      "cell_type": "code",
      "source": [
        "a = '3.5'\n",
        "b = float(a) + 1\n",
        "print(b)"
      ],
      "metadata": {
        "colab": {
          "base_uri": "https://localhost:8080/"
        },
        "id": "IbbU4hbs5BsP",
        "outputId": "4613a9d3-2f45-417c-bcdd-c661b6dc3337"
      },
      "execution_count": null,
      "outputs": [
        {
          "output_type": "stream",
          "name": "stdout",
          "text": [
            "4.5\n"
          ]
        }
      ]
    },
    {
      "cell_type": "code",
      "source": [
        "np.round(3.5)"
      ],
      "metadata": {
        "colab": {
          "base_uri": "https://localhost:8080/"
        },
        "id": "QSVH5i0u5Knk",
        "outputId": "5ed897cb-66ba-4b39-9b42-05346a3605c8"
      },
      "execution_count": null,
      "outputs": [
        {
          "output_type": "execute_result",
          "data": {
            "text/plain": [
              "4.0"
            ]
          },
          "metadata": {},
          "execution_count": 45
        }
      ]
    },
    {
      "cell_type": "code",
      "source": [
        "a = 3.5\n",
        "int(a)"
      ],
      "metadata": {
        "colab": {
          "base_uri": "https://localhost:8080/"
        },
        "id": "hoNAui2P5MWx",
        "outputId": "8a75867c-18a2-498c-b232-8ef8b89c8e82"
      },
      "execution_count": null,
      "outputs": [
        {
          "output_type": "execute_result",
          "data": {
            "text/plain": [
              "3"
            ]
          },
          "metadata": {},
          "execution_count": 47
        }
      ]
    },
    {
      "cell_type": "code",
      "source": [
        "# 실습\n",
        "v = 0.5"
      ],
      "metadata": {
        "id": "X0V0UkAQ5cEK"
      },
      "execution_count": null,
      "outputs": []
    },
    {
      "cell_type": "code",
      "source": [
        "import numpy as np\n",
        "s = np.sin(0.5)\n",
        "c = np.cos(0.5)\n",
        "print(s+c)\n",
        "print(s-c)\n",
        "\n",
        "print(np.round(s+c,3))\n",
        "print(np.round(s-c,3))"
      ],
      "metadata": {
        "colab": {
          "base_uri": "https://localhost:8080/"
        },
        "id": "5Xovy9I15e1w",
        "outputId": "ace1322b-3282-4d9d-a377-3abf967c405b"
      },
      "execution_count": null,
      "outputs": [
        {
          "output_type": "stream",
          "name": "stdout",
          "text": [
            "1.3570081004945758\n",
            "-0.39815702328616975\n",
            "1.357\n",
            "-0.398\n"
          ]
        }
      ]
    },
    {
      "cell_type": "code",
      "source": [
        "result1 = np.round(s+c,3)\n",
        "result2 = np.round(s-c,3)\n",
        "\n",
        "print(f'sin(0.5)+cos(0.5)={result1}')\n",
        "print(f'sin(0.5)-cos(0.5)={result2}')"
      ],
      "metadata": {
        "colab": {
          "base_uri": "https://localhost:8080/"
        },
        "id": "W5S5xsTp5mhp",
        "outputId": "1b1b94ad-a955-4f07-bb10-044ed0c52d04"
      },
      "execution_count": null,
      "outputs": [
        {
          "output_type": "stream",
          "name": "stdout",
          "text": [
            "sin(0.5)+cos(0.5)=1.357\n",
            "sin(0.5)-cos(0.5)=-0.398\n"
          ]
        }
      ]
    },
    {
      "cell_type": "code",
      "source": [
        "gpa = '4.3'"
      ],
      "metadata": {
        "id": "ukOvA9DH6EQw"
      },
      "execution_count": null,
      "outputs": []
    },
    {
      "cell_type": "code",
      "source": [
        "gpa = float(gpa) * 100 / 4.5\n",
        "print(gpa)"
      ],
      "metadata": {
        "colab": {
          "base_uri": "https://localhost:8080/"
        },
        "id": "oLjrh-7y6Fiy",
        "outputId": "0941ddd4-e8ec-4a0b-de1d-bd85f3a2c3e2"
      },
      "execution_count": null,
      "outputs": [
        {
          "output_type": "stream",
          "name": "stdout",
          "text": [
            "95.55555555555556\n"
          ]
        }
      ]
    },
    {
      "cell_type": "code",
      "execution_count": null,
      "metadata": {
        "colab": {
          "base_uri": "https://localhost:8080/"
        },
        "id": "287sFvCu8kA9",
        "outputId": "2f0e2fb8-94e1-4ac1-cb9d-3b8048ecd02b"
      },
      "outputs": [
        {
          "output_type": "execute_result",
          "data": {
            "text/plain": [
              "float"
            ]
          },
          "metadata": {},
          "execution_count": 9
        }
      ],
      "source": [
        "s = 3.4\n",
        "type(s)"
      ]
    },
    {
      "cell_type": "code",
      "source": [
        "type(v)"
      ],
      "metadata": {
        "colab": {
          "base_uri": "https://localhost:8080/"
        },
        "id": "prJmvEgy9ySY",
        "outputId": "b256e88a-00e0-4000-9a6c-d31528c07319"
      },
      "execution_count": null,
      "outputs": [
        {
          "output_type": "execute_result",
          "data": {
            "text/plain": [
              "int"
            ]
          },
          "metadata": {},
          "execution_count": 5
        }
      ]
    },
    {
      "cell_type": "code",
      "source": [
        "v = int(s)\n",
        "type(v)"
      ],
      "metadata": {
        "colab": {
          "base_uri": "https://localhost:8080/"
        },
        "id": "jdGuuk4B95tV",
        "outputId": "7e350aa0-6796-40b2-d3e7-bd1a8ec7ac72"
      },
      "execution_count": null,
      "outputs": [
        {
          "output_type": "execute_result",
          "data": {
            "text/plain": [
              "int"
            ]
          },
          "metadata": {},
          "execution_count": 8
        }
      ]
    },
    {
      "cell_type": "code",
      "source": [
        "v = str(s)\n",
        "type(v)"
      ],
      "metadata": {
        "colab": {
          "base_uri": "https://localhost:8080/"
        },
        "id": "be400xem-Fhs",
        "outputId": "02be972c-ad93-47bc-9513-233938ea014d"
      },
      "execution_count": null,
      "outputs": [
        {
          "output_type": "execute_result",
          "data": {
            "text/plain": [
              "str"
            ]
          },
          "metadata": {},
          "execution_count": 11
        }
      ]
    },
    {
      "cell_type": "code",
      "source": [
        "print(v)"
      ],
      "metadata": {
        "colab": {
          "base_uri": "https://localhost:8080/"
        },
        "id": "W-Wsjnyo-JfM",
        "outputId": "f2ef71b6-33cd-4a95-94d5-05a307adc048"
      },
      "execution_count": null,
      "outputs": [
        {
          "output_type": "stream",
          "name": "stdout",
          "text": [
            "3.4\n"
          ]
        }
      ]
    },
    {
      "cell_type": "code",
      "source": [
        "v + 3"
      ],
      "metadata": {
        "colab": {
          "base_uri": "https://localhost:8080/",
          "height": 172
        },
        "id": "Ec6te9eo-L9N",
        "outputId": "44f4d658-c588-4664-c52f-d73822e1659e"
      },
      "execution_count": null,
      "outputs": [
        {
          "output_type": "error",
          "ename": "TypeError",
          "evalue": "ignored",
          "traceback": [
            "\u001b[0;31m---------------------------------------------------------------------------\u001b[0m",
            "\u001b[0;31mTypeError\u001b[0m                                 Traceback (most recent call last)",
            "\u001b[0;32m<ipython-input-16-8ad32fd5a53e>\u001b[0m in \u001b[0;36m<module>\u001b[0;34m\u001b[0m\n\u001b[0;32m----> 1\u001b[0;31m \u001b[0mv\u001b[0m \u001b[0;34m+\u001b[0m \u001b[0;36m3\u001b[0m\u001b[0;34m\u001b[0m\u001b[0;34m\u001b[0m\u001b[0m\n\u001b[0m",
            "\u001b[0;31mTypeError\u001b[0m: can only concatenate str (not \"int\") to str"
          ]
        }
      ]
    },
    {
      "cell_type": "code",
      "source": [
        "v + 'Korea'"
      ],
      "metadata": {
        "colab": {
          "base_uri": "https://localhost:8080/",
          "height": 35
        },
        "id": "x8hCf4hl-Pz0",
        "outputId": "55a27f44-7c20-4dda-99db-a42170273f92"
      },
      "execution_count": null,
      "outputs": [
        {
          "output_type": "execute_result",
          "data": {
            "text/plain": [
              "'3.4Korea'"
            ],
            "application/vnd.google.colaboratory.intrinsic+json": {
              "type": "string"
            }
          },
          "metadata": {},
          "execution_count": 17
        }
      ]
    },
    {
      "cell_type": "code",
      "source": [
        "st = f'Value of s is {s}'"
      ],
      "metadata": {
        "id": "BMe8lFh9_CI-"
      },
      "execution_count": null,
      "outputs": []
    },
    {
      "cell_type": "code",
      "source": [
        "st"
      ],
      "metadata": {
        "colab": {
          "base_uri": "https://localhost:8080/",
          "height": 35
        },
        "id": "0qT7t_nN_FAH",
        "outputId": "8c8632c4-ed0e-4ee9-855a-0efb4a05093c"
      },
      "execution_count": null,
      "outputs": [
        {
          "output_type": "execute_result",
          "data": {
            "text/plain": [
              "'Value of s is 3.4'"
            ],
            "application/vnd.google.colaboratory.intrinsic+json": {
              "type": "string"
            }
          },
          "metadata": {},
          "execution_count": 20
        }
      ]
    },
    {
      "cell_type": "code",
      "source": [
        "print(f's의 값은 {s} 입니다.')"
      ],
      "metadata": {
        "colab": {
          "base_uri": "https://localhost:8080/"
        },
        "id": "10B0TMEa_FmG",
        "outputId": "b3e38e8f-1e82-4992-8a50-c76bb6ab2e43"
      },
      "execution_count": null,
      "outputs": [
        {
          "output_type": "stream",
          "name": "stdout",
          "text": [
            "s의 값은 3.4 입니다.\n"
          ]
        }
      ]
    },
    {
      "cell_type": "code",
      "source": [
        "# p126\n",
        "# 연습문제 1\n",
        "v = 0.5"
      ],
      "metadata": {
        "id": "A3iFjm0Z_eLk"
      },
      "execution_count": null,
      "outputs": []
    },
    {
      "cell_type": "code",
      "source": [
        "import numpy as np\n",
        "s = np.sin(0.5)"
      ],
      "metadata": {
        "id": "oSa3jWIY_zHW"
      },
      "execution_count": null,
      "outputs": []
    },
    {
      "cell_type": "code",
      "source": [
        "c = np.cos(0.5)"
      ],
      "metadata": {
        "id": "RfEU53C8_-5S"
      },
      "execution_count": null,
      "outputs": []
    },
    {
      "cell_type": "code",
      "source": [
        "print(s+c)"
      ],
      "metadata": {
        "colab": {
          "base_uri": "https://localhost:8080/"
        },
        "id": "eAeLQ1dR_4gT",
        "outputId": "915abf1f-06a1-4632-f198-915dbca5db40"
      },
      "execution_count": null,
      "outputs": [
        {
          "output_type": "stream",
          "name": "stdout",
          "text": [
            "1.3570081004945758\n"
          ]
        }
      ]
    },
    {
      "cell_type": "code",
      "source": [
        "print(s-c)"
      ],
      "metadata": {
        "colab": {
          "base_uri": "https://localhost:8080/"
        },
        "id": "fS-1QpE0AGo4",
        "outputId": "c15d24f9-ad2f-4c71-91f3-df39ee6ed900"
      },
      "execution_count": null,
      "outputs": [
        {
          "output_type": "stream",
          "name": "stdout",
          "text": [
            "-0.39815702328616975\n"
          ]
        }
      ]
    },
    {
      "cell_type": "code",
      "source": [
        "#  연습문제 5\n",
        "year = 2022\n",
        "month = 4\n",
        "day = 5"
      ],
      "metadata": {
        "id": "bozuVrDoAJ1j"
      },
      "execution_count": null,
      "outputs": []
    },
    {
      "cell_type": "code",
      "source": [
        "print(f'{year}년 {month}월 {day}일')"
      ],
      "metadata": {
        "colab": {
          "base_uri": "https://localhost:8080/"
        },
        "id": "fiWzrYqNANO9",
        "outputId": "6ab55b64-55f7-4da3-d44c-77eab7af3c3a"
      },
      "execution_count": null,
      "outputs": [
        {
          "output_type": "stream",
          "name": "stdout",
          "text": [
            "2022년 4월 5일\n"
          ]
        }
      ]
    },
    {
      "cell_type": "markdown",
      "source": [
        "# 3.6 조건문"
      ],
      "metadata": {
        "id": "3YoVkF5KJXA7"
      }
    },
    {
      "cell_type": "code",
      "source": [
        "import numpy as np\n",
        "a = np.sin(np.pi/3)\n",
        "print(f'결과는 {a:.2f} 입니다.')\n",
        "print(f'결과는 {a:.4f} 입니다.')\n",
        "print('사인값은 ', end='') # 줄바꿈 X\n",
        "if a > 0:\n",
        "  print('양수임')\n",
        "else:\n",
        "  print('양수가 아님')"
      ],
      "metadata": {
        "colab": {
          "base_uri": "https://localhost:8080/"
        },
        "id": "XrRuPgt0A2t7",
        "outputId": "22e3a265-4694-45de-a2e8-180651ff210b"
      },
      "execution_count": null,
      "outputs": [
        {
          "output_type": "stream",
          "name": "stdout",
          "text": [
            "결과는 0.87 입니다.\n",
            "결과는 0.8660 입니다.\n",
            "사인값은 양수임\n"
          ]
        }
      ]
    },
    {
      "cell_type": "code",
      "source": [
        "# p.136\n",
        "x, y = map(int, input().split())\n",
        "place = 0\n",
        "\n",
        "if x > 0 and y > 0:\n",
        "  place = 1\n",
        "elif x < 0 and y > 0:\n",
        "  place = 2\n",
        "elif x < 0 and y < 0:\n",
        "  place = 3\n",
        "elif x > 0 and y < 0:\n",
        "  place = 4\n",
        "\n",
        "if place==0:\n",
        "  print('점이 축 위에 있습니다')\n",
        "else:\n",
        "  print(f'점은 {place}사분면에 있습니다.')"
      ],
      "metadata": {
        "colab": {
          "base_uri": "https://localhost:8080/"
        },
        "id": "-2yKh-9jBGTS",
        "outputId": "1cd3e879-715d-476c-b8cf-c22fddd72222"
      },
      "execution_count": null,
      "outputs": [
        {
          "output_type": "stream",
          "name": "stdout",
          "text": [
            "4 -2\n",
            "점은 4사분면에 있습니다.\n"
          ]
        }
      ]
    },
    {
      "cell_type": "code",
      "source": [
        "# p.138\n",
        "x = int(input())\n",
        "\n",
        "def a(x):\n",
        "  if x%2 == 0:\n",
        "    x *= 2\n",
        "  else:\n",
        "    x /= 2\n",
        "  return x"
      ],
      "metadata": {
        "colab": {
          "base_uri": "https://localhost:8080/"
        },
        "id": "G5AXJLpEY9y6",
        "outputId": "0a857c5f-be54-47bd-e4e1-2872e97b1a42"
      },
      "execution_count": null,
      "outputs": [
        {
          "name": "stdout",
          "output_type": "stream",
          "text": [
            "23\n"
          ]
        }
      ]
    },
    {
      "cell_type": "code",
      "source": [
        "a(x)"
      ],
      "metadata": {
        "colab": {
          "base_uri": "https://localhost:8080/"
        },
        "id": "LyaMqmdUZaJi",
        "outputId": "19e35624-90e4-4161-ef18-b3b662ea425e"
      },
      "execution_count": null,
      "outputs": [
        {
          "output_type": "execute_result",
          "data": {
            "text/plain": [
              "11.5"
            ]
          },
          "metadata": {},
          "execution_count": 13
        }
      ]
    },
    {
      "cell_type": "code",
      "source": [
        "v = -1.5"
      ],
      "metadata": {
        "id": "70oSD30ZZCLO"
      },
      "execution_count": null,
      "outputs": []
    },
    {
      "cell_type": "code",
      "source": [
        "import numpy as np\n",
        "v = np.sin(v)\n",
        "\n",
        "if v > 0:\n",
        "  say = 'PLUS'\n",
        "elif v < 0:\n",
        "  say = 'MINUS'\n",
        "else: # v == 0\n",
        "  say = 'ZERO'\n",
        "\n",
        "print(say)"
      ],
      "metadata": {
        "colab": {
          "base_uri": "https://localhost:8080/"
        },
        "id": "ja40PCZPa_Co",
        "outputId": "288aa4e5-079a-451e-dd14-3be695659561"
      },
      "execution_count": null,
      "outputs": [
        {
          "output_type": "stream",
          "name": "stdout",
          "text": [
            "MINUS\n"
          ]
        }
      ]
    },
    {
      "cell_type": "code",
      "source": [
        "score = 85\n",
        "\n",
        "if score >= 90:\n",
        "  grade = 'A'\n",
        "elif score >= 80 and score < 90:\n",
        "  grade = 'B'\n",
        "elif score >= 70 and score < 80:\n",
        "  grade = 'C'\n",
        "elif score >= 60 and score < 70:\n",
        "  grade = 'D'\n",
        "else:\n",
        "  grade = 'F'\n",
        "\n",
        "print(grade)"
      ],
      "metadata": {
        "colab": {
          "base_uri": "https://localhost:8080/"
        },
        "id": "Le6AXyZHblGO",
        "outputId": "ebb2e30e-0c6b-4fd1-d831-f13577e40a9e"
      },
      "execution_count": null,
      "outputs": [
        {
          "output_type": "stream",
          "name": "stdout",
          "text": [
            "B\n"
          ]
        }
      ]
    },
    {
      "cell_type": "code",
      "source": [
        "w = 65.3\n",
        "h = 1.78\n",
        "\n",
        "bmi = w / (h * h)\n",
        "\n",
        "if bmi >= 25:\n",
        "  status = '비만..'\n",
        "elif bmi < 18.5:\n",
        "  status = '저체중..'\n",
        "else:\n",
        "  status = '정상'"
      ],
      "metadata": {
        "id": "EHumNPiXcF1_"
      },
      "execution_count": null,
      "outputs": []
    },
    {
      "cell_type": "code",
      "source": [
        "# p.139\n",
        "# 연습문제 3\n",
        "score = 85\n",
        "\n",
        "if score >= 90:\n",
        "  print('A')\n",
        "elif score >= 80:\n",
        "  print('B')\n",
        "elif score >= 70:\n",
        "  print('C')\n",
        "elif score >= 60:\n",
        "  print('D')\n",
        "else:\n",
        "  print('F')"
      ],
      "metadata": {
        "colab": {
          "base_uri": "https://localhost:8080/"
        },
        "id": "DpZOziRwDEyk",
        "outputId": "24f41355-4e6e-4d27-f8b2-2cdf93fbb648"
      },
      "execution_count": null,
      "outputs": [
        {
          "output_type": "stream",
          "name": "stdout",
          "text": [
            "B\n"
          ]
        }
      ]
    },
    {
      "cell_type": "code",
      "source": [
        "# p.140\n",
        "# # 연습문제 4\n",
        "weight, height = map(float, input().split())\n",
        "\n",
        "bmi = weight / (height * height)\n",
        "\n",
        "print(f'님의 bmi는 {bmi: .3f}, ', end='')\n",
        "if bmi >= 25:\n",
        "  print('비만')\n",
        "elif bmi < 18.5:\n",
        "  print('저체중')\n",
        "else:\n",
        "  print('정상')"
      ],
      "metadata": {
        "colab": {
          "base_uri": "https://localhost:8080/"
        },
        "id": "sHDAlio0Erve",
        "outputId": "1229d31b-1302-4851-cb19-3a05b001a406"
      },
      "execution_count": null,
      "outputs": [
        {
          "output_type": "stream",
          "name": "stdout",
          "text": [
            "49.5 1.52\n",
            "님의 bmi는  21.425, 정상\n"
          ]
        }
      ]
    },
    {
      "cell_type": "code",
      "source": [
        "# 연습문제 5\n",
        "grade = 'A'\n",
        "\n",
        "score = 0\n",
        "if grade == 'A':\n",
        "  score = 95\n",
        "elif grade == 'B':\n",
        "  score = 95\n",
        "elif grade == 'C':\n",
        "  score = 76\n",
        "elif grade == 'D':\n",
        "  score = 65\n",
        "\n",
        "print(f'The converted score is {score}')"
      ],
      "metadata": {
        "colab": {
          "base_uri": "https://localhost:8080/"
        },
        "id": "Ym7-pC8HFTZx",
        "outputId": "50063bfd-6832-4c62-d44e-042124d6fa25"
      },
      "execution_count": null,
      "outputs": [
        {
          "output_type": "stream",
          "name": "stdout",
          "text": [
            "The converted score is 95\n"
          ]
        }
      ]
    },
    {
      "cell_type": "code",
      "source": [
        "# p.143\n",
        "# 연습문제 4\n",
        "number_of_purchases = 15\n",
        "total_amount_of_purchases = 150000\n",
        "price_item = 5000\n",
        "\n",
        "if number_of_purchases >= 10 and total_amount_of_purchases >= 100000:\n",
        "  print('VIP')\n",
        "  price_item -= (price_item * 0.1)\n",
        "elif number_of_purchases >= 1:\n",
        "  price_item -= (price_item * 0.05)\n",
        "\n",
        "print(f'최종 : {price_item}')"
      ],
      "metadata": {
        "colab": {
          "base_uri": "https://localhost:8080/"
        },
        "id": "IhamGlfrGEVE",
        "outputId": "ff86f472-695b-488d-dfa9-e7091e80f192"
      },
      "execution_count": null,
      "outputs": [
        {
          "output_type": "stream",
          "name": "stdout",
          "text": [
            "VIP\n",
            "최종 : 4500.0\n"
          ]
        }
      ]
    },
    {
      "cell_type": "code",
      "source": [
        "# p.145\n",
        "# 연습문제 6\n",
        "a = 93\n",
        "b = 54\n",
        "c = 65\n",
        "d = 68\n",
        "\n",
        "total = (a+b+c+d) / 4\n",
        "\n",
        "print(f'평균 : {total}')\n",
        "if a >= 60 and b >= 60 and c >= 60 and d >= 60:\n",
        "  if total >= 70:\n",
        "    print('합')\n",
        "  else:\n",
        "    print('불합')\n",
        "else:\n",
        "    print('과락..불합')"
      ],
      "metadata": {
        "colab": {
          "base_uri": "https://localhost:8080/"
        },
        "id": "IfcBZz-EGHJ3",
        "outputId": "f4cf7963-9da5-43b2-82fd-fe9b5276f353"
      },
      "execution_count": null,
      "outputs": [
        {
          "output_type": "stream",
          "name": "stdout",
          "text": [
            "평균 : 70.0\n",
            "과락..불합\n"
          ]
        }
      ]
    },
    {
      "cell_type": "markdown",
      "source": [
        "# 3.7 고급 데이터 타입\n",
        "\n"
      ],
      "metadata": {
        "id": "pXBtmp9_JNgQ"
      }
    },
    {
      "cell_type": "code",
      "source": [
        "vs = [1,3,'Hi',8,5]"
      ],
      "metadata": {
        "id": "NyKA38lqHHJK"
      },
      "execution_count": null,
      "outputs": []
    },
    {
      "cell_type": "code",
      "source": [
        "vt = vs"
      ],
      "metadata": {
        "id": "hnZcX279jA1f"
      },
      "execution_count": null,
      "outputs": []
    },
    {
      "cell_type": "code",
      "source": [
        "vt"
      ],
      "metadata": {
        "colab": {
          "base_uri": "https://localhost:8080/"
        },
        "id": "eAA8sxCYjFh7",
        "outputId": "4ce55e19-15cf-4378-cfa5-6cf49fdeb442"
      },
      "execution_count": null,
      "outputs": [
        {
          "output_type": "execute_result",
          "data": {
            "text/plain": [
              "[1, 3, 'Hi', 8, 5]"
            ]
          },
          "metadata": {},
          "execution_count": 33
        }
      ]
    },
    {
      "cell_type": "code",
      "source": [
        "vt[3] = -5\n",
        "print(vs)"
      ],
      "metadata": {
        "colab": {
          "base_uri": "https://localhost:8080/"
        },
        "id": "66VvIby_jCvB",
        "outputId": "7b278864-a2e5-4cbe-d169-cfcad86e1e02"
      },
      "execution_count": null,
      "outputs": [
        {
          "output_type": "stream",
          "name": "stdout",
          "text": [
            "[1, 3, 'Hi', -5, 5]\n"
          ]
        }
      ]
    },
    {
      "cell_type": "code",
      "source": [
        "v = range(3,9)\n",
        "print(v, type(v))\n",
        "\n",
        "v1 = list(range(3,9))\n",
        "print(v1, type(v1))"
      ],
      "metadata": {
        "colab": {
          "base_uri": "https://localhost:8080/"
        },
        "id": "Pa_S0h4EjdxT",
        "outputId": "699f467b-a948-4359-cd19-64e5da4d7b59"
      },
      "execution_count": null,
      "outputs": [
        {
          "output_type": "stream",
          "name": "stdout",
          "text": [
            "range(3, 9) <class 'range'>\n",
            "[3, 4, 5, 6, 7, 8] <class 'list'>\n"
          ]
        }
      ]
    },
    {
      "cell_type": "code",
      "source": [
        "vs.append(999)"
      ],
      "metadata": {
        "id": "6RM-7w__MXG4"
      },
      "execution_count": null,
      "outputs": []
    },
    {
      "cell_type": "code",
      "source": [
        "print(vs)"
      ],
      "metadata": {
        "colab": {
          "base_uri": "https://localhost:8080/"
        },
        "id": "AJrWxSw0MYnt",
        "outputId": "bb467b8f-fae1-4da4-e7b1-90ef01da6d18"
      },
      "execution_count": null,
      "outputs": [
        {
          "output_type": "stream",
          "name": "stdout",
          "text": [
            "[3, 'Hi', 8, 5, 999, 'A']\n"
          ]
        }
      ]
    },
    {
      "cell_type": "code",
      "source": [
        "vs.pop(0)"
      ],
      "metadata": {
        "colab": {
          "base_uri": "https://localhost:8080/",
          "height": 35
        },
        "id": "I5FRVQJnMaSY",
        "outputId": "3335c7a9-a288-4b37-831c-1b4b0215b970"
      },
      "execution_count": null,
      "outputs": [
        {
          "output_type": "execute_result",
          "data": {
            "text/plain": [
              "'A'"
            ],
            "application/vnd.google.colaboratory.intrinsic+json": {
              "type": "string"
            }
          },
          "metadata": {},
          "execution_count": 82
        }
      ]
    },
    {
      "cell_type": "code",
      "source": [
        "vs.append('A')"
      ],
      "metadata": {
        "id": "OdDH_j8jM9nO"
      },
      "execution_count": null,
      "outputs": []
    },
    {
      "cell_type": "code",
      "source": [
        "vs.insert(1,'B')"
      ],
      "metadata": {
        "id": "s3fNVpS_NLKQ"
      },
      "execution_count": null,
      "outputs": []
    },
    {
      "cell_type": "code",
      "source": [
        "print(vs)"
      ],
      "metadata": {
        "colab": {
          "base_uri": "https://localhost:8080/"
        },
        "id": "KkkVMgWINV7h",
        "outputId": "31b6c11e-c108-4d27-f25f-b352ab9aa9b1"
      },
      "execution_count": null,
      "outputs": [
        {
          "output_type": "stream",
          "name": "stdout",
          "text": [
            "['B', 'Hi', 8, 5, 999, 'A']\n"
          ]
        }
      ]
    },
    {
      "cell_type": "code",
      "source": [
        "len(vs)"
      ],
      "metadata": {
        "colab": {
          "base_uri": "https://localhost:8080/"
        },
        "id": "Wem5w2OKNX07",
        "outputId": "f0906428-6d49-4209-b5c0-98a55bae9cd3"
      },
      "execution_count": null,
      "outputs": [
        {
          "output_type": "execute_result",
          "data": {
            "text/plain": [
              "6"
            ]
          },
          "metadata": {},
          "execution_count": 83
        }
      ]
    },
    {
      "cell_type": "code",
      "source": [
        "vs[1:5]"
      ],
      "metadata": {
        "colab": {
          "base_uri": "https://localhost:8080/"
        },
        "id": "vpZINvwIN06m",
        "outputId": "5cd36b67-0904-4421-9b83-b32e9c2563a0"
      },
      "execution_count": null,
      "outputs": [
        {
          "output_type": "execute_result",
          "data": {
            "text/plain": [
              "['Hi', 8, 5, 999]"
            ]
          },
          "metadata": {},
          "execution_count": 84
        }
      ]
    },
    {
      "cell_type": "code",
      "source": [
        "vt = []"
      ],
      "metadata": {
        "id": "CluCyBZYOGb_"
      },
      "execution_count": null,
      "outputs": []
    },
    {
      "cell_type": "code",
      "source": [
        "vs[3] = 4"
      ],
      "metadata": {
        "id": "yuDgAziLPZjj"
      },
      "execution_count": null,
      "outputs": []
    },
    {
      "cell_type": "code",
      "source": [
        "print(vt)"
      ],
      "metadata": {
        "colab": {
          "base_uri": "https://localhost:8080/"
        },
        "id": "wCLvkfqgPaw4",
        "outputId": "66286d89-8f2b-45a1-d11c-6e547921568d"
      },
      "execution_count": null,
      "outputs": [
        {
          "output_type": "stream",
          "name": "stdout",
          "text": [
            "[]\n"
          ]
        }
      ]
    },
    {
      "cell_type": "code",
      "source": [
        "print(vs)"
      ],
      "metadata": {
        "colab": {
          "base_uri": "https://localhost:8080/"
        },
        "id": "jJx04xk9PhLc",
        "outputId": "40bcb14a-2906-4a95-ee15-cc1048c645f7"
      },
      "execution_count": null,
      "outputs": [
        {
          "output_type": "stream",
          "name": "stdout",
          "text": [
            "['B', 'Hi', 8, 4, 999, 'A']\n"
          ]
        }
      ]
    },
    {
      "cell_type": "code",
      "source": [
        "a = range(3)"
      ],
      "metadata": {
        "id": "ru_X8g1nQPcC"
      },
      "execution_count": null,
      "outputs": []
    },
    {
      "cell_type": "code",
      "source": [
        "print(a)\n",
        "type(a)"
      ],
      "metadata": {
        "colab": {
          "base_uri": "https://localhost:8080/"
        },
        "id": "aVP9OVX1QRC1",
        "outputId": "1b13053b-f43a-47cf-8987-2950dac2ba7a"
      },
      "execution_count": null,
      "outputs": [
        {
          "output_type": "stream",
          "name": "stdout",
          "text": [
            "range(0, 3)\n"
          ]
        },
        {
          "output_type": "execute_result",
          "data": {
            "text/plain": [
              "range"
            ]
          },
          "metadata": {},
          "execution_count": 94
        }
      ]
    },
    {
      "cell_type": "code",
      "source": [
        "list(a)"
      ],
      "metadata": {
        "colab": {
          "base_uri": "https://localhost:8080/"
        },
        "id": "HUvPxfQSQTEz",
        "outputId": "832d6f3f-8ea8-47f5-9f03-c8a7d6e90122"
      },
      "execution_count": null,
      "outputs": [
        {
          "output_type": "execute_result",
          "data": {
            "text/plain": [
              "[0, 1, 2]"
            ]
          },
          "metadata": {},
          "execution_count": 95
        }
      ]
    },
    {
      "cell_type": "code",
      "source": [
        "list(range(1,10,2))"
      ],
      "metadata": {
        "colab": {
          "base_uri": "https://localhost:8080/"
        },
        "id": "mUZiZalRQZoE",
        "outputId": "a19155d4-19cf-4b29-97cf-0e8e6ee60406"
      },
      "execution_count": null,
      "outputs": [
        {
          "output_type": "execute_result",
          "data": {
            "text/plain": [
              "[1, 3, 5, 7, 9]"
            ]
          },
          "metadata": {},
          "execution_count": 98
        }
      ]
    },
    {
      "cell_type": "code",
      "source": [
        "a = (3,4,5)\n",
        "print(a[0])"
      ],
      "metadata": {
        "colab": {
          "base_uri": "https://localhost:8080/"
        },
        "id": "VOVQpXN_QoNe",
        "outputId": "b166f00e-5404-4c9d-d98d-ed65c6129247"
      },
      "execution_count": null,
      "outputs": [
        {
          "output_type": "stream",
          "name": "stdout",
          "text": [
            "3\n"
          ]
        }
      ]
    },
    {
      "cell_type": "code",
      "source": [
        "tup = 3,4,5\n",
        "print(tup[0])"
      ],
      "metadata": {
        "colab": {
          "base_uri": "https://localhost:8080/"
        },
        "id": "OHj1S5plRTcr",
        "outputId": "2818eff5-463c-43d5-9e09-d8deaadbb404"
      },
      "execution_count": null,
      "outputs": [
        {
          "output_type": "stream",
          "name": "stdout",
          "text": [
            "3\n"
          ]
        }
      ]
    },
    {
      "cell_type": "code",
      "source": [
        "list1 = [5,8,7]\n",
        "tup = tuple(list1)"
      ],
      "metadata": {
        "id": "vHt-Z6b4RnRG"
      },
      "execution_count": null,
      "outputs": []
    },
    {
      "cell_type": "code",
      "source": [
        "tup"
      ],
      "metadata": {
        "colab": {
          "base_uri": "https://localhost:8080/"
        },
        "id": "fN8-av2IRs7k",
        "outputId": "76ced6b2-9bf3-4a2f-a49c-6e3b943bf9d0"
      },
      "execution_count": null,
      "outputs": [
        {
          "output_type": "execute_result",
          "data": {
            "text/plain": [
              "(5, 8, 7)"
            ]
          },
          "metadata": {},
          "execution_count": 103
        }
      ]
    },
    {
      "cell_type": "code",
      "source": [
        "tup[2] = 1"
      ],
      "metadata": {
        "colab": {
          "base_uri": "https://localhost:8080/",
          "height": 172
        },
        "id": "kRoEHC-fRuew",
        "outputId": "46784ed7-ae8e-4ae6-b95c-75fe09a6c147"
      },
      "execution_count": null,
      "outputs": [
        {
          "output_type": "error",
          "ename": "TypeError",
          "evalue": "ignored",
          "traceback": [
            "\u001b[0;31m---------------------------------------------------------------------------\u001b[0m",
            "\u001b[0;31mTypeError\u001b[0m                                 Traceback (most recent call last)",
            "\u001b[0;32m<ipython-input-104-bb6d2a2e4378>\u001b[0m in \u001b[0;36m<module>\u001b[0;34m\u001b[0m\n\u001b[0;32m----> 1\u001b[0;31m \u001b[0mtup\u001b[0m\u001b[0;34m[\u001b[0m\u001b[0;36m2\u001b[0m\u001b[0;34m]\u001b[0m \u001b[0;34m=\u001b[0m \u001b[0;36m1\u001b[0m\u001b[0;34m\u001b[0m\u001b[0;34m\u001b[0m\u001b[0m\n\u001b[0m",
            "\u001b[0;31mTypeError\u001b[0m: 'tuple' object does not support item assignment"
          ]
        }
      ]
    },
    {
      "cell_type": "code",
      "source": [
        "b = a"
      ],
      "metadata": {
        "id": "WVxUBkE7R0fL"
      },
      "execution_count": null,
      "outputs": []
    },
    {
      "cell_type": "code",
      "source": [
        "d1 = {'Title':'우리가 빛의 속도로 갈 수 없다면',\n",
        "      'Year':2019,\n",
        "      'Author':'Kim Cho-yeop',\n",
        "      'Country':'Korea',\n",
        "      'Genere':'SF'\n",
        "      }"
      ],
      "metadata": {
        "id": "76z36auvSLx_"
      },
      "execution_count": null,
      "outputs": []
    },
    {
      "cell_type": "code",
      "source": [
        "d1['Title']"
      ],
      "metadata": {
        "colab": {
          "base_uri": "https://localhost:8080/",
          "height": 35
        },
        "id": "lN5RZArvSMuq",
        "outputId": "d1d0691b-abe8-45f1-f492-f9c54959d8f5"
      },
      "execution_count": null,
      "outputs": [
        {
          "output_type": "execute_result",
          "data": {
            "text/plain": [
              "'우리가 빛의 속도로 갈 수 없다면'"
            ],
            "application/vnd.google.colaboratory.intrinsic+json": {
              "type": "string"
            }
          },
          "metadata": {},
          "execution_count": 48
        }
      ]
    },
    {
      "cell_type": "code",
      "source": [
        "d2 = {'Title':'불편한 편의점',\n",
        "      'Year':2019,\n",
        "      'Author':'장호연..?',\n",
        "      'Country':'Korea',\n",
        "      'Genere':'Novel..'\n",
        "      }"
      ],
      "metadata": {
        "id": "nMzzB3_BSuv-"
      },
      "execution_count": null,
      "outputs": []
    },
    {
      "cell_type": "code",
      "source": [
        "d3 = {'Title':'천개의 파랑',\n",
        "      'Year':2021,\n",
        "      'Author':'천선란',\n",
        "      'Country':'Korea',\n",
        "      'Genere':'SF'\n",
        "      }"
      ],
      "metadata": {
        "id": "vU9TLIhwlBK1"
      },
      "execution_count": null,
      "outputs": []
    },
    {
      "cell_type": "code",
      "source": [
        "# 딕셔너리의 리스트 생성\n",
        "d_list\t=\t[d1,d2,d3]"
      ],
      "metadata": {
        "id": "jKQdkwPpHEEa"
      },
      "execution_count": null,
      "outputs": []
    },
    {
      "cell_type": "code",
      "source": [
        "# 내용 확인\n",
        "print(d_list[1]['Title'])"
      ],
      "metadata": {
        "colab": {
          "base_uri": "https://localhost:8080/"
        },
        "id": "RvjjlKZYHF5X",
        "outputId": "814084f4-56c8-4da2-9be5-b5a8091c7ca5"
      },
      "execution_count": null,
      "outputs": [
        {
          "output_type": "stream",
          "name": "stdout",
          "text": [
            "불편한 편의점\n"
          ]
        }
      ]
    },
    {
      "cell_type": "code",
      "source": [
        "for i in range(3):\n",
        "  if d_list[i]['Year'] < 2020:\n",
        "    print(d_list[i])"
      ],
      "metadata": {
        "colab": {
          "base_uri": "https://localhost:8080/"
        },
        "id": "XDDv4OQclUNF",
        "outputId": "c30c234b-c205-4553-bdb5-b59d442bbc57"
      },
      "execution_count": null,
      "outputs": [
        {
          "output_type": "stream",
          "name": "stdout",
          "text": [
            "{'Title': '우리가 빛의 속도로 갈 수 없다면', 'Year': 2019, 'Author': 'Kim Cho-yeop', 'Country': 'Korea', 'Genere': 'SF'}\n",
            "{'Title': '불편한 편의점', 'Year': 2019, 'Author': '장호연..?', 'Country': 'Korea', 'Genere': 'Novel..'}\n"
          ]
        }
      ]
    },
    {
      "cell_type": "code",
      "source": [
        "d_list2 = d_list"
      ],
      "metadata": {
        "id": "iCHNMZZ3lpP9"
      },
      "execution_count": null,
      "outputs": []
    },
    {
      "cell_type": "code",
      "source": [
        "d_list[1]['Year'] = 2023\n",
        "print(d_list[1])"
      ],
      "metadata": {
        "colab": {
          "base_uri": "https://localhost:8080/"
        },
        "id": "NN7AKb1zlr0A",
        "outputId": "7a184445-961a-401b-95d9-92c97cabc248"
      },
      "execution_count": null,
      "outputs": [
        {
          "output_type": "stream",
          "name": "stdout",
          "text": [
            "{'Title': '불편한 편의점', 'Year': 2023, 'Author': '장호연..?', 'Country': 'Korea', 'Genere': 'Novel..'}\n"
          ]
        }
      ]
    },
    {
      "cell_type": "code",
      "source": [
        "s = {3, 5, 4}\n",
        "print(s, type(s))"
      ],
      "metadata": {
        "colab": {
          "base_uri": "https://localhost:8080/"
        },
        "id": "e1AbMHL0kxTj",
        "outputId": "cad92e39-a3e5-4b7a-a706-1d3ae0034412"
      },
      "execution_count": null,
      "outputs": [
        {
          "output_type": "stream",
          "name": "stdout",
          "text": [
            "{3, 4, 5} <class 'set'>\n"
          ]
        }
      ]
    },
    {
      "cell_type": "code",
      "source": [
        "# 집합 (p.153) 실습\n",
        "v = [3,4,5,6]\n",
        "avg = (v[0] + v[1] + v[2] + v[3]) / 4\n",
        "print(avg)"
      ],
      "metadata": {
        "colab": {
          "base_uri": "https://localhost:8080/"
        },
        "id": "6Jm9kVTCHm1w",
        "outputId": "3d1990e7-db51-4136-866a-2ab7cee69102"
      },
      "execution_count": null,
      "outputs": [
        {
          "output_type": "stream",
          "name": "stdout",
          "text": [
            "4.5\n"
          ]
        }
      ]
    },
    {
      "cell_type": "code",
      "source": [
        "v = list(range(1, 30, 2))\n",
        "print(v[14])"
      ],
      "metadata": {
        "colab": {
          "base_uri": "https://localhost:8080/"
        },
        "id": "uZT23K-JHJlA",
        "outputId": "38fc96f8-ca04-4416-e185-2c5e2226e413"
      },
      "execution_count": null,
      "outputs": [
        {
          "output_type": "stream",
          "name": "stdout",
          "text": [
            "29\n"
          ]
        }
      ]
    },
    {
      "cell_type": "code",
      "source": [
        "dict1 = {'KO' : '사랑', 'EN' : 'Love', 'JP' : '愛'}\n",
        "dict2 = {'KO' : '집', 'EN' : 'House', 'JP' : '家'}\n",
        "dict3 = {'KO' : '바다', 'EN' : 'Sea', 'JP' : '海'}"
      ],
      "metadata": {
        "id": "cR85sPZjHbIV"
      },
      "execution_count": null,
      "outputs": []
    },
    {
      "cell_type": "code",
      "source": [
        "dict_list = []\n",
        "dict_list.append(dict1)\n",
        "dict_list.append(dict2)\n",
        "dict_list.append(dict3)\n",
        "\n",
        "print(dict_list)"
      ],
      "metadata": {
        "colab": {
          "base_uri": "https://localhost:8080/"
        },
        "id": "zfNs2tfpIZuF",
        "outputId": "b09d53c5-830e-40aa-b03f-bad8c61358aa"
      },
      "execution_count": null,
      "outputs": [
        {
          "output_type": "stream",
          "name": "stdout",
          "text": [
            "[{'KO': '사랑', 'EN': 'Love', 'JP': '愛'}, {'KO': '집', 'EN': 'House', 'JP': '家'}, {'KO': '바다', 'EN': 'Sea', 'JP': '海'}]\n"
          ]
        }
      ]
    },
    {
      "cell_type": "code",
      "source": [
        "dict_list[1]['EN']"
      ],
      "metadata": {
        "colab": {
          "base_uri": "https://localhost:8080/"
        },
        "id": "vdWXBCTxIk_z",
        "outputId": "2a2e26fb-ddc1-4a60-e095-6ba30dfe4d3c"
      },
      "execution_count": null,
      "outputs": [
        {
          "output_type": "execute_result",
          "data": {
            "text/plain": [
              "'House'"
            ],
            "application/vnd.google.colaboratory.intrinsic+json": {
              "type": "string"
            }
          },
          "metadata": {},
          "execution_count": 13
        }
      ]
    },
    {
      "cell_type": "code",
      "source": [
        "dict_list[2]['KO']"
      ],
      "metadata": {
        "colab": {
          "base_uri": "https://localhost:8080/"
        },
        "id": "z9lO12LAIoHV",
        "outputId": "3504f0e5-4fb3-40bb-9662-949c7af2c512"
      },
      "execution_count": null,
      "outputs": [
        {
          "output_type": "execute_result",
          "data": {
            "text/plain": [
              "'바다'"
            ],
            "application/vnd.google.colaboratory.intrinsic+json": {
              "type": "string"
            }
          },
          "metadata": {},
          "execution_count": 14
        }
      ]
    },
    {
      "cell_type": "markdown",
      "source": [
        "# 3.8 반복문"
      ],
      "metadata": {
        "id": "e2xauILSI3F8"
      }
    },
    {
      "cell_type": "code",
      "source": [
        "data_list = list(range(1,11))\n",
        "sum = 0\n",
        "\n",
        "for x in data_list:\n",
        "# for x in range(1,11):\n",
        "  sum += x\n",
        "\n",
        "print(sum)"
      ],
      "metadata": {
        "colab": {
          "base_uri": "https://localhost:8080/"
        },
        "id": "pJdyUM0GC6JR",
        "outputId": "79479300-d458-4b1d-c6dd-ded2b4d05d9a"
      },
      "execution_count": null,
      "outputs": [
        {
          "output_type": "stream",
          "name": "stdout",
          "text": [
            "55\n"
          ]
        }
      ]
    },
    {
      "cell_type": "code",
      "source": [
        "v = list(range(3,7))\n",
        "sum = 0\n",
        "for n in v:\n",
        "  sum += n\n",
        "avg = sum / len(v)\n",
        "\n",
        "avg"
      ],
      "metadata": {
        "colab": {
          "base_uri": "https://localhost:8080/"
        },
        "id": "M0tRq9RNEbZi",
        "outputId": "4ea63cd8-cc62-40ec-ad1e-0a5ad656b981"
      },
      "execution_count": null,
      "outputs": [
        {
          "output_type": "execute_result",
          "data": {
            "text/plain": [
              "4.5"
            ]
          },
          "metadata": {},
          "execution_count": 9
        }
      ]
    },
    {
      "cell_type": "code",
      "source": [
        "import numpy as np\n",
        "n = 0       # 승수\n",
        "result = 1  # 2**n\n",
        "\n",
        "while result <= 10000:\n",
        "  n += 1\n",
        "  result *= 2\n",
        "\n",
        "print(f'The answer is {result//2}')"
      ],
      "metadata": {
        "colab": {
          "base_uri": "https://localhost:8080/"
        },
        "id": "C_U6pUaKFEhc",
        "outputId": "f63907ac-e5e7-476f-a858-f26d656926ca"
      },
      "execution_count": null,
      "outputs": [
        {
          "output_type": "stream",
          "name": "stdout",
          "text": [
            "The answer is 8192\n"
          ]
        }
      ]
    },
    {
      "cell_type": "code",
      "source": [
        "for n in range(10000):\n",
        "  result = 2**n\n",
        "  if result>10000:\n",
        "    break\n",
        "\n",
        "print(f'The answer is {result//2}')"
      ],
      "metadata": {
        "colab": {
          "base_uri": "https://localhost:8080/"
        },
        "id": "4U32UO4IHPai",
        "outputId": "83c54837-ec46-441d-ed74-849a0e4c739a"
      },
      "execution_count": null,
      "outputs": [
        {
          "output_type": "stream",
          "name": "stdout",
          "text": [
            "The answer is 8192\n"
          ]
        }
      ]
    },
    {
      "cell_type": "code",
      "source": [
        "customer = [{'Name' : 'Yujeong','Tel' : 9787, 'Price':18},\n",
        "            {'Name' : 'Jaehyun','Tel' : 1997, 'Price':214},\n",
        "            {'Name' : 'Taeil','Tel' : 1994, 'Price':614},\n",
        "            {'Name' : 'Haechan','Tel' : 2000, 'Price':66}]\n",
        "\n",
        "for c in customer:\n",
        "  if c['Price'] > 100:\n",
        "    print(c)"
      ],
      "metadata": {
        "colab": {
          "base_uri": "https://localhost:8080/"
        },
        "id": "mKlE7tShICyf",
        "outputId": "650a6ae1-a4fc-4259-84c5-81e3f025bca6"
      },
      "execution_count": null,
      "outputs": [
        {
          "output_type": "stream",
          "name": "stdout",
          "text": [
            "{'Name': 'Jaehyun', 'Tel': 1997, 'Price': 214}\n",
            "{'Name': 'Taeil', 'Tel': 1994, 'Price': 614}\n"
          ]
        }
      ]
    },
    {
      "cell_type": "code",
      "source": [
        "for n in range(101):\n",
        "  if n % 3 != 0:\n",
        "    print(n, end=' ')"
      ],
      "metadata": {
        "colab": {
          "base_uri": "https://localhost:8080/"
        },
        "id": "AjJsWNdNIafB",
        "outputId": "d178ced0-5887-4f70-bf30-7b54cfffb63c"
      },
      "execution_count": null,
      "outputs": [
        {
          "output_type": "stream",
          "name": "stdout",
          "text": [
            "1 2 4 5 7 8 10 11 13 14 16 17 19 20 22 23 25 26 28 29 31 32 34 35 37 38 40 41 43 44 46 47 49 50 52 53 55 56 58 59 61 62 64 65 67 68 70 71 73 74 76 77 79 80 82 83 85 86 88 89 91 92 94 95 97 98 100 "
          ]
        }
      ]
    },
    {
      "cell_type": "code",
      "source": [
        "for i in range(1, 10):\n",
        "  sq_type = np.sqrt(i)\n",
        "  print(sq_type)\n",
        "  if sq_type == int(sq_type):\n",
        "    print(f'{i} = {int(sq_type)} * {int(sq_type)}')\n",
        "    # print(i, end = ' ')"
      ],
      "metadata": {
        "colab": {
          "base_uri": "https://localhost:8080/"
        },
        "id": "Xark_pcqImyX",
        "outputId": "5281839c-0cf7-48b0-a812-3ef7f4cfee17"
      },
      "execution_count": null,
      "outputs": [
        {
          "output_type": "stream",
          "name": "stdout",
          "text": [
            "1.0\n",
            "1 = 1 * 1\n",
            "1.4142135623730951\n",
            "1.7320508075688772\n",
            "2.0\n",
            "4 = 2 * 2\n",
            "2.23606797749979\n",
            "2.449489742783178\n",
            "2.6457513110645907\n",
            "2.8284271247461903\n",
            "3.0\n",
            "9 = 3 * 3\n"
          ]
        }
      ]
    },
    {
      "cell_type": "code",
      "source": [
        "s = np.sqrt(5)\n",
        "type(s)"
      ],
      "metadata": {
        "colab": {
          "base_uri": "https://localhost:8080/"
        },
        "id": "bU5Jgq9KJCsz",
        "outputId": "631b03a8-1cf7-4783-9fed-c12dc6f74456"
      },
      "execution_count": null,
      "outputs": [
        {
          "output_type": "execute_result",
          "data": {
            "text/plain": [
              "numpy.float64"
            ]
          },
          "metadata": {},
          "execution_count": 33
        }
      ]
    },
    {
      "cell_type": "code",
      "source": [
        "# for x in [1,2,3,4,5]:\n",
        "for x in range(1,6):\n",
        "  print(x)"
      ],
      "metadata": {
        "colab": {
          "base_uri": "https://localhost:8080/"
        },
        "id": "9fujHOO3JUiy",
        "outputId": "625e86bd-bf15-4a17-e071-9e4bcf97e83e"
      },
      "execution_count": null,
      "outputs": [
        {
          "output_type": "stream",
          "name": "stdout",
          "text": [
            "1\n",
            "2\n",
            "3\n",
            "4\n",
            "5\n"
          ]
        }
      ]
    },
    {
      "cell_type": "code",
      "source": [
        "x_list = [3,4,8,6,9,-3]\n",
        "# for i in range(6):\n",
        "# for i in range(len(x_list)):\n",
        "for i in x_list:\n",
        "  print(i)"
      ],
      "metadata": {
        "colab": {
          "base_uri": "https://localhost:8080/"
        },
        "id": "orSjYyBCJzVl",
        "outputId": "d63af26c-f954-4bf8-ff27-6786c0ce2ffe"
      },
      "execution_count": null,
      "outputs": [
        {
          "output_type": "stream",
          "name": "stdout",
          "text": [
            "3\n",
            "4\n",
            "8\n",
            "6\n",
            "9\n",
            "-3\n"
          ]
        }
      ]
    },
    {
      "cell_type": "code",
      "source": [
        "n = int(input())\n",
        "cnt = 0\n",
        "print('------')\n",
        "while n != 1:\n",
        "  if n % 2 == 0:\n",
        "    n //= 2\n",
        "  else:\n",
        "    n = n*3+1\n",
        "  cnt += 1\n",
        "  print(n)\n",
        "\n",
        "print( f'콜라츠 추측이 {cnt}번 만에 성립!')\n"
      ],
      "metadata": {
        "colab": {
          "base_uri": "https://localhost:8080/"
        },
        "id": "4_ogzqNmKt8-",
        "outputId": "fa208805-c941-435a-dcf4-c44040f9e50a"
      },
      "execution_count": null,
      "outputs": [
        {
          "output_type": "stream",
          "name": "stdout",
          "text": [
            "5\n",
            "------\n",
            "16\n",
            "8\n",
            "4\n",
            "2\n",
            "1\n",
            "콜라츠 추측이 5번 만에 성립!\n"
          ]
        }
      ]
    },
    {
      "cell_type": "code",
      "source": [
        "# p.165\n",
        "v = [3,4,5,6]"
      ],
      "metadata": {
        "id": "yRxCk_osL2a_"
      },
      "execution_count": null,
      "outputs": []
    },
    {
      "cell_type": "code",
      "source": [
        "sum = 0\n",
        "for x in v:\n",
        "  sum += x\n",
        "avg = sum / len(v)"
      ],
      "metadata": {
        "id": "cg3e7-LKN2MV"
      },
      "execution_count": null,
      "outputs": []
    },
    {
      "cell_type": "code",
      "source": [
        "print(avg)"
      ],
      "metadata": {
        "colab": {
          "base_uri": "https://localhost:8080/"
        },
        "id": "GXl8bdVpOALu",
        "outputId": "017d27fa-4e54-485e-85ec-def924daf70f"
      },
      "execution_count": null,
      "outputs": [
        {
          "output_type": "stream",
          "name": "stdout",
          "text": [
            "4.5\n"
          ]
        }
      ]
    },
    {
      "cell_type": "code",
      "source": [
        "n = 0\n",
        "power_of_n = 1\n",
        "\n",
        "while power_of_n <= 10000:\n",
        "  n += 1\n",
        "  power_of_n *= 2\n",
        "\n",
        "print(f'The answer is {power_of_n//2}')"
      ],
      "metadata": {
        "colab": {
          "base_uri": "https://localhost:8080/"
        },
        "id": "HZSmdQChOBhT",
        "outputId": "ea9e7a80-e0de-4256-ef39-9af884d2900e"
      },
      "execution_count": null,
      "outputs": [
        {
          "output_type": "stream",
          "name": "stdout",
          "text": [
            "The answer is 8192\n"
          ]
        }
      ]
    },
    {
      "cell_type": "code",
      "source": [
        "2**14"
      ],
      "metadata": {
        "colab": {
          "base_uri": "https://localhost:8080/"
        },
        "id": "8P_I_zbxOjHp",
        "outputId": "1ce3cbe9-df56-48a3-f19a-701e613c4d84"
      },
      "execution_count": null,
      "outputs": [
        {
          "output_type": "execute_result",
          "data": {
            "text/plain": [
              "16384"
            ]
          },
          "metadata": {},
          "execution_count": 37
        }
      ]
    },
    {
      "cell_type": "code",
      "source": [
        "2**13"
      ],
      "metadata": {
        "colab": {
          "base_uri": "https://localhost:8080/"
        },
        "id": "Hy3LqiotOoF9",
        "outputId": "30947419-796f-4d54-e240-bd40f0551165"
      },
      "execution_count": null,
      "outputs": [
        {
          "output_type": "execute_result",
          "data": {
            "text/plain": [
              "8192"
            ]
          },
          "metadata": {},
          "execution_count": 41
        }
      ]
    },
    {
      "cell_type": "markdown",
      "source": [
        "# 3.9 Numpy 배열"
      ],
      "metadata": {
        "id": "Yd60EjU-Gjch"
      }
    },
    {
      "cell_type": "code",
      "source": [
        "import numpy as np"
      ],
      "metadata": {
        "id": "QBI5RExFSuqa"
      },
      "execution_count": null,
      "outputs": []
    },
    {
      "cell_type": "code",
      "source": [
        "n_list = [[3,4,1,2],[8,2,4,9]]\n",
        "n = np.array(n_list)"
      ],
      "metadata": {
        "id": "W9wUBmmZTR2S"
      },
      "execution_count": null,
      "outputs": []
    },
    {
      "cell_type": "code",
      "source": [
        "n_list[0][2]"
      ],
      "metadata": {
        "colab": {
          "base_uri": "https://localhost:8080/"
        },
        "id": "ZNR0SzMATtEY",
        "outputId": "c8ce3936-55cf-476b-ab75-b77f55ebfb78"
      },
      "execution_count": null,
      "outputs": [
        {
          "output_type": "execute_result",
          "data": {
            "text/plain": [
              "1"
            ]
          },
          "metadata": {},
          "execution_count": 47
        }
      ]
    },
    {
      "cell_type": "code",
      "source": [
        "np.zeros((3,5))"
      ],
      "metadata": {
        "colab": {
          "base_uri": "https://localhost:8080/"
        },
        "id": "XVMMf5fUTuw2",
        "outputId": "f523d790-0798-489f-8e1d-bb76cd3d51c3"
      },
      "execution_count": null,
      "outputs": [
        {
          "output_type": "execute_result",
          "data": {
            "text/plain": [
              "array([[0., 0., 0., 0., 0.],\n",
              "       [0., 0., 0., 0., 0.],\n",
              "       [0., 0., 0., 0., 0.]])"
            ]
          },
          "metadata": {},
          "execution_count": 48
        }
      ]
    },
    {
      "cell_type": "code",
      "source": [
        "n = np.ones((3,5))"
      ],
      "metadata": {
        "id": "Qfg5t8kKT8DQ"
      },
      "execution_count": null,
      "outputs": []
    },
    {
      "cell_type": "code",
      "source": [
        "n[2,4] = 100"
      ],
      "metadata": {
        "id": "PPR3JlGOT-bf"
      },
      "execution_count": null,
      "outputs": []
    },
    {
      "cell_type": "code",
      "source": [
        "n"
      ],
      "metadata": {
        "colab": {
          "base_uri": "https://localhost:8080/"
        },
        "id": "594EUnMbUMW7",
        "outputId": "bac70d38-ee90-47e8-cf13-0b9d3f4aef15"
      },
      "execution_count": null,
      "outputs": [
        {
          "output_type": "execute_result",
          "data": {
            "text/plain": [
              "array([[  1.,   1.,   1.,   1.,   1.],\n",
              "       [  1.,   1.,   1.,   1.,   1.],\n",
              "       [  1.,   1.,   1.,   1., 100.]])"
            ]
          },
          "metadata": {},
          "execution_count": 52
        }
      ]
    },
    {
      "cell_type": "code",
      "source": [
        "n = np.random.rand(3,5)"
      ],
      "metadata": {
        "id": "rVXd0FNqUM6J"
      },
      "execution_count": null,
      "outputs": []
    },
    {
      "cell_type": "code",
      "source": [
        "n"
      ],
      "metadata": {
        "colab": {
          "base_uri": "https://localhost:8080/"
        },
        "id": "v49YuFVtUj9F",
        "outputId": "504e81e3-21d3-4890-ee0a-08593cad90cb"
      },
      "execution_count": null,
      "outputs": [
        {
          "output_type": "execute_result",
          "data": {
            "text/plain": [
              "array([[0.61655598, 0.25288403, 0.10133691, 0.0165047 , 0.3052975 ],\n",
              "       [0.45166636, 0.23181334, 0.34273956, 0.33146903, 0.60246115],\n",
              "       [0.84521762, 0.31741332, 0.92474468, 0.52678471, 0.85425075]])"
            ]
          },
          "metadata": {},
          "execution_count": 92
        }
      ]
    },
    {
      "cell_type": "code",
      "source": [
        "n[1,1]"
      ],
      "metadata": {
        "colab": {
          "base_uri": "https://localhost:8080/"
        },
        "id": "gAR5dpEQUk8W",
        "outputId": "1c356d66-0ee1-4cee-c5b8-ccb4a41f7752"
      },
      "execution_count": null,
      "outputs": [
        {
          "output_type": "execute_result",
          "data": {
            "text/plain": [
              "0.44065211798415016"
            ]
          },
          "metadata": {},
          "execution_count": 63
        }
      ]
    },
    {
      "cell_type": "code",
      "source": [
        "n = int(n * 10)"
      ],
      "metadata": {
        "colab": {
          "base_uri": "https://localhost:8080/",
          "height": 171
        },
        "id": "vPRomeTXUq4p",
        "outputId": "be793087-64c0-4e5b-eeb1-55286876d137"
      },
      "execution_count": null,
      "outputs": [
        {
          "output_type": "error",
          "ename": "TypeError",
          "evalue": "ignored",
          "traceback": [
            "\u001b[0;31m---------------------------------------------------------------------------\u001b[0m",
            "\u001b[0;31mTypeError\u001b[0m                                 Traceback (most recent call last)",
            "\u001b[0;32m<ipython-input-56-8797e38e6244>\u001b[0m in \u001b[0;36m<module>\u001b[0;34m\u001b[0m\n\u001b[0;32m----> 1\u001b[0;31m \u001b[0mn\u001b[0m \u001b[0;34m=\u001b[0m \u001b[0mint\u001b[0m\u001b[0;34m(\u001b[0m\u001b[0mn\u001b[0m \u001b[0;34m*\u001b[0m \u001b[0;36m10\u001b[0m\u001b[0;34m)\u001b[0m\u001b[0;34m\u001b[0m\u001b[0;34m\u001b[0m\u001b[0m\n\u001b[0m",
            "\u001b[0;31mTypeError\u001b[0m: only size-1 arrays can be converted to Python scalars"
          ]
        }
      ]
    },
    {
      "cell_type": "code",
      "source": [
        "n = np.round(n*10)"
      ],
      "metadata": {
        "id": "RmTwvuy6U0b-"
      },
      "execution_count": null,
      "outputs": []
    },
    {
      "cell_type": "code",
      "source": [
        "n"
      ],
      "metadata": {
        "colab": {
          "base_uri": "https://localhost:8080/"
        },
        "id": "g0ssZvwLU197",
        "outputId": "dc67e14d-1edb-46bb-ec7f-c60cfd427a5d"
      },
      "execution_count": null,
      "outputs": [
        {
          "output_type": "execute_result",
          "data": {
            "text/plain": [
              "array([[6., 3., 1., 0., 3.],\n",
              "       [5., 2., 3., 3., 6.],\n",
              "       [8., 3., 9., 5., 9.]])"
            ]
          },
          "metadata": {},
          "execution_count": 94
        }
      ]
    },
    {
      "cell_type": "code",
      "source": [
        "n[1,2]"
      ],
      "metadata": {
        "colab": {
          "base_uri": "https://localhost:8080/"
        },
        "id": "UI38bh8-U3c9",
        "outputId": "c30e0fc5-daa4-4dc7-a586-e7b49c747f43"
      },
      "execution_count": null,
      "outputs": [
        {
          "output_type": "execute_result",
          "data": {
            "text/plain": [
              "4.0"
            ]
          },
          "metadata": {},
          "execution_count": 66
        }
      ]
    },
    {
      "cell_type": "code",
      "source": [
        "n[1,2:4]"
      ],
      "metadata": {
        "colab": {
          "base_uri": "https://localhost:8080/"
        },
        "id": "-tukOQRwVMRl",
        "outputId": "629b77cc-85dd-4826-b883-5241dc4d9f47"
      },
      "execution_count": null,
      "outputs": [
        {
          "output_type": "execute_result",
          "data": {
            "text/plain": [
              "array([4., 7.])"
            ]
          },
          "metadata": {},
          "execution_count": 69
        }
      ]
    },
    {
      "cell_type": "code",
      "source": [
        "n[1,2:]"
      ],
      "metadata": {
        "colab": {
          "base_uri": "https://localhost:8080/"
        },
        "id": "Eb1IZ8PDVN_S",
        "outputId": "3a179403-7d9c-4424-a5f2-4d3ff190025c"
      },
      "execution_count": null,
      "outputs": [
        {
          "output_type": "execute_result",
          "data": {
            "text/plain": [
              "array([4., 7., 3.])"
            ]
          },
          "metadata": {},
          "execution_count": 70
        }
      ]
    },
    {
      "cell_type": "code",
      "source": [
        "n[1:,2:]"
      ],
      "metadata": {
        "colab": {
          "base_uri": "https://localhost:8080/"
        },
        "id": "CP5wfkreVhT6",
        "outputId": "4f440301-1ddf-4520-d5e4-d72910cb5664"
      },
      "execution_count": null,
      "outputs": [
        {
          "output_type": "execute_result",
          "data": {
            "text/plain": [
              "array([[4., 7., 3.],\n",
              "       [5., 8., 5.]])"
            ]
          },
          "metadata": {},
          "execution_count": 71
        }
      ]
    },
    {
      "cell_type": "code",
      "source": [
        "n[:2,2:]"
      ],
      "metadata": {
        "colab": {
          "base_uri": "https://localhost:8080/"
        },
        "id": "oU7Ah_RhVjVe",
        "outputId": "6ab29dc7-ba38-4b6f-d5ad-fbc1aebc87aa"
      },
      "execution_count": null,
      "outputs": [
        {
          "output_type": "execute_result",
          "data": {
            "text/plain": [
              "array([[8., 5., 6.],\n",
              "       [4., 7., 3.]])"
            ]
          },
          "metadata": {},
          "execution_count": 72
        }
      ]
    },
    {
      "cell_type": "code",
      "source": [
        "# 변수명[start:end:step]\n",
        "n[:,::2]\n",
        "# 행 = 전체\n",
        "# 열 = 0 ~ 2, 0+2"
      ],
      "metadata": {
        "colab": {
          "base_uri": "https://localhost:8080/"
        },
        "id": "CQpgdaxGVxDe",
        "outputId": "b2e21858-d138-4f1d-d034-b5c326a726c7"
      },
      "execution_count": null,
      "outputs": [
        {
          "output_type": "execute_result",
          "data": {
            "text/plain": [
              "array([[3., 8., 6.],\n",
              "       [6., 4., 3.],\n",
              "       [7., 5., 5.]])"
            ]
          },
          "metadata": {},
          "execution_count": 73
        }
      ]
    },
    {
      "cell_type": "code",
      "source": [
        "b = np.array([[True,False,True,False,True],\n",
        "              [True,False,True,False,True],\n",
        "              [True,False,False,False,False]])"
      ],
      "metadata": {
        "id": "RCRsU5y2V3A9"
      },
      "execution_count": null,
      "outputs": []
    },
    {
      "cell_type": "code",
      "source": [
        "b"
      ],
      "metadata": {
        "colab": {
          "base_uri": "https://localhost:8080/"
        },
        "id": "Rox3C38tXwNk",
        "outputId": "bf06d4ae-5c42-4f99-d28e-6a8e4dbaabe7"
      },
      "execution_count": null,
      "outputs": [
        {
          "output_type": "execute_result",
          "data": {
            "text/plain": [
              "array([[ True, False,  True, False,  True],\n",
              "       [ True, False,  True, False,  True],\n",
              "       [ True, False, False, False, False]])"
            ]
          },
          "metadata": {},
          "execution_count": 76
        }
      ]
    },
    {
      "cell_type": "code",
      "source": [
        "n[b]\n",
        "# n에서 b의 값이 True인 셀만 선택됨"
      ],
      "metadata": {
        "colab": {
          "base_uri": "https://localhost:8080/"
        },
        "id": "fbEyZzrXXx_J",
        "outputId": "a518b036-74aa-46bf-dec0-bcd5c2127478"
      },
      "execution_count": null,
      "outputs": [
        {
          "output_type": "execute_result",
          "data": {
            "text/plain": [
              "array([3., 8., 6., 6., 4., 3., 7.])"
            ]
          },
          "metadata": {},
          "execution_count": 77
        }
      ]
    },
    {
      "cell_type": "code",
      "source": [
        "n"
      ],
      "metadata": {
        "colab": {
          "base_uri": "https://localhost:8080/"
        },
        "id": "i3cYhtoDX5FB",
        "outputId": "4462de6b-ebc2-4230-e5fe-2bd856d83845"
      },
      "execution_count": null,
      "outputs": [
        {
          "output_type": "execute_result",
          "data": {
            "text/plain": [
              "array([[3., 6., 8., 5., 6.],\n",
              "       [6., 4., 4., 7., 3.],\n",
              "       [7., 4., 5., 8., 5.]])"
            ]
          },
          "metadata": {},
          "execution_count": 78
        }
      ]
    },
    {
      "cell_type": "code",
      "source": [
        "n[b] = 0"
      ],
      "metadata": {
        "id": "SDz3iES3X9g5"
      },
      "execution_count": null,
      "outputs": []
    },
    {
      "cell_type": "code",
      "source": [
        "n"
      ],
      "metadata": {
        "colab": {
          "base_uri": "https://localhost:8080/"
        },
        "id": "sVH5dZ-PYIpF",
        "outputId": "d67bf40b-2e54-43ca-c636-45edd267ffd4"
      },
      "execution_count": null,
      "outputs": [
        {
          "output_type": "execute_result",
          "data": {
            "text/plain": [
              "array([[ 1.,  7.,  0.,  5.,  9.],\n",
              "       [10.,  0.,  1.,  6.,  9.],\n",
              "       [ 0.,  1.,  6.,  5.,  1.]])"
            ]
          },
          "metadata": {},
          "execution_count": 85
        }
      ]
    },
    {
      "cell_type": "code",
      "source": [
        "b = n > 3"
      ],
      "metadata": {
        "id": "3yBks5XJYJMR"
      },
      "execution_count": null,
      "outputs": []
    },
    {
      "cell_type": "code",
      "source": [
        "b"
      ],
      "metadata": {
        "colab": {
          "base_uri": "https://localhost:8080/"
        },
        "id": "KmfFSMGCYiDu",
        "outputId": "027dd31e-43d8-4686-d80e-34238bb52fdb"
      },
      "execution_count": null,
      "outputs": [
        {
          "output_type": "execute_result",
          "data": {
            "text/plain": [
              "array([[False,  True, False,  True,  True],\n",
              "       [ True, False, False,  True,  True],\n",
              "       [False, False,  True,  True, False]])"
            ]
          },
          "metadata": {},
          "execution_count": 88
        }
      ]
    },
    {
      "cell_type": "code",
      "source": [
        "n[b] = 0"
      ],
      "metadata": {
        "id": "wvy7LTGaYy-g"
      },
      "execution_count": null,
      "outputs": []
    },
    {
      "cell_type": "code",
      "source": [
        "n"
      ],
      "metadata": {
        "colab": {
          "base_uri": "https://localhost:8080/"
        },
        "id": "FPa1dMjiY0Rb",
        "outputId": "b8654f16-3347-4c19-cae2-b546bdaf748a"
      },
      "execution_count": null,
      "outputs": [
        {
          "output_type": "execute_result",
          "data": {
            "text/plain": [
              "array([[1., 0., 0., 0., 0.],\n",
              "       [0., 0., 1., 0., 0.],\n",
              "       [0., 1., 0., 0., 1.]])"
            ]
          },
          "metadata": {},
          "execution_count": 90
        }
      ]
    },
    {
      "cell_type": "code",
      "source": [
        "n[n>3] = 1000"
      ],
      "metadata": {
        "id": "5fhpH7etY12f"
      },
      "execution_count": null,
      "outputs": []
    },
    {
      "cell_type": "code",
      "source": [
        "n"
      ],
      "metadata": {
        "colab": {
          "base_uri": "https://localhost:8080/"
        },
        "id": "_y6MUU2JZHqN",
        "outputId": "b6d25ea6-4c37-4a43-cbc3-13231f85fb41"
      },
      "execution_count": null,
      "outputs": [
        {
          "output_type": "execute_result",
          "data": {
            "text/plain": [
              "array([[1000.,    3.,    1.,    0.,    3.],\n",
              "       [1000.,    2.,    3.,    3., 1000.],\n",
              "       [1000.,    3., 1000., 1000., 1000.]])"
            ]
          },
          "metadata": {},
          "execution_count": 96
        }
      ]
    },
    {
      "cell_type": "code",
      "source": [
        "# 연습문제 4\n",
        "n = 0\n",
        "max = 1\n",
        "while 5*(n**3)+2*(n**2)-(19*n)+20 < 20000:\n",
        "    n += 1\n",
        "    if max < n:\n",
        "      max = n\n",
        "\n",
        "print(max)"
      ],
      "metadata": {
        "id": "srN9QtxIZIZI",
        "colab": {
          "base_uri": "https://localhost:8080/"
        },
        "outputId": "af8dc2fe-db12-4c6a-8a55-c59b36629ec9"
      },
      "execution_count": null,
      "outputs": [
        {
          "output_type": "stream",
          "name": "stdout",
          "text": [
            "16\n"
          ]
        }
      ]
    },
    {
      "cell_type": "code",
      "source": [
        "# 연습문제 7\n",
        "lot_ans = (16,9,7,21,43,14)\n",
        "lot_me = (1,9,3,4,5,14)\n",
        "\n",
        "cnt = 0\n",
        "\n",
        "for x in range(6):\n",
        "  if lot_ans[x] == lot_me[x]:\n",
        "    cnt+=1\n",
        "print(cnt)"
      ],
      "metadata": {
        "colab": {
          "base_uri": "https://localhost:8080/"
        },
        "id": "tb3GREEKZizU",
        "outputId": "9056899e-ceb4-4b30-d0ea-ae4b4cc866f5"
      },
      "execution_count": null,
      "outputs": [
        {
          "output_type": "stream",
          "name": "stdout",
          "text": [
            "2\n"
          ]
        }
      ]
    },
    {
      "cell_type": "code",
      "source": [
        "import numpy as np"
      ],
      "metadata": {
        "id": "MVcWI5MBAmtx"
      },
      "execution_count": null,
      "outputs": []
    },
    {
      "cell_type": "code",
      "source": [
        "n = np.round(np.random.rand(3,4)*10.0)"
      ],
      "metadata": {
        "id": "wPeRYs3KAok7"
      },
      "execution_count": null,
      "outputs": []
    },
    {
      "cell_type": "code",
      "source": [
        "n.shape\n",
        "# (column, row)"
      ],
      "metadata": {
        "colab": {
          "base_uri": "https://localhost:8080/"
        },
        "id": "dwSTV-63AsiP",
        "outputId": "a9699aec-b8c1-4e9b-fb41-b44780680f6d"
      },
      "execution_count": null,
      "outputs": [
        {
          "output_type": "execute_result",
          "data": {
            "text/plain": [
              "(3, 4)"
            ]
          },
          "metadata": {},
          "execution_count": 7
        }
      ]
    },
    {
      "cell_type": "code",
      "source": [
        "n"
      ],
      "metadata": {
        "colab": {
          "base_uri": "https://localhost:8080/"
        },
        "id": "OHzJxvIyA66V",
        "outputId": "57f5af44-5185-42d4-d2bc-415663b33be2"
      },
      "execution_count": null,
      "outputs": [
        {
          "output_type": "execute_result",
          "data": {
            "text/plain": [
              "array([[ 3.,  2.,  1.,  9.],\n",
              "       [ 4.,  1.,  8., 10.],\n",
              "       [ 1.,  1.,  6.,  6.]])"
            ]
          },
          "metadata": {},
          "execution_count": 8
        }
      ]
    },
    {
      "cell_type": "code",
      "source": [
        "m = np.expand_dims(n,2)"
      ],
      "metadata": {
        "id": "X6N1560HBEoE"
      },
      "execution_count": null,
      "outputs": []
    },
    {
      "cell_type": "code",
      "source": [
        "m.shape"
      ],
      "metadata": {
        "colab": {
          "base_uri": "https://localhost:8080/"
        },
        "id": "Y0gZAiE5BIe_",
        "outputId": "45d5e7de-e76b-4417-99dd-d1d01e45b11b"
      },
      "execution_count": null,
      "outputs": [
        {
          "output_type": "execute_result",
          "data": {
            "text/plain": [
              "(3, 4, 1)"
            ]
          },
          "metadata": {},
          "execution_count": 11
        }
      ]
    },
    {
      "cell_type": "code",
      "source": [
        "m = np.expand_dims(n,0)"
      ],
      "metadata": {
        "id": "1hfBYbTzBRQc"
      },
      "execution_count": null,
      "outputs": []
    },
    {
      "cell_type": "code",
      "source": [
        "m.shape"
      ],
      "metadata": {
        "colab": {
          "base_uri": "https://localhost:8080/"
        },
        "id": "0GYPNeQ5D3DS",
        "outputId": "1b0fb9ce-e6d8-40a5-f9d4-ba353c59f300"
      },
      "execution_count": null,
      "outputs": [
        {
          "output_type": "execute_result",
          "data": {
            "text/plain": [
              "(1, 3, 4)"
            ]
          },
          "metadata": {},
          "execution_count": 14
        }
      ]
    },
    {
      "cell_type": "code",
      "source": [
        "m = np.expand_dims(n,-1)"
      ],
      "metadata": {
        "id": "lGa4LlYaD4y0"
      },
      "execution_count": null,
      "outputs": []
    },
    {
      "cell_type": "code",
      "source": [
        "m.shape"
      ],
      "metadata": {
        "colab": {
          "base_uri": "https://localhost:8080/"
        },
        "id": "TGbWSkTzD87z",
        "outputId": "5b9e0afd-9667-41a6-afd1-22f231ea47a3"
      },
      "execution_count": null,
      "outputs": [
        {
          "output_type": "execute_result",
          "data": {
            "text/plain": [
              "(3, 4, 1)"
            ]
          },
          "metadata": {},
          "execution_count": 16
        }
      ]
    },
    {
      "cell_type": "code",
      "source": [
        "m"
      ],
      "metadata": {
        "colab": {
          "base_uri": "https://localhost:8080/"
        },
        "id": "4zt5-v_5D9qH",
        "outputId": "6434ad67-ac40-4bc5-ef15-a99b1eac5787"
      },
      "execution_count": null,
      "outputs": [
        {
          "output_type": "execute_result",
          "data": {
            "text/plain": [
              "array([[[ 3.],\n",
              "        [ 2.],\n",
              "        [ 1.],\n",
              "        [ 9.]],\n",
              "\n",
              "       [[ 4.],\n",
              "        [ 1.],\n",
              "        [ 8.],\n",
              "        [10.]],\n",
              "\n",
              "       [[ 1.],\n",
              "        [ 1.],\n",
              "        [ 6.],\n",
              "        [ 6.]]])"
            ]
          },
          "metadata": {},
          "execution_count": 17
        }
      ]
    },
    {
      "cell_type": "code",
      "source": [
        "n"
      ],
      "metadata": {
        "colab": {
          "base_uri": "https://localhost:8080/"
        },
        "id": "BDQdDwWlEC-a",
        "outputId": "59dda58b-ee2c-40d0-f324-3b6fdfdc9946"
      },
      "execution_count": null,
      "outputs": [
        {
          "output_type": "execute_result",
          "data": {
            "text/plain": [
              "array([[ 3.,  2.,  1.,  9.],\n",
              "       [ 4.,  1.,  8., 10.],\n",
              "       [ 1.,  1.,  6.,  6.]])"
            ]
          },
          "metadata": {},
          "execution_count": 18
        }
      ]
    },
    {
      "cell_type": "code",
      "source": [
        "m = n.reshape(12)"
      ],
      "metadata": {
        "id": "8A7O2cQKElY1"
      },
      "execution_count": null,
      "outputs": []
    },
    {
      "cell_type": "code",
      "source": [
        "m"
      ],
      "metadata": {
        "colab": {
          "base_uri": "https://localhost:8080/"
        },
        "id": "8YQA3OkeEnqa",
        "outputId": "59a5bb86-e8bd-47fa-c7ce-f774e709cccc"
      },
      "execution_count": null,
      "outputs": [
        {
          "output_type": "execute_result",
          "data": {
            "text/plain": [
              "array([ 3.,  2.,  1.,  9.,  4.,  1.,  8., 10.,  1.,  1.,  6.,  6.])"
            ]
          },
          "metadata": {},
          "execution_count": 20
        }
      ]
    },
    {
      "cell_type": "code",
      "source": [
        "m.reshape(3,4)"
      ],
      "metadata": {
        "colab": {
          "base_uri": "https://localhost:8080/"
        },
        "id": "7UHzJc2HEpAR",
        "outputId": "6a72a50e-ec24-4967-d7b6-98e3b1d21b59"
      },
      "execution_count": null,
      "outputs": [
        {
          "output_type": "execute_result",
          "data": {
            "text/plain": [
              "array([[ 3.,  2.,  1.,  9.],\n",
              "       [ 4.,  1.,  8., 10.],\n",
              "       [ 1.,  1.,  6.,  6.]])"
            ]
          },
          "metadata": {},
          "execution_count": 21
        }
      ]
    },
    {
      "cell_type": "code",
      "source": [
        "m.reshape(4,3)\n",
        "# m.reshape(4,-1)\n",
        "# row는 auto fix"
      ],
      "metadata": {
        "colab": {
          "base_uri": "https://localhost:8080/"
        },
        "id": "q8Oz5FNeEqsk",
        "outputId": "8c35e2a3-2f1b-4f80-9a40-a5b18f1d0506"
      },
      "execution_count": null,
      "outputs": [
        {
          "output_type": "execute_result",
          "data": {
            "text/plain": [
              "array([[ 3.,  2.,  1.],\n",
              "       [ 9.,  4.,  1.],\n",
              "       [ 8., 10.,  1.],\n",
              "       [ 1.,  6.,  6.]])"
            ]
          },
          "metadata": {},
          "execution_count": 22
        }
      ]
    },
    {
      "cell_type": "code",
      "source": [
        "k = m.reshape((2,3,-1)) # tuple로 작성"
      ],
      "metadata": {
        "id": "WrNwsiUuE19V"
      },
      "execution_count": null,
      "outputs": []
    },
    {
      "cell_type": "code",
      "source": [
        "k.shape"
      ],
      "metadata": {
        "colab": {
          "base_uri": "https://localhost:8080/"
        },
        "id": "XRtfEuuoFM8w",
        "outputId": "207e4280-fb56-445c-d102-b27e0e939df1"
      },
      "execution_count": null,
      "outputs": [
        {
          "output_type": "execute_result",
          "data": {
            "text/plain": [
              "(2, 3, 2)"
            ]
          },
          "metadata": {},
          "execution_count": 26
        }
      ]
    },
    {
      "cell_type": "code",
      "source": [
        "n = np.round(np.random.rand(3,4)*10.0)"
      ],
      "metadata": {
        "id": "_LHZuVJpFZbo"
      },
      "execution_count": null,
      "outputs": []
    },
    {
      "cell_type": "code",
      "source": [
        "n"
      ],
      "metadata": {
        "colab": {
          "base_uri": "https://localhost:8080/"
        },
        "id": "NSc4k1eFFynQ",
        "outputId": "ba43b0d7-1999-449f-ff37-10397e63488c"
      },
      "execution_count": null,
      "outputs": [
        {
          "output_type": "execute_result",
          "data": {
            "text/plain": [
              "array([[ 8.,  9.,  5.,  5.],\n",
              "       [10.,  2.,  9.,  9.],\n",
              "       [ 4.,  2.,  8.,  3.]])"
            ]
          },
          "metadata": {},
          "execution_count": 28
        }
      ]
    },
    {
      "cell_type": "code",
      "source": [
        "np.max(n)"
      ],
      "metadata": {
        "colab": {
          "base_uri": "https://localhost:8080/"
        },
        "id": "Z1H9TSB8FzOI",
        "outputId": "bed30f84-5a62-4e6e-c8b9-46dc9cb5361a"
      },
      "execution_count": null,
      "outputs": [
        {
          "output_type": "execute_result",
          "data": {
            "text/plain": [
              "10.0"
            ]
          },
          "metadata": {},
          "execution_count": 29
        }
      ]
    },
    {
      "cell_type": "code",
      "source": [
        "np.sum(n)/(n.shape[0]*n.shape[1])"
      ],
      "metadata": {
        "colab": {
          "base_uri": "https://localhost:8080/"
        },
        "id": "Ho3spklKF2Sa",
        "outputId": "8a3a32de-ae25-48cd-8a79-9289744729a4"
      },
      "execution_count": null,
      "outputs": [
        {
          "output_type": "execute_result",
          "data": {
            "text/plain": [
              "6.166666666666667"
            ]
          },
          "metadata": {},
          "execution_count": 30
        }
      ]
    },
    {
      "cell_type": "code",
      "source": [
        "data = np.array([[8.5, 200, 60.2, 450.3, 50],\n",
        "                 [12.3, 230.5, 56.3, 390.2, 35],\n",
        "                 [9.2, 190, 30, 500.4, 60]])"
      ],
      "metadata": {
        "id": "8FujsnvYGMID"
      },
      "execution_count": null,
      "outputs": []
    },
    {
      "cell_type": "code",
      "source": [
        "mean_v = np.mean(data, axis=0)\n",
        "std_v = np.std(data, axis=0)\n",
        "print(f'50m달리기: {mean_v[0]:.2f}±{std_v[0]:.2f}')\n",
        "print(f'멀리뛰기: {mean_v[1]:.2f}±{std_v[1]:.2f}')\n",
        "print(f'오래매달리기: {mean_v[2]:.2f}±{std_v[2]:.2f}')\n",
        "print(f'오래달리기: {mean_v[3]:.2f}±{std_v[3]:.2f}')\n",
        "print(f'윗몸일으키기: {mean_v[4]:.2f}±{std_v[4]:.2f}')"
      ],
      "metadata": {
        "colab": {
          "base_uri": "https://localhost:8080/"
        },
        "id": "rWUQGbotHQWV",
        "outputId": "b9ab7bce-c242-4adf-e805-e089733d8647"
      },
      "execution_count": null,
      "outputs": [
        {
          "output_type": "stream",
          "name": "stdout",
          "text": [
            "50m달리기: 10.00±1.65\n",
            "멀리뛰기: 206.83±17.23\n",
            "오래매달리기: 48.83±13.41\n",
            "오래달리기: 446.97±45.05\n",
            "윗몸일으키기: 48.33±10.27\n"
          ]
        }
      ]
    },
    {
      "cell_type": "code",
      "source": [
        "data = np.array([1,2,5,0,1])\n",
        "idx_max = np.argmax(data)\n",
        "idx_min = np.argmin(data)\n",
        "print(f'최솟값은 {data[idx_min]}입니다.')\n",
        "print(f'최댓값은 {data[idx_max]}입니다.')"
      ],
      "metadata": {
        "colab": {
          "base_uri": "https://localhost:8080/"
        },
        "id": "E85BdethIDC5",
        "outputId": "69e6aef5-8744-4339-f243-5c9640684a4e"
      },
      "execution_count": null,
      "outputs": [
        {
          "output_type": "stream",
          "name": "stdout",
          "text": [
            "최솟값은 0입니다.\n",
            "최댓값은 5입니다.\n"
          ]
        }
      ]
    },
    {
      "cell_type": "code",
      "source": [
        "data = np.array([[8.5, 200, 60.2, 450.3, 50],\n",
        "                 [12.3, 230.5, 56.3, 390.2, 35],\n",
        "                 [9.2, 190, 30, 500.4, 60]])"
      ],
      "metadata": {
        "id": "I0HQcrX8MfeW"
      },
      "execution_count": null,
      "outputs": []
    },
    {
      "cell_type": "code",
      "source": [
        "data.max(0)"
      ],
      "metadata": {
        "colab": {
          "base_uri": "https://localhost:8080/"
        },
        "id": "XCOrbLuwNDBX",
        "outputId": "c90a590f-aa24-44b2-88f7-8ee3ff51b3d2"
      },
      "execution_count": null,
      "outputs": [
        {
          "output_type": "execute_result",
          "data": {
            "text/plain": [
              "array([ 12.3, 230.5,  60.2, 500.4,  60. ])"
            ]
          },
          "metadata": {},
          "execution_count": 38
        }
      ]
    },
    {
      "cell_type": "code",
      "source": [
        "data.min(0)"
      ],
      "metadata": {
        "colab": {
          "base_uri": "https://localhost:8080/"
        },
        "id": "yHfwOsoSNJJU",
        "outputId": "ad6e61ab-95f1-4ea1-b126-a6cfae0826a1"
      },
      "execution_count": null,
      "outputs": [
        {
          "output_type": "execute_result",
          "data": {
            "text/plain": [
              "array([  8.5, 190. ,  30. , 390.2,  35. ])"
            ]
          },
          "metadata": {},
          "execution_count": 39
        }
      ]
    },
    {
      "cell_type": "code",
      "source": [
        "idx_min = np.argmin(data, axis=0)\n",
        "# 반환값 = 최솟값의 인덱스"
      ],
      "metadata": {
        "id": "pekv7QQKNTlS"
      },
      "execution_count": null,
      "outputs": []
    },
    {
      "cell_type": "code",
      "source": [
        "idx_min[0]"
      ],
      "metadata": {
        "colab": {
          "base_uri": "https://localhost:8080/"
        },
        "id": "yWChQBlTNi4H",
        "outputId": "dd5522fe-1957-4699-aa0e-28124423b2e2"
      },
      "execution_count": null,
      "outputs": [
        {
          "output_type": "execute_result",
          "data": {
            "text/plain": [
              "0"
            ]
          },
          "metadata": {},
          "execution_count": 44
        }
      ]
    },
    {
      "cell_type": "code",
      "source": [
        "best_50m_idx = idx_min[0]\n",
        "long_jump_of_best_50m_person = data[best_50m_idx, 1]"
      ],
      "metadata": {
        "id": "Vdnw0-ItNvkL"
      },
      "execution_count": null,
      "outputs": []
    },
    {
      "cell_type": "code",
      "source": [
        "print(f'50m에서 가장 빠른 기록보유자는 {best_50m_idx}번 입니다.')\n",
        "print(f'해당 멀리뛰기 기록은 {long_jump_of_best_50m_person}입니다.')"
      ],
      "metadata": {
        "colab": {
          "base_uri": "https://localhost:8080/"
        },
        "id": "BSBsAIVtOJgv",
        "outputId": "6a32d4d8-ca17-45a6-d143-e5d45c3db498"
      },
      "execution_count": null,
      "outputs": [
        {
          "output_type": "stream",
          "name": "stdout",
          "text": [
            "50m에서 가장 빠른 기록보유자는 0번 입니다.\n",
            "해당 멀리뛰기 기록은 200.0입니다.\n"
          ]
        }
      ]
    },
    {
      "cell_type": "code",
      "source": [
        "data[:,1]"
      ],
      "metadata": {
        "colab": {
          "base_uri": "https://localhost:8080/"
        },
        "id": "B0NRO_x-PzCc",
        "outputId": "af808376-ce01-4d07-a581-677dfbc8b151"
      },
      "execution_count": null,
      "outputs": [
        {
          "output_type": "execute_result",
          "data": {
            "text/plain": [
              "array([200. , 230.5, 190. ])"
            ]
          },
          "metadata": {},
          "execution_count": 54
        }
      ]
    },
    {
      "cell_type": "code",
      "source": [
        "b_sel = data[:,1] > 190"
      ],
      "metadata": {
        "id": "XSjndo2OPQyx"
      },
      "execution_count": null,
      "outputs": []
    },
    {
      "cell_type": "code",
      "source": [
        "b_sel"
      ],
      "metadata": {
        "colab": {
          "base_uri": "https://localhost:8080/"
        },
        "id": "yjjhRMIFPXo7",
        "outputId": "6f2b5b5c-85c9-4c14-8fcf-1cb1fbc9cbd7"
      },
      "execution_count": null,
      "outputs": [
        {
          "output_type": "execute_result",
          "data": {
            "text/plain": [
              "array([ True,  True, False])"
            ]
          },
          "metadata": {},
          "execution_count": 53
        }
      ]
    },
    {
      "cell_type": "code",
      "source": [
        "data_sel = data[b_sel,:]"
      ],
      "metadata": {
        "id": "xFwlVO5aOWN3"
      },
      "execution_count": null,
      "outputs": []
    },
    {
      "cell_type": "code",
      "source": [
        "data_sel"
      ],
      "metadata": {
        "colab": {
          "base_uri": "https://localhost:8080/"
        },
        "id": "slu9Dz2EPD5O",
        "outputId": "7cc78250-dbb6-4454-df24-872baa1261a7"
      },
      "execution_count": null,
      "outputs": [
        {
          "output_type": "execute_result",
          "data": {
            "text/plain": [
              "array([[  8.5, 200. ,  60.2, 450.3,  50. ],\n",
              "       [ 12.3, 230.5,  56.3, 390.2,  35. ]])"
            ]
          },
          "metadata": {},
          "execution_count": 50
        }
      ]
    },
    {
      "cell_type": "code",
      "source": [
        "data[b_sel, 4]"
      ],
      "metadata": {
        "colab": {
          "base_uri": "https://localhost:8080/"
        },
        "id": "pa1uGxa1PMCN",
        "outputId": "4ac6abab-26cb-4585-c03e-a21054110e69"
      },
      "execution_count": null,
      "outputs": [
        {
          "output_type": "execute_result",
          "data": {
            "text/plain": [
              "array([50., 35.])"
            ]
          },
          "metadata": {},
          "execution_count": 56
        }
      ]
    },
    {
      "cell_type": "code",
      "source": [
        "data.reshape(5,3)"
      ],
      "metadata": {
        "colab": {
          "base_uri": "https://localhost:8080/"
        },
        "id": "7hYnRuDMRmTa",
        "outputId": "bcb89317-663d-4b8f-dd53-a6323bf09ec7"
      },
      "execution_count": null,
      "outputs": [
        {
          "output_type": "execute_result",
          "data": {
            "text/plain": [
              "array([[  8.5, 200. ,  60.2],\n",
              "       [450.3,  50. ,  12.3],\n",
              "       [230.5,  56.3, 390.2],\n",
              "       [ 35. ,   9.2, 190. ],\n",
              "       [ 30. , 500.4,  60. ]])"
            ]
          },
          "metadata": {},
          "execution_count": 57
        }
      ]
    },
    {
      "cell_type": "code",
      "source": [
        "# 연습문제 4 ~ 7\n",
        "n = np.round(np.random.rand(45))"
      ],
      "metadata": {
        "id": "a7hilv7AQEbW"
      },
      "execution_count": null,
      "outputs": []
    },
    {
      "cell_type": "code",
      "source": [
        "n"
      ],
      "metadata": {
        "colab": {
          "base_uri": "https://localhost:8080/"
        },
        "id": "RaqeAFrEVXAo",
        "outputId": "9b906add-e918-42fe-d4b5-da8860f7e608"
      },
      "execution_count": null,
      "outputs": [
        {
          "output_type": "execute_result",
          "data": {
            "text/plain": [
              "array([0., 1., 1., 1., 0., 0., 1., 0., 1., 0., 1., 0., 1., 0., 0., 1., 0.,\n",
              "       0., 1., 0., 0., 0., 0., 1., 0., 0., 1., 1., 1., 1., 0., 1., 1., 1.,\n",
              "       1., 0., 1., 1., 0., 1., 0., 0., 1., 0., 0.])"
            ]
          },
          "metadata": {},
          "execution_count": 107
        }
      ]
    },
    {
      "cell_type": "code",
      "source": [
        "n = n.reshape(9,5)\n",
        "# n.reshape(9, -1)"
      ],
      "metadata": {
        "id": "JLfl3NjcR3vC"
      },
      "execution_count": null,
      "outputs": []
    },
    {
      "cell_type": "code",
      "source": [
        "n"
      ],
      "metadata": {
        "colab": {
          "base_uri": "https://localhost:8080/"
        },
        "id": "249u0SrrSruH",
        "outputId": "644142da-1967-4215-a760-143d81ccc95c"
      },
      "execution_count": null,
      "outputs": [
        {
          "output_type": "execute_result",
          "data": {
            "text/plain": [
              "array([[0., 0., 0., 1., 1.],\n",
              "       [0., 0., 1., 0., 1.],\n",
              "       [0., 1., 0., 0., 0.],\n",
              "       [0., 0., 0., 0., 0.],\n",
              "       [0., 1., 1., 1., 1.],\n",
              "       [0., 1., 1., 1., 1.],\n",
              "       [1., 1., 1., 0., 0.],\n",
              "       [0., 1., 1., 0., 1.],\n",
              "       [0., 1., 1., 0., 0.]])"
            ]
          },
          "metadata": {},
          "execution_count": 104
        }
      ]
    },
    {
      "cell_type": "code",
      "source": [
        "m = np.expand_dims(n,axis=-1)"
      ],
      "metadata": {
        "id": "9TotpoCIR4tg"
      },
      "execution_count": null,
      "outputs": []
    },
    {
      "cell_type": "code",
      "source": [
        "m.shape"
      ],
      "metadata": {
        "colab": {
          "base_uri": "https://localhost:8080/"
        },
        "id": "1k8zPH-_WFb3",
        "outputId": "13b93c35-c9fd-4a17-8b3a-67434d9d95ae"
      },
      "execution_count": null,
      "outputs": [
        {
          "output_type": "execute_result",
          "data": {
            "text/plain": [
              "(9, 5, 1)"
            ]
          },
          "metadata": {},
          "execution_count": 118
        }
      ]
    },
    {
      "cell_type": "code",
      "source": [
        "# 오래매달리기 40초 이상인 학생들의\n",
        "# 윗몸일으키기 횟수의 평균\n",
        "data[data[:,2] >= 40, 4].mean()"
      ],
      "metadata": {
        "colab": {
          "base_uri": "https://localhost:8080/"
        },
        "id": "c02Q73chSixg",
        "outputId": "fa5bb5f8-222e-4b4b-d9d9-8b7c047c86f9"
      },
      "execution_count": null,
      "outputs": [
        {
          "output_type": "execute_result",
          "data": {
            "text/plain": [
              "42.5"
            ]
          },
          "metadata": {},
          "execution_count": 124
        }
      ]
    },
    {
      "cell_type": "code",
      "source": [
        "# 오래달기 기록 중 400초 이상은 모두 400초로 수정\n",
        "b_sel = data[:,3] >= 400\n",
        "print(b_sel)"
      ],
      "metadata": {
        "colab": {
          "base_uri": "https://localhost:8080/"
        },
        "id": "RWPnj1iOTYq5",
        "outputId": "5bf7f39d-6328-4ec0-812b-b31c6689c339"
      },
      "execution_count": null,
      "outputs": [
        {
          "output_type": "stream",
          "name": "stdout",
          "text": [
            "[ True False  True]\n"
          ]
        }
      ]
    },
    {
      "cell_type": "code",
      "source": [
        "data[data[:,3] >= 400.3] = 400"
      ],
      "metadata": {
        "id": "u3g1pIC2VJvm"
      },
      "execution_count": null,
      "outputs": []
    },
    {
      "cell_type": "code",
      "source": [
        "data[:,3]"
      ],
      "metadata": {
        "colab": {
          "base_uri": "https://localhost:8080/"
        },
        "id": "GeoVlbLNUlQw",
        "outputId": "f25be39a-2203-4b5b-b004-3afb9dea361e"
      },
      "execution_count": null,
      "outputs": [
        {
          "output_type": "execute_result",
          "data": {
            "text/plain": [
              "array([400. , 390.2, 400. ])"
            ]
          },
          "metadata": {},
          "execution_count": 126
        }
      ]
    },
    {
      "cell_type": "code",
      "source": [
        "'''\n",
        "실습 다시 해보자고\n",
        "'''"
      ],
      "metadata": {
        "id": "2LCI9EWnbyxU"
      },
      "execution_count": null,
      "outputs": []
    },
    {
      "cell_type": "code",
      "source": [
        "import numpy as np\n",
        "n = np.array([ [3,4,1,2],\n",
        "              [8,2,4,9],\n",
        "              [2,1,8,7] ])\n",
        "b = np.array([ [True, False, True, False],\n",
        "              [True, False, True, False],\n",
        "              [True, False, True,False] ])"
      ],
      "metadata": {
        "id": "wiNxcGDoZ3Sf"
      },
      "execution_count": null,
      "outputs": []
    },
    {
      "cell_type": "code",
      "source": [
        "n[b] = 0\n",
        "print(n)"
      ],
      "metadata": {
        "colab": {
          "base_uri": "https://localhost:8080/"
        },
        "id": "ijZMmzpqZ6cx",
        "outputId": "b1a78b62-2b1a-4476-e062-206f878b2041"
      },
      "execution_count": null,
      "outputs": [
        {
          "output_type": "stream",
          "name": "stdout",
          "text": [
            "[[0 4 0 2]\n",
            " [0 2 0 9]\n",
            " [0 1 0 7]]\n"
          ]
        }
      ]
    },
    {
      "cell_type": "code",
      "source": [
        "n[n<5] = 0\n",
        "print(n)"
      ],
      "metadata": {
        "colab": {
          "base_uri": "https://localhost:8080/"
        },
        "id": "N6ss6zlKZ7R8",
        "outputId": "ee06ee0b-c30d-4604-e918-470a73744462"
      },
      "execution_count": null,
      "outputs": [
        {
          "output_type": "stream",
          "name": "stdout",
          "text": [
            "[[0 0 0 0]\n",
            " [8 0 0 9]\n",
            " [0 0 8 7]]\n"
          ]
        }
      ]
    },
    {
      "cell_type": "code",
      "source": [
        "m = np.array([ [3,4,1,2],\n",
        "              [8,2,4,9],\n",
        "              [2,1,8,7] ])\n",
        "print(n<5)"
      ],
      "metadata": {
        "colab": {
          "base_uri": "https://localhost:8080/"
        },
        "id": "vExa0DT6Z8Yd",
        "outputId": "e6785b3f-ba14-4c59-c39e-9739775f359d"
      },
      "execution_count": null,
      "outputs": [
        {
          "output_type": "stream",
          "name": "stdout",
          "text": [
            "[[ True  True  True  True]\n",
            " [False  True  True False]\n",
            " [ True  True False False]]\n"
          ]
        }
      ]
    },
    {
      "cell_type": "code",
      "source": [
        "n = np.zeros(3)\n",
        "n"
      ],
      "metadata": {
        "colab": {
          "base_uri": "https://localhost:8080/"
        },
        "id": "oPqwX0XObKLa",
        "outputId": "1cd83e15-774f-4abb-a17c-6dc9dc3f1cb5"
      },
      "execution_count": null,
      "outputs": [
        {
          "output_type": "execute_result",
          "data": {
            "text/plain": [
              "array([0., 0., 0.])"
            ]
          },
          "metadata": {},
          "execution_count": 53
        }
      ]
    },
    {
      "cell_type": "code",
      "source": [
        "n = np.expand_dims(n, 1)\n",
        "n"
      ],
      "metadata": {
        "colab": {
          "base_uri": "https://localhost:8080/"
        },
        "id": "c9a3tk8eZ9Gd",
        "outputId": "8339a176-2a58-4bce-a54e-91d76775974e"
      },
      "execution_count": null,
      "outputs": [
        {
          "output_type": "execute_result",
          "data": {
            "text/plain": [
              "array([[0.],\n",
              "       [0.],\n",
              "       [0.]])"
            ]
          },
          "metadata": {},
          "execution_count": 54
        }
      ]
    },
    {
      "cell_type": "code",
      "source": [
        "n = np.array([3,4,1,2,8,2,4,9])"
      ],
      "metadata": {
        "id": "MkzZuCJ-Z9Uu"
      },
      "execution_count": null,
      "outputs": []
    },
    {
      "cell_type": "code",
      "source": [
        "m = np.reshape(n, (2,4))\n",
        "print(n)\n",
        "print(n.shape)\n",
        "print(m)\n",
        "print(m.shape)"
      ],
      "metadata": {
        "colab": {
          "base_uri": "https://localhost:8080/"
        },
        "id": "gnMvpNKRZ9g-",
        "outputId": "344601f6-1fe3-470d-d1ec-7b6a69a3adeb"
      },
      "execution_count": null,
      "outputs": [
        {
          "output_type": "stream",
          "name": "stdout",
          "text": [
            "[3 4 1 2 8 2 4 9]\n",
            "(8,)\n",
            "[[3 4 1 2]\n",
            " [8 2 4 9]]\n",
            "(2, 4)\n"
          ]
        }
      ]
    },
    {
      "cell_type": "code",
      "source": [
        "m.shape[0]"
      ],
      "metadata": {
        "colab": {
          "base_uri": "https://localhost:8080/"
        },
        "id": "sbFBKeCkbfCP",
        "outputId": "6690ee01-76da-4bb5-94b9-dff9b138b595"
      },
      "execution_count": null,
      "outputs": [
        {
          "output_type": "execute_result",
          "data": {
            "text/plain": [
              "2"
            ]
          },
          "metadata": {},
          "execution_count": 57
        }
      ]
    },
    {
      "cell_type": "code",
      "source": [
        "m.shape[1]"
      ],
      "metadata": {
        "colab": {
          "base_uri": "https://localhost:8080/"
        },
        "id": "YhkXYaFQbsrX",
        "outputId": "72794ecd-e64d-45cb-d85e-5d241bc1db86"
      },
      "execution_count": null,
      "outputs": [
        {
          "output_type": "execute_result",
          "data": {
            "text/plain": [
              "4"
            ]
          },
          "metadata": {},
          "execution_count": 58
        }
      ]
    },
    {
      "cell_type": "code",
      "source": [
        "m = n.reshape((4,2))"
      ],
      "metadata": {
        "id": "7bJSYa7tb3Jw"
      },
      "execution_count": null,
      "outputs": []
    },
    {
      "cell_type": "code",
      "source": [
        "m"
      ],
      "metadata": {
        "colab": {
          "base_uri": "https://localhost:8080/"
        },
        "id": "zZW9X_4Eb7s4",
        "outputId": "89d91fcd-9666-4af8-b426-b50405299107"
      },
      "execution_count": null,
      "outputs": [
        {
          "output_type": "execute_result",
          "data": {
            "text/plain": [
              "array([[3, 4],\n",
              "       [1, 2],\n",
              "       [8, 2],\n",
              "       [4, 9]])"
            ]
          },
          "metadata": {},
          "execution_count": 62
        }
      ]
    },
    {
      "cell_type": "code",
      "source": [
        "m = n.reshape((-1, 4))"
      ],
      "metadata": {
        "id": "GbeYONiVcBKV"
      },
      "execution_count": null,
      "outputs": []
    },
    {
      "cell_type": "code",
      "source": [
        "m"
      ],
      "metadata": {
        "colab": {
          "base_uri": "https://localhost:8080/"
        },
        "id": "fQpxEKx8cDmG",
        "outputId": "038c396a-708a-4eed-ddde-3fce56d883d5"
      },
      "execution_count": null,
      "outputs": [
        {
          "output_type": "execute_result",
          "data": {
            "text/plain": [
              "array([[3, 4, 1, 2],\n",
              "       [8, 2, 4, 9]])"
            ]
          },
          "metadata": {},
          "execution_count": 64
        }
      ]
    },
    {
      "cell_type": "code",
      "source": [
        "n = np.array([3,4,1,2,8,2,4,9])\n",
        "\n",
        "n[0:3]"
      ],
      "metadata": {
        "colab": {
          "base_uri": "https://localhost:8080/"
        },
        "id": "ZgvzOTC2cNlB",
        "outputId": "88742198-59e4-42dd-97f9-b570be493626"
      },
      "execution_count": null,
      "outputs": [
        {
          "output_type": "execute_result",
          "data": {
            "text/plain": [
              "array([3, 4, 1])"
            ]
          },
          "metadata": {},
          "execution_count": 65
        }
      ]
    },
    {
      "cell_type": "code",
      "source": [
        "n[1:6:2]"
      ],
      "metadata": {
        "colab": {
          "base_uri": "https://localhost:8080/"
        },
        "id": "6JCLW0yScRTX",
        "outputId": "5f444a7c-ebdf-4c52-8c34-870252a1d310"
      },
      "execution_count": null,
      "outputs": [
        {
          "output_type": "execute_result",
          "data": {
            "text/plain": [
              "array([4, 2, 2])"
            ]
          },
          "metadata": {},
          "execution_count": 66
        }
      ]
    },
    {
      "cell_type": "code",
      "source": [
        "n[1:6:2] = [-1,-2,-3]"
      ],
      "metadata": {
        "id": "duMFpW2WcTQk"
      },
      "execution_count": null,
      "outputs": []
    },
    {
      "cell_type": "code",
      "source": [
        "n"
      ],
      "metadata": {
        "colab": {
          "base_uri": "https://localhost:8080/"
        },
        "id": "S9YWhiMvcV2y",
        "outputId": "0a8d4af2-40d4-4e6d-9108-e16b9045d675"
      },
      "execution_count": null,
      "outputs": [
        {
          "output_type": "execute_result",
          "data": {
            "text/plain": [
              "array([ 3, -1,  1, -2,  8, -3,  4,  9])"
            ]
          },
          "metadata": {},
          "execution_count": 68
        }
      ]
    },
    {
      "cell_type": "code",
      "source": [
        "n[1:6:2] = [-1,-2]"
      ],
      "metadata": {
        "colab": {
          "base_uri": "https://localhost:8080/",
          "height": 172
        },
        "id": "Ou7fQyr6cWUH",
        "outputId": "08d9719d-7d87-4dbe-d0a4-7c57beecbd71"
      },
      "execution_count": null,
      "outputs": [
        {
          "output_type": "error",
          "ename": "ValueError",
          "evalue": "ignored",
          "traceback": [
            "\u001b[0;31m---------------------------------------------------------------------------\u001b[0m",
            "\u001b[0;31mValueError\u001b[0m                                Traceback (most recent call last)",
            "\u001b[0;32m<ipython-input-69-a4344d5d748a>\u001b[0m in \u001b[0;36m<module>\u001b[0;34m\u001b[0m\n\u001b[0;32m----> 1\u001b[0;31m \u001b[0mn\u001b[0m\u001b[0;34m[\u001b[0m\u001b[0;36m1\u001b[0m\u001b[0;34m:\u001b[0m\u001b[0;36m6\u001b[0m\u001b[0;34m:\u001b[0m\u001b[0;36m2\u001b[0m\u001b[0;34m]\u001b[0m \u001b[0;34m=\u001b[0m \u001b[0;34m[\u001b[0m\u001b[0;34m-\u001b[0m\u001b[0;36m1\u001b[0m\u001b[0;34m,\u001b[0m\u001b[0;34m-\u001b[0m\u001b[0;36m2\u001b[0m\u001b[0;34m]\u001b[0m\u001b[0;34m\u001b[0m\u001b[0;34m\u001b[0m\u001b[0m\n\u001b[0m",
            "\u001b[0;31mValueError\u001b[0m: could not broadcast input array from shape (2,) into shape (3,)"
          ]
        }
      ]
    },
    {
      "cell_type": "code",
      "source": [
        "print(n[:3])\n",
        "print(n[3:])"
      ],
      "metadata": {
        "colab": {
          "base_uri": "https://localhost:8080/"
        },
        "id": "veO7qWjUchzw",
        "outputId": "cb02341c-895d-4704-f989-85debe2bfd3b"
      },
      "execution_count": null,
      "outputs": [
        {
          "output_type": "stream",
          "name": "stdout",
          "text": [
            "[ 3 -1  1]\n",
            "[-2  8 -3  4  9]\n"
          ]
        }
      ]
    },
    {
      "cell_type": "code",
      "source": [
        "n = np.array([ [3,4,1,2], [8,2,4,9], [2,1,8,7]])\n",
        "n[1:,:2]"
      ],
      "metadata": {
        "colab": {
          "base_uri": "https://localhost:8080/"
        },
        "id": "sABPuW20ck4S",
        "outputId": "4c8b8e89-f62d-4a0d-8f95-776c6d6efab7"
      },
      "execution_count": null,
      "outputs": [
        {
          "output_type": "execute_result",
          "data": {
            "text/plain": [
              "array([[8, 2],\n",
              "       [2, 1]])"
            ]
          },
          "metadata": {},
          "execution_count": 72
        }
      ]
    },
    {
      "cell_type": "code",
      "source": [
        "n[1:, :]"
      ],
      "metadata": {
        "colab": {
          "base_uri": "https://localhost:8080/"
        },
        "id": "QyHYa0hbdF-p",
        "outputId": "e47cb14b-289d-4292-ee98-d7fd92ac864d"
      },
      "execution_count": null,
      "outputs": [
        {
          "output_type": "execute_result",
          "data": {
            "text/plain": [
              "array([[8, 2, 4, 9],\n",
              "       [2, 1, 8, 7]])"
            ]
          },
          "metadata": {},
          "execution_count": 73
        }
      ]
    },
    {
      "cell_type": "code",
      "source": [
        "m = n[1:, :2]\n",
        "m[0, :] = 0\n",
        "print(n)"
      ],
      "metadata": {
        "colab": {
          "base_uri": "https://localhost:8080/"
        },
        "id": "9P1RTIepdKCd",
        "outputId": "4676ac9b-8165-4ce2-eecc-7b5ef9b0305a"
      },
      "execution_count": null,
      "outputs": [
        {
          "output_type": "stream",
          "name": "stdout",
          "text": [
            "[[3 4 1 2]\n",
            " [0 0 4 9]\n",
            " [2 1 8 7]]\n"
          ]
        }
      ]
    },
    {
      "cell_type": "markdown",
      "source": [
        "# 3.10 사용자 정의 함수"
      ],
      "metadata": {
        "id": "u-2JFNGtJ3Sc"
      }
    },
    {
      "cell_type": "code",
      "source": [
        "def add():\n",
        "  s = a + b\n",
        "  return s"
      ],
      "metadata": {
        "id": "DJbZDZEOJ5tw"
      },
      "execution_count": null,
      "outputs": []
    },
    {
      "cell_type": "code",
      "source": [
        "a = 4\n",
        "b = 5\n",
        "c = add()\n",
        "print(c)"
      ],
      "metadata": {
        "colab": {
          "base_uri": "https://localhost:8080/"
        },
        "id": "v-j7whbMKwak",
        "outputId": "9b289608-dd34-4e37-fa30-c504118dc108"
      },
      "execution_count": null,
      "outputs": [
        {
          "output_type": "stream",
          "name": "stdout",
          "text": [
            "9\n"
          ]
        }
      ]
    },
    {
      "cell_type": "code",
      "source": [
        "import numpy as np"
      ],
      "metadata": {
        "id": "QTi19cNvKzdT"
      },
      "execution_count": null,
      "outputs": []
    },
    {
      "cell_type": "code",
      "source": [
        "def change_var(arr):\n",
        "  arr[0,0] = 999"
      ],
      "metadata": {
        "id": "uhKdT75PLUgL"
      },
      "execution_count": null,
      "outputs": []
    },
    {
      "cell_type": "code",
      "source": [
        "d = np.random.rand(5,4)\n",
        "print(f'Before:{d[0,0]}')\n",
        "change_var(d)\n",
        "print(f'After:{d[0,0]}')"
      ],
      "metadata": {
        "colab": {
          "base_uri": "https://localhost:8080/"
        },
        "id": "yykToJ6eNz0X",
        "outputId": "0dfc15a7-0c03-408b-dd28-d96b0916280c"
      },
      "execution_count": null,
      "outputs": [
        {
          "output_type": "stream",
          "name": "stdout",
          "text": [
            "Before:0.052136012574577006\n",
            "After:999.0\n"
          ]
        }
      ]
    },
    {
      "cell_type": "code",
      "source": [
        "def change_var(arr):\n",
        "  arr = 999"
      ],
      "metadata": {
        "id": "hOx8bGIaOvrl"
      },
      "execution_count": null,
      "outputs": []
    },
    {
      "cell_type": "code",
      "source": [
        "d = 'Korea'\n",
        "print(f'Before:{d}')\n",
        "change_var(d)\n",
        "print(f'After:{d}')"
      ],
      "metadata": {
        "colab": {
          "base_uri": "https://localhost:8080/"
        },
        "id": "LWASP6uNOOn8",
        "outputId": "f5fb7a6e-c553-4dcf-dc1b-b6c4379801de"
      },
      "execution_count": null,
      "outputs": [
        {
          "output_type": "stream",
          "name": "stdout",
          "text": [
            "Before:Korea\n",
            "After:Korea\n"
          ]
        }
      ]
    },
    {
      "cell_type": "code",
      "source": [
        "d = (4,5)\n",
        "print(f'Before:{d}')\n",
        "change_var(d)\n",
        "print(f'After:{d}')"
      ],
      "metadata": {
        "colab": {
          "base_uri": "https://localhost:8080/"
        },
        "id": "79ukq3msOyQZ",
        "outputId": "5ae1b261-d1e3-4c05-a87e-f23fefc532fa"
      },
      "execution_count": null,
      "outputs": [
        {
          "output_type": "stream",
          "name": "stdout",
          "text": [
            "Before:(4, 5)\n",
            "After:(4, 5)\n"
          ]
        }
      ]
    },
    {
      "cell_type": "code",
      "source": [
        "# 연습문제 2\n",
        "# 교수님 풀이이\n",
        "data = 1000 + np.round(np.random.rand(30)*3000)\n"
      ],
      "metadata": {
        "id": "Xu4k_R6LPVXK"
      },
      "execution_count": null,
      "outputs": []
    },
    {
      "cell_type": "code",
      "source": [
        "data"
      ],
      "metadata": {
        "colab": {
          "base_uri": "https://localhost:8080/"
        },
        "id": "zYErANMEQyTg",
        "outputId": "784eeaf2-9df5-4a49-8869-b23ebc2fd1ba"
      },
      "execution_count": null,
      "outputs": [
        {
          "output_type": "execute_result",
          "data": {
            "text/plain": [
              "array([2253., 1861., 2497., 2560., 3731., 3905., 1076., 3493., 1676.,\n",
              "       1836., 1901., 1175., 3236., 2436., 3034., 3089., 3147., 1323.,\n",
              "       1015., 2806., 3066., 3665., 2565., 2483., 3028., 1407., 2671.,\n",
              "       1598., 1170., 3052.])"
            ]
          },
          "metadata": {},
          "execution_count": 39
        }
      ]
    },
    {
      "cell_type": "code",
      "source": [
        "def walk_prof(n):\n",
        "  avg = np.mean(walk_prof)\n",
        "  min_walk_day = np.argmin(data)\n",
        "  min = n[min_walk_day]\n",
        "  max_walk_day = np.argmax(data)\n",
        "  max = n[max_walk_day]\n",
        "  return avg, min_walk_day+1, min, max_walk_day+1, max"
      ],
      "metadata": {
        "id": "DwWAZF3kSyuH"
      },
      "execution_count": null,
      "outputs": []
    },
    {
      "cell_type": "code",
      "source": [
        "# 내 풀이\n",
        "def walk(arr):\n",
        "  avg = np.mean(arr)\n",
        "  min_day = np.argmin(arr)\n",
        "  min = arr[min_day]\n",
        "  max_day = np.argmax(arr)\n",
        "  max = arr[max_day]\n",
        "  return avg, min_day+1, min, max_day+1, max"
      ],
      "metadata": {
        "id": "FeVvtXG5Qijv"
      },
      "execution_count": null,
      "outputs": []
    },
    {
      "cell_type": "code",
      "source": [
        "n = np.round(np.random.rand(30)*3000)"
      ],
      "metadata": {
        "id": "Z3zEng-FQ-cy"
      },
      "execution_count": null,
      "outputs": []
    },
    {
      "cell_type": "code",
      "source": [
        "n"
      ],
      "metadata": {
        "colab": {
          "base_uri": "https://localhost:8080/"
        },
        "id": "86S87qs5RErk",
        "outputId": "57a7c457-2227-46f1-895c-76d519dec219"
      },
      "execution_count": null,
      "outputs": [
        {
          "output_type": "execute_result",
          "data": {
            "text/plain": [
              "array([ 315.,   91., 2739.,  684.,  841., 2134.,   28., 1919., 2584.,\n",
              "        751., 1245.,  279., 1632., 2075., 1606., 1569.,  142.,  792.,\n",
              "        765.,  784., 1532.,  898., 2302., 2071., 1877., 1932., 2794.,\n",
              "        972., 1003.,  181.])"
            ]
          },
          "metadata": {},
          "execution_count": 33
        }
      ]
    },
    {
      "cell_type": "code",
      "source": [
        "walk(n)"
      ],
      "metadata": {
        "colab": {
          "base_uri": "https://localhost:8080/"
        },
        "id": "W_AqMHhXRFCc",
        "outputId": "345aa9bc-993f-4043-9c71-7678ea4666d0"
      },
      "execution_count": null,
      "outputs": [
        {
          "output_type": "execute_result",
          "data": {
            "text/plain": [
              "(1284.5666666666666, 7, 28.0, 27, 2794.0)"
            ]
          },
          "metadata": {},
          "execution_count": 50
        }
      ]
    }
  ]
}