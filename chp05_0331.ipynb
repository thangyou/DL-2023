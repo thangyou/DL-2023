{
  "nbformat": 4,
  "nbformat_minor": 0,
  "metadata": {
    "colab": {
      "provenance": [],
      "authorship_tag": "ABX9TyPXIcD/WKM+xk0Ffrw+rjAk"
    },
    "kernelspec": {
      "name": "python3",
      "display_name": "Python 3"
    },
    "language_info": {
      "name": "python"
    }
  },
  "cells": [
    {
      "cell_type": "markdown",
      "source": [
        "**Chapter 5. 딥러닝의 개념**\n"
      ],
      "metadata": {
        "id": "GGb_QIGossFh"
      }
    },
    {
      "cell_type": "markdown",
      "source": [
        "5.2 네트워크의 입력과 출력을 위한 데이터의 변환"
      ],
      "metadata": {
        "id": "BwQP81jvWg7N"
      }
    },
    {
      "cell_type": "markdown",
      "source": [
        "# 범주형 데이터의 수치화"
      ],
      "metadata": {
        "id": "YUs19gYFWlD_"
      }
    },
    {
      "cell_type": "code",
      "execution_count": null,
      "metadata": {
        "id": "gzOcdqIBVu4J"
      },
      "outputs": [],
      "source": [
        "sex = ['male', 'male','female','male','female','female']"
      ]
    },
    {
      "cell_type": "code",
      "source": [
        "import numpy as np\n",
        "sex_conv = np.zeros(6)    # numpy배열을 만들고, 0으로 초기화\n",
        "cnt = 0                   # 위치를 지정할 인덱스 변수의 값\n",
        "for x in sex:             # 성별 리스트의 전체 데이터에 대해 반복\n",
        "  if(x == 'female'):      # 해당 항목의 값이 female 이라면\n",
        "    sex_conv[cnt] = 1     # 숫자 데이터의 값을 1로 변경\n",
        "  cnt = cnt +1            # 인덱스 변수의 값을 1 증가시킴"
      ],
      "metadata": {
        "id": "6TAc2tggV5Zf"
      },
      "execution_count": null,
      "outputs": []
    },
    {
      "cell_type": "code",
      "source": [
        "# tensorflow.keras.utils 모듈의 to_categorical 함수 import\n",
        "from tensorflow.keras.utils import to_categorical\n",
        "# one-hot-encoding 적용\n",
        "sex_cate = to_categorical(sex_conv)"
      ],
      "metadata": {
        "id": "Vk5Gj-N3WA_b"
      },
      "execution_count": null,
      "outputs": []
    },
    {
      "cell_type": "code",
      "source": [
        "print(sex_cate)"
      ],
      "metadata": {
        "colab": {
          "base_uri": "https://localhost:8080/"
        },
        "id": "vg7e9DMqWKz3",
        "outputId": "7d8c26fc-489f-4dba-ac95-b871d859ca19"
      },
      "execution_count": null,
      "outputs": [
        {
          "output_type": "stream",
          "name": "stdout",
          "text": [
            "[[1. 0.]\n",
            " [1. 0.]\n",
            " [0. 1.]\n",
            " [1. 0.]\n",
            " [0. 1.]\n",
            " [0. 1.]]\n"
          ]
        }
      ]
    },
    {
      "cell_type": "markdown",
      "source": [
        "# 수치로 된 범주형 데이터의 원-핫-인코딩\n"
      ],
      "metadata": {
        "id": "JwczsppFWser"
      }
    },
    {
      "cell_type": "code",
      "source": [
        "pclass_orig = np.array([3,1,2,1,2,3])"
      ],
      "metadata": {
        "id": "VEFYbSH2WReU"
      },
      "execution_count": null,
      "outputs": []
    },
    {
      "cell_type": "code",
      "source": [
        "# tensorflow.keras.utils 모듈의 to_categorical 함수 import\n",
        "from tensorflow.keras.utils import to_categorical\n",
        "# (0,1,2의 값을 가지도록) 1을 뺀 후, one-hot-encoding 적용.\n",
        "pclass_cate = to_categorical(pclass_orig-1)"
      ],
      "metadata": {
        "id": "tnL-aVdmWdVf"
      },
      "execution_count": null,
      "outputs": []
    },
    {
      "cell_type": "code",
      "source": [
        "print(pclass_cate)"
      ],
      "metadata": {
        "colab": {
          "base_uri": "https://localhost:8080/"
        },
        "id": "8HVnDfEzWelD",
        "outputId": "afe14a35-d632-4301-8e4e-016288a18c43"
      },
      "execution_count": null,
      "outputs": [
        {
          "output_type": "stream",
          "name": "stdout",
          "text": [
            "[[0. 0. 1.]\n",
            " [1. 0. 0.]\n",
            " [0. 1. 0.]\n",
            " [1. 0. 0.]\n",
            " [0. 1. 0.]\n",
            " [0. 0. 1.]]\n"
          ]
        }
      ]
    },
    {
      "cell_type": "markdown",
      "source": [
        "# 수치형 데이터의 정규화"
      ],
      "metadata": {
        "id": "84Y2Js-FW8Fp"
      }
    },
    {
      "cell_type": "code",
      "source": [
        "import numpy as np # numpy 라이브러리를 np라는 이름으로 사용한다.\n",
        "age_orig = np.array([3,28,21,67,80,53]) # numpy 배열을 만들고 각각의 값을 지정한다.\n",
        "age_conv = (age_orig - 3) / (80 - 3) # 0과 1 범위의 값으로 변환한다.\n",
        "        # (원데이터 - 최솟값) / (최댓값 - 최솟값)"
      ],
      "metadata": {
        "id": "rxsKYI2QW3to"
      },
      "execution_count": null,
      "outputs": []
    },
    {
      "cell_type": "code",
      "source": [
        "age_conv = (age_orig - np.min(age_orig)) / (np.max(age_orig) - np.min(age_orig))"
      ],
      "metadata": {
        "id": "WAuElM6mXIlM"
      },
      "execution_count": null,
      "outputs": []
    },
    {
      "cell_type": "code",
      "source": [
        "print(age_conv)"
      ],
      "metadata": {
        "colab": {
          "base_uri": "https://localhost:8080/"
        },
        "id": "U21Mv3exXKQR",
        "outputId": "89b35d1e-dac7-4dad-edc0-50195bb6096f"
      },
      "execution_count": null,
      "outputs": [
        {
          "output_type": "stream",
          "name": "stdout",
          "text": [
            "[0.         0.32467532 0.23376623 0.83116883 1.         0.64935065]\n"
          ]
        }
      ]
    }
  ]
}